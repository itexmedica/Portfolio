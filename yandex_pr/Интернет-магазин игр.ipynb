{
 "cells": [
  {
   "cell_type": "markdown",
   "metadata": {},
   "source": [
    "# Исследование продаж компьютерных игр в интернет-магазине «Стримчик»."
   ]
  },
  {
   "cell_type": "markdown",
   "metadata": {},
   "source": [
    "   Необходимо выявить определяющие успешность игры закономерности, нам доступны данные до 2016 года: исторические данные о продажах игр, оценки пользователей и экспертов, жанры и платформы (например, Xbox или PlayStation). Это позволит сделать ставку на потенциально популярный продукт и спланировать рекламные кампании.         \n",
    "   Представим, что сейчас декабрь 2016 г., и вы планируете кампанию на 2017-й. Нужно отработать принцип работы с данными. Неважно, прогнозируете ли вы продажи на 2017 год по данным 2016-го или же 2027-й — по данным 2026 года.\n",
    "В наборе данных попадается аббревиатура ESRB (Entertainment Software Rating Board) — это ассоциация, определяющая возрастной рейтинг компьютерных игр. ESRB оценивает игровой контент и присваивает ему подходящую возрастную категорию, например, «Для взрослых», «Для детей младшего возраста» или «Для подростков».\n"
   ]
  },
  {
   "cell_type": "markdown",
   "metadata": {},
   "source": [
    "## Общая информация. Предобработка данных."
   ]
  },
  {
   "cell_type": "code",
   "execution_count": 56,
   "metadata": {},
   "outputs": [],
   "source": [
    "import pandas as pd\n",
    "import numpy as np\n",
    "from scipy import stats as st\n",
    "import matplotlib.pyplot as plt\n",
    "import seaborn as sns"
   ]
  },
  {
   "cell_type": "code",
   "execution_count": 57,
   "metadata": {},
   "outputs": [
    {
     "data": {
      "text/html": [
       "<div>\n",
       "<style scoped>\n",
       "    .dataframe tbody tr th:only-of-type {\n",
       "        vertical-align: middle;\n",
       "    }\n",
       "\n",
       "    .dataframe tbody tr th {\n",
       "        vertical-align: top;\n",
       "    }\n",
       "\n",
       "    .dataframe thead th {\n",
       "        text-align: right;\n",
       "    }\n",
       "</style>\n",
       "<table border=\"1\" class=\"dataframe\">\n",
       "  <thead>\n",
       "    <tr style=\"text-align: right;\">\n",
       "      <th></th>\n",
       "      <th>name</th>\n",
       "      <th>platform</th>\n",
       "      <th>year_of_release</th>\n",
       "      <th>genre</th>\n",
       "      <th>na_sales</th>\n",
       "      <th>eu_sales</th>\n",
       "      <th>jp_sales</th>\n",
       "      <th>other_sales</th>\n",
       "      <th>critic_score</th>\n",
       "      <th>user_score</th>\n",
       "      <th>rating</th>\n",
       "    </tr>\n",
       "  </thead>\n",
       "  <tbody>\n",
       "    <tr>\n",
       "      <th>0</th>\n",
       "      <td>Wii Sports</td>\n",
       "      <td>Wii</td>\n",
       "      <td>2006.0</td>\n",
       "      <td>Sports</td>\n",
       "      <td>41.36</td>\n",
       "      <td>28.96</td>\n",
       "      <td>3.77</td>\n",
       "      <td>8.45</td>\n",
       "      <td>76.0</td>\n",
       "      <td>8.0</td>\n",
       "      <td>E</td>\n",
       "    </tr>\n",
       "    <tr>\n",
       "      <th>1</th>\n",
       "      <td>Super Mario Bros.</td>\n",
       "      <td>NES</td>\n",
       "      <td>1985.0</td>\n",
       "      <td>Platform</td>\n",
       "      <td>29.08</td>\n",
       "      <td>3.58</td>\n",
       "      <td>6.81</td>\n",
       "      <td>0.77</td>\n",
       "      <td>NaN</td>\n",
       "      <td>NaN</td>\n",
       "      <td>NaN</td>\n",
       "    </tr>\n",
       "    <tr>\n",
       "      <th>2</th>\n",
       "      <td>Mario Kart Wii</td>\n",
       "      <td>Wii</td>\n",
       "      <td>2008.0</td>\n",
       "      <td>Racing</td>\n",
       "      <td>15.68</td>\n",
       "      <td>12.76</td>\n",
       "      <td>3.79</td>\n",
       "      <td>3.29</td>\n",
       "      <td>82.0</td>\n",
       "      <td>8.3</td>\n",
       "      <td>E</td>\n",
       "    </tr>\n",
       "    <tr>\n",
       "      <th>3</th>\n",
       "      <td>Wii Sports Resort</td>\n",
       "      <td>Wii</td>\n",
       "      <td>2009.0</td>\n",
       "      <td>Sports</td>\n",
       "      <td>15.61</td>\n",
       "      <td>10.93</td>\n",
       "      <td>3.28</td>\n",
       "      <td>2.95</td>\n",
       "      <td>80.0</td>\n",
       "      <td>8.0</td>\n",
       "      <td>E</td>\n",
       "    </tr>\n",
       "    <tr>\n",
       "      <th>4</th>\n",
       "      <td>Pokemon Red/Pokemon Blue</td>\n",
       "      <td>GB</td>\n",
       "      <td>1996.0</td>\n",
       "      <td>Role-Playing</td>\n",
       "      <td>11.27</td>\n",
       "      <td>8.89</td>\n",
       "      <td>10.22</td>\n",
       "      <td>1.00</td>\n",
       "      <td>NaN</td>\n",
       "      <td>NaN</td>\n",
       "      <td>NaN</td>\n",
       "    </tr>\n",
       "    <tr>\n",
       "      <th>...</th>\n",
       "      <td>...</td>\n",
       "      <td>...</td>\n",
       "      <td>...</td>\n",
       "      <td>...</td>\n",
       "      <td>...</td>\n",
       "      <td>...</td>\n",
       "      <td>...</td>\n",
       "      <td>...</td>\n",
       "      <td>...</td>\n",
       "      <td>...</td>\n",
       "      <td>...</td>\n",
       "    </tr>\n",
       "    <tr>\n",
       "      <th>16710</th>\n",
       "      <td>Samurai Warriors: Sanada Maru</td>\n",
       "      <td>PS3</td>\n",
       "      <td>2016.0</td>\n",
       "      <td>Action</td>\n",
       "      <td>0.00</td>\n",
       "      <td>0.00</td>\n",
       "      <td>0.01</td>\n",
       "      <td>0.00</td>\n",
       "      <td>NaN</td>\n",
       "      <td>NaN</td>\n",
       "      <td>NaN</td>\n",
       "    </tr>\n",
       "    <tr>\n",
       "      <th>16711</th>\n",
       "      <td>LMA Manager 2007</td>\n",
       "      <td>X360</td>\n",
       "      <td>2006.0</td>\n",
       "      <td>Sports</td>\n",
       "      <td>0.00</td>\n",
       "      <td>0.01</td>\n",
       "      <td>0.00</td>\n",
       "      <td>0.00</td>\n",
       "      <td>NaN</td>\n",
       "      <td>NaN</td>\n",
       "      <td>NaN</td>\n",
       "    </tr>\n",
       "    <tr>\n",
       "      <th>16712</th>\n",
       "      <td>Haitaka no Psychedelica</td>\n",
       "      <td>PSV</td>\n",
       "      <td>2016.0</td>\n",
       "      <td>Adventure</td>\n",
       "      <td>0.00</td>\n",
       "      <td>0.00</td>\n",
       "      <td>0.01</td>\n",
       "      <td>0.00</td>\n",
       "      <td>NaN</td>\n",
       "      <td>NaN</td>\n",
       "      <td>NaN</td>\n",
       "    </tr>\n",
       "    <tr>\n",
       "      <th>16713</th>\n",
       "      <td>Spirits &amp; Spells</td>\n",
       "      <td>GBA</td>\n",
       "      <td>2003.0</td>\n",
       "      <td>Platform</td>\n",
       "      <td>0.01</td>\n",
       "      <td>0.00</td>\n",
       "      <td>0.00</td>\n",
       "      <td>0.00</td>\n",
       "      <td>NaN</td>\n",
       "      <td>NaN</td>\n",
       "      <td>NaN</td>\n",
       "    </tr>\n",
       "    <tr>\n",
       "      <th>16714</th>\n",
       "      <td>Winning Post 8 2016</td>\n",
       "      <td>PSV</td>\n",
       "      <td>2016.0</td>\n",
       "      <td>Simulation</td>\n",
       "      <td>0.00</td>\n",
       "      <td>0.00</td>\n",
       "      <td>0.01</td>\n",
       "      <td>0.00</td>\n",
       "      <td>NaN</td>\n",
       "      <td>NaN</td>\n",
       "      <td>NaN</td>\n",
       "    </tr>\n",
       "  </tbody>\n",
       "</table>\n",
       "<p>16715 rows × 11 columns</p>\n",
       "</div>"
      ],
      "text/plain": [
       "                                name platform  year_of_release         genre  \\\n",
       "0                         Wii Sports      Wii           2006.0        Sports   \n",
       "1                  Super Mario Bros.      NES           1985.0      Platform   \n",
       "2                     Mario Kart Wii      Wii           2008.0        Racing   \n",
       "3                  Wii Sports Resort      Wii           2009.0        Sports   \n",
       "4           Pokemon Red/Pokemon Blue       GB           1996.0  Role-Playing   \n",
       "...                              ...      ...              ...           ...   \n",
       "16710  Samurai Warriors: Sanada Maru      PS3           2016.0        Action   \n",
       "16711               LMA Manager 2007     X360           2006.0        Sports   \n",
       "16712        Haitaka no Psychedelica      PSV           2016.0     Adventure   \n",
       "16713               Spirits & Spells      GBA           2003.0      Platform   \n",
       "16714            Winning Post 8 2016      PSV           2016.0    Simulation   \n",
       "\n",
       "       na_sales  eu_sales  jp_sales  other_sales  critic_score  user_score  \\\n",
       "0         41.36     28.96      3.77         8.45          76.0         8.0   \n",
       "1         29.08      3.58      6.81         0.77           NaN         NaN   \n",
       "2         15.68     12.76      3.79         3.29          82.0         8.3   \n",
       "3         15.61     10.93      3.28         2.95          80.0         8.0   \n",
       "4         11.27      8.89     10.22         1.00           NaN         NaN   \n",
       "...         ...       ...       ...          ...           ...         ...   \n",
       "16710      0.00      0.00      0.01         0.00           NaN         NaN   \n",
       "16711      0.00      0.01      0.00         0.00           NaN         NaN   \n",
       "16712      0.00      0.00      0.01         0.00           NaN         NaN   \n",
       "16713      0.01      0.00      0.00         0.00           NaN         NaN   \n",
       "16714      0.00      0.00      0.01         0.00           NaN         NaN   \n",
       "\n",
       "      rating  \n",
       "0          E  \n",
       "1        NaN  \n",
       "2          E  \n",
       "3          E  \n",
       "4        NaN  \n",
       "...      ...  \n",
       "16710    NaN  \n",
       "16711    NaN  \n",
       "16712    NaN  \n",
       "16713    NaN  \n",
       "16714    NaN  \n",
       "\n",
       "[16715 rows x 11 columns]"
      ]
     },
     "metadata": {},
     "output_type": "display_data"
    },
    {
     "name": "stdout",
     "output_type": "stream",
     "text": [
      "<class 'pandas.core.frame.DataFrame'>\n",
      "RangeIndex: 16715 entries, 0 to 16714\n",
      "Data columns (total 11 columns):\n",
      " #   Column           Non-Null Count  Dtype  \n",
      "---  ------           --------------  -----  \n",
      " 0   name             16713 non-null  object \n",
      " 1   platform         16715 non-null  object \n",
      " 2   year_of_release  16446 non-null  float64\n",
      " 3   genre            16713 non-null  object \n",
      " 4   na_sales         16715 non-null  float64\n",
      " 5   eu_sales         16715 non-null  float64\n",
      " 6   jp_sales         16715 non-null  float64\n",
      " 7   other_sales      16715 non-null  float64\n",
      " 8   critic_score     8137 non-null   float64\n",
      " 9   user_score       7590 non-null   float64\n",
      " 10  rating           9949 non-null   object \n",
      "dtypes: float64(7), object(4)\n",
      "memory usage: 1.4+ MB\n"
     ]
    },
    {
     "data": {
      "text/html": [
       "<div>\n",
       "<style scoped>\n",
       "    .dataframe tbody tr th:only-of-type {\n",
       "        vertical-align: middle;\n",
       "    }\n",
       "\n",
       "    .dataframe tbody tr th {\n",
       "        vertical-align: top;\n",
       "    }\n",
       "\n",
       "    .dataframe thead th {\n",
       "        text-align: right;\n",
       "    }\n",
       "</style>\n",
       "<table border=\"1\" class=\"dataframe\">\n",
       "  <thead>\n",
       "    <tr style=\"text-align: right;\">\n",
       "      <th></th>\n",
       "      <th>year_of_release</th>\n",
       "      <th>na_sales</th>\n",
       "      <th>eu_sales</th>\n",
       "      <th>jp_sales</th>\n",
       "      <th>other_sales</th>\n",
       "      <th>critic_score</th>\n",
       "      <th>user_score</th>\n",
       "    </tr>\n",
       "  </thead>\n",
       "  <tbody>\n",
       "    <tr>\n",
       "      <th>count</th>\n",
       "      <td>16446.000000</td>\n",
       "      <td>16715.000000</td>\n",
       "      <td>16715.000000</td>\n",
       "      <td>16715.000000</td>\n",
       "      <td>16715.000000</td>\n",
       "      <td>8137.000000</td>\n",
       "      <td>7590.000000</td>\n",
       "    </tr>\n",
       "    <tr>\n",
       "      <th>mean</th>\n",
       "      <td>2006.484616</td>\n",
       "      <td>0.263377</td>\n",
       "      <td>0.145060</td>\n",
       "      <td>0.077617</td>\n",
       "      <td>0.047342</td>\n",
       "      <td>68.967679</td>\n",
       "      <td>7.125046</td>\n",
       "    </tr>\n",
       "    <tr>\n",
       "      <th>std</th>\n",
       "      <td>5.877050</td>\n",
       "      <td>0.813604</td>\n",
       "      <td>0.503339</td>\n",
       "      <td>0.308853</td>\n",
       "      <td>0.186731</td>\n",
       "      <td>13.938165</td>\n",
       "      <td>1.500006</td>\n",
       "    </tr>\n",
       "    <tr>\n",
       "      <th>min</th>\n",
       "      <td>1980.000000</td>\n",
       "      <td>0.000000</td>\n",
       "      <td>0.000000</td>\n",
       "      <td>0.000000</td>\n",
       "      <td>0.000000</td>\n",
       "      <td>13.000000</td>\n",
       "      <td>0.000000</td>\n",
       "    </tr>\n",
       "    <tr>\n",
       "      <th>25%</th>\n",
       "      <td>2003.000000</td>\n",
       "      <td>0.000000</td>\n",
       "      <td>0.000000</td>\n",
       "      <td>0.000000</td>\n",
       "      <td>0.000000</td>\n",
       "      <td>60.000000</td>\n",
       "      <td>6.400000</td>\n",
       "    </tr>\n",
       "    <tr>\n",
       "      <th>50%</th>\n",
       "      <td>2007.000000</td>\n",
       "      <td>0.080000</td>\n",
       "      <td>0.020000</td>\n",
       "      <td>0.000000</td>\n",
       "      <td>0.010000</td>\n",
       "      <td>71.000000</td>\n",
       "      <td>7.500000</td>\n",
       "    </tr>\n",
       "    <tr>\n",
       "      <th>75%</th>\n",
       "      <td>2010.000000</td>\n",
       "      <td>0.240000</td>\n",
       "      <td>0.110000</td>\n",
       "      <td>0.040000</td>\n",
       "      <td>0.030000</td>\n",
       "      <td>79.000000</td>\n",
       "      <td>8.200000</td>\n",
       "    </tr>\n",
       "    <tr>\n",
       "      <th>max</th>\n",
       "      <td>2016.000000</td>\n",
       "      <td>41.360000</td>\n",
       "      <td>28.960000</td>\n",
       "      <td>10.220000</td>\n",
       "      <td>10.570000</td>\n",
       "      <td>98.000000</td>\n",
       "      <td>9.700000</td>\n",
       "    </tr>\n",
       "  </tbody>\n",
       "</table>\n",
       "</div>"
      ],
      "text/plain": [
       "       year_of_release      na_sales      eu_sales      jp_sales  \\\n",
       "count     16446.000000  16715.000000  16715.000000  16715.000000   \n",
       "mean       2006.484616      0.263377      0.145060      0.077617   \n",
       "std           5.877050      0.813604      0.503339      0.308853   \n",
       "min        1980.000000      0.000000      0.000000      0.000000   \n",
       "25%        2003.000000      0.000000      0.000000      0.000000   \n",
       "50%        2007.000000      0.080000      0.020000      0.000000   \n",
       "75%        2010.000000      0.240000      0.110000      0.040000   \n",
       "max        2016.000000     41.360000     28.960000     10.220000   \n",
       "\n",
       "        other_sales  critic_score   user_score  \n",
       "count  16715.000000   8137.000000  7590.000000  \n",
       "mean       0.047342     68.967679     7.125046  \n",
       "std        0.186731     13.938165     1.500006  \n",
       "min        0.000000     13.000000     0.000000  \n",
       "25%        0.000000     60.000000     6.400000  \n",
       "50%        0.010000     71.000000     7.500000  \n",
       "75%        0.030000     79.000000     8.200000  \n",
       "max       10.570000     98.000000     9.700000  "
      ]
     },
     "execution_count": 57,
     "metadata": {},
     "output_type": "execute_result"
    }
   ],
   "source": [
    "#откроем датасет и изучим общую информацию\n",
    "data = pd.read_csv('https://code.s3.yandex.net/datasets/games.csv')\n",
    "#приведем названия столбцов к нижнему регистру\n",
    "data.columns = data.columns.str.lower()\n",
    "#преобразуем данные в нужные типы\n",
    "data['user_score']= data['user_score'].replace('tbd', np.nan).astype('float')\n",
    "display(data)\n",
    "data.info()\n",
    "data.describe()"
   ]
  },
  {
   "cell_type": "markdown",
   "metadata": {},
   "source": [
    "В датафрейме нам представлены 16715 строк и 11 столбцов:      \n",
    "Name — название 16713 игр,      \n",
    "Platform — платформа       \n",
    "Year_of_Release — год выпуска       \n",
    "Genre — жанр игры        \n",
    "NA_sales — продажи в Северной Америке (миллионы проданных копий)       \n",
    "EU_sales — продажи в Европе (миллионы проданных копий)      \n",
    "JP_sales — продажи в Японии (миллионы проданных копий)      \n",
    "Other_sales — продажи в других странах (миллионы проданных копий)       \n",
    "Critic_Score — оценка критиков (максимум 100)           \n",
    "User_Score — оценка пользователей (максимум 10)         \n",
    "Rating — рейтинг от организации ESRB        "
   ]
  },
  {
   "cell_type": "markdown",
   "metadata": {},
   "source": [
    "\n",
    "Аббревиатура 'tbd' расшифровывается как \"to be determined\", оно используется в случаях, когда оценка еще не определена, его можно заменить на NaN, чтобы обозначить отсутствие значения. \n",
    "Переведем стодбец user_score в тип float, тк столбец содержит оценка пользователей-числовое значение(имеющее дробную часть)\n"
   ]
  },
  {
   "cell_type": "code",
   "execution_count": 58,
   "metadata": {},
   "outputs": [
    {
     "data": {
      "text/plain": [
       "name                  2\n",
       "platform              0\n",
       "year_of_release     269\n",
       "genre                 2\n",
       "na_sales              0\n",
       "eu_sales              0\n",
       "jp_sales              0\n",
       "other_sales           0\n",
       "critic_score       8578\n",
       "user_score         9125\n",
       "rating             6766\n",
       "dtype: int64"
      ]
     },
     "execution_count": 58,
     "metadata": {},
     "output_type": "execute_result"
    }
   ],
   "source": [
    "#проверим столбцы на наличие пропусков\n",
    "data.isna().sum()"
   ]
  },
  {
   "cell_type": "markdown",
   "metadata": {},
   "source": [
    "2 пропуска в столбце name, 269 пропусков в year_of_release, 8578 -crirtic_score, 9125-user_score, 6766-rating"
   ]
  },
  {
   "cell_type": "code",
   "execution_count": 59,
   "metadata": {},
   "outputs": [
    {
     "data": {
      "image/png": "[encoded data removed]",
      "text/plain": [
       "<Figure size 1368x432 with 1 Axes>"
      ]
     },
     "metadata": {
      "needs_background": "light"
     },
     "output_type": "display_data"
    }
   ],
   "source": [
    "# check\n",
    "# пропущенные значения бары\n",
    "def pass_value_barh(df):\n",
    "    try:\n",
    "        (\n",
    "            (df.isna().mean()*100)\n",
    "            .to_frame()\n",
    "            .rename(columns = {0:'space'})\n",
    "            .query('space > 0')\n",
    "            .sort_values(by = 'space', ascending = True)\n",
    "            .plot(kind = 'barh', figsize = (19,6), rot = -5, legend = False, fontsize = 16)\n",
    "            .set_title('Пропуски' + \"\\n\", fontsize = 22, color = 'SteelBlue')    \n",
    "        );    \n",
    "    except:\n",
    "        print('пропусков не осталось :) или произошла ошибка в первой части функции ')\n",
    "pass_value_barh(data)"
   ]
  },
  {
   "cell_type": "code",
   "execution_count": 60,
   "metadata": {},
   "outputs": [],
   "source": [
    "data['critic_score']=data['critic_score'].fillna(-1)\n",
    "data['user_score']=data['user_score'].fillna(-1)\n",
    "data['rating']=data['rating'].fillna(value='no_rating')\n",
    "data = data.dropna(subset=['name', 'genre'])"
   ]
  },
  {
   "cell_type": "markdown",
   "metadata": {},
   "source": [
    "Причинами, приводящими к появлению пропусков, являются невозможность получения или обработки(в т.ч. повреждение носителей информации), искажение или сокрытие информации(т.е. человеческий фактор)   \n",
    "В столбцах name и genre удаляем пропущенные значения, т.к. записи не помогут решить главную задачу проекта — на основе актуальных платформ сформировать рекомендации для проведения рекламной кампании в 2017 г. и само кол-во пропусков минимально.           \n",
    "Столбец year_of_release(год выпуска)-пропуски будут составлять около 1.6%, но ни медианным, ни средним значением заполнить пропуски нет возможности, оставим, как есть.     \n",
    "В случае со столбцами citrus_store(ценка критиков), user_score(оценка пользователей), rating(рейтинг от организации ESRB)-пропущена почти половина оценочных значений, к возможным причинам мы можем отнести поломки в сервисах, собирающие оценки, возможно просто не происходил сбор оценок по этим играм. Заменить пропущенные значения на среднее/медиану мы не можем, тк оценка индивидуальна для каждой игры, так же, к сожалению, у нас нет возможности заменить значения на среднее/медианное, предварительно сгруппировав данные по другому столбцу, тк корреляции, между представленными данными не прослеживается.    \n",
    "Но оставить пропуски в таком большом количестве нельзя- для того, чтобы не столкнуться с ошибкой, при дальнейшей работе, мы можем заменить отсутствующие значения на несуществующие оценки(к примеру, отрицательное число), в случае с рейтингом ESRB-заменить на 'no_rating'."
   ]
  },
  {
   "cell_type": "code",
   "execution_count": 61,
   "metadata": {},
   "outputs": [],
   "source": [
    "#добавим столбец с суммарными продажами во всех регионах\n",
    "data['total_sales'] = data[['na_sales','eu_sales','jp_sales', 'other_sales']].sum(axis = 1)"
   ]
  },
  {
   "cell_type": "code",
   "execution_count": 62,
   "metadata": {},
   "outputs": [],
   "source": [
    "#проверим датасет на наличие простых дубликатов\n",
    "#приведем содержание категориальных колонок к нижнему регистру\n",
    "#удалим строки неполных дубликатов\n",
    "data.duplicated().sum()\n",
    "data['name'] = data['name'].str.lower()\n",
    "data['platform']=data['platform'].str.lower()\n",
    "data['genre']=data['genre'].str.lower()\n",
    "key_cols = ['name', 'platform', 'year_of_release']\n",
    "data = data.drop_duplicates(subset=key_cols, keep='first')\n"
   ]
  },
  {
   "cell_type": "code",
   "execution_count": 63,
   "metadata": {},
   "outputs": [
    {
     "name": "stdout",
     "output_type": "stream",
     "text": [
      "<class 'pandas.core.frame.DataFrame'>\n",
      "Int64Index: 16712 entries, 0 to 16714\n",
      "Data columns (total 12 columns):\n",
      " #   Column           Non-Null Count  Dtype  \n",
      "---  ------           --------------  -----  \n",
      " 0   name             16712 non-null  object \n",
      " 1   platform         16712 non-null  object \n",
      " 2   year_of_release  16443 non-null  float64\n",
      " 3   genre            16712 non-null  object \n",
      " 4   na_sales         16712 non-null  float64\n",
      " 5   eu_sales         16712 non-null  float64\n",
      " 6   jp_sales         16712 non-null  float64\n",
      " 7   other_sales      16712 non-null  float64\n",
      " 8   critic_score     16712 non-null  float64\n",
      " 9   user_score       16712 non-null  float64\n",
      " 10  rating           16712 non-null  object \n",
      " 11  total_sales      16712 non-null  float64\n",
      "dtypes: float64(8), object(4)\n",
      "memory usage: 1.7+ MB\n"
     ]
    }
   ],
   "source": [
    "# check\n",
    "data.info()"
   ]
  },
  {
   "cell_type": "markdown",
   "metadata": {},
   "source": [
    "В предобработке данных: названия столбцов, содержимое категориальных колонок приведены к нижнему регистру, изменены типы данных в столбцах «оценка пользователей».     \n",
    "Обработаны пропущенные значения-в столбцах citrus_score, user_score пропущенные значения заменены на несуществующую оценку(-1), а в столбце с рейтингом ESRB пропуски заменены  на 'no_rating',в столбцах name и genre удаляем пропущенные значения, т.к. записи не помогут решить главную задачу проекта.      \n",
    "Проверили датасет на наличие простых дубликатов, удалив строку неполных дубликатов. "
   ]
  },
  {
   "cell_type": "markdown",
   "metadata": {},
   "source": [
    "## Исследовательский анализ данных"
   ]
  },
  {
   "cell_type": "code",
   "execution_count": 64,
   "metadata": {},
   "outputs": [
    {
     "data": {
      "text/plain": [
       "Text(0, 0.5, 'Количество')"
      ]
     },
     "execution_count": 64,
     "metadata": {},
     "output_type": "execute_result"
    },
    {
     "data": {
      "image/png": "[encoded data removed]",
      "text/plain": [
       "<Figure size 1008x432 with 1 Axes>"
      ]
     },
     "metadata": {
      "needs_background": "light"
     },
     "output_type": "display_data"
    }
   ],
   "source": [
    "#посмотрим, сколько игр выпускалось за разные годы\n",
    "#year_counts = data['year_of_release'].value_counts(ascending = True)\n",
    "fig, ax= plt.subplots(figsize=(14,6))\n",
    "sns.histplot(data['year_of_release'], bins = 100, ax=ax)\n",
    "plt.title('Распеределение игр по годам')\n",
    "plt.xlabel('Год')\n",
    "plt.ylabel('Количество')\n"
   ]
  },
  {
   "cell_type": "markdown",
   "metadata": {},
   "source": [
    "Данные начиная с 1980 года, с 1995 количество выпусков игр за год начало расти, в 2002 году произошел первый скачек(почти в 2 раза) увеличилось количество игр, а максимальной популярностью игры, вероятно, пользовались в 2008-2009 годах-поэтому и выпусков за год было много(1426-1427). Начиная с 2010 года интерес к играм у пользователей ,скорее всего, начал снижаться-вместе с ним и количество выпусков в год"
   ]
  },
  {
   "cell_type": "code",
   "execution_count": 65,
   "metadata": {
    "scrolled": true
   },
   "outputs": [
    {
     "name": "stdout",
     "output_type": "stream",
     "text": [
      "platform\n",
      "ps2     1255.77\n",
      "x360     971.42\n",
      "ps3      939.64\n",
      "wii      907.51\n",
      "ds       806.12\n",
      "ps       730.86\n",
      "gba      317.85\n",
      "ps4      314.14\n",
      "psp      294.05\n",
      "pc       259.52\n",
      "3ds      259.00\n",
      "xb       257.74\n",
      "gb       255.46\n",
      "nes      251.05\n",
      "n64      218.68\n",
      "snes     200.04\n",
      "gc       198.93\n",
      "xone     159.32\n",
      "2600      96.98\n",
      "wiiu      82.19\n",
      "psv       54.07\n",
      "sat       33.59\n",
      "gen       28.35\n",
      "dc        15.95\n",
      "scd        1.86\n",
      "ng         1.44\n",
      "ws         1.42\n",
      "tg16       0.16\n",
      "3do        0.10\n",
      "gg         0.04\n",
      "pcfx       0.03\n",
      "Name: total_sales, dtype: float64\n"
     ]
    },
    {
     "data": {
      "image/png": "[encoded data removed]",
      "text/plain": [
       "<Figure size 432x288 with 1 Axes>"
      ]
     },
     "metadata": {
      "needs_background": "light"
     },
     "output_type": "display_data"
    }
   ],
   "source": [
    "#посмотрим, как менялись продажи по платформам\n",
    "sales_platforms=data.groupby('platform')['total_sales'].sum()\n",
    "sales_platforms=sales_platforms.sort_values(ascending = False)\n",
    "sales_platforms.plot.bar(title='Диаграмма продаж в зависимости от платформы', xlabel='Платформы', ylabel='Сумма')\n",
    "print(sales_platforms)\n"
   ]
  },
  {
   "cell_type": "markdown",
   "metadata": {},
   "source": [
    "Платформа с наибольшими продажами-PS2(около 1255 млн продаж), пользуются популярностью игры на X360, PS3, Wii. Меньше всего продаж у игр на платформе TG16, 3D0, GG, PCFX."
   ]
  },
  {
   "cell_type": "code",
   "execution_count": 66,
   "metadata": {
    "scrolled": true
   },
   "outputs": [
    {
     "data": {
      "image/png": "[encoded data removed]",
      "text/plain": [
       "<Figure size 432x288 with 1 Axes>"
      ]
     },
     "metadata": {
      "needs_background": "light"
     },
     "output_type": "display_data"
    },
    {
     "data": {
      "image/png": "[encoded data removed]",
      "text/plain": [
       "<Figure size 432x288 with 1 Axes>"
      ]
     },
     "metadata": {
      "needs_background": "light"
     },
     "output_type": "display_data"
    },
    {
     "data": {
      "image/png": "[encoded data removed]",
      "text/plain": [
       "<Figure size 432x288 with 1 Axes>"
      ]
     },
     "metadata": {
      "needs_background": "light"
     },
     "output_type": "display_data"
    },
    {
     "data": {
      "image/png": "[encoded data removed]",
      "text/plain": [
       "<Figure size 432x288 with 1 Axes>"
      ]
     },
     "metadata": {
      "needs_background": "light"
     },
     "output_type": "display_data"
    },
    {
     "data": {
      "image/png": "[encoded data removed]",
      "text/plain": [
       "<Figure size 432x288 with 1 Axes>"
      ]
     },
     "metadata": {
      "needs_background": "light"
     },
     "output_type": "display_data"
    }
   ],
   "source": [
    "#построим распредления суммарных продаж самых популярных платформ по годам.(PS2,X360, PS3, Wii)\n",
    "popular_platform = ['ps2','x360', 'ps3', 'wii', 'ds']\n",
    "for platform in popular_platform:\n",
    "    data[data['platform'] == platform].pivot_table(index='year_of_release', values='total_sales', aggfunc='sum').plot(\n",
    "        kind='bar')\n",
    "    plt.title(platform)\n",
    "    plt.xlabel('Год')\n",
    "    plt.ylabel('Продажи')\n",
    "\n"
   ]
  },
  {
   "cell_type": "code",
   "execution_count": 67,
   "metadata": {},
   "outputs": [],
   "source": [
    "# для платформы ds удалим данные за 1985 год, тк это аномалия-платформа вышла в 2004 году\n",
    "filter_ds = (data['platform'] == 'ds') & (data['year_of_release'] == 1985)\n",
    "data = data.drop(data[filter_ds].index)"
   ]
  },
  {
   "cell_type": "markdown",
   "metadata": {},
   "source": [
    "Платформа PS2 просущестовала с 2000 по 2011 год-11 лет        \n",
    "Платформа X360 просуществовала с 2005 по 2016 год-11 лет        \n",
    "Платформа PS3 просуществовала с 2006 по 2016 год-10 лет        \n",
    "Платформа Wii просуществовала с 2006 по 2016 год-10 лет           \n",
    "Платформа DS просуществоала с 2004 года по 2013 год-9 лет            \n",
    "В среднем популярная платформа живет 10 лет, после- внимание переходит на более новые платформы."
   ]
  },
  {
   "cell_type": "code",
   "execution_count": 68,
   "metadata": {},
   "outputs": [
    {
     "data": {
      "text/html": [
       "<div>\n",
       "<style scoped>\n",
       "    .dataframe tbody tr th:only-of-type {\n",
       "        vertical-align: middle;\n",
       "    }\n",
       "\n",
       "    .dataframe tbody tr th {\n",
       "        vertical-align: top;\n",
       "    }\n",
       "\n",
       "    .dataframe thead th {\n",
       "        text-align: right;\n",
       "    }\n",
       "</style>\n",
       "<table border=\"1\" class=\"dataframe\">\n",
       "  <thead>\n",
       "    <tr style=\"text-align: right;\">\n",
       "      <th></th>\n",
       "      <th>name</th>\n",
       "      <th>platform</th>\n",
       "      <th>year_of_release</th>\n",
       "      <th>genre</th>\n",
       "      <th>na_sales</th>\n",
       "      <th>eu_sales</th>\n",
       "      <th>jp_sales</th>\n",
       "      <th>other_sales</th>\n",
       "      <th>critic_score</th>\n",
       "      <th>user_score</th>\n",
       "      <th>rating</th>\n",
       "      <th>total_sales</th>\n",
       "    </tr>\n",
       "  </thead>\n",
       "  <tbody>\n",
       "    <tr>\n",
       "      <th>31</th>\n",
       "      <td>call of duty: black ops 3</td>\n",
       "      <td>ps4</td>\n",
       "      <td>2015.0</td>\n",
       "      <td>shooter</td>\n",
       "      <td>6.03</td>\n",
       "      <td>5.86</td>\n",
       "      <td>0.36</td>\n",
       "      <td>2.38</td>\n",
       "      <td>-1.0</td>\n",
       "      <td>-1.0</td>\n",
       "      <td>no_rating</td>\n",
       "      <td>14.63</td>\n",
       "    </tr>\n",
       "    <tr>\n",
       "      <th>42</th>\n",
       "      <td>grand theft auto v</td>\n",
       "      <td>ps4</td>\n",
       "      <td>2014.0</td>\n",
       "      <td>action</td>\n",
       "      <td>3.96</td>\n",
       "      <td>6.31</td>\n",
       "      <td>0.38</td>\n",
       "      <td>1.97</td>\n",
       "      <td>97.0</td>\n",
       "      <td>8.3</td>\n",
       "      <td>M</td>\n",
       "      <td>12.62</td>\n",
       "    </tr>\n",
       "    <tr>\n",
       "      <th>47</th>\n",
       "      <td>pokemon omega ruby/pokemon alpha sapphire</td>\n",
       "      <td>3ds</td>\n",
       "      <td>2014.0</td>\n",
       "      <td>role-playing</td>\n",
       "      <td>4.35</td>\n",
       "      <td>3.49</td>\n",
       "      <td>3.10</td>\n",
       "      <td>0.74</td>\n",
       "      <td>-1.0</td>\n",
       "      <td>-1.0</td>\n",
       "      <td>no_rating</td>\n",
       "      <td>11.68</td>\n",
       "    </tr>\n",
       "    <tr>\n",
       "      <th>77</th>\n",
       "      <td>fifa 16</td>\n",
       "      <td>ps4</td>\n",
       "      <td>2015.0</td>\n",
       "      <td>sports</td>\n",
       "      <td>1.12</td>\n",
       "      <td>6.12</td>\n",
       "      <td>0.06</td>\n",
       "      <td>1.28</td>\n",
       "      <td>82.0</td>\n",
       "      <td>4.3</td>\n",
       "      <td>E</td>\n",
       "      <td>8.58</td>\n",
       "    </tr>\n",
       "    <tr>\n",
       "      <th>87</th>\n",
       "      <td>star wars battlefront (2015)</td>\n",
       "      <td>ps4</td>\n",
       "      <td>2015.0</td>\n",
       "      <td>shooter</td>\n",
       "      <td>2.99</td>\n",
       "      <td>3.49</td>\n",
       "      <td>0.22</td>\n",
       "      <td>1.28</td>\n",
       "      <td>-1.0</td>\n",
       "      <td>-1.0</td>\n",
       "      <td>no_rating</td>\n",
       "      <td>7.98</td>\n",
       "    </tr>\n",
       "    <tr>\n",
       "      <th>...</th>\n",
       "      <td>...</td>\n",
       "      <td>...</td>\n",
       "      <td>...</td>\n",
       "      <td>...</td>\n",
       "      <td>...</td>\n",
       "      <td>...</td>\n",
       "      <td>...</td>\n",
       "      <td>...</td>\n",
       "      <td>...</td>\n",
       "      <td>...</td>\n",
       "      <td>...</td>\n",
       "      <td>...</td>\n",
       "    </tr>\n",
       "    <tr>\n",
       "      <th>16703</th>\n",
       "      <td>strawberry nauts</td>\n",
       "      <td>psv</td>\n",
       "      <td>2016.0</td>\n",
       "      <td>adventure</td>\n",
       "      <td>0.00</td>\n",
       "      <td>0.00</td>\n",
       "      <td>0.01</td>\n",
       "      <td>0.00</td>\n",
       "      <td>-1.0</td>\n",
       "      <td>-1.0</td>\n",
       "      <td>no_rating</td>\n",
       "      <td>0.01</td>\n",
       "    </tr>\n",
       "    <tr>\n",
       "      <th>16707</th>\n",
       "      <td>aiyoku no eustia</td>\n",
       "      <td>psv</td>\n",
       "      <td>2014.0</td>\n",
       "      <td>misc</td>\n",
       "      <td>0.00</td>\n",
       "      <td>0.00</td>\n",
       "      <td>0.01</td>\n",
       "      <td>0.00</td>\n",
       "      <td>-1.0</td>\n",
       "      <td>-1.0</td>\n",
       "      <td>no_rating</td>\n",
       "      <td>0.01</td>\n",
       "    </tr>\n",
       "    <tr>\n",
       "      <th>16710</th>\n",
       "      <td>samurai warriors: sanada maru</td>\n",
       "      <td>ps3</td>\n",
       "      <td>2016.0</td>\n",
       "      <td>action</td>\n",
       "      <td>0.00</td>\n",
       "      <td>0.00</td>\n",
       "      <td>0.01</td>\n",
       "      <td>0.00</td>\n",
       "      <td>-1.0</td>\n",
       "      <td>-1.0</td>\n",
       "      <td>no_rating</td>\n",
       "      <td>0.01</td>\n",
       "    </tr>\n",
       "    <tr>\n",
       "      <th>16712</th>\n",
       "      <td>haitaka no psychedelica</td>\n",
       "      <td>psv</td>\n",
       "      <td>2016.0</td>\n",
       "      <td>adventure</td>\n",
       "      <td>0.00</td>\n",
       "      <td>0.00</td>\n",
       "      <td>0.01</td>\n",
       "      <td>0.00</td>\n",
       "      <td>-1.0</td>\n",
       "      <td>-1.0</td>\n",
       "      <td>no_rating</td>\n",
       "      <td>0.01</td>\n",
       "    </tr>\n",
       "    <tr>\n",
       "      <th>16714</th>\n",
       "      <td>winning post 8 2016</td>\n",
       "      <td>psv</td>\n",
       "      <td>2016.0</td>\n",
       "      <td>simulation</td>\n",
       "      <td>0.00</td>\n",
       "      <td>0.00</td>\n",
       "      <td>0.01</td>\n",
       "      <td>0.00</td>\n",
       "      <td>-1.0</td>\n",
       "      <td>-1.0</td>\n",
       "      <td>no_rating</td>\n",
       "      <td>0.01</td>\n",
       "    </tr>\n",
       "  </tbody>\n",
       "</table>\n",
       "<p>1689 rows × 12 columns</p>\n",
       "</div>"
      ],
      "text/plain": [
       "                                            name platform  year_of_release  \\\n",
       "31                     call of duty: black ops 3      ps4           2015.0   \n",
       "42                            grand theft auto v      ps4           2014.0   \n",
       "47     pokemon omega ruby/pokemon alpha sapphire      3ds           2014.0   \n",
       "77                                       fifa 16      ps4           2015.0   \n",
       "87                  star wars battlefront (2015)      ps4           2015.0   \n",
       "...                                          ...      ...              ...   \n",
       "16703                           strawberry nauts      psv           2016.0   \n",
       "16707                           aiyoku no eustia      psv           2014.0   \n",
       "16710              samurai warriors: sanada maru      ps3           2016.0   \n",
       "16712                    haitaka no psychedelica      psv           2016.0   \n",
       "16714                        winning post 8 2016      psv           2016.0   \n",
       "\n",
       "              genre  na_sales  eu_sales  jp_sales  other_sales  critic_score  \\\n",
       "31          shooter      6.03      5.86      0.36         2.38          -1.0   \n",
       "42           action      3.96      6.31      0.38         1.97          97.0   \n",
       "47     role-playing      4.35      3.49      3.10         0.74          -1.0   \n",
       "77           sports      1.12      6.12      0.06         1.28          82.0   \n",
       "87          shooter      2.99      3.49      0.22         1.28          -1.0   \n",
       "...             ...       ...       ...       ...          ...           ...   \n",
       "16703     adventure      0.00      0.00      0.01         0.00          -1.0   \n",
       "16707          misc      0.00      0.00      0.01         0.00          -1.0   \n",
       "16710        action      0.00      0.00      0.01         0.00          -1.0   \n",
       "16712     adventure      0.00      0.00      0.01         0.00          -1.0   \n",
       "16714    simulation      0.00      0.00      0.01         0.00          -1.0   \n",
       "\n",
       "       user_score     rating  total_sales  \n",
       "31           -1.0  no_rating        14.63  \n",
       "42            8.3          M        12.62  \n",
       "47           -1.0  no_rating        11.68  \n",
       "77            4.3          E         8.58  \n",
       "87           -1.0  no_rating         7.98  \n",
       "...           ...        ...          ...  \n",
       "16703        -1.0  no_rating         0.01  \n",
       "16707        -1.0  no_rating         0.01  \n",
       "16710        -1.0  no_rating         0.01  \n",
       "16712        -1.0  no_rating         0.01  \n",
       "16714        -1.0  no_rating         0.01  \n",
       "\n",
       "[1689 rows x 12 columns]"
      ]
     },
     "metadata": {},
     "output_type": "display_data"
    },
    {
     "name": "stdout",
     "output_type": "stream",
     "text": [
      "['ps4' '3ds' 'xone' 'wiiu' 'ps3' 'x360' 'pc' 'wii' 'psv' 'psp']\n"
     ]
    }
   ],
   "source": [
    "#За актуальный период возьмем данные, начиная с 2014 года, \n",
    "#тк компьютерные игры-динамичноменяющаяся индустрия, нам не стоит брать слишком большой период времени,\n",
    "#но за 2016 год неполные данные, поэтому рассмотрим 2013, 2014, 2015, 2016\n",
    "new_data = data[data['year_of_release']>=2014]\n",
    "display(new_data)\n",
    "print(new_data['platform'].unique())\n",
    "\n"
   ]
  },
  {
   "cell_type": "markdown",
   "metadata": {},
   "source": [
    "У нас остались данные о платформах: 'ps4' '3ds' 'xone' 'wiiu' 'ps3' 'x360' 'pc' 'wii' 'psv' 'psp'"
   ]
  },
  {
   "cell_type": "code",
   "execution_count": 69,
   "metadata": {},
   "outputs": [
    {
     "data": {
      "text/plain": [
       "<AxesSubplot:title={'center':'Диаграмма продаж в зависимости от платформы'}, xlabel='Платформы', ylabel='Сумма'>"
      ]
     },
     "execution_count": 69,
     "metadata": {},
     "output_type": "execute_result"
    },
    {
     "data": {
      "image/png": "[encoded data removed]",
      "text/plain": [
       "<Figure size 432x288 with 1 Axes>"
      ]
     },
     "metadata": {
      "needs_background": "light"
     },
     "output_type": "display_data"
    }
   ],
   "source": [
    "sales_platforms_new=new_data.groupby('platform')['total_sales'].sum()\n",
    "sales_platforms_new=sales_platforms_new.sort_values(ascending = False)\n",
    "sales_platforms_new.plot.bar(title='Диаграмма продаж в зависимости от платформы', xlabel='Платформы', ylabel='Сумма')"
   ]
  },
  {
   "cell_type": "code",
   "execution_count": 70,
   "metadata": {
    "scrolled": true
   },
   "outputs": [
    {
     "data": {
      "image/png": "[encoded data removed]",
      "text/plain": [
       "<Figure size 432x288 with 1 Axes>"
      ]
     },
     "metadata": {
      "needs_background": "light"
     },
     "output_type": "display_data"
    },
    {
     "data": {
      "image/png": "[encoded data removed]",
      "text/plain": [
       "<Figure size 432x288 with 1 Axes>"
      ]
     },
     "metadata": {
      "needs_background": "light"
     },
     "output_type": "display_data"
    },
    {
     "data": {
      "image/png": "[encoded data removed]",
      "text/plain": [
       "<Figure size 432x288 with 1 Axes>"
      ]
     },
     "metadata": {
      "needs_background": "light"
     },
     "output_type": "display_data"
    },
    {
     "data": {
      "image/png": "[encoded data removed]",
      "text/plain": [
       "<Figure size 432x288 with 1 Axes>"
      ]
     },
     "metadata": {
      "needs_background": "light"
     },
     "output_type": "display_data"
    },
    {
     "data": {
      "image/png": "[encoded data removed]",
      "text/plain": [
       "<Figure size 432x288 with 1 Axes>"
      ]
     },
     "metadata": {
      "needs_background": "light"
     },
     "output_type": "display_data"
    },
    {
     "data": {
      "image/png": "[encoded data removed]",
      "text/plain": [
       "<Figure size 432x288 with 1 Axes>"
      ]
     },
     "metadata": {
      "needs_background": "light"
     },
     "output_type": "display_data"
    },
    {
     "data": {
      "image/png": "[encoded data removed]",
      "text/plain": [
       "<Figure size 432x288 with 1 Axes>"
      ]
     },
     "metadata": {
      "needs_background": "light"
     },
     "output_type": "display_data"
    },
    {
     "data": {
      "image/png": "[encoded data removed]",
      "text/plain": [
       "<Figure size 432x288 with 1 Axes>"
      ]
     },
     "metadata": {
      "needs_background": "light"
     },
     "output_type": "display_data"
    },
    {
     "data": {
      "image/png": "[encoded data removed]",
      "text/plain": [
       "<Figure size 432x288 with 1 Axes>"
      ]
     },
     "metadata": {
      "needs_background": "light"
     },
     "output_type": "display_data"
    },
    {
     "data": {
      "image/png": "[encoded data removed]",
      "text/plain": [
       "<Figure size 432x288 with 1 Axes>"
      ]
     },
     "metadata": {
      "needs_background": "light"
     },
     "output_type": "display_data"
    }
   ],
   "source": [
    "new_popular_platform = ['ps4', '3ds', 'xone', 'wiiu' ,'ps3', 'x360', 'pc' ,'wii' ,'psv', 'psp']\n",
    "for platform in new_popular_platform:\n",
    "    new_data[new_data['platform'] == platform].pivot_table(index='year_of_release', values='total_sales', aggfunc='sum').plot(\n",
    "        kind='bar')\n",
    "    plt.title(platform)\n",
    "    plt.xlabel('Год')\n",
    "    plt.ylabel('Продажи')"
   ]
  },
  {
   "cell_type": "markdown",
   "metadata": {},
   "source": [
    "По продажам лидируют платформы ps4, ps3, xone, 3ds. Ввиду того, что данные за 2016 год не полные-рассмотрим рост/падение продаж в 2014-2015 году: видим тенденцию к снижению продаж ежегодно почти в 1.5 и более раз у всех платформ, кроме ps4 и xone-можем сделать предположение, что именно эти платформы отстанутся перспективными в 2017 году, так же выгодной платформой можно счесть 3ds, тк хоть продажи и снижаются, но их объем составляет свыше 15млн копий-это значит, что есть возможность заработать на этой платформе."
   ]
  },
  {
   "cell_type": "code",
   "execution_count": 71,
   "metadata": {},
   "outputs": [
    {
     "data": {
      "image/png": "[encoded data removed]",
      "text/plain": [
       "<Figure size 1440x1440 with 1 Axes>"
      ]
     },
     "metadata": {
      "needs_background": "light"
     },
     "output_type": "display_data"
    }
   ],
   "source": [
    "#Построим график «ящик с усами» по глобальным продажам игр в разбивке по платформам.\n",
    "top_platform_group = new_data[new_data['platform'].isin(['ps4', '3ds', 'xone', 'wiiu' ,'ps3', 'x360', 'pc' ,'wii' ,'psv', 'psp'])]\n",
    "plt.subplots(figsize=(20, 20))\n",
    "sns.boxplot(x=\"platform\", y=\"total_sales\", data=top_platform_group, showfliers=False, whis=[5, 95])\n",
    "plt.title('Глобальные продажи игр по платформам')\n",
    "plt.xlabel('Платформа')\n",
    "plt.ylabel('Глобальные продажи')\n",
    "plt.show()"
   ]
  },
  {
   "cell_type": "code",
   "execution_count": 72,
   "metadata": {},
   "outputs": [
    {
     "data": {
      "image/png": "[encoded data removed]",
      "text/plain": [
       "<Figure size 1440x1440 with 1 Axes>"
      ]
     },
     "metadata": {
      "needs_background": "light"
     },
     "output_type": "display_data"
    }
   ],
   "source": [
    "#добавим график в 100% масштабе, чтобы посмотреть максимальные продажи\n",
    "top_platform_group = new_data[new_data['platform'].isin(['ps4', '3ds', 'xone', 'wiiu' ,'ps3', 'x360', 'pc' ,'wii' ,'psv', 'psp'])]\n",
    "plt.subplots(figsize=(20, 20))\n",
    "sns.boxplot(x=\"platform\", y=\"total_sales\", data=top_platform_group)\n",
    "plt.title('Глобальные продажи игр по платформам')\n",
    "plt.xlabel('Платформа')\n",
    "plt.ylabel('Глобальные продажи')\n",
    "plt.show()"
   ]
  },
  {
   "cell_type": "markdown",
   "metadata": {},
   "source": [
    "Оценивая выбросы на диаграмме размаха мы выявляем платформу, которая способна выпустить наиболее привлекательные игры для игроманов: у ps4 бОльшее количество игр, принесших максимум выручки (до 13 млн копий)\n",
    "Наиболее высокий уровень медианы у платформы xone- значит и самые стабильные продажи"
   ]
  },
  {
   "cell_type": "code",
   "execution_count": 73,
   "metadata": {},
   "outputs": [
    {
     "name": "stdout",
     "output_type": "stream",
     "text": [
      "Корреляция между отзывами пользователей и продажами: -0.04\n",
      "Корреляция между отзывами критиков и продажами: 0.4\n"
     ]
    },
    {
     "data": {
      "image/png": "[encoded data removed]",
      "text/plain": [
       "<Figure size 432x288 with 1 Axes>"
      ]
     },
     "metadata": {
      "needs_background": "light"
     },
     "output_type": "display_data"
    },
    {
     "data": {
      "image/png": "[encoded data removed]",
      "text/plain": [
       "<Figure size 432x288 with 1 Axes>"
      ]
     },
     "metadata": {
      "needs_background": "light"
     },
     "output_type": "display_data"
    }
   ],
   "source": [
    "#посмотрим, как влияют на продажи внутри одной популярной платформы отзывы пользователей \n",
    "#предварительно удалив отзывы с отрицательным значением\n",
    "filter_uscore_ps4 = (new_data['platform'] == 'ps4') & (new_data['user_score']<0)\n",
    "new_data = new_data.drop(new_data[filter_uscore_ps4].index)\n",
    "filter_cscore_ps4 = (new_data['platform'] == 'ps4') & (new_data['critic_score']<0)\n",
    "new_data = new_data.drop(new_data[filter_cscore_ps4].index)\n",
    "\n",
    "ps4_corr = new_data[new_data['platform']=='ps4']\n",
    "ps4_corr.plot(x='user_score', y = 'total_sales', kind = 'scatter', alpha = 0.3, grid = True)\n",
    "plt.title('Диаграмма рассеяния для платформы ps4')\n",
    "plt.xlabel('Оценка пользователей')\n",
    "plt.ylabel('Продажи')\n",
    "print('Корреляция между отзывами пользователей и продажами:',\n",
    "      round(ps4_corr['total_sales'].corr(ps4_corr['user_score']),2))\n",
    "ps4_corr.plot(x='critic_score', y = 'total_sales', kind = 'scatter', alpha = 0.3, grid = True)\n",
    "plt.title('Диаграмма рассеяния для платформы ps4')\n",
    "plt.xlabel('Оценка критиков')\n",
    "plt.ylabel('Продажи')\n",
    "print('Корреляция между отзывами критиков и продажами:',\n",
    "      round(ps4_corr['total_sales'].corr(ps4_corr['critic_score']),2))"
   ]
  },
  {
   "cell_type": "markdown",
   "metadata": {},
   "source": [
    "На первой диаграмме мы видим, что есть слабая отрицательная корреляция между оценками пользователей и продажами игр (коэффициент корреляции -0.03). На второй диаграмме мы видим умеренную корреляция (коэфициент корреляции 0.4). Это может свидетельствовать о том, что оценки критиков влияют на продажи игр больше, чем оценка пользователей"
   ]
  },
  {
   "cell_type": "code",
   "execution_count": 74,
   "metadata": {},
   "outputs": [
    {
     "name": "stdout",
     "output_type": "stream",
     "text": [
      "Корреляция между отзывами пользователей и продажами: -0.092\n",
      "Корреляция между отзывами критиков и продажами: 0.4\n"
     ]
    },
    {
     "data": {
      "image/png": "[encoded data removed]",
      "text/plain": [
       "<Figure size 432x288 with 1 Axes>"
      ]
     },
     "metadata": {
      "needs_background": "light"
     },
     "output_type": "display_data"
    },
    {
     "data": {
      "image/png": "[encoded data removed]",
      "text/plain": [
       "<Figure size 432x288 with 1 Axes>"
      ]
     },
     "metadata": {
      "needs_background": "light"
     },
     "output_type": "display_data"
    }
   ],
   "source": [
    "#посмотрим на еще нескольких платформах, как влияют на продажи отзывы пользователей и критиков\n",
    "filter_uscore_xone = (new_data['platform'] == 'xone') & (new_data['user_score']<0)\n",
    "new_data = new_data.drop(new_data[filter_uscore_xone].index)\n",
    "filter_cscore_xone = (new_data['platform'] == 'xone') & (new_data['critic_score']<0)\n",
    "new_data = new_data.drop(new_data[filter_cscore_xone].index)\n",
    "\n",
    "corr_xone = new_data[new_data['platform']=='xone']\n",
    "corr_xone.plot(x='user_score', y = 'total_sales', kind = 'scatter', alpha = 0.3, grid = True)\n",
    "plt.title('Диаграмма рассеяния для платформы xone')\n",
    "plt.xlabel('Оценка пользователей')\n",
    "plt.ylabel('Продажи')\n",
    "print('Корреляция между отзывами пользователей и продажами:',\n",
    "      round(corr_xone['total_sales'].corr(corr_xone['user_score']),3))\n",
    "corr_xone.plot(x='critic_score', y = 'total_sales', kind = 'scatter', alpha = 0.3, grid = True)\n",
    "plt.title('Диаграмма рассеяния для платформы xone')\n",
    "plt.xlabel('Оценка критиков')\n",
    "plt.ylabel('Продажи')\n",
    "print('Корреляция между отзывами критиков и продажами:', \n",
    "      round(corr_xone['total_sales'].corr(corr_xone['critic_score']),1))\n",
    "\n"
   ]
  },
  {
   "cell_type": "markdown",
   "metadata": {},
   "source": [
    "На первой диаграмме о платформе xone мы видим, слабую, почти отсутствующую взаимосвязь между оценками пользователей и продажами игр (коэффициент корреляции -0.094). На второй диаграмме мы видим, умеренную положительную корреляцию между оценками критиков и продажами (коэфициент корреляции 0.4)"
   ]
  },
  {
   "cell_type": "code",
   "execution_count": 75,
   "metadata": {},
   "outputs": [
    {
     "name": "stdout",
     "output_type": "stream",
     "text": [
      "Корреляция между отзывами пользователей и продажами: 0.157\n",
      "Корреляция между отзывами критиков и продажами: 0.4\n"
     ]
    },
    {
     "data": {
      "image/png": "[encoded data removed]",
      "text/plain": [
       "<Figure size 432x288 with 1 Axes>"
      ]
     },
     "metadata": {
      "needs_background": "light"
     },
     "output_type": "display_data"
    },
    {
     "data": {
      "image/png": "[encoded data removed]",
      "text/plain": [
       "<Figure size 432x288 with 1 Axes>"
      ]
     },
     "metadata": {
      "needs_background": "light"
     },
     "output_type": "display_data"
    }
   ],
   "source": [
    "filter_uscore_ps3 = (new_data['platform'] == 'ps3') & (new_data['user_score']<0)\n",
    "new_data = new_data.drop(new_data[filter_uscore_ps3].index)\n",
    "filter_cscore_ps3 = (new_data['platform'] == 'ps3') & (new_data['critic_score']<0)\n",
    "new_data = new_data.drop(new_data[filter_cscore_ps3].index)\n",
    "\n",
    "corr_ps3 = new_data[new_data['platform']=='ps3']\n",
    "corr_ps3.plot(x='user_score', y = 'total_sales', kind = 'scatter', alpha = 0.3, grid = True)\n",
    "plt.title('Диаграмма рассеяния для платформы ps3')\n",
    "plt.xlabel('Оценка пользователей')\n",
    "plt.ylabel('Продажи')\n",
    "print('Корреляция между отзывами пользователей и продажами:',\n",
    "      round(corr_ps3['total_sales'].corr(corr_ps3['user_score']),3))\n",
    "corr_ps3.plot(x='critic_score', y = 'total_sales', kind = 'scatter', alpha = 0.3, grid = True)\n",
    "plt.title('Диаграмма рассеяния для платформы ps3')\n",
    "plt.xlabel('Оценка критиков')\n",
    "plt.ylabel('Продажи')\n",
    "print('Корреляция между отзывами критиков и продажами:', \n",
    "      round(corr_ps3['total_sales'].corr(corr_ps3['critic_score']),1))"
   ]
  },
  {
   "cell_type": "markdown",
   "metadata": {},
   "source": [
    "на платформе ps3 умеренная положительная корреляцию между оценками критиков и продажами(0.4), а взаимосвязь между оценками пользователей и продажами почти отсутствует(коэфициент корреляции 0.157)"
   ]
  },
  {
   "cell_type": "code",
   "execution_count": 76,
   "metadata": {},
   "outputs": [
    {
     "name": "stdout",
     "output_type": "stream",
     "text": [
      "Корреляция между отзывами пользователей и продажами: 0.28\n",
      "Корреляция между отзывами критиков и продажами: 0.28\n"
     ]
    },
    {
     "data": {
      "image/png": "[encoded data removed]",
      "text/plain": [
       "<Figure size 432x288 with 1 Axes>"
      ]
     },
     "metadata": {
      "needs_background": "light"
     },
     "output_type": "display_data"
    },
    {
     "data": {
      "image/png": "[encoded data removed]",
      "text/plain": [
       "<Figure size 432x288 with 1 Axes>"
      ]
     },
     "metadata": {
      "needs_background": "light"
     },
     "output_type": "display_data"
    }
   ],
   "source": [
    "filter_uscore_3ds = (new_data['platform'] == '3ds') & (new_data['user_score']<0)\n",
    "new_data = new_data.drop(new_data[filter_uscore_3ds].index)\n",
    "filter_cscore_3ds = (new_data['platform'] == '3ds') & (new_data['critic_score']<0)\n",
    "new_data = new_data.drop(new_data[filter_cscore_3ds].index)\n",
    "\n",
    "corr_3ds = new_data[new_data['platform']=='3ds']\n",
    "corr_3ds.plot(x='user_score', y = 'total_sales', kind = 'scatter', alpha = 0.3, grid = True)\n",
    "plt.title('Диаграмма рассеяния')\n",
    "plt.xlabel('Оценка пользователей')\n",
    "plt.ylabel('Продажи')\n",
    "print('Корреляция между отзывами пользователей и продажами:', \n",
    "      round(corr_3ds['total_sales'].corr(corr_3ds['user_score']),2))\n",
    "corr_3ds.plot(x='critic_score', y = 'total_sales', kind = 'scatter', alpha = 0.3, grid = True)\n",
    "plt.title('Диаграмма рассеяния')\n",
    "plt.xlabel('Оценка критиков')\n",
    "plt.ylabel('Продажи')\n",
    "print('Корреляция между отзывами критиков и продажами:', \n",
    "      round(corr_3ds['total_sales'].corr(corr_3ds['critic_score']),2))"
   ]
  },
  {
   "cell_type": "markdown",
   "metadata": {},
   "source": [
    "На платформе 3ds на продажи отзывы критиков и пользователей влияют одинаково(коэфициент корреляции 0.28-слабая положительная корреляция)"
   ]
  },
  {
   "cell_type": "code",
   "execution_count": 77,
   "metadata": {},
   "outputs": [
    {
     "data": {
      "image/png": "[encoded data removed]",
      "text/plain": [
       "<Figure size 1152x720 with 1 Axes>"
      ]
     },
     "metadata": {
      "needs_background": "light"
     },
     "output_type": "display_data"
    },
    {
     "data": {
      "image/png": "[encoded data removed]",
      "text/plain": [
       "<Figure size 1152x720 with 1 Axes>"
      ]
     },
     "metadata": {
      "needs_background": "light"
     },
     "output_type": "display_data"
    }
   ],
   "source": [
    "# распредеение по жанрам\n",
    "#new_genre = new_data.pivot_table(index='genre', values='total_sales',\n",
    "                                 #aggfunc='sum').sort_values(by='total_sales', ascending=False).reset_index()\n",
    "plt.figure(figsize=(16,10))\n",
    "sns.boxplot(x='genre', y='total_sales', data= new_data)\n",
    "plt.xticks(rotation =45)\n",
    "plt.title('Диаграмма размаха продаж по жанрам')\n",
    "plt.xlabel('Жанр')\n",
    "plt.ylabel('Продажи')\n",
    "\n",
    "\n",
    "plt.figure(figsize=(16, 10))\n",
    "sns.boxplot(x='genre', y='total_sales', data=new_data,\n",
    "                 showfliers=False, whis=[5, 95])\n",
    "ax.set_ylabel('Продажи')\n",
    "plt.xticks(rotation=45)\n",
    "plt.title('Диаграмма размаха продаж по жанрам (без выбросов)')\n",
    "plt.show()\n"
   ]
  },
  {
   "cell_type": "markdown",
   "metadata": {},
   "source": [
    "Самым стабильным жанром является shooter(медиана 0.5)\n",
    "Наибольшее число успешно продающихся игр у жанра action- этот жанр способен принести максимальную выручку компании.\n"
   ]
  },
  {
   "cell_type": "markdown",
   "metadata": {},
   "source": [
    "-В среднем популярная платформа живет 10 лет, после- внимание переходит на более новые платформы.       \n",
    "-Для анализа данных нам необходимо выбрать актульный период, мы возьмем данные начиная с 2014 года, тк компьютерные игры-динамичноменяющаяся индустрия, нам не стоит брать слишком большой период времени.           \n",
    "-По продажам лидируют платформы ps4, ps3, xone, 3ds. Ввиду того, что данные за 2016 год не полные-рассмотрим рост/падение продаж в 2014-2015 году: видим тенденцию к снижению продаж ежегодно почти в 1.5 и более раз у всех платформ, кроме ps4 и xone-можем сделать предположение, что именно эти платформы отстанутся перспективными в 2017 году,так же выгодной платформой можно счесть 3ds, тк хоть продажи и снижаются, но их объем составляет свыше 15млн копий-это значит, что есть возможность заработать на этой платформе.                           \n",
    "-Влияние на продажи имеют больше отзывы критиков, чем отзывы пользователей          \n",
    "-у платформы ps4 бОльшее количество игр, принесших максимум выручки (до 13 млн копий)          \n",
    "-у платформы xone самые стабильные продажи \n",
    "-самым стабильным жанром является shooter(медиана 0.5)              \n",
    "-наибольшее число успешно продающихся игр у жанра action- этот жанр способен принести максимальную выручку компании.\n"
   ]
  },
  {
   "cell_type": "code",
   "execution_count": 78,
   "metadata": {},
   "outputs": [
    {
     "data": {
      "text/html": [
       "<div>\n",
       "<style scoped>\n",
       "    .dataframe tbody tr th:only-of-type {\n",
       "        vertical-align: middle;\n",
       "    }\n",
       "\n",
       "    .dataframe tbody tr th {\n",
       "        vertical-align: top;\n",
       "    }\n",
       "\n",
       "    .dataframe thead th {\n",
       "        text-align: right;\n",
       "    }\n",
       "</style>\n",
       "<table border=\"1\" class=\"dataframe\">\n",
       "  <thead>\n",
       "    <tr style=\"text-align: right;\">\n",
       "      <th></th>\n",
       "      <th>name</th>\n",
       "      <th>platform</th>\n",
       "      <th>year_of_release</th>\n",
       "      <th>genre</th>\n",
       "      <th>na_sales</th>\n",
       "      <th>eu_sales</th>\n",
       "      <th>jp_sales</th>\n",
       "      <th>other_sales</th>\n",
       "      <th>critic_score</th>\n",
       "      <th>user_score</th>\n",
       "      <th>rating</th>\n",
       "      <th>total_sales</th>\n",
       "    </tr>\n",
       "  </thead>\n",
       "  <tbody>\n",
       "    <tr>\n",
       "      <th>42</th>\n",
       "      <td>grand theft auto v</td>\n",
       "      <td>ps4</td>\n",
       "      <td>2014.0</td>\n",
       "      <td>action</td>\n",
       "      <td>3.96</td>\n",
       "      <td>6.31</td>\n",
       "      <td>0.38</td>\n",
       "      <td>1.97</td>\n",
       "      <td>97.0</td>\n",
       "      <td>8.3</td>\n",
       "      <td>M</td>\n",
       "      <td>12.62</td>\n",
       "    </tr>\n",
       "    <tr>\n",
       "      <th>77</th>\n",
       "      <td>fifa 16</td>\n",
       "      <td>ps4</td>\n",
       "      <td>2015.0</td>\n",
       "      <td>sports</td>\n",
       "      <td>1.12</td>\n",
       "      <td>6.12</td>\n",
       "      <td>0.06</td>\n",
       "      <td>1.28</td>\n",
       "      <td>82.0</td>\n",
       "      <td>4.3</td>\n",
       "      <td>E</td>\n",
       "      <td>8.58</td>\n",
       "    </tr>\n",
       "    <tr>\n",
       "      <th>92</th>\n",
       "      <td>call of duty: advanced warfare</td>\n",
       "      <td>ps4</td>\n",
       "      <td>2014.0</td>\n",
       "      <td>shooter</td>\n",
       "      <td>2.81</td>\n",
       "      <td>3.48</td>\n",
       "      <td>0.14</td>\n",
       "      <td>1.23</td>\n",
       "      <td>83.0</td>\n",
       "      <td>5.7</td>\n",
       "      <td>M</td>\n",
       "      <td>7.66</td>\n",
       "    </tr>\n",
       "    <tr>\n",
       "      <th>94</th>\n",
       "      <td>fifa 17</td>\n",
       "      <td>ps4</td>\n",
       "      <td>2016.0</td>\n",
       "      <td>sports</td>\n",
       "      <td>0.66</td>\n",
       "      <td>5.75</td>\n",
       "      <td>0.08</td>\n",
       "      <td>1.11</td>\n",
       "      <td>85.0</td>\n",
       "      <td>5.0</td>\n",
       "      <td>E</td>\n",
       "      <td>7.60</td>\n",
       "    </tr>\n",
       "    <tr>\n",
       "      <th>105</th>\n",
       "      <td>fallout 4</td>\n",
       "      <td>ps4</td>\n",
       "      <td>2015.0</td>\n",
       "      <td>role-playing</td>\n",
       "      <td>2.53</td>\n",
       "      <td>3.27</td>\n",
       "      <td>0.24</td>\n",
       "      <td>1.13</td>\n",
       "      <td>87.0</td>\n",
       "      <td>6.5</td>\n",
       "      <td>M</td>\n",
       "      <td>7.17</td>\n",
       "    </tr>\n",
       "    <tr>\n",
       "      <th>...</th>\n",
       "      <td>...</td>\n",
       "      <td>...</td>\n",
       "      <td>...</td>\n",
       "      <td>...</td>\n",
       "      <td>...</td>\n",
       "      <td>...</td>\n",
       "      <td>...</td>\n",
       "      <td>...</td>\n",
       "      <td>...</td>\n",
       "      <td>...</td>\n",
       "      <td>...</td>\n",
       "      <td>...</td>\n",
       "    </tr>\n",
       "    <tr>\n",
       "      <th>16699</th>\n",
       "      <td>the longest 5 minutes</td>\n",
       "      <td>psv</td>\n",
       "      <td>2016.0</td>\n",
       "      <td>action</td>\n",
       "      <td>0.00</td>\n",
       "      <td>0.00</td>\n",
       "      <td>0.01</td>\n",
       "      <td>0.00</td>\n",
       "      <td>-1.0</td>\n",
       "      <td>-1.0</td>\n",
       "      <td>no_rating</td>\n",
       "      <td>0.01</td>\n",
       "    </tr>\n",
       "    <tr>\n",
       "      <th>16703</th>\n",
       "      <td>strawberry nauts</td>\n",
       "      <td>psv</td>\n",
       "      <td>2016.0</td>\n",
       "      <td>adventure</td>\n",
       "      <td>0.00</td>\n",
       "      <td>0.00</td>\n",
       "      <td>0.01</td>\n",
       "      <td>0.00</td>\n",
       "      <td>-1.0</td>\n",
       "      <td>-1.0</td>\n",
       "      <td>no_rating</td>\n",
       "      <td>0.01</td>\n",
       "    </tr>\n",
       "    <tr>\n",
       "      <th>16707</th>\n",
       "      <td>aiyoku no eustia</td>\n",
       "      <td>psv</td>\n",
       "      <td>2014.0</td>\n",
       "      <td>misc</td>\n",
       "      <td>0.00</td>\n",
       "      <td>0.00</td>\n",
       "      <td>0.01</td>\n",
       "      <td>0.00</td>\n",
       "      <td>-1.0</td>\n",
       "      <td>-1.0</td>\n",
       "      <td>no_rating</td>\n",
       "      <td>0.01</td>\n",
       "    </tr>\n",
       "    <tr>\n",
       "      <th>16712</th>\n",
       "      <td>haitaka no psychedelica</td>\n",
       "      <td>psv</td>\n",
       "      <td>2016.0</td>\n",
       "      <td>adventure</td>\n",
       "      <td>0.00</td>\n",
       "      <td>0.00</td>\n",
       "      <td>0.01</td>\n",
       "      <td>0.00</td>\n",
       "      <td>-1.0</td>\n",
       "      <td>-1.0</td>\n",
       "      <td>no_rating</td>\n",
       "      <td>0.01</td>\n",
       "    </tr>\n",
       "    <tr>\n",
       "      <th>16714</th>\n",
       "      <td>winning post 8 2016</td>\n",
       "      <td>psv</td>\n",
       "      <td>2016.0</td>\n",
       "      <td>simulation</td>\n",
       "      <td>0.00</td>\n",
       "      <td>0.00</td>\n",
       "      <td>0.01</td>\n",
       "      <td>0.00</td>\n",
       "      <td>-1.0</td>\n",
       "      <td>-1.0</td>\n",
       "      <td>no_rating</td>\n",
       "      <td>0.01</td>\n",
       "    </tr>\n",
       "  </tbody>\n",
       "</table>\n",
       "<p>1122 rows × 12 columns</p>\n",
       "</div>"
      ],
      "text/plain": [
       "                                 name platform  year_of_release         genre  \\\n",
       "42                 grand theft auto v      ps4           2014.0        action   \n",
       "77                            fifa 16      ps4           2015.0        sports   \n",
       "92     call of duty: advanced warfare      ps4           2014.0       shooter   \n",
       "94                            fifa 17      ps4           2016.0        sports   \n",
       "105                         fallout 4      ps4           2015.0  role-playing   \n",
       "...                               ...      ...              ...           ...   \n",
       "16699           the longest 5 minutes      psv           2016.0        action   \n",
       "16703                strawberry nauts      psv           2016.0     adventure   \n",
       "16707                aiyoku no eustia      psv           2014.0          misc   \n",
       "16712         haitaka no psychedelica      psv           2016.0     adventure   \n",
       "16714             winning post 8 2016      psv           2016.0    simulation   \n",
       "\n",
       "       na_sales  eu_sales  jp_sales  other_sales  critic_score  user_score  \\\n",
       "42         3.96      6.31      0.38         1.97          97.0         8.3   \n",
       "77         1.12      6.12      0.06         1.28          82.0         4.3   \n",
       "92         2.81      3.48      0.14         1.23          83.0         5.7   \n",
       "94         0.66      5.75      0.08         1.11          85.0         5.0   \n",
       "105        2.53      3.27      0.24         1.13          87.0         6.5   \n",
       "...         ...       ...       ...          ...           ...         ...   \n",
       "16699      0.00      0.00      0.01         0.00          -1.0        -1.0   \n",
       "16703      0.00      0.00      0.01         0.00          -1.0        -1.0   \n",
       "16707      0.00      0.00      0.01         0.00          -1.0        -1.0   \n",
       "16712      0.00      0.00      0.01         0.00          -1.0        -1.0   \n",
       "16714      0.00      0.00      0.01         0.00          -1.0        -1.0   \n",
       "\n",
       "          rating  total_sales  \n",
       "42             M        12.62  \n",
       "77             E         8.58  \n",
       "92             M         7.66  \n",
       "94             E         7.60  \n",
       "105            M         7.17  \n",
       "...          ...          ...  \n",
       "16699  no_rating         0.01  \n",
       "16703  no_rating         0.01  \n",
       "16707  no_rating         0.01  \n",
       "16712  no_rating         0.01  \n",
       "16714  no_rating         0.01  \n",
       "\n",
       "[1122 rows x 12 columns]"
      ]
     },
     "execution_count": 78,
     "metadata": {},
     "output_type": "execute_result"
    }
   ],
   "source": [
    "new_data"
   ]
  },
  {
   "cell_type": "markdown",
   "metadata": {},
   "source": [
    "## Портрет пользователя для каждого региона"
   ]
  },
  {
   "cell_type": "code",
   "execution_count": 79,
   "metadata": {},
   "outputs": [
    {
     "data": {
      "text/html": [
       "<div>\n",
       "<style scoped>\n",
       "    .dataframe tbody tr th:only-of-type {\n",
       "        vertical-align: middle;\n",
       "    }\n",
       "\n",
       "    .dataframe tbody tr th {\n",
       "        vertical-align: top;\n",
       "    }\n",
       "\n",
       "    .dataframe thead th {\n",
       "        text-align: right;\n",
       "    }\n",
       "</style>\n",
       "<table border=\"1\" class=\"dataframe\">\n",
       "  <thead>\n",
       "    <tr style=\"text-align: right;\">\n",
       "      <th></th>\n",
       "      <th>platform</th>\n",
       "      <th>na_sales</th>\n",
       "    </tr>\n",
       "  </thead>\n",
       "  <tbody>\n",
       "    <tr>\n",
       "      <th>0</th>\n",
       "      <td>ps4</td>\n",
       "      <td>74.79</td>\n",
       "    </tr>\n",
       "    <tr>\n",
       "      <th>1</th>\n",
       "      <td>xone</td>\n",
       "      <td>66.71</td>\n",
       "    </tr>\n",
       "    <tr>\n",
       "      <th>2</th>\n",
       "      <td>x360</td>\n",
       "      <td>28.30</td>\n",
       "    </tr>\n",
       "    <tr>\n",
       "      <th>3</th>\n",
       "      <td>wiiu</td>\n",
       "      <td>19.36</td>\n",
       "    </tr>\n",
       "    <tr>\n",
       "      <th>4</th>\n",
       "      <td>3ds</td>\n",
       "      <td>7.80</td>\n",
       "    </tr>\n",
       "    <tr>\n",
       "      <th>5</th>\n",
       "      <td>other</td>\n",
       "      <td>15.97</td>\n",
       "    </tr>\n",
       "  </tbody>\n",
       "</table>\n",
       "</div>"
      ],
      "text/plain": [
       "  platform  na_sales\n",
       "0      ps4     74.79\n",
       "1     xone     66.71\n",
       "2     x360     28.30\n",
       "3     wiiu     19.36\n",
       "4      3ds      7.80\n",
       "5    other     15.97"
      ]
     },
     "metadata": {},
     "output_type": "display_data"
    },
    {
     "data": {
      "text/html": [
       "<div>\n",
       "<style scoped>\n",
       "    .dataframe tbody tr th:only-of-type {\n",
       "        vertical-align: middle;\n",
       "    }\n",
       "\n",
       "    .dataframe tbody tr th {\n",
       "        vertical-align: top;\n",
       "    }\n",
       "\n",
       "    .dataframe thead th {\n",
       "        text-align: right;\n",
       "    }\n",
       "</style>\n",
       "<table border=\"1\" class=\"dataframe\">\n",
       "  <thead>\n",
       "    <tr style=\"text-align: right;\">\n",
       "      <th></th>\n",
       "      <th>platform</th>\n",
       "      <th>eu_sales</th>\n",
       "    </tr>\n",
       "  </thead>\n",
       "  <tbody>\n",
       "    <tr>\n",
       "      <th>0</th>\n",
       "      <td>ps4</td>\n",
       "      <td>101.69</td>\n",
       "    </tr>\n",
       "    <tr>\n",
       "      <th>1</th>\n",
       "      <td>xone</td>\n",
       "      <td>38.03</td>\n",
       "    </tr>\n",
       "    <tr>\n",
       "      <th>2</th>\n",
       "      <td>pc</td>\n",
       "      <td>17.97</td>\n",
       "    </tr>\n",
       "    <tr>\n",
       "      <th>3</th>\n",
       "      <td>x360</td>\n",
       "      <td>15.49</td>\n",
       "    </tr>\n",
       "    <tr>\n",
       "      <th>4</th>\n",
       "      <td>wiiu</td>\n",
       "      <td>13.15</td>\n",
       "    </tr>\n",
       "    <tr>\n",
       "      <th>5</th>\n",
       "      <td>other</td>\n",
       "      <td>15.21</td>\n",
       "    </tr>\n",
       "  </tbody>\n",
       "</table>\n",
       "</div>"
      ],
      "text/plain": [
       "  platform  eu_sales\n",
       "0      ps4    101.69\n",
       "1     xone     38.03\n",
       "2       pc     17.97\n",
       "3     x360     15.49\n",
       "4     wiiu     13.15\n",
       "5    other     15.21"
      ]
     },
     "metadata": {},
     "output_type": "display_data"
    },
    {
     "data": {
      "text/html": [
       "<div>\n",
       "<style scoped>\n",
       "    .dataframe tbody tr th:only-of-type {\n",
       "        vertical-align: middle;\n",
       "    }\n",
       "\n",
       "    .dataframe tbody tr th {\n",
       "        vertical-align: top;\n",
       "    }\n",
       "\n",
       "    .dataframe thead th {\n",
       "        text-align: right;\n",
       "    }\n",
       "</style>\n",
       "<table border=\"1\" class=\"dataframe\">\n",
       "  <thead>\n",
       "    <tr style=\"text-align: right;\">\n",
       "      <th></th>\n",
       "      <th>platform</th>\n",
       "      <th>jp_sales</th>\n",
       "    </tr>\n",
       "  </thead>\n",
       "  <tbody>\n",
       "    <tr>\n",
       "      <th>0</th>\n",
       "      <td>psv</td>\n",
       "      <td>14.54</td>\n",
       "    </tr>\n",
       "    <tr>\n",
       "      <th>1</th>\n",
       "      <td>3ds</td>\n",
       "      <td>9.94</td>\n",
       "    </tr>\n",
       "    <tr>\n",
       "      <th>2</th>\n",
       "      <td>ps4</td>\n",
       "      <td>8.49</td>\n",
       "    </tr>\n",
       "    <tr>\n",
       "      <th>3</th>\n",
       "      <td>wiiu</td>\n",
       "      <td>7.31</td>\n",
       "    </tr>\n",
       "    <tr>\n",
       "      <th>4</th>\n",
       "      <td>ps3</td>\n",
       "      <td>1.77</td>\n",
       "    </tr>\n",
       "    <tr>\n",
       "      <th>5</th>\n",
       "      <td>other</td>\n",
       "      <td>0.71</td>\n",
       "    </tr>\n",
       "  </tbody>\n",
       "</table>\n",
       "</div>"
      ],
      "text/plain": [
       "  platform  jp_sales\n",
       "0      psv     14.54\n",
       "1      3ds      9.94\n",
       "2      ps4      8.49\n",
       "3     wiiu      7.31\n",
       "4      ps3      1.77\n",
       "5    other      0.71"
      ]
     },
     "metadata": {},
     "output_type": "display_data"
    }
   ],
   "source": [
    "#Определим для пользователя каждого региона (NA, EU, JP):самые популярные платформы (топ-5)\n",
    "#опишем различия в долях продаж.\n",
    "na_platform = new_data.groupby('platform').agg({'na_sales': 'sum'}).sort_values(by='na_sales', ascending=False)\n",
    "na_platform.reset_index(inplace=True)\n",
    "na_other = na_platform[:5]\n",
    "na_other = na_other.append({'platform':'other', 'na_sales': na_platform['na_sales']\n",
    "                           .sum() - na_platform['na_sales'][:5].sum()}, ignore_index = True)\n",
    "\n",
    "eu_platform = new_data.groupby('platform').agg({'eu_sales': 'sum'}).sort_values(by='eu_sales', ascending=False)\n",
    "eu_platform.reset_index(inplace=True)\n",
    "eu_other = eu_platform[:5]\n",
    "eu_other = eu_other.append({'platform':'other', 'eu_sales': eu_platform['eu_sales']\n",
    "                           .sum() - eu_platform['eu_sales'][:5].sum()}, ignore_index = True)\n",
    "\n",
    "jp_platform = new_data.groupby('platform').agg({'jp_sales': 'sum'}).sort_values(by='jp_sales', ascending=False)\n",
    "jp_platform.reset_index(inplace=True)\n",
    "jp_other = jp_platform[:5]\n",
    "jp_other = jp_other.append({'platform':'other', 'jp_sales': jp_platform['jp_sales']\n",
    "                           .sum() - jp_platform['jp_sales'][:5].sum()}, ignore_index = True)\n",
    "\n",
    "display(na_other)\n",
    "display(eu_other)\n",
    "display(jp_other)\n"
   ]
  },
  {
   "cell_type": "code",
   "execution_count": 80,
   "metadata": {},
   "outputs": [
    {
     "data": {
      "image/png": "[encoded data removed]",
      "text/plain": [
       "<Figure size 1440x720 with 3 Axes>"
      ]
     },
     "metadata": {},
     "output_type": "display_data"
    }
   ],
   "source": [
    "\n",
    "fig, (ax1, ax2, ax3) = plt.subplots(1, 3, figsize=(20, 10))\n",
    "\n",
    "ax1.pie(na_other['na_sales'], labels=na_other['platform'], autopct='%1.1f%%')\n",
    "ax1.set_title('Продажи в Северной Америке', fontsize=14)\n",
    "\n",
    "ax2.pie(eu_other['eu_sales'], labels=eu_other['platform'], autopct='%1.1f%%')\n",
    "ax2.set_title('Продажи в Европе', fontsize=14)\n",
    "\n",
    "ax3.pie(jp_other['jp_sales'], labels=jp_other['platform'], autopct='%1.1f%%')\n",
    "ax3.set_title('Продажи в Японии', fontsize=14)\n",
    "\n",
    "fig.suptitle('Обзор рынка платформ(портрет покупателя)', fontsize=20, y= 0.8 )\n",
    "plt.show()"
   ]
  },
  {
   "cell_type": "markdown",
   "metadata": {},
   "source": [
    "В топ-5 платформ Северной Америки входят ps4(35.1%), xone(31.3%), x360(13.3%), wiiu(9.1%), 3ds(3.7%),оставшиеся платформы входят в 7.5% от общего числа платформ             \n",
    "В Европе топ-5 платформ: ps4(50.5%), xone(18.9%), pc(8.9%), x360(7.7%), wiiu(6.5%), 7.5%-другие платформы      \n",
    "Топ-5 платформ для Японии(34.0%)-psv, 23.2%-3ds, 19.9%-ps4, 17.1%-wiiu, 4.1%-ps3, 1.7%-другие платформы\n"
   ]
  },
  {
   "cell_type": "code",
   "execution_count": 89,
   "metadata": {},
   "outputs": [
    {
     "data": {
      "text/html": [
       "<div>\n",
       "<style scoped>\n",
       "    .dataframe tbody tr th:only-of-type {\n",
       "        vertical-align: middle;\n",
       "    }\n",
       "\n",
       "    .dataframe tbody tr th {\n",
       "        vertical-align: top;\n",
       "    }\n",
       "\n",
       "    .dataframe thead th {\n",
       "        text-align: right;\n",
       "    }\n",
       "</style>\n",
       "<table border=\"1\" class=\"dataframe\">\n",
       "  <thead>\n",
       "    <tr style=\"text-align: right;\">\n",
       "      <th></th>\n",
       "      <th>genre</th>\n",
       "      <th>na_sales</th>\n",
       "    </tr>\n",
       "  </thead>\n",
       "  <tbody>\n",
       "    <tr>\n",
       "      <th>0</th>\n",
       "      <td>shooter</td>\n",
       "      <td>58.01</td>\n",
       "    </tr>\n",
       "    <tr>\n",
       "      <th>1</th>\n",
       "      <td>action</td>\n",
       "      <td>57.56</td>\n",
       "    </tr>\n",
       "    <tr>\n",
       "      <th>2</th>\n",
       "      <td>sports</td>\n",
       "      <td>40.72</td>\n",
       "    </tr>\n",
       "    <tr>\n",
       "      <th>3</th>\n",
       "      <td>role-playing</td>\n",
       "      <td>19.26</td>\n",
       "    </tr>\n",
       "    <tr>\n",
       "      <th>4</th>\n",
       "      <td>misc</td>\n",
       "      <td>8.65</td>\n",
       "    </tr>\n",
       "    <tr>\n",
       "      <th>5</th>\n",
       "      <td>other</td>\n",
       "      <td>28.73</td>\n",
       "    </tr>\n",
       "  </tbody>\n",
       "</table>\n",
       "</div>"
      ],
      "text/plain": [
       "          genre  na_sales\n",
       "0       shooter     58.01\n",
       "1        action     57.56\n",
       "2        sports     40.72\n",
       "3  role-playing     19.26\n",
       "4          misc      8.65\n",
       "5         other     28.73"
      ]
     },
     "metadata": {},
     "output_type": "display_data"
    },
    {
     "data": {
      "text/html": [
       "<div>\n",
       "<style scoped>\n",
       "    .dataframe tbody tr th:only-of-type {\n",
       "        vertical-align: middle;\n",
       "    }\n",
       "\n",
       "    .dataframe tbody tr th {\n",
       "        vertical-align: top;\n",
       "    }\n",
       "\n",
       "    .dataframe thead th {\n",
       "        text-align: right;\n",
       "    }\n",
       "</style>\n",
       "<table border=\"1\" class=\"dataframe\">\n",
       "  <thead>\n",
       "    <tr style=\"text-align: right;\">\n",
       "      <th></th>\n",
       "      <th>genre</th>\n",
       "      <th>eu_sales</th>\n",
       "    </tr>\n",
       "  </thead>\n",
       "  <tbody>\n",
       "    <tr>\n",
       "      <th>0</th>\n",
       "      <td>action</td>\n",
       "      <td>59.11</td>\n",
       "    </tr>\n",
       "    <tr>\n",
       "      <th>1</th>\n",
       "      <td>shooter</td>\n",
       "      <td>46.29</td>\n",
       "    </tr>\n",
       "    <tr>\n",
       "      <th>2</th>\n",
       "      <td>sports</td>\n",
       "      <td>38.17</td>\n",
       "    </tr>\n",
       "    <tr>\n",
       "      <th>3</th>\n",
       "      <td>role-playing</td>\n",
       "      <td>17.24</td>\n",
       "    </tr>\n",
       "    <tr>\n",
       "      <th>4</th>\n",
       "      <td>racing</td>\n",
       "      <td>11.60</td>\n",
       "    </tr>\n",
       "    <tr>\n",
       "      <th>5</th>\n",
       "      <td>other</td>\n",
       "      <td>29.13</td>\n",
       "    </tr>\n",
       "  </tbody>\n",
       "</table>\n",
       "</div>"
      ],
      "text/plain": [
       "          genre  eu_sales\n",
       "0        action     59.11\n",
       "1       shooter     46.29\n",
       "2        sports     38.17\n",
       "3  role-playing     17.24\n",
       "4        racing     11.60\n",
       "5         other     29.13"
      ]
     },
     "metadata": {},
     "output_type": "display_data"
    },
    {
     "data": {
      "text/html": [
       "<div>\n",
       "<style scoped>\n",
       "    .dataframe tbody tr th:only-of-type {\n",
       "        vertical-align: middle;\n",
       "    }\n",
       "\n",
       "    .dataframe tbody tr th {\n",
       "        vertical-align: top;\n",
       "    }\n",
       "\n",
       "    .dataframe thead th {\n",
       "        text-align: right;\n",
       "    }\n",
       "</style>\n",
       "<table border=\"1\" class=\"dataframe\">\n",
       "  <thead>\n",
       "    <tr style=\"text-align: right;\">\n",
       "      <th></th>\n",
       "      <th>genre</th>\n",
       "      <th>jp_sales</th>\n",
       "    </tr>\n",
       "  </thead>\n",
       "  <tbody>\n",
       "    <tr>\n",
       "      <th>0</th>\n",
       "      <td>role-playing</td>\n",
       "      <td>11.85</td>\n",
       "    </tr>\n",
       "    <tr>\n",
       "      <th>1</th>\n",
       "      <td>action</td>\n",
       "      <td>11.18</td>\n",
       "    </tr>\n",
       "    <tr>\n",
       "      <th>2</th>\n",
       "      <td>shooter</td>\n",
       "      <td>3.66</td>\n",
       "    </tr>\n",
       "    <tr>\n",
       "      <th>3</th>\n",
       "      <td>misc</td>\n",
       "      <td>3.35</td>\n",
       "    </tr>\n",
       "    <tr>\n",
       "      <th>4</th>\n",
       "      <td>platform</td>\n",
       "      <td>2.57</td>\n",
       "    </tr>\n",
       "    <tr>\n",
       "      <th>5</th>\n",
       "      <td>other</td>\n",
       "      <td>10.15</td>\n",
       "    </tr>\n",
       "  </tbody>\n",
       "</table>\n",
       "</div>"
      ],
      "text/plain": [
       "          genre  jp_sales\n",
       "0  role-playing     11.85\n",
       "1        action     11.18\n",
       "2       shooter      3.66\n",
       "3          misc      3.35\n",
       "4      platform      2.57\n",
       "5         other     10.15"
      ]
     },
     "metadata": {},
     "output_type": "display_data"
    }
   ],
   "source": [
    "#Определим для пользователя каждого региона (NA, EU, JP):самые популярные жанры (топ-5)\n",
    "na_genre = new_data.groupby('genre').agg({'na_sales': 'sum'}).sort_values(by='na_sales', ascending=False)\n",
    "na_genre.reset_index(inplace=True)\n",
    "na_genre_other = na_genre[:5]\n",
    "na_genre_other = na_genre_other.append({'genre':'other', 'na_sales': na_genre['na_sales']\n",
    "                           .sum() - na_genre['na_sales'][:5].sum()}, ignore_index = True)\n",
    "\n",
    "eu_genre = new_data.groupby('genre').agg({'eu_sales': 'sum'}).sort_values(by='eu_sales', ascending=False)\n",
    "eu_genre.reset_index(inplace=True)\n",
    "eu_genre_other = eu_genre[:5]\n",
    "eu_genre_other = eu_genre_other.append({'genre':'other', 'eu_sales': eu_genre['eu_sales']\n",
    "                           .sum() - eu_genre['eu_sales'][:5].sum()}, ignore_index = True)\n",
    "\n",
    "jp_genre = new_data.groupby('genre').agg({'jp_sales': 'sum'}).sort_values(by='jp_sales', ascending=False)\n",
    "jp_genre.reset_index(inplace=True)\n",
    "jp_genre_other = jp_genre[:5]\n",
    "jp_genre_other = jp_genre_other.append({'genre':'other', 'jp_sales': jp_genre['jp_sales']\n",
    "                           .sum() - jp_genre['jp_sales'][:5].sum()}, ignore_index = True)\n",
    "\n",
    "display(na_genre_other)\n",
    "display(eu_genre_other)\n",
    "display(jp_genre_other)"
   ]
  },
  {
   "cell_type": "code",
   "execution_count": 82,
   "metadata": {},
   "outputs": [
    {
     "data": {
      "image/png": "[encoded data removed]",
      "text/plain": [
       "<Figure size 1440x468 with 3 Axes>"
      ]
     },
     "metadata": {},
     "output_type": "display_data"
    }
   ],
   "source": [
    "fig, (ax1, ax2, ax3) = plt.subplots(1, 3, figsize=(20, 6.5))\n",
    "\n",
    "ax1.pie(na_genre_other['na_sales'], labels=na_genre_other['genre'], autopct='%1.1f%%')\n",
    "ax1.set_title('Жанры игр в Северной Америке', fontsize=14)\n",
    "\n",
    "ax2.pie(eu_genre_other['eu_sales'], labels=eu_genre_other['genre'], autopct='%1.1f%%')\n",
    "ax2.set_title('Жанры игр в Европе', fontsize=14)\n",
    "\n",
    "ax3.pie(jp_genre_other['jp_sales'], labels=jp_genre_other['genre'], autopct='%1.1f%%')\n",
    "ax3.set_title('Жанры игр в Японии', fontsize=14)\n",
    "\n",
    "fig.suptitle('Обзор рынка жанров(портрет покупателя)', fontsize=16)\n",
    "plt.show()"
   ]
  },
  {
   "cell_type": "markdown",
   "metadata": {},
   "source": [
    "В Северной Америке в топ-5 жанров входят самый популярныйshooter-(27.2%), action(27.0%), sports(19.1%), role-playing(9.0%), misc(4.1%), другие жанры-13.5%           \n",
    "В Европе в топ-5 жанров состоят из Action(29.3%), Shooter(23.0%), sports(18.9%), role-playing(8.6%), racing(5.8%), другие жанры-14.5%   \n",
    "В Японии в топе-5 жанров , role-playing(27.7%),action(26.1%) misc(7.8%), shooter(8.6%), platform(6.0%), другие жанры-23.7%\n"
   ]
  },
  {
   "cell_type": "code",
   "execution_count": 84,
   "metadata": {},
   "outputs": [
    {
     "data": {
      "text/html": [
       "<div>\n",
       "<style scoped>\n",
       "    .dataframe tbody tr th:only-of-type {\n",
       "        vertical-align: middle;\n",
       "    }\n",
       "\n",
       "    .dataframe tbody tr th {\n",
       "        vertical-align: top;\n",
       "    }\n",
       "\n",
       "    .dataframe thead th {\n",
       "        text-align: right;\n",
       "    }\n",
       "</style>\n",
       "<table border=\"1\" class=\"dataframe\">\n",
       "  <thead>\n",
       "    <tr style=\"text-align: right;\">\n",
       "      <th></th>\n",
       "      <th>genre</th>\n",
       "      <th>na_sales</th>\n",
       "    </tr>\n",
       "  </thead>\n",
       "  <tbody>\n",
       "    <tr>\n",
       "      <th>0</th>\n",
       "      <td>shooter</td>\n",
       "      <td>58.01</td>\n",
       "    </tr>\n",
       "    <tr>\n",
       "      <th>1</th>\n",
       "      <td>action</td>\n",
       "      <td>57.56</td>\n",
       "    </tr>\n",
       "    <tr>\n",
       "      <th>2</th>\n",
       "      <td>sports</td>\n",
       "      <td>40.72</td>\n",
       "    </tr>\n",
       "    <tr>\n",
       "      <th>3</th>\n",
       "      <td>role-playing</td>\n",
       "      <td>19.26</td>\n",
       "    </tr>\n",
       "    <tr>\n",
       "      <th>4</th>\n",
       "      <td>misc</td>\n",
       "      <td>8.65</td>\n",
       "    </tr>\n",
       "    <tr>\n",
       "      <th>5</th>\n",
       "      <td>fighting</td>\n",
       "      <td>8.40</td>\n",
       "    </tr>\n",
       "    <tr>\n",
       "      <th>6</th>\n",
       "      <td>racing</td>\n",
       "      <td>7.75</td>\n",
       "    </tr>\n",
       "    <tr>\n",
       "      <th>7</th>\n",
       "      <td>platform</td>\n",
       "      <td>5.90</td>\n",
       "    </tr>\n",
       "    <tr>\n",
       "      <th>8</th>\n",
       "      <td>adventure</td>\n",
       "      <td>3.20</td>\n",
       "    </tr>\n",
       "    <tr>\n",
       "      <th>9</th>\n",
       "      <td>simulation</td>\n",
       "      <td>2.13</td>\n",
       "    </tr>\n",
       "    <tr>\n",
       "      <th>10</th>\n",
       "      <td>strategy</td>\n",
       "      <td>0.82</td>\n",
       "    </tr>\n",
       "    <tr>\n",
       "      <th>11</th>\n",
       "      <td>puzzle</td>\n",
       "      <td>0.53</td>\n",
       "    </tr>\n",
       "  </tbody>\n",
       "</table>\n",
       "</div>"
      ],
      "text/plain": [
       "           genre  na_sales\n",
       "0        shooter     58.01\n",
       "1         action     57.56\n",
       "2         sports     40.72\n",
       "3   role-playing     19.26\n",
       "4           misc      8.65\n",
       "5       fighting      8.40\n",
       "6         racing      7.75\n",
       "7       platform      5.90\n",
       "8      adventure      3.20\n",
       "9     simulation      2.13\n",
       "10      strategy      0.82\n",
       "11        puzzle      0.53"
      ]
     },
     "metadata": {},
     "output_type": "display_data"
    },
    {
     "data": {
      "text/html": [
       "<div>\n",
       "<style scoped>\n",
       "    .dataframe tbody tr th:only-of-type {\n",
       "        vertical-align: middle;\n",
       "    }\n",
       "\n",
       "    .dataframe tbody tr th {\n",
       "        vertical-align: top;\n",
       "    }\n",
       "\n",
       "    .dataframe thead th {\n",
       "        text-align: right;\n",
       "    }\n",
       "</style>\n",
       "<table border=\"1\" class=\"dataframe\">\n",
       "  <thead>\n",
       "    <tr style=\"text-align: right;\">\n",
       "      <th></th>\n",
       "      <th>genre</th>\n",
       "      <th>eu_sales</th>\n",
       "    </tr>\n",
       "  </thead>\n",
       "  <tbody>\n",
       "    <tr>\n",
       "      <th>0</th>\n",
       "      <td>action</td>\n",
       "      <td>59.11</td>\n",
       "    </tr>\n",
       "    <tr>\n",
       "      <th>1</th>\n",
       "      <td>shooter</td>\n",
       "      <td>46.29</td>\n",
       "    </tr>\n",
       "    <tr>\n",
       "      <th>2</th>\n",
       "      <td>sports</td>\n",
       "      <td>38.17</td>\n",
       "    </tr>\n",
       "    <tr>\n",
       "      <th>3</th>\n",
       "      <td>role-playing</td>\n",
       "      <td>17.24</td>\n",
       "    </tr>\n",
       "    <tr>\n",
       "      <th>4</th>\n",
       "      <td>racing</td>\n",
       "      <td>11.60</td>\n",
       "    </tr>\n",
       "    <tr>\n",
       "      <th>5</th>\n",
       "      <td>simulation</td>\n",
       "      <td>6.71</td>\n",
       "    </tr>\n",
       "    <tr>\n",
       "      <th>6</th>\n",
       "      <td>misc</td>\n",
       "      <td>6.22</td>\n",
       "    </tr>\n",
       "    <tr>\n",
       "      <th>7</th>\n",
       "      <td>platform</td>\n",
       "      <td>5.53</td>\n",
       "    </tr>\n",
       "    <tr>\n",
       "      <th>8</th>\n",
       "      <td>fighting</td>\n",
       "      <td>4.79</td>\n",
       "    </tr>\n",
       "    <tr>\n",
       "      <th>9</th>\n",
       "      <td>adventure</td>\n",
       "      <td>3.73</td>\n",
       "    </tr>\n",
       "    <tr>\n",
       "      <th>10</th>\n",
       "      <td>strategy</td>\n",
       "      <td>1.74</td>\n",
       "    </tr>\n",
       "    <tr>\n",
       "      <th>11</th>\n",
       "      <td>puzzle</td>\n",
       "      <td>0.41</td>\n",
       "    </tr>\n",
       "  </tbody>\n",
       "</table>\n",
       "</div>"
      ],
      "text/plain": [
       "           genre  eu_sales\n",
       "0         action     59.11\n",
       "1        shooter     46.29\n",
       "2         sports     38.17\n",
       "3   role-playing     17.24\n",
       "4         racing     11.60\n",
       "5     simulation      6.71\n",
       "6           misc      6.22\n",
       "7       platform      5.53\n",
       "8       fighting      4.79\n",
       "9      adventure      3.73\n",
       "10      strategy      1.74\n",
       "11        puzzle      0.41"
      ]
     },
     "metadata": {},
     "output_type": "display_data"
    },
    {
     "data": {
      "text/html": [
       "<div>\n",
       "<style scoped>\n",
       "    .dataframe tbody tr th:only-of-type {\n",
       "        vertical-align: middle;\n",
       "    }\n",
       "\n",
       "    .dataframe tbody tr th {\n",
       "        vertical-align: top;\n",
       "    }\n",
       "\n",
       "    .dataframe thead th {\n",
       "        text-align: right;\n",
       "    }\n",
       "</style>\n",
       "<table border=\"1\" class=\"dataframe\">\n",
       "  <thead>\n",
       "    <tr style=\"text-align: right;\">\n",
       "      <th></th>\n",
       "      <th>genre</th>\n",
       "      <th>jp_sales</th>\n",
       "    </tr>\n",
       "  </thead>\n",
       "  <tbody>\n",
       "    <tr>\n",
       "      <th>0</th>\n",
       "      <td>role-playing</td>\n",
       "      <td>11.85</td>\n",
       "    </tr>\n",
       "    <tr>\n",
       "      <th>1</th>\n",
       "      <td>action</td>\n",
       "      <td>11.18</td>\n",
       "    </tr>\n",
       "    <tr>\n",
       "      <th>2</th>\n",
       "      <td>shooter</td>\n",
       "      <td>3.66</td>\n",
       "    </tr>\n",
       "    <tr>\n",
       "      <th>3</th>\n",
       "      <td>misc</td>\n",
       "      <td>3.35</td>\n",
       "    </tr>\n",
       "    <tr>\n",
       "      <th>4</th>\n",
       "      <td>platform</td>\n",
       "      <td>2.57</td>\n",
       "    </tr>\n",
       "    <tr>\n",
       "      <th>5</th>\n",
       "      <td>fighting</td>\n",
       "      <td>2.51</td>\n",
       "    </tr>\n",
       "    <tr>\n",
       "      <th>6</th>\n",
       "      <td>adventure</td>\n",
       "      <td>2.03</td>\n",
       "    </tr>\n",
       "    <tr>\n",
       "      <th>7</th>\n",
       "      <td>simulation</td>\n",
       "      <td>1.87</td>\n",
       "    </tr>\n",
       "    <tr>\n",
       "      <th>8</th>\n",
       "      <td>sports</td>\n",
       "      <td>1.62</td>\n",
       "    </tr>\n",
       "    <tr>\n",
       "      <th>9</th>\n",
       "      <td>racing</td>\n",
       "      <td>1.58</td>\n",
       "    </tr>\n",
       "    <tr>\n",
       "      <th>10</th>\n",
       "      <td>puzzle</td>\n",
       "      <td>0.33</td>\n",
       "    </tr>\n",
       "    <tr>\n",
       "      <th>11</th>\n",
       "      <td>strategy</td>\n",
       "      <td>0.21</td>\n",
       "    </tr>\n",
       "  </tbody>\n",
       "</table>\n",
       "</div>"
      ],
      "text/plain": [
       "           genre  jp_sales\n",
       "0   role-playing     11.85\n",
       "1         action     11.18\n",
       "2        shooter      3.66\n",
       "3           misc      3.35\n",
       "4       platform      2.57\n",
       "5       fighting      2.51\n",
       "6      adventure      2.03\n",
       "7     simulation      1.87\n",
       "8         sports      1.62\n",
       "9         racing      1.58\n",
       "10        puzzle      0.33\n",
       "11      strategy      0.21"
      ]
     },
     "metadata": {},
     "output_type": "display_data"
    }
   ],
   "source": [
    " #посмотрим влияет ли рейтинг ESRB на продажи в отдельном регионе\n",
    "na_rating= pd.pivot_table(new_data, index='rating', values='na_sales',\n",
    "                         aggfunc='sum').sort_values('na_sales', ascending=False)\n",
    "display(na_genre)\n",
    "eu_rating= pd.pivot_table(new_data, index='rating', values='eu_sales'\n",
    "                         ,aggfunc='sum').sort_values('eu_sales', ascending=False)\n",
    "display(eu_genre)\n",
    "jp_rating= pd.pivot_table(new_data, index='rating', values='jp_sales'\n",
    "                         ,aggfunc='sum').sort_values('jp_sales', ascending=False)\n",
    "display(jp_genre)"
   ]
  },
  {
   "cell_type": "code",
   "execution_count": 85,
   "metadata": {},
   "outputs": [
    {
     "data": {
      "image/png": "[encoded data removed]",
      "text/plain": [
       "<Figure size 1440x468 with 3 Axes>"
      ]
     },
     "metadata": {},
     "output_type": "display_data"
    }
   ],
   "source": [
    "fig, (ax1, ax2, ax3) = plt.subplots(1, 3, figsize=(20, 6.5))\n",
    "\n",
    "ax1.pie(na_rating['na_sales'], labels=na_rating.index, autopct='%1.1f%%')\n",
    "ax1.set_title('Рейтинг ESRB в Северной Америке', fontsize=14)\n",
    "\n",
    "ax2.pie(eu_rating['eu_sales'], labels=eu_rating.index, autopct='%1.1f%%')\n",
    "ax2.set_title('Рейтинг ESRB в Европе', fontsize=14)\n",
    "\n",
    "ax3.pie(jp_rating['jp_sales'], labels=jp_rating.index, autopct='%1.1f%%')\n",
    "ax3.set_title('Рейтинг ESRB в Японии', fontsize=14)\n",
    "\n",
    "fig.suptitle('Обзор рынка жанров(портрет покупателя)', fontsize=16)\n",
    "plt.show()"
   ]
  },
  {
   "cell_type": "markdown",
   "metadata": {},
   "source": [
    "В Северной Америке бОльшим спросом пользуются игры группы М-\"для взрослых\"(158млн продаж), часто покупают игры групп Е-\"для всех\"(73 млн), менее остальных пользователей привлекают игры не имеющие рейтинга(20.8 млн).        \n",
    "В Европе так же предпочтение отдается играм \"для взрослых\"(138 млн), и игрым \"для всех\"(75 млн продаж), меньше всего внимания к играм без рейтинга(16.3млн)     \n",
    "В Японии бОльшая часть купленных игр не имеет рейтинга(17.6млн(ввиду того, что в Японии есть своя организация CERO, которая классифицирует видеоигры по возрастным ограничениям для потребителей , как и ESRB, но рейтинги не всегда совпадают, так же рынок видеоигр в Японии имеет свои особенности и требования, которые могут не соответствовать западным стандартам), популярностью пользуются игры \"для подростков\", самые малопродающиеся игры \"для всех от 10 лет и старше\".\n"
   ]
  },
  {
   "cell_type": "markdown",
   "metadata": {},
   "source": [
    "## Проверка гипотез"
   ]
  },
  {
   "cell_type": "code",
   "execution_count": 86,
   "metadata": {},
   "outputs": [
    {
     "data": {
      "image/png": "[encoded data removed]",
      "text/plain": [
       "<Figure size 432x288 with 1 Axes>"
      ]
     },
     "metadata": {
      "needs_background": "light"
     },
     "output_type": "display_data"
    },
    {
     "data": {
      "image/png": "[encoded data removed]",
      "text/plain": [
       "<Figure size 432x288 with 1 Axes>"
      ]
     },
     "metadata": {
      "needs_background": "light"
     },
     "output_type": "display_data"
    },
    {
     "data": {
      "image/png": "[encoded data removed]",
      "text/plain": [
       "<Figure size 432x288 with 1 Axes>"
      ]
     },
     "metadata": {
      "needs_background": "light"
     },
     "output_type": "display_data"
    },
    {
     "data": {
      "image/png": "[encoded data removed]",
      "text/plain": [
       "<Figure size 432x288 with 1 Axes>"
      ]
     },
     "metadata": {
      "needs_background": "light"
     },
     "output_type": "display_data"
    }
   ],
   "source": [
    "#проверим 2 гипотезы:\n",
    "#1.Средние пользовательские рейтинги платформ Xbox One и PC одинаковые;\n",
    "#2.Средние пользовательские рейтинги жанров Action и Sports разные.\n",
    "#проверим распределение для этих групп\n",
    "data[data['platform']=='xone']['user_score'].hist(range=(0,10))\n",
    "plt.title('распределение пользовательского рейтинга для платформы XOne')\n",
    "plt.show()\n",
    "data[(data['platform'] == 'pc') & (data['user_score'] > 0)]['user_score'].hist(range=(0,10))\n",
    "plt.title('распределение пользовательского рейтинга для платформы PC')\n",
    "plt.show()\n",
    "data[data['genre']=='action']['user_score'].hist(range=(0,10))\n",
    "plt.title('распределение пользовательского рейтинга для жанра Action')\n",
    "plt.show()\n",
    "data[data['genre']=='sports']['user_score'].hist(range=(0,10))\n",
    "plt.title('распределение пользовательского рейтинга для жанра Sports')\n",
    "plt.show()\n",
    "#мы можем использовать t-тест Стьюдента для независимых выборок"
   ]
  },
  {
   "cell_type": "markdown",
   "metadata": {},
   "source": [
    "#гипотезы1                      \n",
    "H0-средние пользовательские рейтинги для платформ XOne и PC равны                  \n",
    "H1-средние пользовательсике рейтинги для платформ XOne и PC различаются                    "
   ]
  },
  {
   "cell_type": "code",
   "execution_count": 87,
   "metadata": {
    "scrolled": true
   },
   "outputs": [
    {
     "name": "stdout",
     "output_type": "stream",
     "text": [
      "p-значение: 0.14759594013430463\n",
      "Не получилось отвергнуть нулевую гипотезу\n",
      "Средний пользовательский рейтинг для платформы XOne равен: 6.521428571428572\n",
      "Средний пользовательский рейтинг для платформы PC равен: 6.2696774193548395\n"
     ]
    }
   ],
   "source": [
    "xone_score = data[(data['platform'] == 'xone') & (data['user_score'] > 0)]['user_score']\n",
    "pc_score = data[(data['platform'] == 'pc') & (data['user_score'] > 0)&(data['year_of_release']>=2013)]['user_score']\n",
    "results = st.ttest_ind(xone_score, pc_score, equal_var=False)\n",
    "alpha = 0.05 #уровень значимости\n",
    "print('p-значение:', results.pvalue)\n",
    "if results.pvalue < alpha:\n",
    "    print('Отвергаем нулевую гипотезу')\n",
    "else:\n",
    "    print(\"Не получилось отвергнуть нулевую гипотезу\")\n",
    "print('Средний пользовательский рейтинг для платформы XOne равен:', xone_score.mean())    \n",
    "print('Средний пользовательский рейтинг для платформы PC равен:', pc_score.mean())     "
   ]
  },
  {
   "cell_type": "markdown",
   "metadata": {},
   "source": [
    "#гипотезы2                                  \n",
    "H0-средние пользовательские рейтинги жанров Action и Sports равны            \n",
    "H1-средние пользовательские рейтинги жанров Action и Sports НЕ равны"
   ]
  },
  {
   "cell_type": "code",
   "execution_count": 88,
   "metadata": {
    "scrolled": true
   },
   "outputs": [
    {
     "name": "stdout",
     "output_type": "stream",
     "text": [
      "p-значение: 0.12024530426190531\n",
      "Не получилось отвергнуть нулевую гипотезу\n",
      "Средний пользовательский рейтинг для жанра Action равен: 7.054043715846995\n",
      "Средний пользовательский рейтинг для жанра Sports равен: 6.962522686025407\n"
     ]
    }
   ],
   "source": [
    "action_score = data[(data['genre'] == 'action') & (data['user_score'] > 0)]['user_score']\n",
    "sports_score = data[(data['genre'] == 'sports') & (data['user_score'] > 0)]['user_score']\n",
    "results = st.ttest_ind(action_score, sports_score, equal_var=False)\n",
    "alpha = 0.05 #уровень значимости\n",
    "print('p-значение:', results.pvalue)\n",
    "if results.pvalue < alpha:\n",
    "    print('Отвергаем нулевую гипотезу')\n",
    "else:\n",
    "    print('Не получилось отвергнуть нулевую гипотезу')\n",
    "print('Средний пользовательский рейтинг для жанра Action равен:', action_score.mean())    \n",
    "print('Средний пользовательский рейтинг для жанра Sports равен:', sports_score.mean())           \n",
    "        \n",
    "          "
   ]
  },
  {
   "cell_type": "markdown",
   "metadata": {},
   "source": [
    "## Общий вывод"
   ]
  },
  {
   "cell_type": "markdown",
   "metadata": {},
   "source": [
    "\n",
    "Исследование продаж компьютерных игр в интернет-магазине «Стримчик».       \n",
    "Необходимо выявить определяющие успешность игры закономерности, нам доступны данные до 2016 года: исторические данные о продажах игр, оценки пользователей и экспертов, жанры и платформы (например, Xbox или PlayStation).Нужно отработать принцип работы с данными. Это позволит сделать ставку на потенциально популярный продукт и спланировать рекламные кампании.\n",
    "**1.Общие данные о данных.**          \n",
    "В датафрейме нам представлены 16715 строк и 11 столбцов, хранящие информацию о названии игр,платформах, годах выпуска, жанре игр, продажах в Северной Америке, Европе, Японии, продажах в других странах, оценках критиков, оценках пользователей, рейтингах от организации ESRB.        \n",
    "**2.Предобработка данных.**\n",
    "В предобработке данных названия столбцов, содержимое категориальных колонок приведены к нижнему регистру, изменены типы данных в столбцах «оценка пользователей».\n",
    "Обработаны пропущенные значения-в столбцах citrus_score, user_score пропущенные значения заменены на несуществующую оценку(-1), а в столбце с рейтингом ESRB пропуски заменены на 'no_rating',в столбцах name и genre удаляем пропущенные значения, т.к. записи не помогут решить главную задачу проекта.\n",
    "Проверили датасет на наличие простых дубликатов, удалив строку неполных дубликатов.          \n",
    "**3.Исследовательский анализ данных.**          \n",
    "Данные ,начиная с 1980 года, с 1995 количество выпусков игр за год начало расти, в 2002 году произошел первый скачек(почти в 2 раза) увеличилось количество игр, а максимальной популярностью игры пользовались в 2008-2009 годах, поэтому и выпусков за год было много(1426-1427 млн). Начиная с 2010 года количество выпусков в год начало снижаться , скорее всего из-за снижения интереса к играм у пользователей.         \n",
    "Платформой, с наибольшими продажами, можно назвать -PS2(около 1255 млн продаж), так же пользуются популярностью игры на платформах X360, PS3, Wii. Меньше всего продаж у игр на платформе TG16, 3D0, GG, PCFX. В среднем популярная платформа живет 10 лет, после- внимание переходит на более новые платформы.\n",
    "-Для того чтобы выявить определяющие успешность игры закономерности, нужно выбрать актуальный период, мы выбираем период начиная с 2014 года, тк компьютерные игры-динамичноменяющаяся индустрия, нам не стоит брать слишком большой период времени.                        \n",
    "-По продажам лидируют платформы ps4, ps3, xone, 3ds. Ввиду того, что данные за 2016 год не полные-рассмотрим рост/падение продаж в 2014-2015 году: видим тенденцию к снижению продаж ежегодно почти в 1.5 и более раз у всех платформ, кроме ps4 и xone-можем сделать предположение, что именно эти платформы отстанутся перспективными в 2017 году, так же выгодной платформой можно счесть 3ds, тк хоть продажи и снижаются, но их объем составляет свыше 15млн копий-это значит, что есть возможность заработать на этой платформе.          \n",
    "-Влияние на продажи имеют больше отзывы критиков, чем отзывы пользователей\n",
    "\n",
    "-у платформы ps4 бОльшее количество игр, принесших максимум выручки (до 13 млн копий)             \n",
    "-у платформы xone самые стабильные продажи    \n",
    "-самым стабильным жанром является shooter(медиана 0.5)                  \n",
    "-наибольшее число успешно продающихся игр у жанра action- этот жанр способен принести максимальную выручку компании.\n",
    "\n",
    "-В Северной Америке в топ-5 жанров входят самый популярныйshooter-(27.2%), action(27.0%), sports(19.1%), role-playing(9.0%), misc(4.1%), другие жанры-13.5%         \n",
    "-В Европе в топ-5 жанров состоят из Action(29.3%), Shooter(23.0%), sports(18.9%), role-playing(8.6%), racing(5.8%), другие жанры-14.5%           \n",
    "-В Японии в топе-5 жанров , role-playing(27.7%),action(26.1%) misc(7.8%), shooter(8.6%), platform(6.0%), другие жанры-23.7%          \n",
    "          \n",
    "\n",
    "  -Проверим влияет ли рейтинг ESRB на продажи в отдельном регионе                    \n",
    "       В Северной Америке бОльшим спросом пользуются игры группы М-\"для взрослых\"(158млн продаж), часто покупают игры групп Е-\"для всех\"(73 млн), менее остальных пользователей привлекают игры не имеющие рейтинга(20.8 млн).\n",
    "В Европе так же предпочтение отдается играм \"для взрослых\"(138 млн), и игрым \"для всех\"(75 млн продаж), меньше всего внимания к играм без рейтинга(16.3млн)        \n",
    "В Японии бОльшая часть купленных игр не имеет рейтинга(17.6млн(ввиду того, что в Японии есть своя организация CERO, которая классифицирует видеоигры по возрастным ограничениям для потребителей , как и ESRB, но рейтинги не всегда совпадают, так же рынок видеоигр в Японии имеет свои особенности и требования, которые могут не соответствовать западным стандартам), популярностью пользуются игры \"для подростков\", самые малопродающиеся игры \"для всех от 10 лет и старше\".                   \n",
    "\n",
    "Полученное значение p-value говорит о том, что хотя средний чек пришедших из разных каналов и неодинаков, с вероятностью в почти 19% такое или большее различие можно получить случайно. Это явно слишком большая вероятность, чтобы делать вывод о значимом различии между средними чеками.\n",
    "  -проверим 2 гипотезы(будем использовать t-тест Стьюдента для независимых выборок):       \n",
    "1))Средние пользовательские рейтинги платформ Xbox One и PC одинаковые;         \n",
    "Результат:         \n",
    "p-значение: 0.14\n",
    "Не получилось отвергнуть нулевую гипотезу: средние пользовательские рейтинги платформ XOne и PC одинаковые\n",
    "Средний пользовательский рейтинг для платформы XOne равен: 6.5\n",
    "Средний пользовательский рейтинг для платформы PC равен: 6.2        \n",
    "2))Средние пользовательские рейтинги жанров Action и Sports разные.          \n",
    "Результат          \n",
    "p-значение: 0.12\n",
    "Не получилось отвергнуть нулевую гипотезу: средние пользовательские рейтинги жанров Action и Sports одинаковые\n",
    "Средний пользовательский рейтинг для жанра Action равен: 7.0\n",
    "Средний пользовательский рейтинг для жанра Sports равен: 6.9        "
   ]
  },
  {
   "cell_type": "code",
   "execution_count": null,
   "metadata": {},
   "outputs": [],
   "source": []
  }
 ],
 "metadata": {
  "ExecuteTimeLog": [
   {
    "duration": 1340,
    "start_time": "2023-06-05T14:51:44.566Z"
   },
   {
    "duration": 165,
    "start_time": "2023-06-05T14:55:34.415Z"
   },
   {
    "duration": 3,
    "start_time": "2023-06-05T16:13:27.629Z"
   },
   {
    "duration": 133,
    "start_time": "2023-06-05T16:36:49.178Z"
   },
   {
    "duration": 5,
    "start_time": "2023-06-05T16:37:13.025Z"
   },
   {
    "duration": 19,
    "start_time": "2023-06-05T17:38:58.502Z"
   },
   {
    "duration": 4,
    "start_time": "2023-06-05T17:39:43.306Z"
   },
   {
    "duration": 16,
    "start_time": "2023-06-05T17:45:07.429Z"
   },
   {
    "duration": 3,
    "start_time": "2023-06-05T18:30:18.356Z"
   },
   {
    "duration": 21,
    "start_time": "2023-06-05T18:31:24.277Z"
   },
   {
    "duration": 5,
    "start_time": "2023-06-05T18:33:00.667Z"
   },
   {
    "duration": 106,
    "start_time": "2023-06-05T18:33:05.610Z"
   },
   {
    "duration": 26,
    "start_time": "2023-06-05T18:33:45.655Z"
   },
   {
    "duration": 15,
    "start_time": "2023-06-05T18:33:54.335Z"
   },
   {
    "duration": 1107,
    "start_time": "2023-06-05T18:34:13.065Z"
   },
   {
    "duration": 107,
    "start_time": "2023-06-05T18:34:14.175Z"
   },
   {
    "duration": 17,
    "start_time": "2023-06-05T18:34:14.284Z"
   },
   {
    "duration": 19,
    "start_time": "2023-06-05T18:34:14.303Z"
   },
   {
    "duration": 26,
    "start_time": "2023-06-05T18:34:14.326Z"
   },
   {
    "duration": 156,
    "start_time": "2023-06-05T18:52:11.397Z"
   },
   {
    "duration": 19,
    "start_time": "2023-06-05T19:02:02.677Z"
   },
   {
    "duration": 22,
    "start_time": "2023-06-05T19:03:23.415Z"
   },
   {
    "duration": 13,
    "start_time": "2023-06-05T19:03:30.765Z"
   },
   {
    "duration": 16,
    "start_time": "2023-06-05T19:09:10.727Z"
   },
   {
    "duration": 14,
    "start_time": "2023-06-05T19:23:31.018Z"
   },
   {
    "duration": 14,
    "start_time": "2023-06-05T19:26:48.126Z"
   },
   {
    "duration": 49,
    "start_time": "2023-06-05T19:39:33.494Z"
   },
   {
    "duration": 13,
    "start_time": "2023-06-05T19:40:12.421Z"
   },
   {
    "duration": 6,
    "start_time": "2023-06-05T19:40:33.245Z"
   },
   {
    "duration": 46,
    "start_time": "2023-06-05T19:41:51.405Z"
   },
   {
    "duration": 57,
    "start_time": "2023-06-05T19:43:37.212Z"
   },
   {
    "duration": 54,
    "start_time": "2023-06-05T19:44:39.884Z"
   },
   {
    "duration": 1350,
    "start_time": "2023-06-06T04:50:05.644Z"
   },
   {
    "duration": 151,
    "start_time": "2023-06-06T04:50:06.996Z"
   },
   {
    "duration": 47,
    "start_time": "2023-06-06T04:50:07.150Z"
   },
   {
    "duration": 6,
    "start_time": "2023-06-06T04:50:07.200Z"
   },
   {
    "duration": 21,
    "start_time": "2023-06-06T04:50:07.225Z"
   },
   {
    "duration": 30,
    "start_time": "2023-06-06T04:50:07.247Z"
   },
   {
    "duration": 124,
    "start_time": "2023-06-06T04:50:07.278Z"
   },
   {
    "duration": 20,
    "start_time": "2023-06-06T05:57:52.246Z"
   },
   {
    "duration": 31,
    "start_time": "2023-06-06T05:58:09.054Z"
   },
   {
    "duration": 7,
    "start_time": "2023-06-06T05:58:29.593Z"
   },
   {
    "duration": 5,
    "start_time": "2023-06-06T05:58:45.075Z"
   },
   {
    "duration": 27,
    "start_time": "2023-06-06T05:58:54.586Z"
   },
   {
    "duration": 4,
    "start_time": "2023-06-06T07:07:39.037Z"
   },
   {
    "duration": 14,
    "start_time": "2023-06-06T07:07:42.903Z"
   },
   {
    "duration": 103,
    "start_time": "2023-06-06T07:07:56.187Z"
   },
   {
    "duration": 101,
    "start_time": "2023-06-06T07:08:04.437Z"
   },
   {
    "duration": 19,
    "start_time": "2023-06-06T07:08:15.149Z"
   },
   {
    "duration": 1152,
    "start_time": "2023-06-06T07:23:35.617Z"
   },
   {
    "duration": 127,
    "start_time": "2023-06-06T07:23:36.771Z"
   },
   {
    "duration": 25,
    "start_time": "2023-06-06T07:23:36.900Z"
   },
   {
    "duration": 14,
    "start_time": "2023-06-06T07:23:36.926Z"
   },
   {
    "duration": 9,
    "start_time": "2023-06-06T07:23:36.942Z"
   },
   {
    "duration": 4,
    "start_time": "2023-06-06T07:23:36.953Z"
   },
   {
    "duration": 21,
    "start_time": "2023-06-06T07:24:00.163Z"
   },
   {
    "duration": 101,
    "start_time": "2023-06-06T07:27:00.698Z"
   },
   {
    "duration": 7,
    "start_time": "2023-06-06T07:27:12.575Z"
   },
   {
    "duration": 20,
    "start_time": "2023-06-06T07:27:16.411Z"
   },
   {
    "duration": 9,
    "start_time": "2023-06-06T07:27:26.032Z"
   },
   {
    "duration": 1162,
    "start_time": "2023-06-06T07:40:23.710Z"
   },
   {
    "duration": 110,
    "start_time": "2023-06-06T07:40:24.874Z"
   },
   {
    "duration": 23,
    "start_time": "2023-06-06T07:40:24.985Z"
   },
   {
    "duration": 19,
    "start_time": "2023-06-06T07:40:25.024Z"
   },
   {
    "duration": 32,
    "start_time": "2023-06-06T07:40:25.044Z"
   },
   {
    "duration": 34,
    "start_time": "2023-06-06T07:40:25.078Z"
   },
   {
    "duration": 17,
    "start_time": "2023-06-06T07:44:22.642Z"
   },
   {
    "duration": 22,
    "start_time": "2023-06-06T07:44:29.321Z"
   },
   {
    "duration": 98,
    "start_time": "2023-06-06T07:49:32.358Z"
   },
   {
    "duration": 5,
    "start_time": "2023-06-06T07:49:41.529Z"
   },
   {
    "duration": 16,
    "start_time": "2023-06-06T07:52:17.053Z"
   },
   {
    "duration": 1125,
    "start_time": "2023-06-06T07:52:43.009Z"
   },
   {
    "duration": 118,
    "start_time": "2023-06-06T07:52:44.136Z"
   },
   {
    "duration": 22,
    "start_time": "2023-06-06T07:52:44.256Z"
   },
   {
    "duration": 125,
    "start_time": "2023-06-06T07:52:44.280Z"
   },
   {
    "duration": 0,
    "start_time": "2023-06-06T07:52:44.407Z"
   },
   {
    "duration": 0,
    "start_time": "2023-06-06T07:52:44.408Z"
   },
   {
    "duration": 0,
    "start_time": "2023-06-06T07:52:44.409Z"
   },
   {
    "duration": 0,
    "start_time": "2023-06-06T07:52:44.410Z"
   },
   {
    "duration": 7,
    "start_time": "2023-06-06T07:53:45.130Z"
   },
   {
    "duration": 16,
    "start_time": "2023-06-06T07:54:32.607Z"
   },
   {
    "duration": 6,
    "start_time": "2023-06-06T07:54:56.551Z"
   },
   {
    "duration": 10,
    "start_time": "2023-06-06T07:55:08.513Z"
   },
   {
    "duration": 8,
    "start_time": "2023-06-06T07:55:09.270Z"
   },
   {
    "duration": 6,
    "start_time": "2023-06-06T07:55:09.721Z"
   },
   {
    "duration": 8,
    "start_time": "2023-06-06T07:55:10.561Z"
   },
   {
    "duration": 315,
    "start_time": "2023-06-06T08:09:01.730Z"
   },
   {
    "duration": 333,
    "start_time": "2023-06-06T08:09:39.115Z"
   },
   {
    "duration": 255,
    "start_time": "2023-06-06T08:12:52.185Z"
   },
   {
    "duration": 262,
    "start_time": "2023-06-06T08:15:09.334Z"
   },
   {
    "duration": 1422,
    "start_time": "2023-06-06T08:15:21.269Z"
   },
   {
    "duration": 318,
    "start_time": "2023-06-06T08:15:36.136Z"
   },
   {
    "duration": 162,
    "start_time": "2023-06-06T08:15:48.177Z"
   },
   {
    "duration": 209,
    "start_time": "2023-06-06T08:16:23.029Z"
   },
   {
    "duration": 283,
    "start_time": "2023-06-06T08:17:01.926Z"
   },
   {
    "duration": 279,
    "start_time": "2023-06-06T08:27:35.318Z"
   },
   {
    "duration": 1460,
    "start_time": "2023-06-06T08:49:10.707Z"
   },
   {
    "duration": 9,
    "start_time": "2023-06-06T08:50:45.228Z"
   },
   {
    "duration": 227,
    "start_time": "2023-06-06T09:27:06.866Z"
   },
   {
    "duration": 25,
    "start_time": "2023-06-06T09:29:12.717Z"
   },
   {
    "duration": 67585,
    "start_time": "2023-06-06T09:30:31.948Z"
   },
   {
    "duration": 295,
    "start_time": "2023-06-06T09:31:46.146Z"
   },
   {
    "duration": 11,
    "start_time": "2023-06-06T09:32:30.339Z"
   },
   {
    "duration": 297,
    "start_time": "2023-06-06T09:32:44.165Z"
   },
   {
    "duration": 15,
    "start_time": "2023-06-06T09:53:01.219Z"
   },
   {
    "duration": 13,
    "start_time": "2023-06-06T11:07:44.894Z"
   },
   {
    "duration": 147,
    "start_time": "2023-06-06T11:15:19.342Z"
   },
   {
    "duration": 240,
    "start_time": "2023-06-06T11:18:28.055Z"
   },
   {
    "duration": 5308,
    "start_time": "2023-06-06T11:18:37.196Z"
   },
   {
    "duration": 3825,
    "start_time": "2023-06-06T11:19:33.605Z"
   },
   {
    "duration": 12,
    "start_time": "2023-06-06T11:19:55.978Z"
   },
   {
    "duration": 2992,
    "start_time": "2023-06-06T11:23:45.710Z"
   },
   {
    "duration": 4681,
    "start_time": "2023-06-06T11:24:13.064Z"
   },
   {
    "duration": 5799,
    "start_time": "2023-06-06T11:24:27.915Z"
   },
   {
    "duration": 173,
    "start_time": "2023-06-06T11:27:16.926Z"
   },
   {
    "duration": 259,
    "start_time": "2023-06-06T11:28:41.255Z"
   },
   {
    "duration": 711,
    "start_time": "2023-06-06T11:28:55.128Z"
   },
   {
    "duration": 379,
    "start_time": "2023-06-06T11:29:07.045Z"
   },
   {
    "duration": 209,
    "start_time": "2023-06-06T11:29:27.234Z"
   },
   {
    "duration": 13,
    "start_time": "2023-06-06T11:40:14.687Z"
   },
   {
    "duration": 27,
    "start_time": "2023-06-06T11:40:24.921Z"
   },
   {
    "duration": 16,
    "start_time": "2023-06-06T11:40:43.656Z"
   },
   {
    "duration": 24,
    "start_time": "2023-06-06T11:42:06.155Z"
   },
   {
    "duration": 21,
    "start_time": "2023-06-06T11:43:17.398Z"
   },
   {
    "duration": 905,
    "start_time": "2023-06-06T11:45:44.727Z"
   },
   {
    "duration": 106,
    "start_time": "2023-06-06T11:46:18.807Z"
   },
   {
    "duration": 1395,
    "start_time": "2023-06-06T11:46:26.844Z"
   },
   {
    "duration": 779,
    "start_time": "2023-06-06T11:47:11.382Z"
   },
   {
    "duration": 906,
    "start_time": "2023-06-06T11:54:12.781Z"
   },
   {
    "duration": 24,
    "start_time": "2023-06-06T13:07:47.520Z"
   },
   {
    "duration": 5,
    "start_time": "2023-06-06T13:08:21.407Z"
   },
   {
    "duration": 6,
    "start_time": "2023-06-06T13:09:09.330Z"
   },
   {
    "duration": 268,
    "start_time": "2023-06-06T13:12:57.337Z"
   },
   {
    "duration": 182,
    "start_time": "2023-06-06T13:13:32.454Z"
   },
   {
    "duration": 768,
    "start_time": "2023-06-06T13:40:49.392Z"
   },
   {
    "duration": 76,
    "start_time": "2023-06-06T15:26:17.720Z"
   },
   {
    "duration": 6,
    "start_time": "2023-06-06T15:26:35.160Z"
   },
   {
    "duration": 16,
    "start_time": "2023-06-06T15:28:02.880Z"
   },
   {
    "duration": 14,
    "start_time": "2023-06-06T15:29:26.321Z"
   },
   {
    "duration": 203,
    "start_time": "2023-06-06T15:31:36.463Z"
   },
   {
    "duration": 176,
    "start_time": "2023-06-06T15:31:58.360Z"
   },
   {
    "duration": 18,
    "start_time": "2023-06-06T15:36:35.690Z"
   },
   {
    "duration": 202,
    "start_time": "2023-06-06T15:37:01.956Z"
   },
   {
    "duration": 174,
    "start_time": "2023-06-06T15:37:49.365Z"
   },
   {
    "duration": 183,
    "start_time": "2023-06-06T15:39:36.248Z"
   },
   {
    "duration": 142,
    "start_time": "2023-06-06T15:42:27.591Z"
   },
   {
    "duration": 144,
    "start_time": "2023-06-06T15:43:15.740Z"
   },
   {
    "duration": 278,
    "start_time": "2023-06-06T15:45:02.351Z"
   },
   {
    "duration": 111,
    "start_time": "2023-06-06T15:45:16.479Z"
   },
   {
    "duration": 251,
    "start_time": "2023-06-06T15:45:27.780Z"
   },
   {
    "duration": 464,
    "start_time": "2023-06-06T15:47:35.651Z"
   },
   {
    "duration": 403,
    "start_time": "2023-06-06T15:59:38.961Z"
   },
   {
    "duration": 428,
    "start_time": "2023-06-06T16:06:55.751Z"
   },
   {
    "duration": 223,
    "start_time": "2023-06-06T16:07:49.544Z"
   },
   {
    "duration": 545,
    "start_time": "2023-06-06T16:12:27.832Z"
   },
   {
    "duration": 11,
    "start_time": "2023-06-06T16:50:36.724Z"
   },
   {
    "duration": 127,
    "start_time": "2023-06-06T16:50:48.985Z"
   },
   {
    "duration": 124,
    "start_time": "2023-06-06T16:50:57.355Z"
   },
   {
    "duration": 155,
    "start_time": "2023-06-06T17:00:34.993Z"
   },
   {
    "duration": 116,
    "start_time": "2023-06-06T17:02:06.954Z"
   },
   {
    "duration": 353,
    "start_time": "2023-06-06T17:03:51.726Z"
   },
   {
    "duration": 151,
    "start_time": "2023-06-06T17:03:59.234Z"
   },
   {
    "duration": 130,
    "start_time": "2023-06-06T17:08:02.174Z"
   },
   {
    "duration": 10,
    "start_time": "2023-06-06T17:30:19.922Z"
   },
   {
    "duration": 263,
    "start_time": "2023-06-06T17:30:49.764Z"
   },
   {
    "duration": 289,
    "start_time": "2023-06-06T17:31:40.417Z"
   },
   {
    "duration": 311,
    "start_time": "2023-06-06T17:31:48.494Z"
   },
   {
    "duration": 312,
    "start_time": "2023-06-06T17:31:55.894Z"
   },
   {
    "duration": 10,
    "start_time": "2023-06-06T17:47:16.780Z"
   },
   {
    "duration": 9,
    "start_time": "2023-06-06T17:47:30.646Z"
   },
   {
    "duration": 11,
    "start_time": "2023-06-06T17:56:08.988Z"
   },
   {
    "duration": 10,
    "start_time": "2023-06-06T17:57:12.413Z"
   },
   {
    "duration": 285,
    "start_time": "2023-06-06T18:00:48.398Z"
   },
   {
    "duration": 275,
    "start_time": "2023-06-06T18:01:02.680Z"
   },
   {
    "duration": 115,
    "start_time": "2023-06-06T18:03:52.130Z"
   },
   {
    "duration": 9,
    "start_time": "2023-06-06T18:07:23.383Z"
   },
   {
    "duration": 11,
    "start_time": "2023-06-06T18:07:34.996Z"
   },
   {
    "duration": 131,
    "start_time": "2023-06-06T18:14:18.480Z"
   },
   {
    "duration": 127,
    "start_time": "2023-06-06T18:15:42.807Z"
   },
   {
    "duration": 309,
    "start_time": "2023-06-06T18:16:43.810Z"
   },
   {
    "duration": 295,
    "start_time": "2023-06-06T18:22:50.520Z"
   },
   {
    "duration": 248,
    "start_time": "2023-06-06T18:27:40.152Z"
   },
   {
    "duration": 288,
    "start_time": "2023-06-06T18:30:15.520Z"
   },
   {
    "duration": 236,
    "start_time": "2023-06-06T18:36:14.220Z"
   },
   {
    "duration": 256,
    "start_time": "2023-06-06T18:36:31.220Z"
   },
   {
    "duration": 261,
    "start_time": "2023-06-06T18:36:54.630Z"
   },
   {
    "duration": 250,
    "start_time": "2023-06-06T18:37:03.750Z"
   },
   {
    "duration": 292,
    "start_time": "2023-06-06T18:37:10.886Z"
   },
   {
    "duration": 174,
    "start_time": "2023-06-06T18:42:58.625Z"
   },
   {
    "duration": 401,
    "start_time": "2023-06-06T18:44:01.082Z"
   },
   {
    "duration": 429,
    "start_time": "2023-06-06T18:44:12.853Z"
   },
   {
    "duration": 9,
    "start_time": "2023-06-06T18:45:27.539Z"
   },
   {
    "duration": 8,
    "start_time": "2023-06-06T18:45:43.147Z"
   },
   {
    "duration": 98,
    "start_time": "2023-06-06T18:46:12.650Z"
   },
   {
    "duration": 22,
    "start_time": "2023-06-06T18:51:19.299Z"
   },
   {
    "duration": 24,
    "start_time": "2023-06-06T18:52:06.251Z"
   },
   {
    "duration": 16,
    "start_time": "2023-06-06T18:53:11.880Z"
   },
   {
    "duration": 300,
    "start_time": "2023-06-06T18:55:27.784Z"
   },
   {
    "duration": 187,
    "start_time": "2023-06-06T18:55:47.990Z"
   },
   {
    "duration": 76,
    "start_time": "2023-06-06T18:58:23.989Z"
   },
   {
    "duration": 166,
    "start_time": "2023-06-06T18:58:34.981Z"
   },
   {
    "duration": 258,
    "start_time": "2023-06-06T18:59:18.416Z"
   },
   {
    "duration": 270,
    "start_time": "2023-06-06T18:59:46.727Z"
   },
   {
    "duration": 262,
    "start_time": "2023-06-06T19:00:17.307Z"
   },
   {
    "duration": 274,
    "start_time": "2023-06-06T19:00:29.683Z"
   },
   {
    "duration": 287,
    "start_time": "2023-06-06T19:01:25.085Z"
   },
   {
    "duration": 278,
    "start_time": "2023-06-06T19:01:46.782Z"
   },
   {
    "duration": 121,
    "start_time": "2023-06-06T19:07:52.096Z"
   },
   {
    "duration": 138,
    "start_time": "2023-06-06T19:09:43.149Z"
   },
   {
    "duration": 74,
    "start_time": "2023-06-06T19:10:14.324Z"
   },
   {
    "duration": 167,
    "start_time": "2023-06-06T19:10:20.645Z"
   },
   {
    "duration": 171,
    "start_time": "2023-06-06T19:10:36.619Z"
   },
   {
    "duration": 174,
    "start_time": "2023-06-06T19:10:48.580Z"
   },
   {
    "duration": 11,
    "start_time": "2023-06-06T20:06:30.946Z"
   },
   {
    "duration": 12,
    "start_time": "2023-06-06T20:07:04.311Z"
   },
   {
    "duration": 9,
    "start_time": "2023-06-06T20:07:51.182Z"
   },
   {
    "duration": 6,
    "start_time": "2023-06-06T20:08:24.282Z"
   },
   {
    "duration": 9,
    "start_time": "2023-06-06T20:11:06.593Z"
   },
   {
    "duration": 11,
    "start_time": "2023-06-06T20:11:36.434Z"
   },
   {
    "duration": 15,
    "start_time": "2023-06-06T20:12:11.190Z"
   },
   {
    "duration": 273,
    "start_time": "2023-06-06T20:14:48.021Z"
   },
   {
    "duration": 49,
    "start_time": "2023-06-06T20:39:07.640Z"
   },
   {
    "duration": 1142,
    "start_time": "2023-06-06T20:39:19.221Z"
   },
   {
    "duration": 140,
    "start_time": "2023-06-06T20:39:20.365Z"
   },
   {
    "duration": 18,
    "start_time": "2023-06-06T20:39:20.506Z"
   },
   {
    "duration": 26,
    "start_time": "2023-06-06T20:39:20.526Z"
   },
   {
    "duration": 23,
    "start_time": "2023-06-06T20:39:20.554Z"
   },
   {
    "duration": 19,
    "start_time": "2023-06-06T20:39:20.578Z"
   },
   {
    "duration": 11,
    "start_time": "2023-06-06T20:39:20.598Z"
   },
   {
    "duration": 261,
    "start_time": "2023-06-06T20:39:20.611Z"
   },
   {
    "duration": 276,
    "start_time": "2023-06-06T20:39:20.873Z"
   },
   {
    "duration": 792,
    "start_time": "2023-06-06T20:39:21.150Z"
   },
   {
    "duration": 82,
    "start_time": "2023-06-06T20:39:21.943Z"
   },
   {
    "duration": 0,
    "start_time": "2023-06-06T20:39:22.027Z"
   },
   {
    "duration": 0,
    "start_time": "2023-06-06T20:39:22.028Z"
   },
   {
    "duration": 0,
    "start_time": "2023-06-06T20:39:22.029Z"
   },
   {
    "duration": 0,
    "start_time": "2023-06-06T20:39:22.030Z"
   },
   {
    "duration": 0,
    "start_time": "2023-06-06T20:39:22.031Z"
   },
   {
    "duration": 0,
    "start_time": "2023-06-06T20:39:22.032Z"
   },
   {
    "duration": 0,
    "start_time": "2023-06-06T20:39:22.032Z"
   },
   {
    "duration": 0,
    "start_time": "2023-06-06T20:39:22.033Z"
   },
   {
    "duration": 0,
    "start_time": "2023-06-06T20:39:22.034Z"
   },
   {
    "duration": 0,
    "start_time": "2023-06-06T20:39:22.035Z"
   },
   {
    "duration": 20,
    "start_time": "2023-06-06T20:39:59.774Z"
   },
   {
    "duration": 165,
    "start_time": "2023-06-06T20:40:01.097Z"
   },
   {
    "duration": 682,
    "start_time": "2023-06-06T20:40:01.600Z"
   },
   {
    "duration": 439,
    "start_time": "2023-06-06T20:40:03.410Z"
   },
   {
    "duration": 237,
    "start_time": "2023-06-06T20:40:04.790Z"
   },
   {
    "duration": 245,
    "start_time": "2023-06-06T20:40:06.209Z"
   },
   {
    "duration": 267,
    "start_time": "2023-06-06T20:40:13.038Z"
   },
   {
    "duration": 283,
    "start_time": "2023-06-06T20:40:14.874Z"
   },
   {
    "duration": 169,
    "start_time": "2023-06-06T20:40:16.285Z"
   },
   {
    "duration": 2208,
    "start_time": "2023-06-06T20:40:17.611Z"
   },
   {
    "duration": 15,
    "start_time": "2023-06-06T20:40:48.074Z"
   },
   {
    "duration": 17,
    "start_time": "2023-06-06T20:41:27.919Z"
   },
   {
    "duration": 16,
    "start_time": "2023-06-06T20:41:52.894Z"
   },
   {
    "duration": 16,
    "start_time": "2023-06-06T20:42:06.506Z"
   },
   {
    "duration": 19,
    "start_time": "2023-06-06T20:43:38.885Z"
   },
   {
    "duration": 12,
    "start_time": "2023-06-06T20:46:57.582Z"
   },
   {
    "duration": 17,
    "start_time": "2023-06-06T20:47:14.906Z"
   },
   {
    "duration": 15,
    "start_time": "2023-06-06T20:49:31.988Z"
   },
   {
    "duration": 33,
    "start_time": "2023-06-06T20:51:25.290Z"
   },
   {
    "duration": 40,
    "start_time": "2023-06-06T20:51:42.260Z"
   },
   {
    "duration": 44,
    "start_time": "2023-06-06T20:52:56.806Z"
   },
   {
    "duration": 1261,
    "start_time": "2023-06-06T21:04:44.304Z"
   },
   {
    "duration": 23,
    "start_time": "2023-06-06T21:05:53.990Z"
   },
   {
    "duration": 21,
    "start_time": "2023-06-06T21:06:35.236Z"
   },
   {
    "duration": 28,
    "start_time": "2023-06-06T21:06:54.810Z"
   },
   {
    "duration": 39,
    "start_time": "2023-06-06T21:07:15.893Z"
   },
   {
    "duration": 43,
    "start_time": "2023-06-06T21:11:06.760Z"
   },
   {
    "duration": 30,
    "start_time": "2023-06-06T21:24:33.367Z"
   },
   {
    "duration": 1445,
    "start_time": "2023-06-07T15:15:25.904Z"
   },
   {
    "duration": 160,
    "start_time": "2023-06-07T15:15:27.351Z"
   },
   {
    "duration": 22,
    "start_time": "2023-06-07T15:15:27.513Z"
   },
   {
    "duration": 7,
    "start_time": "2023-06-07T15:15:27.537Z"
   },
   {
    "duration": 10,
    "start_time": "2023-06-07T15:15:27.546Z"
   },
   {
    "duration": 31,
    "start_time": "2023-06-07T15:15:27.557Z"
   },
   {
    "duration": 19,
    "start_time": "2023-06-07T15:15:27.591Z"
   },
   {
    "duration": 323,
    "start_time": "2023-06-07T15:15:27.612Z"
   },
   {
    "duration": 308,
    "start_time": "2023-06-07T15:15:27.936Z"
   },
   {
    "duration": 923,
    "start_time": "2023-06-07T15:15:28.246Z"
   },
   {
    "duration": 24,
    "start_time": "2023-06-07T15:15:29.176Z"
   },
   {
    "duration": 197,
    "start_time": "2023-06-07T15:15:29.202Z"
   },
   {
    "duration": 880,
    "start_time": "2023-06-07T15:15:29.404Z"
   },
   {
    "duration": 493,
    "start_time": "2023-06-07T15:15:30.288Z"
   },
   {
    "duration": 281,
    "start_time": "2023-06-07T15:15:30.783Z"
   },
   {
    "duration": 285,
    "start_time": "2023-06-07T15:15:31.066Z"
   },
   {
    "duration": 333,
    "start_time": "2023-06-07T15:15:31.353Z"
   },
   {
    "duration": 355,
    "start_time": "2023-06-07T15:15:31.689Z"
   },
   {
    "duration": 225,
    "start_time": "2023-06-07T15:15:32.046Z"
   },
   {
    "duration": 40,
    "start_time": "2023-06-07T15:15:32.277Z"
   },
   {
    "duration": 142,
    "start_time": "2023-06-07T15:15:32.319Z"
   },
   {
    "duration": 33,
    "start_time": "2023-06-07T15:15:32.462Z"
   },
   {
    "duration": 1519,
    "start_time": "2023-06-07T18:07:32.561Z"
   },
   {
    "duration": 162,
    "start_time": "2023-06-07T18:07:34.082Z"
   },
   {
    "duration": 20,
    "start_time": "2023-06-07T18:07:34.246Z"
   },
   {
    "duration": 21,
    "start_time": "2023-06-07T18:07:34.268Z"
   },
   {
    "duration": 9,
    "start_time": "2023-06-07T18:07:34.290Z"
   },
   {
    "duration": 12,
    "start_time": "2023-06-07T18:07:34.300Z"
   },
   {
    "duration": 12,
    "start_time": "2023-06-07T18:07:34.313Z"
   },
   {
    "duration": 284,
    "start_time": "2023-06-07T18:07:34.327Z"
   },
   {
    "duration": 279,
    "start_time": "2023-06-07T18:07:34.613Z"
   },
   {
    "duration": 931,
    "start_time": "2023-06-07T18:07:34.894Z"
   },
   {
    "duration": 24,
    "start_time": "2023-06-07T18:07:35.827Z"
   },
   {
    "duration": 192,
    "start_time": "2023-06-07T18:07:35.853Z"
   },
   {
    "duration": 765,
    "start_time": "2023-06-07T18:07:36.046Z"
   },
   {
    "duration": 515,
    "start_time": "2023-06-07T18:07:36.813Z"
   },
   {
    "duration": 259,
    "start_time": "2023-06-07T18:07:37.330Z"
   },
   {
    "duration": 300,
    "start_time": "2023-06-07T18:07:37.591Z"
   },
   {
    "duration": 316,
    "start_time": "2023-06-07T18:07:37.893Z"
   },
   {
    "duration": 298,
    "start_time": "2023-06-07T18:07:38.211Z"
   },
   {
    "duration": 203,
    "start_time": "2023-06-07T18:07:38.511Z"
   },
   {
    "duration": 41,
    "start_time": "2023-06-07T18:07:38.716Z"
   },
   {
    "duration": 40,
    "start_time": "2023-06-07T18:07:38.776Z"
   },
   {
    "duration": 64,
    "start_time": "2023-06-07T18:07:38.818Z"
   },
   {
    "duration": 692,
    "start_time": "2023-06-07T18:12:32.502Z"
   },
   {
    "duration": 104,
    "start_time": "2023-06-07T18:19:43.369Z"
   },
   {
    "duration": 10,
    "start_time": "2023-06-07T18:20:31.879Z"
   },
   {
    "duration": 10,
    "start_time": "2023-06-07T18:20:55.100Z"
   },
   {
    "duration": 9,
    "start_time": "2023-06-07T18:23:22.678Z"
   },
   {
    "duration": 123,
    "start_time": "2023-06-07T18:23:46.827Z"
   },
   {
    "duration": 166,
    "start_time": "2023-06-07T18:24:58.950Z"
   },
   {
    "duration": 143,
    "start_time": "2023-06-07T18:26:49.142Z"
   },
   {
    "duration": 263,
    "start_time": "2023-06-07T18:27:44.632Z"
   },
   {
    "duration": 660,
    "start_time": "2023-06-07T18:28:54.331Z"
   },
   {
    "duration": 92,
    "start_time": "2023-06-07T18:37:55.948Z"
   },
   {
    "duration": 548,
    "start_time": "2023-06-07T18:38:14.651Z"
   },
   {
    "duration": 521,
    "start_time": "2023-06-07T18:38:59.560Z"
   },
   {
    "duration": 596,
    "start_time": "2023-06-07T18:39:18.510Z"
   },
   {
    "duration": 254,
    "start_time": "2023-06-07T18:54:54.309Z"
   },
   {
    "duration": 193,
    "start_time": "2023-06-07T18:55:18.788Z"
   },
   {
    "duration": 25,
    "start_time": "2023-06-07T18:55:49.118Z"
   },
   {
    "duration": 49,
    "start_time": "2023-06-07T18:55:58.530Z"
   },
   {
    "duration": 26,
    "start_time": "2023-06-07T18:58:28.309Z"
   },
   {
    "duration": 33,
    "start_time": "2023-06-07T18:58:56.473Z"
   },
   {
    "duration": 27,
    "start_time": "2023-06-07T18:59:03.697Z"
   },
   {
    "duration": 467,
    "start_time": "2023-06-07T18:59:14.764Z"
   },
   {
    "duration": 39,
    "start_time": "2023-06-07T18:59:44.263Z"
   },
   {
    "duration": 26,
    "start_time": "2023-06-07T19:00:10.030Z"
   },
   {
    "duration": 65,
    "start_time": "2023-06-07T19:00:46.250Z"
   },
   {
    "duration": 31,
    "start_time": "2023-06-07T19:01:09.970Z"
   },
   {
    "duration": 39,
    "start_time": "2023-06-07T19:01:31.540Z"
   },
   {
    "duration": 76,
    "start_time": "2023-06-07T19:14:37.729Z"
   },
   {
    "duration": 8,
    "start_time": "2023-06-07T19:14:43.392Z"
   },
   {
    "duration": 561,
    "start_time": "2023-06-07T19:15:25.898Z"
   },
   {
    "duration": 91,
    "start_time": "2023-06-07T19:19:38.740Z"
   },
   {
    "duration": 15,
    "start_time": "2023-06-07T19:19:46.350Z"
   },
   {
    "duration": 17,
    "start_time": "2023-06-07T19:24:12.293Z"
   },
   {
    "duration": 11,
    "start_time": "2023-06-07T19:24:39.818Z"
   },
   {
    "duration": 95,
    "start_time": "2023-06-07T19:34:19.744Z"
   },
   {
    "duration": 16,
    "start_time": "2023-06-07T19:34:31.687Z"
   },
   {
    "duration": 10,
    "start_time": "2023-06-07T19:35:38.785Z"
   },
   {
    "duration": 12,
    "start_time": "2023-06-07T19:35:51.593Z"
   },
   {
    "duration": 11,
    "start_time": "2023-06-07T19:36:43.217Z"
   },
   {
    "duration": 11,
    "start_time": "2023-06-07T19:37:26.016Z"
   },
   {
    "duration": 14,
    "start_time": "2023-06-07T19:40:19.304Z"
   },
   {
    "duration": 11,
    "start_time": "2023-06-07T19:45:27.420Z"
   },
   {
    "duration": 269,
    "start_time": "2023-06-07T19:57:03.447Z"
   },
   {
    "duration": 290,
    "start_time": "2023-06-07T19:57:49.291Z"
   },
   {
    "duration": 312,
    "start_time": "2023-06-07T19:58:26.129Z"
   },
   {
    "duration": 1955,
    "start_time": "2023-06-08T06:51:00.374Z"
   },
   {
    "duration": 204,
    "start_time": "2023-06-08T06:51:02.330Z"
   },
   {
    "duration": 84,
    "start_time": "2023-06-08T06:51:02.537Z"
   },
   {
    "duration": 25,
    "start_time": "2023-06-08T06:51:02.622Z"
   },
   {
    "duration": 28,
    "start_time": "2023-06-08T06:51:02.649Z"
   },
   {
    "duration": 22,
    "start_time": "2023-06-08T06:51:02.717Z"
   },
   {
    "duration": 18,
    "start_time": "2023-06-08T06:51:02.741Z"
   },
   {
    "duration": 465,
    "start_time": "2023-06-08T06:51:02.761Z"
   },
   {
    "duration": 490,
    "start_time": "2023-06-08T06:51:03.228Z"
   },
   {
    "duration": 2007,
    "start_time": "2023-06-08T06:51:03.720Z"
   },
   {
    "duration": 31,
    "start_time": "2023-06-08T06:51:05.729Z"
   },
   {
    "duration": 394,
    "start_time": "2023-06-08T06:51:05.762Z"
   },
   {
    "duration": 1393,
    "start_time": "2023-06-08T06:51:06.159Z"
   },
   {
    "duration": 999,
    "start_time": "2023-06-08T06:51:07.554Z"
   },
   {
    "duration": 465,
    "start_time": "2023-06-08T06:51:08.554Z"
   },
   {
    "duration": 504,
    "start_time": "2023-06-08T06:51:09.021Z"
   },
   {
    "duration": 503,
    "start_time": "2023-06-08T06:51:09.526Z"
   },
   {
    "duration": 502,
    "start_time": "2023-06-08T06:51:10.031Z"
   },
   {
    "duration": 326,
    "start_time": "2023-06-08T06:51:10.535Z"
   },
   {
    "duration": 85,
    "start_time": "2023-06-08T06:51:10.863Z"
   },
   {
    "duration": 94,
    "start_time": "2023-06-08T06:51:10.949Z"
   },
   {
    "duration": 87,
    "start_time": "2023-06-08T06:51:11.044Z"
   },
   {
    "duration": 1104,
    "start_time": "2023-06-08T06:51:11.132Z"
   },
   {
    "duration": 11,
    "start_time": "2023-06-08T06:51:12.238Z"
   },
   {
    "duration": 67,
    "start_time": "2023-06-08T06:51:12.251Z"
   },
   {
    "duration": 6,
    "start_time": "2023-06-08T07:33:52.458Z"
   },
   {
    "duration": 10,
    "start_time": "2023-06-08T07:37:47.475Z"
   },
   {
    "duration": 1045,
    "start_time": "2023-06-08T07:39:10.059Z"
   },
   {
    "duration": 95,
    "start_time": "2023-06-08T07:39:11.106Z"
   },
   {
    "duration": 30,
    "start_time": "2023-06-08T07:39:11.202Z"
   },
   {
    "duration": 45,
    "start_time": "2023-06-08T07:39:11.234Z"
   },
   {
    "duration": 13,
    "start_time": "2023-06-08T07:39:11.280Z"
   },
   {
    "duration": 6,
    "start_time": "2023-06-08T07:39:11.295Z"
   },
   {
    "duration": 173,
    "start_time": "2023-06-08T07:39:11.303Z"
   },
   {
    "duration": 7,
    "start_time": "2023-06-08T07:39:11.478Z"
   },
   {
    "duration": 11,
    "start_time": "2023-06-08T07:39:11.486Z"
   },
   {
    "duration": 13,
    "start_time": "2023-06-08T07:39:11.499Z"
   },
   {
    "duration": 233,
    "start_time": "2023-06-08T07:39:11.517Z"
   },
   {
    "duration": 234,
    "start_time": "2023-06-08T07:39:11.752Z"
   },
   {
    "duration": 731,
    "start_time": "2023-06-08T07:39:11.987Z"
   },
   {
    "duration": 19,
    "start_time": "2023-06-08T07:39:12.719Z"
   },
   {
    "duration": 206,
    "start_time": "2023-06-08T07:39:12.739Z"
   },
   {
    "duration": 546,
    "start_time": "2023-06-08T07:39:12.946Z"
   },
   {
    "duration": 420,
    "start_time": "2023-06-08T07:39:13.493Z"
   },
   {
    "duration": 287,
    "start_time": "2023-06-08T07:39:13.914Z"
   },
   {
    "duration": 236,
    "start_time": "2023-06-08T07:39:14.203Z"
   },
   {
    "duration": 324,
    "start_time": "2023-06-08T07:39:14.441Z"
   },
   {
    "duration": 293,
    "start_time": "2023-06-08T07:39:14.767Z"
   },
   {
    "duration": 170,
    "start_time": "2023-06-08T07:39:15.061Z"
   },
   {
    "duration": 98,
    "start_time": "2023-06-08T07:39:15.233Z"
   },
   {
    "duration": 33,
    "start_time": "2023-06-08T07:39:15.332Z"
   },
   {
    "duration": 61,
    "start_time": "2023-06-08T07:39:15.366Z"
   },
   {
    "duration": 494,
    "start_time": "2023-06-08T07:39:15.429Z"
   },
   {
    "duration": 10,
    "start_time": "2023-06-08T07:39:15.924Z"
   },
   {
    "duration": 14,
    "start_time": "2023-06-08T07:39:15.937Z"
   },
   {
    "duration": 1415,
    "start_time": "2023-06-08T14:23:42.021Z"
   },
   {
    "duration": 151,
    "start_time": "2023-06-08T14:23:43.438Z"
   },
   {
    "duration": 35,
    "start_time": "2023-06-08T14:23:43.591Z"
   },
   {
    "duration": 19,
    "start_time": "2023-06-08T14:23:43.629Z"
   },
   {
    "duration": 39,
    "start_time": "2023-06-08T14:23:43.651Z"
   },
   {
    "duration": 55,
    "start_time": "2023-06-08T14:23:43.692Z"
   },
   {
    "duration": 222,
    "start_time": "2023-06-08T14:23:43.748Z"
   },
   {
    "duration": 6,
    "start_time": "2023-06-08T14:23:43.972Z"
   },
   {
    "duration": 11,
    "start_time": "2023-06-08T14:23:43.980Z"
   },
   {
    "duration": 24,
    "start_time": "2023-06-08T14:23:43.994Z"
   },
   {
    "duration": 323,
    "start_time": "2023-06-08T14:23:44.020Z"
   },
   {
    "duration": 262,
    "start_time": "2023-06-08T14:23:44.345Z"
   },
   {
    "duration": 1040,
    "start_time": "2023-06-08T14:23:44.609Z"
   },
   {
    "duration": 22,
    "start_time": "2023-06-08T14:23:45.651Z"
   },
   {
    "duration": 261,
    "start_time": "2023-06-08T14:23:45.675Z"
   },
   {
    "duration": 693,
    "start_time": "2023-06-08T14:23:45.938Z"
   },
   {
    "duration": 505,
    "start_time": "2023-06-08T14:23:46.632Z"
   },
   {
    "duration": 290,
    "start_time": "2023-06-08T14:23:47.139Z"
   },
   {
    "duration": 279,
    "start_time": "2023-06-08T14:23:47.431Z"
   },
   {
    "duration": 319,
    "start_time": "2023-06-08T14:23:47.711Z"
   },
   {
    "duration": 311,
    "start_time": "2023-06-08T14:23:48.032Z"
   },
   {
    "duration": 210,
    "start_time": "2023-06-08T14:23:48.345Z"
   },
   {
    "duration": 123,
    "start_time": "2023-06-08T14:23:48.557Z"
   },
   {
    "duration": 70,
    "start_time": "2023-06-08T14:23:48.682Z"
   },
   {
    "duration": 71,
    "start_time": "2023-06-08T14:23:48.754Z"
   },
   {
    "duration": 606,
    "start_time": "2023-06-08T14:23:48.827Z"
   },
   {
    "duration": 17,
    "start_time": "2023-06-08T14:23:49.436Z"
   },
   {
    "duration": 13,
    "start_time": "2023-06-08T14:23:49.457Z"
   },
   {
    "duration": 3,
    "start_time": "2023-06-08T16:07:18.518Z"
   },
   {
    "duration": 2,
    "start_time": "2023-06-08T16:17:17.861Z"
   },
   {
    "duration": 103,
    "start_time": "2023-06-08T16:36:19.680Z"
   },
   {
    "duration": 11,
    "start_time": "2023-06-08T16:36:33.391Z"
   },
   {
    "duration": 10,
    "start_time": "2023-06-08T16:36:37.812Z"
   },
   {
    "duration": 191,
    "start_time": "2023-06-08T16:39:50.182Z"
   },
   {
    "duration": 20,
    "start_time": "2023-06-08T16:51:22.585Z"
   },
   {
    "duration": 15,
    "start_time": "2023-06-08T16:51:52.908Z"
   },
   {
    "duration": 13,
    "start_time": "2023-06-08T16:54:09.251Z"
   },
   {
    "duration": 87,
    "start_time": "2023-06-08T16:57:54.479Z"
   },
   {
    "duration": 1156,
    "start_time": "2023-06-08T16:59:57.060Z"
   },
   {
    "duration": 9,
    "start_time": "2023-06-08T17:00:07.076Z"
   },
   {
    "duration": 13,
    "start_time": "2023-06-08T17:00:14.076Z"
   },
   {
    "duration": 136,
    "start_time": "2023-06-08T17:00:27.671Z"
   },
   {
    "duration": 1176,
    "start_time": "2023-06-08T17:00:44.790Z"
   },
   {
    "duration": 112,
    "start_time": "2023-06-08T17:00:45.968Z"
   },
   {
    "duration": 19,
    "start_time": "2023-06-08T17:00:46.081Z"
   },
   {
    "duration": 27,
    "start_time": "2023-06-08T17:00:46.101Z"
   },
   {
    "duration": 36,
    "start_time": "2023-06-08T17:00:46.130Z"
   },
   {
    "duration": 18,
    "start_time": "2023-06-08T17:00:46.168Z"
   },
   {
    "duration": 249,
    "start_time": "2023-06-08T17:00:46.188Z"
   },
   {
    "duration": 17,
    "start_time": "2023-06-08T17:00:46.439Z"
   },
   {
    "duration": 6,
    "start_time": "2023-06-08T17:00:46.458Z"
   },
   {
    "duration": 21,
    "start_time": "2023-06-08T17:00:46.466Z"
   },
   {
    "duration": 72,
    "start_time": "2023-06-08T17:00:46.489Z"
   },
   {
    "duration": 112,
    "start_time": "2023-06-08T17:00:46.563Z"
   },
   {
    "duration": 0,
    "start_time": "2023-06-08T17:00:46.678Z"
   },
   {
    "duration": 0,
    "start_time": "2023-06-08T17:00:46.680Z"
   },
   {
    "duration": 0,
    "start_time": "2023-06-08T17:00:46.682Z"
   },
   {
    "duration": 0,
    "start_time": "2023-06-08T17:00:46.684Z"
   },
   {
    "duration": 0,
    "start_time": "2023-06-08T17:00:46.685Z"
   },
   {
    "duration": 0,
    "start_time": "2023-06-08T17:00:46.687Z"
   },
   {
    "duration": 0,
    "start_time": "2023-06-08T17:00:46.689Z"
   },
   {
    "duration": 0,
    "start_time": "2023-06-08T17:00:46.690Z"
   },
   {
    "duration": 0,
    "start_time": "2023-06-08T17:00:46.692Z"
   },
   {
    "duration": 0,
    "start_time": "2023-06-08T17:00:46.693Z"
   },
   {
    "duration": 0,
    "start_time": "2023-06-08T17:00:46.725Z"
   },
   {
    "duration": 0,
    "start_time": "2023-06-08T17:00:46.726Z"
   },
   {
    "duration": 0,
    "start_time": "2023-06-08T17:00:46.728Z"
   },
   {
    "duration": 0,
    "start_time": "2023-06-08T17:00:46.730Z"
   },
   {
    "duration": 0,
    "start_time": "2023-06-08T17:00:46.731Z"
   },
   {
    "duration": 0,
    "start_time": "2023-06-08T17:00:46.733Z"
   },
   {
    "duration": 0,
    "start_time": "2023-06-08T17:00:46.735Z"
   },
   {
    "duration": 0,
    "start_time": "2023-06-08T17:00:46.736Z"
   },
   {
    "duration": 0,
    "start_time": "2023-06-08T17:00:46.738Z"
   },
   {
    "duration": 4,
    "start_time": "2023-06-08T17:01:33.109Z"
   },
   {
    "duration": 105,
    "start_time": "2023-06-08T17:01:34.550Z"
   },
   {
    "duration": 24,
    "start_time": "2023-06-08T17:01:36.657Z"
   },
   {
    "duration": 11,
    "start_time": "2023-06-08T17:01:37.589Z"
   },
   {
    "duration": 18,
    "start_time": "2023-06-08T17:01:40.040Z"
   },
   {
    "duration": 6,
    "start_time": "2023-06-08T17:01:42.081Z"
   },
   {
    "duration": 197,
    "start_time": "2023-06-08T17:01:43.728Z"
   },
   {
    "duration": 12,
    "start_time": "2023-06-08T17:01:50.660Z"
   },
   {
    "duration": 6,
    "start_time": "2023-06-08T17:01:54.191Z"
   },
   {
    "duration": 14,
    "start_time": "2023-06-08T17:01:56.020Z"
   },
   {
    "duration": 6,
    "start_time": "2023-06-08T17:02:12.379Z"
   },
   {
    "duration": 958,
    "start_time": "2023-06-08T17:02:27.429Z"
   },
   {
    "duration": 14,
    "start_time": "2023-06-08T17:03:47.039Z"
   },
   {
    "duration": 3,
    "start_time": "2023-06-08T17:03:54.149Z"
   },
   {
    "duration": 117,
    "start_time": "2023-06-08T17:03:55.659Z"
   },
   {
    "duration": 31,
    "start_time": "2023-06-08T17:03:59.110Z"
   },
   {
    "duration": 8,
    "start_time": "2023-06-08T17:04:00.400Z"
   },
   {
    "duration": 9,
    "start_time": "2023-06-08T17:04:03.642Z"
   },
   {
    "duration": 4,
    "start_time": "2023-06-08T17:04:06.579Z"
   },
   {
    "duration": 187,
    "start_time": "2023-06-08T17:04:07.743Z"
   },
   {
    "duration": 13,
    "start_time": "2023-06-08T17:04:11.348Z"
   },
   {
    "duration": 6,
    "start_time": "2023-06-08T17:04:15.142Z"
   },
   {
    "duration": 14,
    "start_time": "2023-06-08T17:04:19.901Z"
   },
   {
    "duration": 33,
    "start_time": "2023-06-08T17:04:23.952Z"
   },
   {
    "duration": 16,
    "start_time": "2023-06-08T17:05:55.041Z"
   },
   {
    "duration": 26,
    "start_time": "2023-06-08T17:30:30.309Z"
   },
   {
    "duration": 31,
    "start_time": "2023-06-08T17:30:47.910Z"
   },
   {
    "duration": 40,
    "start_time": "2023-06-08T17:37:44.898Z"
   },
   {
    "duration": 27,
    "start_time": "2023-06-08T17:37:52.501Z"
   },
   {
    "duration": 6,
    "start_time": "2023-06-08T17:40:53.110Z"
   },
   {
    "duration": 3,
    "start_time": "2023-06-08T17:41:13.750Z"
   },
   {
    "duration": 110,
    "start_time": "2023-06-08T17:41:15.143Z"
   },
   {
    "duration": 20,
    "start_time": "2023-06-08T17:41:16.891Z"
   },
   {
    "duration": 8,
    "start_time": "2023-06-08T17:41:17.799Z"
   },
   {
    "duration": 8,
    "start_time": "2023-06-08T17:41:20.229Z"
   },
   {
    "duration": 4,
    "start_time": "2023-06-08T17:41:21.929Z"
   },
   {
    "duration": 174,
    "start_time": "2023-06-08T17:41:22.858Z"
   },
   {
    "duration": 10,
    "start_time": "2023-06-08T17:41:25.960Z"
   },
   {
    "duration": 5,
    "start_time": "2023-06-08T17:41:34.198Z"
   },
   {
    "duration": 33,
    "start_time": "2023-06-08T17:41:42.630Z"
   },
   {
    "duration": 8,
    "start_time": "2023-06-08T17:41:44.489Z"
   },
   {
    "duration": 14,
    "start_time": "2023-06-08T17:52:48.880Z"
   },
   {
    "duration": 1237,
    "start_time": "2023-06-08T17:53:01.009Z"
   },
   {
    "duration": 107,
    "start_time": "2023-06-08T17:53:02.248Z"
   },
   {
    "duration": 19,
    "start_time": "2023-06-08T17:53:02.357Z"
   },
   {
    "duration": 28,
    "start_time": "2023-06-08T17:53:02.378Z"
   },
   {
    "duration": 25,
    "start_time": "2023-06-08T17:53:02.408Z"
   },
   {
    "duration": 17,
    "start_time": "2023-06-08T17:53:02.435Z"
   },
   {
    "duration": 196,
    "start_time": "2023-06-08T17:53:02.453Z"
   },
   {
    "duration": 11,
    "start_time": "2023-06-08T17:53:02.651Z"
   },
   {
    "duration": 37,
    "start_time": "2023-06-08T17:53:02.664Z"
   },
   {
    "duration": 60,
    "start_time": "2023-06-08T17:53:02.703Z"
   },
   {
    "duration": 95,
    "start_time": "2023-06-08T17:53:02.765Z"
   },
   {
    "duration": 0,
    "start_time": "2023-06-08T17:53:02.863Z"
   },
   {
    "duration": 0,
    "start_time": "2023-06-08T17:53:02.864Z"
   },
   {
    "duration": 0,
    "start_time": "2023-06-08T17:53:02.866Z"
   },
   {
    "duration": 0,
    "start_time": "2023-06-08T17:53:02.866Z"
   },
   {
    "duration": 0,
    "start_time": "2023-06-08T17:53:02.868Z"
   },
   {
    "duration": 0,
    "start_time": "2023-06-08T17:53:02.869Z"
   },
   {
    "duration": 0,
    "start_time": "2023-06-08T17:53:02.870Z"
   },
   {
    "duration": 0,
    "start_time": "2023-06-08T17:53:02.870Z"
   },
   {
    "duration": 0,
    "start_time": "2023-06-08T17:53:02.871Z"
   },
   {
    "duration": 0,
    "start_time": "2023-06-08T17:53:02.872Z"
   },
   {
    "duration": 0,
    "start_time": "2023-06-08T17:53:02.873Z"
   },
   {
    "duration": 0,
    "start_time": "2023-06-08T17:53:02.874Z"
   },
   {
    "duration": 0,
    "start_time": "2023-06-08T17:53:02.875Z"
   },
   {
    "duration": 0,
    "start_time": "2023-06-08T17:53:02.876Z"
   },
   {
    "duration": 0,
    "start_time": "2023-06-08T17:53:02.877Z"
   },
   {
    "duration": 0,
    "start_time": "2023-06-08T17:53:02.878Z"
   },
   {
    "duration": 0,
    "start_time": "2023-06-08T17:53:02.880Z"
   },
   {
    "duration": 0,
    "start_time": "2023-06-08T17:53:02.881Z"
   },
   {
    "duration": 0,
    "start_time": "2023-06-08T17:53:02.882Z"
   },
   {
    "duration": 0,
    "start_time": "2023-06-08T17:53:02.883Z"
   },
   {
    "duration": 0,
    "start_time": "2023-06-08T17:53:02.884Z"
   },
   {
    "duration": 5,
    "start_time": "2023-06-08T17:55:16.858Z"
   },
   {
    "duration": 10,
    "start_time": "2023-06-08T17:55:39.616Z"
   },
   {
    "duration": 6,
    "start_time": "2023-06-08T17:55:48.538Z"
   },
   {
    "duration": 16,
    "start_time": "2023-06-08T17:56:10.878Z"
   },
   {
    "duration": 23,
    "start_time": "2023-06-08T18:00:02.034Z"
   },
   {
    "duration": 17,
    "start_time": "2023-06-08T18:19:40.349Z"
   },
   {
    "duration": 12,
    "start_time": "2023-06-08T18:25:44.852Z"
   },
   {
    "duration": 100,
    "start_time": "2023-06-08T18:48:35.139Z"
   },
   {
    "duration": 300,
    "start_time": "2023-06-08T18:48:56.478Z"
   },
   {
    "duration": 135,
    "start_time": "2023-06-08T18:52:13.077Z"
   },
   {
    "duration": 313,
    "start_time": "2023-06-08T18:53:04.366Z"
   },
   {
    "duration": 271,
    "start_time": "2023-06-08T18:53:09.479Z"
   },
   {
    "duration": 243,
    "start_time": "2023-06-08T18:53:19.399Z"
   },
   {
    "duration": 39,
    "start_time": "2023-06-08T18:53:46.985Z"
   },
   {
    "duration": 982,
    "start_time": "2023-06-08T18:54:36.151Z"
   },
   {
    "duration": 479,
    "start_time": "2023-06-08T18:56:41.516Z"
   },
   {
    "duration": 324,
    "start_time": "2023-06-08T18:57:51.539Z"
   },
   {
    "duration": 1194,
    "start_time": "2023-06-08T18:58:07.375Z"
   },
   {
    "duration": 128,
    "start_time": "2023-06-08T18:58:08.571Z"
   },
   {
    "duration": 29,
    "start_time": "2023-06-08T18:58:08.701Z"
   },
   {
    "duration": 9,
    "start_time": "2023-06-08T18:58:08.734Z"
   },
   {
    "duration": 22,
    "start_time": "2023-06-08T18:58:08.745Z"
   },
   {
    "duration": 13,
    "start_time": "2023-06-08T18:58:08.769Z"
   },
   {
    "duration": 227,
    "start_time": "2023-06-08T18:58:08.784Z"
   },
   {
    "duration": 23,
    "start_time": "2023-06-08T18:58:09.013Z"
   },
   {
    "duration": 19,
    "start_time": "2023-06-08T18:58:09.037Z"
   },
   {
    "duration": 84,
    "start_time": "2023-06-08T18:58:09.059Z"
   },
   {
    "duration": 21,
    "start_time": "2023-06-08T18:58:09.148Z"
   },
   {
    "duration": 440,
    "start_time": "2023-06-08T18:58:09.172Z"
   },
   {
    "duration": 375,
    "start_time": "2023-06-08T18:58:09.615Z"
   },
   {
    "duration": 1145,
    "start_time": "2023-06-08T18:58:09.992Z"
   },
   {
    "duration": 26,
    "start_time": "2023-06-08T18:58:11.139Z"
   },
   {
    "duration": 299,
    "start_time": "2023-06-08T18:58:11.167Z"
   },
   {
    "duration": 139,
    "start_time": "2023-06-08T18:58:11.467Z"
   },
   {
    "duration": 0,
    "start_time": "2023-06-08T18:58:11.609Z"
   },
   {
    "duration": 0,
    "start_time": "2023-06-08T18:58:11.611Z"
   },
   {
    "duration": 0,
    "start_time": "2023-06-08T18:58:11.624Z"
   },
   {
    "duration": 0,
    "start_time": "2023-06-08T18:58:11.626Z"
   },
   {
    "duration": 0,
    "start_time": "2023-06-08T18:58:11.629Z"
   },
   {
    "duration": 0,
    "start_time": "2023-06-08T18:58:11.631Z"
   },
   {
    "duration": 0,
    "start_time": "2023-06-08T18:58:11.633Z"
   },
   {
    "duration": 0,
    "start_time": "2023-06-08T18:58:11.634Z"
   },
   {
    "duration": 0,
    "start_time": "2023-06-08T18:58:11.637Z"
   },
   {
    "duration": 0,
    "start_time": "2023-06-08T18:58:11.638Z"
   },
   {
    "duration": 0,
    "start_time": "2023-06-08T18:58:11.639Z"
   },
   {
    "duration": 0,
    "start_time": "2023-06-08T18:58:11.641Z"
   },
   {
    "duration": 0,
    "start_time": "2023-06-08T18:58:11.642Z"
   },
   {
    "duration": 8,
    "start_time": "2023-06-08T19:09:02.379Z"
   },
   {
    "duration": 845,
    "start_time": "2023-06-08T19:09:06.268Z"
   },
   {
    "duration": 172,
    "start_time": "2023-06-08T19:12:07.421Z"
   },
   {
    "duration": 718,
    "start_time": "2023-06-08T19:12:39.209Z"
   },
   {
    "duration": 30,
    "start_time": "2023-06-08T19:28:24.701Z"
   },
   {
    "duration": 29,
    "start_time": "2023-06-08T19:34:38.510Z"
   },
   {
    "duration": 76,
    "start_time": "2023-06-08T19:36:17.041Z"
   },
   {
    "duration": 43,
    "start_time": "2023-06-08T22:06:02.849Z"
   },
   {
    "duration": 6,
    "start_time": "2023-06-08T22:06:15.609Z"
   },
   {
    "duration": 1249,
    "start_time": "2023-06-08T22:06:49.790Z"
   },
   {
    "duration": 142,
    "start_time": "2023-06-08T22:06:51.042Z"
   },
   {
    "duration": 20,
    "start_time": "2023-06-08T22:06:51.186Z"
   },
   {
    "duration": 35,
    "start_time": "2023-06-08T22:06:51.208Z"
   },
   {
    "duration": 13,
    "start_time": "2023-06-08T22:06:51.244Z"
   },
   {
    "duration": 4,
    "start_time": "2023-06-08T22:06:51.259Z"
   },
   {
    "duration": 193,
    "start_time": "2023-06-08T22:06:51.264Z"
   },
   {
    "duration": 11,
    "start_time": "2023-06-08T22:06:51.459Z"
   },
   {
    "duration": 15,
    "start_time": "2023-06-08T22:06:51.472Z"
   },
   {
    "duration": 40,
    "start_time": "2023-06-08T22:06:51.489Z"
   },
   {
    "duration": 12,
    "start_time": "2023-06-08T22:06:51.531Z"
   },
   {
    "duration": 280,
    "start_time": "2023-06-08T22:06:51.545Z"
   },
   {
    "duration": 244,
    "start_time": "2023-06-08T22:06:51.827Z"
   },
   {
    "duration": 859,
    "start_time": "2023-06-08T22:06:52.073Z"
   },
   {
    "duration": 8,
    "start_time": "2023-06-08T22:06:52.933Z"
   },
   {
    "duration": 33,
    "start_time": "2023-06-08T22:06:52.942Z"
   },
   {
    "duration": 293,
    "start_time": "2023-06-08T22:06:52.977Z"
   },
   {
    "duration": 485,
    "start_time": "2023-06-08T22:06:53.272Z"
   },
   {
    "duration": 0,
    "start_time": "2023-06-08T22:06:53.759Z"
   },
   {
    "duration": 0,
    "start_time": "2023-06-08T22:06:53.760Z"
   },
   {
    "duration": 0,
    "start_time": "2023-06-08T22:06:53.762Z"
   },
   {
    "duration": 0,
    "start_time": "2023-06-08T22:06:53.763Z"
   },
   {
    "duration": 0,
    "start_time": "2023-06-08T22:06:53.764Z"
   },
   {
    "duration": 0,
    "start_time": "2023-06-08T22:06:53.765Z"
   },
   {
    "duration": 0,
    "start_time": "2023-06-08T22:06:53.766Z"
   },
   {
    "duration": 0,
    "start_time": "2023-06-08T22:06:53.785Z"
   },
   {
    "duration": 0,
    "start_time": "2023-06-08T22:06:53.786Z"
   },
   {
    "duration": 0,
    "start_time": "2023-06-08T22:06:53.786Z"
   },
   {
    "duration": 0,
    "start_time": "2023-06-08T22:06:53.788Z"
   },
   {
    "duration": 0,
    "start_time": "2023-06-08T22:06:53.788Z"
   },
   {
    "duration": 0,
    "start_time": "2023-06-08T22:06:53.789Z"
   },
   {
    "duration": 189,
    "start_time": "2023-06-08T22:08:09.690Z"
   },
   {
    "duration": 120,
    "start_time": "2023-06-08T22:08:34.460Z"
   },
   {
    "duration": 394,
    "start_time": "2023-06-08T22:09:29.021Z"
   },
   {
    "duration": 1353,
    "start_time": "2023-06-09T06:27:50.441Z"
   },
   {
    "duration": 150,
    "start_time": "2023-06-09T06:27:51.796Z"
   },
   {
    "duration": 23,
    "start_time": "2023-06-09T06:27:51.948Z"
   },
   {
    "duration": 11,
    "start_time": "2023-06-09T06:27:51.973Z"
   },
   {
    "duration": 11,
    "start_time": "2023-06-09T06:27:51.987Z"
   },
   {
    "duration": 7,
    "start_time": "2023-06-09T06:27:52.000Z"
   },
   {
    "duration": 196,
    "start_time": "2023-06-09T06:27:52.008Z"
   },
   {
    "duration": 12,
    "start_time": "2023-06-09T06:27:52.205Z"
   },
   {
    "duration": 14,
    "start_time": "2023-06-09T06:27:52.218Z"
   },
   {
    "duration": 43,
    "start_time": "2023-06-09T06:27:52.233Z"
   },
   {
    "duration": 14,
    "start_time": "2023-06-09T06:27:52.278Z"
   },
   {
    "duration": 334,
    "start_time": "2023-06-09T06:27:52.294Z"
   },
   {
    "duration": 274,
    "start_time": "2023-06-09T06:27:52.630Z"
   },
   {
    "duration": 951,
    "start_time": "2023-06-09T06:27:52.908Z"
   },
   {
    "duration": 15,
    "start_time": "2023-06-09T06:27:53.861Z"
   },
   {
    "duration": 65,
    "start_time": "2023-06-09T06:27:53.878Z"
   },
   {
    "duration": 234,
    "start_time": "2023-06-09T06:27:53.945Z"
   },
   {
    "duration": 516,
    "start_time": "2023-06-09T06:27:54.181Z"
   },
   {
    "duration": 330,
    "start_time": "2023-06-09T06:27:54.698Z"
   },
   {
    "duration": 0,
    "start_time": "2023-06-09T06:27:55.030Z"
   },
   {
    "duration": 0,
    "start_time": "2023-06-09T06:27:55.031Z"
   },
   {
    "duration": 0,
    "start_time": "2023-06-09T06:27:55.032Z"
   },
   {
    "duration": 0,
    "start_time": "2023-06-09T06:27:55.033Z"
   },
   {
    "duration": 0,
    "start_time": "2023-06-09T06:27:55.034Z"
   },
   {
    "duration": 0,
    "start_time": "2023-06-09T06:27:55.035Z"
   },
   {
    "duration": 0,
    "start_time": "2023-06-09T06:27:55.036Z"
   },
   {
    "duration": 0,
    "start_time": "2023-06-09T06:27:55.037Z"
   },
   {
    "duration": 0,
    "start_time": "2023-06-09T06:27:55.038Z"
   },
   {
    "duration": 0,
    "start_time": "2023-06-09T06:27:55.039Z"
   },
   {
    "duration": 0,
    "start_time": "2023-06-09T06:27:55.040Z"
   },
   {
    "duration": 0,
    "start_time": "2023-06-09T06:27:55.041Z"
   },
   {
    "duration": 22,
    "start_time": "2023-06-09T06:30:22.491Z"
   },
   {
    "duration": 162,
    "start_time": "2023-06-09T06:30:38.801Z"
   },
   {
    "duration": 458,
    "start_time": "2023-06-09T06:31:04.371Z"
   },
   {
    "duration": 826,
    "start_time": "2023-06-09T06:32:20.463Z"
   },
   {
    "duration": 24,
    "start_time": "2023-06-09T06:33:28.621Z"
   },
   {
    "duration": 165,
    "start_time": "2023-06-09T06:33:42.023Z"
   },
   {
    "duration": 262,
    "start_time": "2023-06-09T06:33:52.081Z"
   },
   {
    "duration": 20,
    "start_time": "2023-06-09T06:34:01.179Z"
   },
   {
    "duration": 1123,
    "start_time": "2023-06-09T06:34:35.751Z"
   },
   {
    "duration": 101,
    "start_time": "2023-06-09T06:34:36.876Z"
   },
   {
    "duration": 18,
    "start_time": "2023-06-09T06:34:36.978Z"
   },
   {
    "duration": 6,
    "start_time": "2023-06-09T06:34:36.997Z"
   },
   {
    "duration": 15,
    "start_time": "2023-06-09T06:34:37.004Z"
   },
   {
    "duration": 5,
    "start_time": "2023-06-09T06:34:37.021Z"
   },
   {
    "duration": 204,
    "start_time": "2023-06-09T06:34:37.028Z"
   },
   {
    "duration": 11,
    "start_time": "2023-06-09T06:34:37.234Z"
   },
   {
    "duration": 5,
    "start_time": "2023-06-09T06:34:37.246Z"
   },
   {
    "duration": 52,
    "start_time": "2023-06-09T06:34:37.252Z"
   },
   {
    "duration": 12,
    "start_time": "2023-06-09T06:34:37.307Z"
   },
   {
    "duration": 293,
    "start_time": "2023-06-09T06:34:37.320Z"
   },
   {
    "duration": 246,
    "start_time": "2023-06-09T06:34:37.615Z"
   },
   {
    "duration": 836,
    "start_time": "2023-06-09T06:34:37.871Z"
   },
   {
    "duration": 8,
    "start_time": "2023-06-09T06:34:38.709Z"
   },
   {
    "duration": 21,
    "start_time": "2023-06-09T06:34:38.719Z"
   },
   {
    "duration": 241,
    "start_time": "2023-06-09T06:34:38.742Z"
   },
   {
    "duration": 118,
    "start_time": "2023-06-09T06:34:38.986Z"
   },
   {
    "duration": 0,
    "start_time": "2023-06-09T06:34:39.106Z"
   },
   {
    "duration": 0,
    "start_time": "2023-06-09T06:34:39.107Z"
   },
   {
    "duration": 0,
    "start_time": "2023-06-09T06:34:39.108Z"
   },
   {
    "duration": 0,
    "start_time": "2023-06-09T06:34:39.110Z"
   },
   {
    "duration": 0,
    "start_time": "2023-06-09T06:34:39.111Z"
   },
   {
    "duration": 0,
    "start_time": "2023-06-09T06:34:39.112Z"
   },
   {
    "duration": 0,
    "start_time": "2023-06-09T06:34:39.113Z"
   },
   {
    "duration": 0,
    "start_time": "2023-06-09T06:34:39.115Z"
   },
   {
    "duration": 0,
    "start_time": "2023-06-09T06:34:39.116Z"
   },
   {
    "duration": 0,
    "start_time": "2023-06-09T06:34:39.117Z"
   },
   {
    "duration": 0,
    "start_time": "2023-06-09T06:34:39.119Z"
   },
   {
    "duration": 0,
    "start_time": "2023-06-09T06:34:39.120Z"
   },
   {
    "duration": 0,
    "start_time": "2023-06-09T06:34:39.121Z"
   },
   {
    "duration": 231,
    "start_time": "2023-06-09T06:35:20.110Z"
   },
   {
    "duration": 814,
    "start_time": "2023-06-09T06:35:24.749Z"
   },
   {
    "duration": 9,
    "start_time": "2023-06-09T06:35:26.615Z"
   },
   {
    "duration": 24,
    "start_time": "2023-06-09T06:35:32.108Z"
   },
   {
    "duration": 173,
    "start_time": "2023-06-09T06:35:37.623Z"
   },
   {
    "duration": 19,
    "start_time": "2023-06-09T06:35:45.761Z"
   },
   {
    "duration": 20,
    "start_time": "2023-06-09T06:35:53.308Z"
   },
   {
    "duration": 1428,
    "start_time": "2023-06-09T06:36:29.156Z"
   },
   {
    "duration": 26,
    "start_time": "2023-06-09T07:03:52.533Z"
   },
   {
    "duration": 167,
    "start_time": "2023-06-09T07:04:13.909Z"
   },
   {
    "duration": 26,
    "start_time": "2023-06-09T07:05:25.824Z"
   },
   {
    "duration": 150,
    "start_time": "2023-06-09T07:06:09.324Z"
   },
   {
    "duration": 113,
    "start_time": "2023-06-09T07:07:29.512Z"
   },
   {
    "duration": 230,
    "start_time": "2023-06-09T07:07:54.065Z"
   },
   {
    "duration": 365,
    "start_time": "2023-06-09T07:24:10.719Z"
   },
   {
    "duration": 386,
    "start_time": "2023-06-09T07:41:23.368Z"
   },
   {
    "duration": 200,
    "start_time": "2023-06-09T07:45:29.739Z"
   },
   {
    "duration": 284,
    "start_time": "2023-06-09T07:53:20.037Z"
   },
   {
    "duration": 331,
    "start_time": "2023-06-09T07:55:54.877Z"
   },
   {
    "duration": 413,
    "start_time": "2023-06-09T07:56:15.361Z"
   },
   {
    "duration": 294,
    "start_time": "2023-06-09T07:59:19.546Z"
   },
   {
    "duration": 294,
    "start_time": "2023-06-09T08:02:45.709Z"
   },
   {
    "duration": 285,
    "start_time": "2023-06-09T08:04:55.767Z"
   },
   {
    "duration": 278,
    "start_time": "2023-06-09T08:05:28.098Z"
   },
   {
    "duration": 13,
    "start_time": "2023-06-09T08:09:53.990Z"
   },
   {
    "duration": 12,
    "start_time": "2023-06-09T08:11:10.699Z"
   },
   {
    "duration": 140,
    "start_time": "2023-06-09T08:12:45.106Z"
   },
   {
    "duration": 295,
    "start_time": "2023-06-09T08:12:55.576Z"
   },
   {
    "duration": 273,
    "start_time": "2023-06-09T08:13:46.156Z"
   },
   {
    "duration": 267,
    "start_time": "2023-06-09T08:20:06.550Z"
   },
   {
    "duration": 267,
    "start_time": "2023-06-09T08:36:49.723Z"
   },
   {
    "duration": 238,
    "start_time": "2023-06-09T08:38:35.893Z"
   },
   {
    "duration": 254,
    "start_time": "2023-06-09T08:38:52.865Z"
   },
   {
    "duration": 4,
    "start_time": "2023-06-09T08:40:07.014Z"
   },
   {
    "duration": 279,
    "start_time": "2023-06-09T08:40:09.342Z"
   },
   {
    "duration": 275,
    "start_time": "2023-06-09T08:41:17.402Z"
   },
   {
    "duration": 382,
    "start_time": "2023-06-09T08:45:52.438Z"
   },
   {
    "duration": 201,
    "start_time": "2023-06-09T10:24:54.725Z"
   },
   {
    "duration": 116,
    "start_time": "2023-06-09T10:32:08.757Z"
   },
   {
    "duration": 114,
    "start_time": "2023-06-09T10:32:38.059Z"
   },
   {
    "duration": 27,
    "start_time": "2023-06-09T10:35:36.489Z"
   },
   {
    "duration": 24,
    "start_time": "2023-06-09T10:36:18.370Z"
   },
   {
    "duration": 397,
    "start_time": "2023-06-09T10:38:51.775Z"
   },
   {
    "duration": 320,
    "start_time": "2023-06-09T10:41:34.336Z"
   },
   {
    "duration": 320,
    "start_time": "2023-06-09T10:42:21.965Z"
   },
   {
    "duration": 474,
    "start_time": "2023-06-09T10:43:00.576Z"
   },
   {
    "duration": 353,
    "start_time": "2023-06-09T10:43:19.975Z"
   },
   {
    "duration": 397,
    "start_time": "2023-06-09T10:43:40.395Z"
   },
   {
    "duration": 586,
    "start_time": "2023-06-09T11:04:20.336Z"
   },
   {
    "duration": 41,
    "start_time": "2023-06-09T12:33:42.120Z"
   },
   {
    "duration": 53,
    "start_time": "2023-06-09T12:38:10.085Z"
   },
   {
    "duration": 29422,
    "start_time": "2023-06-09T12:58:12.583Z"
   },
   {
    "duration": 174,
    "start_time": "2023-06-09T12:59:43.585Z"
   },
   {
    "duration": 40,
    "start_time": "2023-06-09T13:00:45.823Z"
   },
   {
    "duration": 326,
    "start_time": "2023-06-09T13:00:51.802Z"
   },
   {
    "duration": 38,
    "start_time": "2023-06-09T13:01:26.349Z"
   },
   {
    "duration": 172,
    "start_time": "2023-06-09T13:01:32.854Z"
   },
   {
    "duration": 351,
    "start_time": "2023-06-09T13:02:08.601Z"
   },
   {
    "duration": 2332,
    "start_time": "2023-06-09T13:02:31.545Z"
   },
   {
    "duration": 562,
    "start_time": "2023-06-09T13:02:47.983Z"
   },
   {
    "duration": 396,
    "start_time": "2023-06-09T15:14:35.249Z"
   },
   {
    "duration": 380,
    "start_time": "2023-06-09T15:17:54.798Z"
   },
   {
    "duration": 119,
    "start_time": "2023-06-09T15:25:47.128Z"
   },
   {
    "duration": 92,
    "start_time": "2023-06-09T15:26:03.210Z"
   },
   {
    "duration": 5,
    "start_time": "2023-06-09T16:00:03.345Z"
   },
   {
    "duration": 5,
    "start_time": "2023-06-09T16:00:21.094Z"
   },
   {
    "duration": 98,
    "start_time": "2023-06-09T16:01:33.190Z"
   },
   {
    "duration": 81,
    "start_time": "2023-06-09T16:02:14.833Z"
   },
   {
    "duration": 391,
    "start_time": "2023-06-09T16:02:27.293Z"
   },
   {
    "duration": 341,
    "start_time": "2023-06-09T16:02:54.823Z"
   },
   {
    "duration": 351,
    "start_time": "2023-06-09T16:04:08.402Z"
   },
   {
    "duration": 383,
    "start_time": "2023-06-09T16:04:27.526Z"
   },
   {
    "duration": 415,
    "start_time": "2023-06-09T16:04:43.802Z"
   },
   {
    "duration": 361,
    "start_time": "2023-06-09T16:05:10.143Z"
   },
   {
    "duration": 355,
    "start_time": "2023-06-09T16:05:34.393Z"
   },
   {
    "duration": 607,
    "start_time": "2023-06-09T16:05:58.929Z"
   },
   {
    "duration": 2057,
    "start_time": "2023-06-09T16:13:37.622Z"
   },
   {
    "duration": 329,
    "start_time": "2023-06-09T16:19:03.289Z"
   },
   {
    "duration": 2518,
    "start_time": "2023-06-09T16:20:08.235Z"
   },
   {
    "duration": 2191,
    "start_time": "2023-06-09T16:21:02.415Z"
   },
   {
    "duration": 1760,
    "start_time": "2023-06-09T16:24:11.526Z"
   },
   {
    "duration": 125,
    "start_time": "2023-06-09T16:30:49.021Z"
   },
   {
    "duration": 361,
    "start_time": "2023-06-09T16:31:20.212Z"
   },
   {
    "duration": 9,
    "start_time": "2023-06-09T16:31:28.097Z"
   },
   {
    "duration": 186,
    "start_time": "2023-06-09T16:31:41.648Z"
   },
   {
    "duration": 447,
    "start_time": "2023-06-09T16:32:08.039Z"
   },
   {
    "duration": 474,
    "start_time": "2023-06-09T16:33:13.810Z"
   },
   {
    "duration": 117,
    "start_time": "2023-06-09T16:34:00.669Z"
   },
   {
    "duration": 449,
    "start_time": "2023-06-09T18:02:40.158Z"
   },
   {
    "duration": 460,
    "start_time": "2023-06-09T18:03:09.029Z"
   },
   {
    "duration": 361,
    "start_time": "2023-06-09T18:03:22.567Z"
   },
   {
    "duration": 366,
    "start_time": "2023-06-09T18:07:57.928Z"
   },
   {
    "duration": 377,
    "start_time": "2023-06-09T18:08:17.467Z"
   },
   {
    "duration": 416,
    "start_time": "2023-06-09T18:10:43.027Z"
   },
   {
    "duration": 444,
    "start_time": "2023-06-09T18:10:56.137Z"
   },
   {
    "duration": 428,
    "start_time": "2023-06-09T18:11:13.936Z"
   },
   {
    "duration": 469,
    "start_time": "2023-06-09T18:11:19.149Z"
   },
   {
    "duration": 421,
    "start_time": "2023-06-09T18:11:25.058Z"
   },
   {
    "duration": 818,
    "start_time": "2023-06-09T18:11:35.182Z"
   },
   {
    "duration": 87,
    "start_time": "2023-06-09T18:14:09.522Z"
   },
   {
    "duration": 284,
    "start_time": "2023-06-09T18:14:29.160Z"
   },
   {
    "duration": 346,
    "start_time": "2023-06-09T18:15:03.888Z"
   },
   {
    "duration": 353,
    "start_time": "2023-06-09T18:15:16.469Z"
   },
   {
    "duration": 564,
    "start_time": "2023-06-09T18:19:59.624Z"
   },
   {
    "duration": 516,
    "start_time": "2023-06-09T18:21:30.041Z"
   },
   {
    "duration": 530,
    "start_time": "2023-06-09T18:23:07.735Z"
   },
   {
    "duration": 600,
    "start_time": "2023-06-09T18:23:49.936Z"
   },
   {
    "duration": 526,
    "start_time": "2023-06-09T18:25:28.036Z"
   },
   {
    "duration": 1221,
    "start_time": "2023-06-09T18:25:49.509Z"
   },
   {
    "duration": 124,
    "start_time": "2023-06-09T18:25:50.732Z"
   },
   {
    "duration": 30,
    "start_time": "2023-06-09T18:25:50.858Z"
   },
   {
    "duration": 21,
    "start_time": "2023-06-09T18:25:50.891Z"
   },
   {
    "duration": 16,
    "start_time": "2023-06-09T18:25:50.914Z"
   },
   {
    "duration": 21,
    "start_time": "2023-06-09T18:25:50.932Z"
   },
   {
    "duration": 256,
    "start_time": "2023-06-09T18:25:50.955Z"
   },
   {
    "duration": 13,
    "start_time": "2023-06-09T18:25:51.213Z"
   },
   {
    "duration": 5,
    "start_time": "2023-06-09T18:25:51.228Z"
   },
   {
    "duration": 65,
    "start_time": "2023-06-09T18:25:51.235Z"
   },
   {
    "duration": 19,
    "start_time": "2023-06-09T18:25:51.302Z"
   },
   {
    "duration": 325,
    "start_time": "2023-06-09T18:25:51.324Z"
   },
   {
    "duration": 276,
    "start_time": "2023-06-09T18:25:51.650Z"
   },
   {
    "duration": 881,
    "start_time": "2023-06-09T18:25:51.929Z"
   },
   {
    "duration": 8,
    "start_time": "2023-06-09T18:25:52.811Z"
   },
   {
    "duration": 37,
    "start_time": "2023-06-09T18:25:52.820Z"
   },
   {
    "duration": 256,
    "start_time": "2023-06-09T18:25:52.858Z"
   },
   {
    "duration": 1392,
    "start_time": "2023-06-09T18:25:53.117Z"
   },
   {
    "duration": 386,
    "start_time": "2023-06-09T18:25:54.511Z"
   },
   {
    "duration": 355,
    "start_time": "2023-06-09T18:25:54.900Z"
   },
   {
    "duration": 420,
    "start_time": "2023-06-09T18:25:55.257Z"
   },
   {
    "duration": 296,
    "start_time": "2023-06-09T18:25:55.681Z"
   },
   {
    "duration": 286,
    "start_time": "2023-06-09T18:25:55.980Z"
   },
   {
    "duration": 281,
    "start_time": "2023-06-09T18:25:56.271Z"
   },
   {
    "duration": 637,
    "start_time": "2023-06-09T18:25:56.555Z"
   },
   {
    "duration": 39,
    "start_time": "2023-06-09T18:25:57.193Z"
   },
   {
    "duration": 402,
    "start_time": "2023-06-09T18:25:57.234Z"
   },
   {
    "duration": 0,
    "start_time": "2023-06-09T18:25:57.639Z"
   },
   {
    "duration": 0,
    "start_time": "2023-06-09T18:25:57.640Z"
   },
   {
    "duration": 0,
    "start_time": "2023-06-09T18:25:57.642Z"
   },
   {
    "duration": 0,
    "start_time": "2023-06-09T18:25:57.643Z"
   },
   {
    "duration": 0,
    "start_time": "2023-06-09T18:25:57.644Z"
   },
   {
    "duration": 634,
    "start_time": "2023-06-09T18:27:30.686Z"
   },
   {
    "duration": 52460,
    "start_time": "2023-06-09T18:34:54.452Z"
   },
   {
    "duration": 2396,
    "start_time": "2023-06-09T18:39:16.796Z"
   },
   {
    "duration": 284,
    "start_time": "2023-06-09T18:41:51.062Z"
   },
   {
    "duration": 32984,
    "start_time": "2023-06-09T18:42:03.933Z"
   },
   {
    "duration": 245,
    "start_time": "2023-06-09T18:43:47.521Z"
   },
   {
    "duration": 273,
    "start_time": "2023-06-09T18:44:27.668Z"
   },
   {
    "duration": 233,
    "start_time": "2023-06-09T18:45:05.231Z"
   },
   {
    "duration": 244,
    "start_time": "2023-06-09T18:45:19.341Z"
   },
   {
    "duration": 330,
    "start_time": "2023-06-09T18:45:39.003Z"
   },
   {
    "duration": 288,
    "start_time": "2023-06-09T18:45:55.120Z"
   },
   {
    "duration": 318,
    "start_time": "2023-06-09T18:46:30.695Z"
   },
   {
    "duration": 328,
    "start_time": "2023-06-09T18:49:13.684Z"
   },
   {
    "duration": 26,
    "start_time": "2023-06-09T19:13:24.433Z"
   },
   {
    "duration": 42,
    "start_time": "2023-06-09T19:13:51.672Z"
   },
   {
    "duration": 52,
    "start_time": "2023-06-09T19:23:47.100Z"
   },
   {
    "duration": 38,
    "start_time": "2023-06-09T19:24:10.769Z"
   },
   {
    "duration": 42,
    "start_time": "2023-06-09T19:25:17.882Z"
   },
   {
    "duration": 78,
    "start_time": "2023-06-09T19:26:00.800Z"
   },
   {
    "duration": 2084,
    "start_time": "2023-06-09T19:26:57.320Z"
   },
   {
    "duration": 60,
    "start_time": "2023-06-09T19:27:20.349Z"
   },
   {
    "duration": 43,
    "start_time": "2023-06-09T19:38:59.904Z"
   },
   {
    "duration": 35,
    "start_time": "2023-06-09T19:39:35.989Z"
   },
   {
    "duration": 68,
    "start_time": "2023-06-09T19:40:20.568Z"
   },
   {
    "duration": 35,
    "start_time": "2023-06-09T19:41:41.410Z"
   },
   {
    "duration": 39,
    "start_time": "2023-06-09T19:41:49.832Z"
   },
   {
    "duration": 68,
    "start_time": "2023-06-09T19:42:06.058Z"
   },
   {
    "duration": 56,
    "start_time": "2023-06-09T19:42:42.607Z"
   },
   {
    "duration": 356,
    "start_time": "2023-06-09T19:43:45.960Z"
   },
   {
    "duration": 84,
    "start_time": "2023-06-09T19:47:23.989Z"
   },
   {
    "duration": 64,
    "start_time": "2023-06-09T19:47:40.690Z"
   },
   {
    "duration": 61,
    "start_time": "2023-06-09T19:50:23.117Z"
   },
   {
    "duration": 47,
    "start_time": "2023-06-09T19:54:54.785Z"
   },
   {
    "duration": 54,
    "start_time": "2023-06-09T19:55:00.069Z"
   },
   {
    "duration": 39,
    "start_time": "2023-06-09T20:00:33.501Z"
   },
   {
    "duration": 318,
    "start_time": "2023-06-09T20:01:04.292Z"
   },
   {
    "duration": 376,
    "start_time": "2023-06-09T20:04:20.716Z"
   },
   {
    "duration": 43,
    "start_time": "2023-06-09T20:09:42.096Z"
   },
   {
    "duration": 31,
    "start_time": "2023-06-09T20:39:47.042Z"
   },
   {
    "duration": 33,
    "start_time": "2023-06-09T20:40:08.322Z"
   },
   {
    "duration": 276,
    "start_time": "2023-06-09T20:42:01.732Z"
   },
   {
    "duration": 13,
    "start_time": "2023-06-09T20:46:45.485Z"
   },
   {
    "duration": 13,
    "start_time": "2023-06-09T21:10:43.135Z"
   },
   {
    "duration": 23,
    "start_time": "2023-06-09T21:17:14.924Z"
   },
   {
    "duration": 9,
    "start_time": "2023-06-09T21:18:07.800Z"
   },
   {
    "duration": 16,
    "start_time": "2023-06-09T21:18:19.712Z"
   },
   {
    "duration": 1346,
    "start_time": "2023-06-09T21:18:46.099Z"
   },
   {
    "duration": 22,
    "start_time": "2023-06-09T21:19:07.392Z"
   },
   {
    "duration": 12,
    "start_time": "2023-06-09T21:19:27.588Z"
   },
   {
    "duration": 14,
    "start_time": "2023-06-09T21:21:48.028Z"
   },
   {
    "duration": 21,
    "start_time": "2023-06-09T21:22:08.265Z"
   },
   {
    "duration": 15,
    "start_time": "2023-06-09T21:28:58.905Z"
   },
   {
    "duration": 24,
    "start_time": "2023-06-09T21:51:17.593Z"
   },
   {
    "duration": 1290,
    "start_time": "2023-06-10T13:55:24.350Z"
   },
   {
    "duration": 119,
    "start_time": "2023-06-10T13:55:25.642Z"
   },
   {
    "duration": 36,
    "start_time": "2023-06-10T13:55:25.762Z"
   },
   {
    "duration": 14,
    "start_time": "2023-06-10T13:55:25.804Z"
   },
   {
    "duration": 12,
    "start_time": "2023-06-10T13:55:25.820Z"
   },
   {
    "duration": 6,
    "start_time": "2023-06-10T13:55:25.834Z"
   },
   {
    "duration": 218,
    "start_time": "2023-06-10T13:55:25.842Z"
   },
   {
    "duration": 24,
    "start_time": "2023-06-10T13:55:26.062Z"
   },
   {
    "duration": 16,
    "start_time": "2023-06-10T13:55:26.087Z"
   },
   {
    "duration": 59,
    "start_time": "2023-06-10T13:55:26.113Z"
   },
   {
    "duration": 23,
    "start_time": "2023-06-10T13:55:26.174Z"
   },
   {
    "duration": 349,
    "start_time": "2023-06-10T13:55:26.198Z"
   },
   {
    "duration": 312,
    "start_time": "2023-06-10T13:55:26.549Z"
   },
   {
    "duration": 1052,
    "start_time": "2023-06-10T13:55:26.863Z"
   },
   {
    "duration": 10,
    "start_time": "2023-06-10T13:55:27.919Z"
   },
   {
    "duration": 82,
    "start_time": "2023-06-10T13:55:27.931Z"
   },
   {
    "duration": 312,
    "start_time": "2023-06-10T13:55:28.023Z"
   },
   {
    "duration": 2378,
    "start_time": "2023-06-10T13:55:28.337Z"
   },
   {
    "duration": 807,
    "start_time": "2023-06-10T13:55:30.717Z"
   },
   {
    "duration": 1057,
    "start_time": "2023-06-10T13:55:31.535Z"
   },
   {
    "duration": 1032,
    "start_time": "2023-06-10T13:55:32.599Z"
   },
   {
    "duration": 776,
    "start_time": "2023-06-10T13:55:33.633Z"
   },
   {
    "duration": 687,
    "start_time": "2023-06-10T13:55:34.414Z"
   },
   {
    "duration": 700,
    "start_time": "2023-06-10T13:55:35.103Z"
   },
   {
    "duration": 1420,
    "start_time": "2023-06-10T13:55:35.805Z"
   },
   {
    "duration": 178,
    "start_time": "2023-06-10T13:55:37.230Z"
   },
   {
    "duration": 914,
    "start_time": "2023-06-10T13:55:37.414Z"
   },
   {
    "duration": 98,
    "start_time": "2023-06-10T13:55:38.333Z"
   },
   {
    "duration": 956,
    "start_time": "2023-06-10T13:55:38.433Z"
   },
   {
    "duration": 107,
    "start_time": "2023-06-10T13:55:39.390Z"
   },
   {
    "duration": 1026,
    "start_time": "2023-06-10T13:55:39.499Z"
   },
   {
    "duration": 1507,
    "start_time": "2023-06-10T13:55:40.530Z"
   },
   {
    "duration": 44,
    "start_time": "2023-06-10T13:55:42.075Z"
   },
   {
    "duration": 57,
    "start_time": "2023-06-10T13:55:42.127Z"
   },
   {
    "duration": 1224,
    "start_time": "2023-06-10T13:59:49.583Z"
   },
   {
    "duration": 135,
    "start_time": "2023-06-10T13:59:50.809Z"
   },
   {
    "duration": 41,
    "start_time": "2023-06-10T13:59:50.946Z"
   },
   {
    "duration": 29,
    "start_time": "2023-06-10T13:59:50.989Z"
   },
   {
    "duration": 18,
    "start_time": "2023-06-10T13:59:51.020Z"
   },
   {
    "duration": 30,
    "start_time": "2023-06-10T13:59:51.040Z"
   },
   {
    "duration": 564,
    "start_time": "2023-06-10T13:59:51.072Z"
   },
   {
    "duration": 70,
    "start_time": "2023-06-10T13:59:51.639Z"
   },
   {
    "duration": 8,
    "start_time": "2023-06-10T13:59:51.711Z"
   },
   {
    "duration": 95,
    "start_time": "2023-06-10T13:59:51.725Z"
   },
   {
    "duration": 62,
    "start_time": "2023-06-10T13:59:51.825Z"
   },
   {
    "duration": 580,
    "start_time": "2023-06-10T13:59:51.889Z"
   },
   {
    "duration": 667,
    "start_time": "2023-06-10T13:59:52.471Z"
   },
   {
    "duration": 2208,
    "start_time": "2023-06-10T13:59:53.174Z"
   },
   {
    "duration": 23,
    "start_time": "2023-06-10T13:59:55.389Z"
   },
   {
    "duration": 96,
    "start_time": "2023-06-10T13:59:55.421Z"
   },
   {
    "duration": 793,
    "start_time": "2023-06-10T13:59:55.526Z"
   },
   {
    "duration": 4085,
    "start_time": "2023-06-10T13:59:56.325Z"
   },
   {
    "duration": 969,
    "start_time": "2023-06-10T14:00:00.412Z"
   },
   {
    "duration": 941,
    "start_time": "2023-06-10T14:00:01.384Z"
   },
   {
    "duration": 1078,
    "start_time": "2023-06-10T14:00:02.327Z"
   },
   {
    "duration": 890,
    "start_time": "2023-06-10T14:00:03.407Z"
   },
   {
    "duration": 920,
    "start_time": "2023-06-10T14:00:04.306Z"
   },
   {
    "duration": 771,
    "start_time": "2023-06-10T14:00:05.235Z"
   },
   {
    "duration": 1702,
    "start_time": "2023-06-10T14:00:06.011Z"
   },
   {
    "duration": 192,
    "start_time": "2023-06-10T14:00:07.725Z"
   },
   {
    "duration": 863,
    "start_time": "2023-06-10T14:00:07.926Z"
   },
   {
    "duration": 139,
    "start_time": "2023-06-10T14:00:08.794Z"
   },
   {
    "duration": 911,
    "start_time": "2023-06-10T14:00:08.986Z"
   },
   {
    "duration": 108,
    "start_time": "2023-06-10T14:00:09.899Z"
   },
   {
    "duration": 1011,
    "start_time": "2023-06-10T14:00:10.010Z"
   },
   {
    "duration": 1428,
    "start_time": "2023-06-10T14:00:11.077Z"
   },
   {
    "duration": 74,
    "start_time": "2023-06-10T14:00:12.515Z"
   },
   {
    "duration": 22,
    "start_time": "2023-06-10T14:00:12.595Z"
   },
   {
    "duration": 386,
    "start_time": "2023-06-10T14:16:06.352Z"
   },
   {
    "duration": 370,
    "start_time": "2023-06-10T14:16:21.567Z"
   },
   {
    "duration": 20,
    "start_time": "2023-06-10T14:23:25.728Z"
   },
   {
    "duration": 12,
    "start_time": "2023-06-10T14:23:40.325Z"
   },
   {
    "duration": 13,
    "start_time": "2023-06-10T14:23:51.804Z"
   },
   {
    "duration": 46,
    "start_time": "2023-06-10T14:23:52.369Z"
   },
   {
    "duration": 12,
    "start_time": "2023-06-10T14:24:26.546Z"
   },
   {
    "duration": 323,
    "start_time": "2023-06-10T14:25:48.734Z"
   },
   {
    "duration": 364,
    "start_time": "2023-06-10T14:25:53.757Z"
   },
   {
    "duration": 6,
    "start_time": "2023-06-10T14:27:40.042Z"
   },
   {
    "duration": 1334,
    "start_time": "2023-06-10T14:28:14.840Z"
   },
   {
    "duration": 159,
    "start_time": "2023-06-10T14:28:16.188Z"
   },
   {
    "duration": 24,
    "start_time": "2023-06-10T14:28:16.348Z"
   },
   {
    "duration": 19,
    "start_time": "2023-06-10T14:28:16.373Z"
   },
   {
    "duration": 27,
    "start_time": "2023-06-10T14:28:16.394Z"
   },
   {
    "duration": 6,
    "start_time": "2023-06-10T14:28:16.423Z"
   },
   {
    "duration": 215,
    "start_time": "2023-06-10T14:28:16.431Z"
   },
   {
    "duration": 12,
    "start_time": "2023-06-10T14:28:16.648Z"
   },
   {
    "duration": 5,
    "start_time": "2023-06-10T14:28:16.662Z"
   },
   {
    "duration": 58,
    "start_time": "2023-06-10T14:28:16.683Z"
   },
   {
    "duration": 14,
    "start_time": "2023-06-10T14:28:16.743Z"
   },
   {
    "duration": 385,
    "start_time": "2023-06-10T14:28:16.758Z"
   },
   {
    "duration": 314,
    "start_time": "2023-06-10T14:28:17.146Z"
   },
   {
    "duration": 1096,
    "start_time": "2023-06-10T14:28:17.474Z"
   },
   {
    "duration": 20,
    "start_time": "2023-06-10T14:28:18.580Z"
   },
   {
    "duration": 32,
    "start_time": "2023-06-10T14:28:18.605Z"
   },
   {
    "duration": 273,
    "start_time": "2023-06-10T14:28:18.639Z"
   },
   {
    "duration": 1720,
    "start_time": "2023-06-10T14:28:18.913Z"
   },
   {
    "duration": 428,
    "start_time": "2023-06-10T14:28:20.635Z"
   },
   {
    "duration": 436,
    "start_time": "2023-06-10T14:28:21.064Z"
   },
   {
    "duration": 459,
    "start_time": "2023-06-10T14:28:21.506Z"
   },
   {
    "duration": 358,
    "start_time": "2023-06-10T14:28:21.979Z"
   },
   {
    "duration": 326,
    "start_time": "2023-06-10T14:28:22.340Z"
   },
   {
    "duration": 338,
    "start_time": "2023-06-10T14:28:22.668Z"
   },
   {
    "duration": 660,
    "start_time": "2023-06-10T14:28:23.008Z"
   },
   {
    "duration": 91,
    "start_time": "2023-06-10T14:28:23.670Z"
   },
   {
    "duration": 373,
    "start_time": "2023-06-10T14:28:23.763Z"
   },
   {
    "duration": 22,
    "start_time": "2023-06-10T14:28:24.140Z"
   },
   {
    "duration": 27,
    "start_time": "2023-06-10T14:28:24.163Z"
   },
   {
    "duration": 75,
    "start_time": "2023-06-10T14:28:24.192Z"
   },
   {
    "duration": 487,
    "start_time": "2023-06-10T14:28:24.269Z"
   },
   {
    "duration": 500,
    "start_time": "2023-06-10T14:28:24.758Z"
   },
   {
    "duration": 54,
    "start_time": "2023-06-10T14:28:25.260Z"
   },
   {
    "duration": 375,
    "start_time": "2023-06-10T14:28:25.319Z"
   },
   {
    "duration": 615,
    "start_time": "2023-06-10T14:28:25.700Z"
   },
   {
    "duration": 19,
    "start_time": "2023-06-10T14:28:26.317Z"
   },
   {
    "duration": 11,
    "start_time": "2023-06-10T14:28:26.338Z"
   },
   {
    "duration": 31,
    "start_time": "2023-06-10T14:28:26.351Z"
   },
   {
    "duration": 1307,
    "start_time": "2023-06-11T09:32:30.223Z"
   },
   {
    "duration": 149,
    "start_time": "2023-06-11T09:32:31.532Z"
   },
   {
    "duration": 21,
    "start_time": "2023-06-11T09:32:31.683Z"
   },
   {
    "duration": 31,
    "start_time": "2023-06-11T09:32:31.706Z"
   },
   {
    "duration": 36,
    "start_time": "2023-06-11T09:32:31.740Z"
   },
   {
    "duration": 19,
    "start_time": "2023-06-11T09:32:31.778Z"
   },
   {
    "duration": 189,
    "start_time": "2023-06-11T09:32:31.799Z"
   },
   {
    "duration": 10,
    "start_time": "2023-06-11T09:32:31.990Z"
   },
   {
    "duration": 37,
    "start_time": "2023-06-11T09:32:32.001Z"
   },
   {
    "duration": 56,
    "start_time": "2023-06-11T09:32:32.039Z"
   },
   {
    "duration": 43,
    "start_time": "2023-06-11T09:32:32.096Z"
   },
   {
    "duration": 261,
    "start_time": "2023-06-11T09:32:32.140Z"
   },
   {
    "duration": 226,
    "start_time": "2023-06-11T09:32:32.403Z"
   },
   {
    "duration": 787,
    "start_time": "2023-06-11T09:32:32.633Z"
   },
   {
    "duration": 8,
    "start_time": "2023-06-11T09:32:33.422Z"
   },
   {
    "duration": 27,
    "start_time": "2023-06-11T09:32:33.432Z"
   },
   {
    "duration": 220,
    "start_time": "2023-06-11T09:32:33.461Z"
   },
   {
    "duration": 1246,
    "start_time": "2023-06-11T09:32:33.683Z"
   },
   {
    "duration": 374,
    "start_time": "2023-06-11T09:32:34.931Z"
   },
   {
    "duration": 397,
    "start_time": "2023-06-11T09:32:35.306Z"
   },
   {
    "duration": 359,
    "start_time": "2023-06-11T09:32:35.705Z"
   },
   {
    "duration": 296,
    "start_time": "2023-06-11T09:32:36.067Z"
   },
   {
    "duration": 270,
    "start_time": "2023-06-11T09:32:36.365Z"
   },
   {
    "duration": 264,
    "start_time": "2023-06-11T09:32:36.637Z"
   },
   {
    "duration": 501,
    "start_time": "2023-06-11T09:32:36.903Z"
   },
   {
    "duration": 56,
    "start_time": "2023-06-11T09:32:37.406Z"
   },
   {
    "duration": 287,
    "start_time": "2023-06-11T09:32:37.464Z"
   },
   {
    "duration": 17,
    "start_time": "2023-06-11T09:32:37.753Z"
   },
   {
    "duration": 9,
    "start_time": "2023-06-11T09:32:37.771Z"
   },
   {
    "duration": 57,
    "start_time": "2023-06-11T09:32:37.782Z"
   },
   {
    "duration": 313,
    "start_time": "2023-06-11T09:32:37.841Z"
   },
   {
    "duration": 351,
    "start_time": "2023-06-11T09:32:38.156Z"
   },
   {
    "duration": 32,
    "start_time": "2023-06-11T09:32:38.509Z"
   },
   {
    "duration": 286,
    "start_time": "2023-06-11T09:32:38.542Z"
   },
   {
    "duration": 459,
    "start_time": "2023-06-11T09:32:38.829Z"
   },
   {
    "duration": 11,
    "start_time": "2023-06-11T09:32:39.289Z"
   },
   {
    "duration": 22,
    "start_time": "2023-06-11T09:32:39.302Z"
   },
   {
    "duration": 29,
    "start_time": "2023-06-11T09:32:39.326Z"
   },
   {
    "duration": 125,
    "start_time": "2023-06-11T09:55:32.544Z"
   },
   {
    "duration": 22,
    "start_time": "2023-06-11T09:55:57.465Z"
   },
   {
    "duration": 201,
    "start_time": "2023-06-11T09:56:30.704Z"
   },
   {
    "duration": 140,
    "start_time": "2023-06-11T09:56:48.400Z"
   },
   {
    "duration": 1267,
    "start_time": "2023-06-11T09:57:17.384Z"
   },
   {
    "duration": 104,
    "start_time": "2023-06-11T10:16:08.242Z"
   },
   {
    "duration": 387,
    "start_time": "2023-06-11T10:45:35.658Z"
   },
   {
    "duration": 358,
    "start_time": "2023-06-11T10:46:10.071Z"
   },
   {
    "duration": 290,
    "start_time": "2023-06-11T11:57:41.429Z"
   },
   {
    "duration": 301,
    "start_time": "2023-06-11T11:57:52.061Z"
   },
   {
    "duration": 307,
    "start_time": "2023-06-11T11:58:13.645Z"
   },
   {
    "duration": 290,
    "start_time": "2023-06-11T11:58:21.515Z"
   },
   {
    "duration": 378,
    "start_time": "2023-06-11T11:59:16.102Z"
   },
   {
    "duration": 255,
    "start_time": "2023-06-11T12:06:18.250Z"
   },
   {
    "duration": 249,
    "start_time": "2023-06-11T12:06:54.278Z"
   },
   {
    "duration": 283,
    "start_time": "2023-06-11T12:08:29.310Z"
   },
   {
    "duration": 287,
    "start_time": "2023-06-11T12:09:59.205Z"
   },
   {
    "duration": 331,
    "start_time": "2023-06-11T12:13:05.742Z"
   },
   {
    "duration": 316,
    "start_time": "2023-06-11T12:13:17.544Z"
   },
   {
    "duration": 696,
    "start_time": "2023-06-11T12:20:39.819Z"
   },
   {
    "duration": 529,
    "start_time": "2023-06-11T12:20:52.855Z"
   },
   {
    "duration": 94,
    "start_time": "2023-06-11T12:43:38.115Z"
   },
   {
    "duration": 35,
    "start_time": "2023-06-11T12:56:35.623Z"
   },
   {
    "duration": 79,
    "start_time": "2023-06-11T12:59:02.054Z"
   },
   {
    "duration": 98,
    "start_time": "2023-06-11T13:19:49.364Z"
   },
   {
    "duration": 1846,
    "start_time": "2023-06-11T13:20:07.695Z"
   },
   {
    "duration": 4,
    "start_time": "2023-06-11T13:23:06.699Z"
   },
   {
    "duration": 9,
    "start_time": "2023-06-11T13:23:18.964Z"
   },
   {
    "duration": 12,
    "start_time": "2023-06-11T13:24:22.956Z"
   },
   {
    "duration": 5,
    "start_time": "2023-06-11T13:32:09.570Z"
   },
   {
    "duration": 10,
    "start_time": "2023-06-11T13:32:27.086Z"
   },
   {
    "duration": 15,
    "start_time": "2023-06-11T13:38:39.572Z"
   },
   {
    "duration": 9,
    "start_time": "2023-06-11T13:39:06.667Z"
   },
   {
    "duration": 13,
    "start_time": "2023-06-11T13:39:43.956Z"
   },
   {
    "duration": 9,
    "start_time": "2023-06-11T13:47:18.691Z"
   },
   {
    "duration": 17,
    "start_time": "2023-06-11T13:50:31.271Z"
   },
   {
    "duration": 5,
    "start_time": "2023-06-11T13:52:34.790Z"
   },
   {
    "duration": 8,
    "start_time": "2023-06-11T13:52:52.053Z"
   },
   {
    "duration": 381,
    "start_time": "2023-06-11T13:53:58.012Z"
   },
   {
    "duration": 9,
    "start_time": "2023-06-11T13:54:08.773Z"
   },
   {
    "duration": 5,
    "start_time": "2023-06-11T13:55:47.244Z"
   },
   {
    "duration": 9,
    "start_time": "2023-06-11T13:56:03.731Z"
   },
   {
    "duration": 11,
    "start_time": "2023-06-11T13:57:54.050Z"
   },
   {
    "duration": 20,
    "start_time": "2023-06-11T13:59:29.183Z"
   },
   {
    "duration": 10,
    "start_time": "2023-06-11T14:04:29.145Z"
   },
   {
    "duration": 88,
    "start_time": "2023-06-11T14:13:16.386Z"
   },
   {
    "duration": 16,
    "start_time": "2023-06-11T14:13:44.282Z"
   },
   {
    "duration": 12,
    "start_time": "2023-06-11T14:14:19.056Z"
   },
   {
    "duration": 17,
    "start_time": "2023-06-11T14:15:06.359Z"
   },
   {
    "duration": 23,
    "start_time": "2023-06-11T14:15:40.164Z"
   },
   {
    "duration": 21,
    "start_time": "2023-06-11T14:15:49.795Z"
   },
   {
    "duration": 18,
    "start_time": "2023-06-11T14:16:00.058Z"
   },
   {
    "duration": 5,
    "start_time": "2023-06-11T14:25:07.058Z"
   },
   {
    "duration": 8,
    "start_time": "2023-06-11T14:25:25.248Z"
   },
   {
    "duration": 12,
    "start_time": "2023-06-11T14:28:09.425Z"
   },
   {
    "duration": 5,
    "start_time": "2023-06-11T14:35:19.692Z"
   },
   {
    "duration": 17,
    "start_time": "2023-06-11T14:37:52.076Z"
   },
   {
    "duration": 6,
    "start_time": "2023-06-11T14:38:10.922Z"
   },
   {
    "duration": 9,
    "start_time": "2023-06-11T14:40:49.496Z"
   },
   {
    "duration": 5,
    "start_time": "2023-06-11T14:42:40.079Z"
   },
   {
    "duration": 5,
    "start_time": "2023-06-11T14:44:02.774Z"
   },
   {
    "duration": 14,
    "start_time": "2023-06-11T14:45:12.658Z"
   },
   {
    "duration": 9,
    "start_time": "2023-06-11T14:46:43.517Z"
   },
   {
    "duration": 13,
    "start_time": "2023-06-11T14:46:56.157Z"
   },
   {
    "duration": 72,
    "start_time": "2023-06-11T14:52:12.156Z"
   },
   {
    "duration": 70,
    "start_time": "2023-06-11T14:52:22.617Z"
   },
   {
    "duration": 11,
    "start_time": "2023-06-11T14:56:49.219Z"
   },
   {
    "duration": 86,
    "start_time": "2023-06-11T15:01:25.612Z"
   },
   {
    "duration": 13,
    "start_time": "2023-06-11T15:01:40.574Z"
   },
   {
    "duration": 14,
    "start_time": "2023-06-11T15:02:04.774Z"
   },
   {
    "duration": 21,
    "start_time": "2023-06-11T15:03:36.909Z"
   },
   {
    "duration": 11,
    "start_time": "2023-06-11T15:04:19.230Z"
   },
   {
    "duration": 10,
    "start_time": "2023-06-11T15:04:59.275Z"
   },
   {
    "duration": 10,
    "start_time": "2023-06-11T15:05:06.945Z"
   },
   {
    "duration": 10,
    "start_time": "2023-06-11T15:05:17.477Z"
   },
   {
    "duration": 12,
    "start_time": "2023-06-11T15:05:30.835Z"
   },
   {
    "duration": 13,
    "start_time": "2023-06-11T15:05:41.895Z"
   },
   {
    "duration": 10,
    "start_time": "2023-06-11T15:05:52.099Z"
   },
   {
    "duration": 18,
    "start_time": "2023-06-11T15:06:10.263Z"
   },
   {
    "duration": 14,
    "start_time": "2023-06-11T15:06:56.493Z"
   },
   {
    "duration": 501,
    "start_time": "2023-06-11T15:10:11.554Z"
   },
   {
    "duration": 10,
    "start_time": "2023-06-11T15:19:19.871Z"
   },
   {
    "duration": 14,
    "start_time": "2023-06-11T15:21:00.301Z"
   },
   {
    "duration": 20,
    "start_time": "2023-06-11T15:21:12.875Z"
   },
   {
    "duration": 8,
    "start_time": "2023-06-11T15:21:40.743Z"
   },
   {
    "duration": 14,
    "start_time": "2023-06-11T15:21:49.465Z"
   },
   {
    "duration": 8,
    "start_time": "2023-06-11T15:24:10.346Z"
   },
   {
    "duration": 12,
    "start_time": "2023-06-11T15:24:20.200Z"
   },
   {
    "duration": 8,
    "start_time": "2023-06-11T15:24:46.506Z"
   },
   {
    "duration": 14,
    "start_time": "2023-06-11T15:24:56.635Z"
   },
   {
    "duration": 10,
    "start_time": "2023-06-11T15:26:26.640Z"
   },
   {
    "duration": 10,
    "start_time": "2023-06-11T15:26:31.877Z"
   },
   {
    "duration": 12,
    "start_time": "2023-06-11T15:26:43.136Z"
   },
   {
    "duration": 15,
    "start_time": "2023-06-11T15:27:17.435Z"
   },
   {
    "duration": 14,
    "start_time": "2023-06-11T15:28:30.935Z"
   },
   {
    "duration": 16,
    "start_time": "2023-06-11T15:28:40.076Z"
   },
   {
    "duration": 15,
    "start_time": "2023-06-11T15:36:26.166Z"
   },
   {
    "duration": 14,
    "start_time": "2023-06-11T15:36:37.074Z"
   },
   {
    "duration": 15,
    "start_time": "2023-06-11T15:37:02.105Z"
   },
   {
    "duration": 22,
    "start_time": "2023-06-11T15:38:17.235Z"
   },
   {
    "duration": 20,
    "start_time": "2023-06-11T15:40:01.660Z"
   },
   {
    "duration": 21,
    "start_time": "2023-06-11T15:40:57.858Z"
   },
   {
    "duration": 20,
    "start_time": "2023-06-11T15:41:26.084Z"
   },
   {
    "duration": 19,
    "start_time": "2023-06-11T15:41:59.893Z"
   },
   {
    "duration": 15,
    "start_time": "2023-06-11T15:43:36.562Z"
   },
   {
    "duration": 22,
    "start_time": "2023-06-11T15:55:40.883Z"
   },
   {
    "duration": 30,
    "start_time": "2023-06-11T15:56:18.957Z"
   },
   {
    "duration": 43,
    "start_time": "2023-06-11T15:56:55.539Z"
   },
   {
    "duration": 293,
    "start_time": "2023-06-11T15:57:29.012Z"
   },
   {
    "duration": 349,
    "start_time": "2023-06-11T15:57:49.331Z"
   },
   {
    "duration": 419,
    "start_time": "2023-06-11T15:58:10.962Z"
   },
   {
    "duration": 352,
    "start_time": "2023-06-11T15:58:47.902Z"
   },
   {
    "duration": 318,
    "start_time": "2023-06-11T16:13:28.561Z"
   },
   {
    "duration": 319,
    "start_time": "2023-06-11T16:13:38.449Z"
   },
   {
    "duration": 324,
    "start_time": "2023-06-11T16:13:53.482Z"
   },
   {
    "duration": 422,
    "start_time": "2023-06-11T16:14:29.652Z"
   },
   {
    "duration": 412,
    "start_time": "2023-06-11T16:15:55.561Z"
   },
   {
    "duration": 368,
    "start_time": "2023-06-11T16:16:03.644Z"
   },
   {
    "duration": 345,
    "start_time": "2023-06-11T16:16:12.460Z"
   },
   {
    "duration": 303,
    "start_time": "2023-06-11T16:16:18.390Z"
   },
   {
    "duration": 44,
    "start_time": "2023-06-11T16:19:17.213Z"
   },
   {
    "duration": 53,
    "start_time": "2023-06-11T16:19:29.612Z"
   },
   {
    "duration": 31,
    "start_time": "2023-06-11T16:20:12.366Z"
   },
   {
    "duration": 10,
    "start_time": "2023-06-11T16:23:13.781Z"
   },
   {
    "duration": 29,
    "start_time": "2023-06-11T16:28:03.653Z"
   },
   {
    "duration": 45,
    "start_time": "2023-06-11T16:28:29.900Z"
   },
   {
    "duration": 117,
    "start_time": "2023-06-11T16:30:46.841Z"
   },
   {
    "duration": 576,
    "start_time": "2023-06-11T16:30:54.089Z"
   },
   {
    "duration": 139,
    "start_time": "2023-06-11T16:31:17.149Z"
   },
   {
    "duration": 592,
    "start_time": "2023-06-11T16:31:19.189Z"
   },
   {
    "duration": 322,
    "start_time": "2023-06-11T16:32:20.303Z"
   },
   {
    "duration": 322,
    "start_time": "2023-06-11T16:32:36.947Z"
   },
   {
    "duration": 299,
    "start_time": "2023-06-11T16:33:42.934Z"
   },
   {
    "duration": 16,
    "start_time": "2023-06-11T17:05:50.067Z"
   },
   {
    "duration": 23,
    "start_time": "2023-06-11T17:09:02.234Z"
   },
   {
    "duration": 3574,
    "start_time": "2023-06-12T15:05:37.317Z"
   },
   {
    "duration": 426,
    "start_time": "2023-06-12T15:05:40.903Z"
   },
   {
    "duration": 91,
    "start_time": "2023-06-12T15:05:41.330Z"
   },
   {
    "duration": 49,
    "start_time": "2023-06-12T15:05:41.446Z"
   },
   {
    "duration": 48,
    "start_time": "2023-06-12T15:05:41.509Z"
   },
   {
    "duration": 17,
    "start_time": "2023-06-12T15:05:41.563Z"
   },
   {
    "duration": 761,
    "start_time": "2023-06-12T15:05:41.586Z"
   },
   {
    "duration": 65,
    "start_time": "2023-06-12T15:05:42.360Z"
   },
   {
    "duration": 34,
    "start_time": "2023-06-12T15:05:42.451Z"
   },
   {
    "duration": 215,
    "start_time": "2023-06-12T15:05:42.510Z"
   },
   {
    "duration": 71,
    "start_time": "2023-06-12T15:05:42.745Z"
   },
   {
    "duration": 1327,
    "start_time": "2023-06-12T15:05:42.827Z"
   },
   {
    "duration": 685,
    "start_time": "2023-06-12T15:05:44.161Z"
   },
   {
    "duration": 2972,
    "start_time": "2023-06-12T15:05:44.873Z"
   },
   {
    "duration": 71,
    "start_time": "2023-06-12T15:05:47.862Z"
   },
   {
    "duration": 112,
    "start_time": "2023-06-12T15:05:47.954Z"
   },
   {
    "duration": 845,
    "start_time": "2023-06-12T15:05:48.073Z"
   },
   {
    "duration": 4893,
    "start_time": "2023-06-12T15:05:48.931Z"
   },
   {
    "duration": 998,
    "start_time": "2023-06-12T15:05:53.831Z"
   },
   {
    "duration": 1174,
    "start_time": "2023-06-12T15:05:54.831Z"
   },
   {
    "duration": 1022,
    "start_time": "2023-06-12T15:05:56.011Z"
   },
   {
    "duration": 1628,
    "start_time": "2023-06-12T15:05:57.048Z"
   },
   {
    "duration": 939,
    "start_time": "2023-06-12T15:05:58.684Z"
   },
   {
    "duration": 1109,
    "start_time": "2023-06-12T15:05:59.629Z"
   },
   {
    "duration": 2115,
    "start_time": "2023-06-12T15:06:00.742Z"
   },
   {
    "duration": 118,
    "start_time": "2023-06-12T15:06:02.868Z"
   },
   {
    "duration": 890,
    "start_time": "2023-06-12T15:06:03.001Z"
   },
   {
    "duration": 47,
    "start_time": "2023-06-12T15:06:03.894Z"
   },
   {
    "duration": 37,
    "start_time": "2023-06-12T15:06:03.944Z"
   },
   {
    "duration": 135,
    "start_time": "2023-06-12T15:06:03.986Z"
   },
   {
    "duration": 1021,
    "start_time": "2023-06-12T15:06:04.128Z"
   },
   {
    "duration": 1193,
    "start_time": "2023-06-12T15:06:05.152Z"
   },
   {
    "duration": 79,
    "start_time": "2023-06-12T15:06:06.348Z"
   },
   {
    "duration": 426,
    "start_time": "2023-06-12T15:06:06.429Z"
   },
   {
    "duration": 850,
    "start_time": "2023-06-12T15:06:06.857Z"
   },
   {
    "duration": 24,
    "start_time": "2023-06-12T15:06:07.715Z"
   },
   {
    "duration": 30,
    "start_time": "2023-06-12T15:06:07.746Z"
   },
   {
    "duration": 37,
    "start_time": "2023-06-12T15:06:07.788Z"
   },
   {
    "duration": 33,
    "start_time": "2023-06-12T15:07:19.917Z"
   },
   {
    "duration": 41,
    "start_time": "2023-06-12T15:07:39.383Z"
   },
   {
    "duration": 2102,
    "start_time": "2023-06-12T15:21:07.291Z"
   },
   {
    "duration": 324,
    "start_time": "2023-06-12T15:21:09.395Z"
   },
   {
    "duration": 51,
    "start_time": "2023-06-12T15:21:09.730Z"
   },
   {
    "duration": 24,
    "start_time": "2023-06-12T15:21:09.797Z"
   },
   {
    "duration": 49,
    "start_time": "2023-06-12T15:21:09.838Z"
   },
   {
    "duration": 14,
    "start_time": "2023-06-12T15:21:09.902Z"
   },
   {
    "duration": 406,
    "start_time": "2023-06-12T15:21:09.922Z"
   },
   {
    "duration": 23,
    "start_time": "2023-06-12T15:21:10.330Z"
   },
   {
    "duration": 13,
    "start_time": "2023-06-12T15:21:10.358Z"
   },
   {
    "duration": 70,
    "start_time": "2023-06-12T15:21:10.375Z"
   },
   {
    "duration": 33,
    "start_time": "2023-06-12T15:21:10.454Z"
   },
   {
    "duration": 510,
    "start_time": "2023-06-12T15:21:10.494Z"
   },
   {
    "duration": 454,
    "start_time": "2023-06-12T15:21:11.011Z"
   },
   {
    "duration": 1548,
    "start_time": "2023-06-12T15:21:11.479Z"
   },
   {
    "duration": 24,
    "start_time": "2023-06-12T15:21:13.035Z"
   },
   {
    "duration": 70,
    "start_time": "2023-06-12T15:21:13.067Z"
   },
   {
    "duration": 533,
    "start_time": "2023-06-12T15:21:13.152Z"
   },
   {
    "duration": 2287,
    "start_time": "2023-06-12T15:21:13.698Z"
   },
   {
    "duration": 844,
    "start_time": "2023-06-12T15:21:15.993Z"
   },
   {
    "duration": 931,
    "start_time": "2023-06-12T15:21:16.856Z"
   },
   {
    "duration": 748,
    "start_time": "2023-06-12T15:21:17.791Z"
   },
   {
    "duration": 763,
    "start_time": "2023-06-12T15:21:18.545Z"
   },
   {
    "duration": 635,
    "start_time": "2023-06-12T15:21:19.314Z"
   },
   {
    "duration": 718,
    "start_time": "2023-06-12T15:21:19.959Z"
   },
   {
    "duration": 1167,
    "start_time": "2023-06-12T15:21:20.683Z"
   },
   {
    "duration": 40,
    "start_time": "2023-06-12T15:21:21.856Z"
   },
   {
    "duration": 68,
    "start_time": "2023-06-12T15:21:21.903Z"
   },
   {
    "duration": 501,
    "start_time": "2023-06-12T15:21:21.976Z"
   },
   {
    "duration": 51,
    "start_time": "2023-06-12T15:21:22.497Z"
   },
   {
    "duration": 20,
    "start_time": "2023-06-12T15:21:22.555Z"
   },
   {
    "duration": 80,
    "start_time": "2023-06-12T15:21:22.581Z"
   },
   {
    "duration": 665,
    "start_time": "2023-06-12T15:21:22.668Z"
   },
   {
    "duration": 1504,
    "start_time": "2023-06-12T15:21:23.346Z"
   },
   {
    "duration": 84,
    "start_time": "2023-06-12T15:21:24.857Z"
   },
   {
    "duration": 494,
    "start_time": "2023-06-12T15:21:24.951Z"
   },
   {
    "duration": 1323,
    "start_time": "2023-06-12T15:21:25.451Z"
   },
   {
    "duration": 46,
    "start_time": "2023-06-12T15:21:26.790Z"
   },
   {
    "duration": 30,
    "start_time": "2023-06-12T15:21:26.851Z"
   },
   {
    "duration": 39,
    "start_time": "2023-06-12T15:21:26.888Z"
   },
   {
    "duration": 181,
    "start_time": "2023-06-12T15:21:26.933Z"
   },
   {
    "duration": 28,
    "start_time": "2023-06-12T15:21:27.137Z"
   },
   {
    "duration": 47,
    "start_time": "2023-06-12T15:21:27.182Z"
   },
   {
    "duration": 35,
    "start_time": "2023-06-12T15:21:27.242Z"
   },
   {
    "duration": 47,
    "start_time": "2023-06-12T15:21:27.294Z"
   },
   {
    "duration": 18,
    "start_time": "2023-06-12T15:21:27.343Z"
   },
   {
    "duration": 66,
    "start_time": "2023-06-12T15:21:27.363Z"
   },
   {
    "duration": 1026,
    "start_time": "2023-06-12T15:21:27.431Z"
   },
   {
    "duration": 1042,
    "start_time": "2023-06-12T15:21:28.459Z"
   },
   {
    "duration": 1272,
    "start_time": "2023-06-12T15:21:29.503Z"
   },
   {
    "duration": 1507,
    "start_time": "2023-06-12T15:21:30.778Z"
   },
   {
    "duration": 30,
    "start_time": "2023-06-12T15:22:59.767Z"
   },
   {
    "duration": 1202,
    "start_time": "2023-06-12T15:23:00.279Z"
   },
   {
    "duration": 880,
    "start_time": "2023-06-12T15:23:01.483Z"
   },
   {
    "duration": 923,
    "start_time": "2023-06-12T15:23:02.365Z"
   },
   {
    "duration": 1119,
    "start_time": "2023-06-12T15:23:03.291Z"
   }
  ],
  "kernelspec": {
   "display_name": "Python 3 (ipykernel)",
   "language": "python",
   "name": "python3"
  },
  "language_info": {
   "codemirror_mode": {
    "name": "ipython",
    "version": 3
   },
   "file_extension": ".py",
   "mimetype": "text/x-python",
   "name": "python",
   "nbconvert_exporter": "python",
   "pygments_lexer": "ipython3",
   "version": "3.9.17"
  },
  "toc": {
   "base_numbering": "1",
   "nav_menu": {},
   "number_sections": true,
   "sideBar": true,
   "skip_h1_title": true,
   "title_cell": "Table of Contents",
   "title_sidebar": "Contents",
   "toc_cell": false,
   "toc_position": {
    "height": "486px",
    "left": "76px",
    "top": "164.525px",
    "width": "185px"
   },
   "toc_section_display": true,
   "toc_window_display": true
  }
 },
 "nbformat": 4,
 "nbformat_minor": 4
}
