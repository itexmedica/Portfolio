{
 "cells": [
  {
   "cell_type": "markdown",
   "metadata": {},
   "source": [
    "# Исследование объявлений о продаже квартир\n",
    "\n",
    "В вашем распоряжении данные сервиса Яндекс.Недвижимость — архив объявлений о продаже квартир в Санкт-Петербурге и соседних населённых пунктов за несколько лет. Нужно научиться определять рыночную стоимость объектов недвижимости. Ваша задача — установить параметры. Это позволит построить автоматизированную систему: она отследит аномалии и мошенническую деятельность. \n",
    "\n",
    "По каждой квартире на продажу доступны два вида данных. Первые вписаны пользователем, вторые — получены автоматически на основе картографических данных. Например, расстояние до центра, аэропорта, ближайшего парка и водоёма. "
   ]
  },
  {
   "cell_type": "markdown",
   "metadata": {},
   "source": [
    "### Откройте файл с данными и изучите общую информацию. "
   ]
  },
  {
   "cell_type": "code",
   "execution_count": 24,
   "metadata": {
    "scrolled": true
   },
   "outputs": [],
   "source": [
    "import pandas as pd #импортируем библиотеку\n",
    "import numpy as np\n",
    "import matplotlib.pyplot as plt\n",
    "pd.set_option('display.max_columns', None)\n",
    "data = pd.read_csv('https://code.s3.yandex.net/datasets/real_estate_data.csv', sep ='\\t') #прочитаем csv-файл\n",
    "\n"
   ]
  },
  {
   "cell_type": "code",
   "execution_count": 25,
   "metadata": {},
   "outputs": [
    {
     "data": {
      "text/html": [
       "<div>\n",
       "<style scoped>\n",
       "    .dataframe tbody tr th:only-of-type {\n",
       "        vertical-align: middle;\n",
       "    }\n",
       "\n",
       "    .dataframe tbody tr th {\n",
       "        vertical-align: top;\n",
       "    }\n",
       "\n",
       "    .dataframe thead th {\n",
       "        text-align: right;\n",
       "    }\n",
       "</style>\n",
       "<table border=\"1\" class=\"dataframe\">\n",
       "  <thead>\n",
       "    <tr style=\"text-align: right;\">\n",
       "      <th></th>\n",
       "      <th>total_images</th>\n",
       "      <th>last_price</th>\n",
       "      <th>total_area</th>\n",
       "      <th>first_day_exposition</th>\n",
       "      <th>rooms</th>\n",
       "      <th>ceiling_height</th>\n",
       "      <th>floors_total</th>\n",
       "      <th>living_area</th>\n",
       "      <th>floor</th>\n",
       "      <th>is_apartment</th>\n",
       "      <th>studio</th>\n",
       "      <th>open_plan</th>\n",
       "      <th>kitchen_area</th>\n",
       "      <th>balcony</th>\n",
       "      <th>locality_name</th>\n",
       "      <th>airports_nearest</th>\n",
       "      <th>cityCenters_nearest</th>\n",
       "      <th>parks_around3000</th>\n",
       "      <th>parks_nearest</th>\n",
       "      <th>ponds_around3000</th>\n",
       "      <th>ponds_nearest</th>\n",
       "      <th>days_exposition</th>\n",
       "    </tr>\n",
       "  </thead>\n",
       "  <tbody>\n",
       "    <tr>\n",
       "      <th>0</th>\n",
       "      <td>20</td>\n",
       "      <td>13000000.0</td>\n",
       "      <td>108.00</td>\n",
       "      <td>2019-03-07T00:00:00</td>\n",
       "      <td>3</td>\n",
       "      <td>2.70</td>\n",
       "      <td>16.0</td>\n",
       "      <td>51.0</td>\n",
       "      <td>8</td>\n",
       "      <td>NaN</td>\n",
       "      <td>False</td>\n",
       "      <td>False</td>\n",
       "      <td>25.00</td>\n",
       "      <td>NaN</td>\n",
       "      <td>Санкт-Петербург</td>\n",
       "      <td>18863.0</td>\n",
       "      <td>16028.0</td>\n",
       "      <td>1.0</td>\n",
       "      <td>482.0</td>\n",
       "      <td>2.0</td>\n",
       "      <td>755.0</td>\n",
       "      <td>NaN</td>\n",
       "    </tr>\n",
       "    <tr>\n",
       "      <th>1</th>\n",
       "      <td>7</td>\n",
       "      <td>3350000.0</td>\n",
       "      <td>40.40</td>\n",
       "      <td>2018-12-04T00:00:00</td>\n",
       "      <td>1</td>\n",
       "      <td>NaN</td>\n",
       "      <td>11.0</td>\n",
       "      <td>18.6</td>\n",
       "      <td>1</td>\n",
       "      <td>NaN</td>\n",
       "      <td>False</td>\n",
       "      <td>False</td>\n",
       "      <td>11.00</td>\n",
       "      <td>2.0</td>\n",
       "      <td>посёлок Шушары</td>\n",
       "      <td>12817.0</td>\n",
       "      <td>18603.0</td>\n",
       "      <td>0.0</td>\n",
       "      <td>NaN</td>\n",
       "      <td>0.0</td>\n",
       "      <td>NaN</td>\n",
       "      <td>81.0</td>\n",
       "    </tr>\n",
       "    <tr>\n",
       "      <th>2</th>\n",
       "      <td>10</td>\n",
       "      <td>5196000.0</td>\n",
       "      <td>56.00</td>\n",
       "      <td>2015-08-20T00:00:00</td>\n",
       "      <td>2</td>\n",
       "      <td>NaN</td>\n",
       "      <td>5.0</td>\n",
       "      <td>34.3</td>\n",
       "      <td>4</td>\n",
       "      <td>NaN</td>\n",
       "      <td>False</td>\n",
       "      <td>False</td>\n",
       "      <td>8.30</td>\n",
       "      <td>0.0</td>\n",
       "      <td>Санкт-Петербург</td>\n",
       "      <td>21741.0</td>\n",
       "      <td>13933.0</td>\n",
       "      <td>1.0</td>\n",
       "      <td>90.0</td>\n",
       "      <td>2.0</td>\n",
       "      <td>574.0</td>\n",
       "      <td>558.0</td>\n",
       "    </tr>\n",
       "    <tr>\n",
       "      <th>3</th>\n",
       "      <td>0</td>\n",
       "      <td>64900000.0</td>\n",
       "      <td>159.00</td>\n",
       "      <td>2015-07-24T00:00:00</td>\n",
       "      <td>3</td>\n",
       "      <td>NaN</td>\n",
       "      <td>14.0</td>\n",
       "      <td>NaN</td>\n",
       "      <td>9</td>\n",
       "      <td>NaN</td>\n",
       "      <td>False</td>\n",
       "      <td>False</td>\n",
       "      <td>NaN</td>\n",
       "      <td>0.0</td>\n",
       "      <td>Санкт-Петербург</td>\n",
       "      <td>28098.0</td>\n",
       "      <td>6800.0</td>\n",
       "      <td>2.0</td>\n",
       "      <td>84.0</td>\n",
       "      <td>3.0</td>\n",
       "      <td>234.0</td>\n",
       "      <td>424.0</td>\n",
       "    </tr>\n",
       "    <tr>\n",
       "      <th>4</th>\n",
       "      <td>2</td>\n",
       "      <td>10000000.0</td>\n",
       "      <td>100.00</td>\n",
       "      <td>2018-06-19T00:00:00</td>\n",
       "      <td>2</td>\n",
       "      <td>3.03</td>\n",
       "      <td>14.0</td>\n",
       "      <td>32.0</td>\n",
       "      <td>13</td>\n",
       "      <td>NaN</td>\n",
       "      <td>False</td>\n",
       "      <td>False</td>\n",
       "      <td>41.00</td>\n",
       "      <td>NaN</td>\n",
       "      <td>Санкт-Петербург</td>\n",
       "      <td>31856.0</td>\n",
       "      <td>8098.0</td>\n",
       "      <td>2.0</td>\n",
       "      <td>112.0</td>\n",
       "      <td>1.0</td>\n",
       "      <td>48.0</td>\n",
       "      <td>121.0</td>\n",
       "    </tr>\n",
       "    <tr>\n",
       "      <th>...</th>\n",
       "      <td>...</td>\n",
       "      <td>...</td>\n",
       "      <td>...</td>\n",
       "      <td>...</td>\n",
       "      <td>...</td>\n",
       "      <td>...</td>\n",
       "      <td>...</td>\n",
       "      <td>...</td>\n",
       "      <td>...</td>\n",
       "      <td>...</td>\n",
       "      <td>...</td>\n",
       "      <td>...</td>\n",
       "      <td>...</td>\n",
       "      <td>...</td>\n",
       "      <td>...</td>\n",
       "      <td>...</td>\n",
       "      <td>...</td>\n",
       "      <td>...</td>\n",
       "      <td>...</td>\n",
       "      <td>...</td>\n",
       "      <td>...</td>\n",
       "      <td>...</td>\n",
       "    </tr>\n",
       "    <tr>\n",
       "      <th>23694</th>\n",
       "      <td>9</td>\n",
       "      <td>9700000.0</td>\n",
       "      <td>133.81</td>\n",
       "      <td>2017-03-21T00:00:00</td>\n",
       "      <td>3</td>\n",
       "      <td>3.70</td>\n",
       "      <td>5.0</td>\n",
       "      <td>73.3</td>\n",
       "      <td>3</td>\n",
       "      <td>NaN</td>\n",
       "      <td>False</td>\n",
       "      <td>False</td>\n",
       "      <td>13.83</td>\n",
       "      <td>NaN</td>\n",
       "      <td>Санкт-Петербург</td>\n",
       "      <td>24665.0</td>\n",
       "      <td>4232.0</td>\n",
       "      <td>1.0</td>\n",
       "      <td>796.0</td>\n",
       "      <td>3.0</td>\n",
       "      <td>381.0</td>\n",
       "      <td>NaN</td>\n",
       "    </tr>\n",
       "    <tr>\n",
       "      <th>23695</th>\n",
       "      <td>14</td>\n",
       "      <td>3100000.0</td>\n",
       "      <td>59.00</td>\n",
       "      <td>2018-01-15T00:00:00</td>\n",
       "      <td>3</td>\n",
       "      <td>NaN</td>\n",
       "      <td>5.0</td>\n",
       "      <td>38.0</td>\n",
       "      <td>4</td>\n",
       "      <td>NaN</td>\n",
       "      <td>False</td>\n",
       "      <td>False</td>\n",
       "      <td>8.50</td>\n",
       "      <td>NaN</td>\n",
       "      <td>Тосно</td>\n",
       "      <td>NaN</td>\n",
       "      <td>NaN</td>\n",
       "      <td>NaN</td>\n",
       "      <td>NaN</td>\n",
       "      <td>NaN</td>\n",
       "      <td>NaN</td>\n",
       "      <td>45.0</td>\n",
       "    </tr>\n",
       "    <tr>\n",
       "      <th>23696</th>\n",
       "      <td>18</td>\n",
       "      <td>2500000.0</td>\n",
       "      <td>56.70</td>\n",
       "      <td>2018-02-11T00:00:00</td>\n",
       "      <td>2</td>\n",
       "      <td>NaN</td>\n",
       "      <td>3.0</td>\n",
       "      <td>29.7</td>\n",
       "      <td>1</td>\n",
       "      <td>NaN</td>\n",
       "      <td>False</td>\n",
       "      <td>False</td>\n",
       "      <td>NaN</td>\n",
       "      <td>NaN</td>\n",
       "      <td>село Рождествено</td>\n",
       "      <td>NaN</td>\n",
       "      <td>NaN</td>\n",
       "      <td>NaN</td>\n",
       "      <td>NaN</td>\n",
       "      <td>NaN</td>\n",
       "      <td>NaN</td>\n",
       "      <td>NaN</td>\n",
       "    </tr>\n",
       "    <tr>\n",
       "      <th>23697</th>\n",
       "      <td>13</td>\n",
       "      <td>11475000.0</td>\n",
       "      <td>76.75</td>\n",
       "      <td>2017-03-28T00:00:00</td>\n",
       "      <td>2</td>\n",
       "      <td>3.00</td>\n",
       "      <td>17.0</td>\n",
       "      <td>NaN</td>\n",
       "      <td>12</td>\n",
       "      <td>NaN</td>\n",
       "      <td>False</td>\n",
       "      <td>False</td>\n",
       "      <td>23.30</td>\n",
       "      <td>2.0</td>\n",
       "      <td>Санкт-Петербург</td>\n",
       "      <td>39140.0</td>\n",
       "      <td>10364.0</td>\n",
       "      <td>2.0</td>\n",
       "      <td>173.0</td>\n",
       "      <td>3.0</td>\n",
       "      <td>196.0</td>\n",
       "      <td>602.0</td>\n",
       "    </tr>\n",
       "    <tr>\n",
       "      <th>23698</th>\n",
       "      <td>4</td>\n",
       "      <td>1350000.0</td>\n",
       "      <td>32.30</td>\n",
       "      <td>2017-07-21T00:00:00</td>\n",
       "      <td>1</td>\n",
       "      <td>2.50</td>\n",
       "      <td>5.0</td>\n",
       "      <td>12.3</td>\n",
       "      <td>1</td>\n",
       "      <td>NaN</td>\n",
       "      <td>False</td>\n",
       "      <td>False</td>\n",
       "      <td>9.00</td>\n",
       "      <td>NaN</td>\n",
       "      <td>поселок Новый Учхоз</td>\n",
       "      <td>NaN</td>\n",
       "      <td>NaN</td>\n",
       "      <td>NaN</td>\n",
       "      <td>NaN</td>\n",
       "      <td>NaN</td>\n",
       "      <td>NaN</td>\n",
       "      <td>NaN</td>\n",
       "    </tr>\n",
       "  </tbody>\n",
       "</table>\n",
       "<p>23699 rows × 22 columns</p>\n",
       "</div>"
      ],
      "text/plain": [
       "       total_images  last_price  total_area first_day_exposition  rooms  \\\n",
       "0                20  13000000.0      108.00  2019-03-07T00:00:00      3   \n",
       "1                 7   3350000.0       40.40  2018-12-04T00:00:00      1   \n",
       "2                10   5196000.0       56.00  2015-08-20T00:00:00      2   \n",
       "3                 0  64900000.0      159.00  2015-07-24T00:00:00      3   \n",
       "4                 2  10000000.0      100.00  2018-06-19T00:00:00      2   \n",
       "...             ...         ...         ...                  ...    ...   \n",
       "23694             9   9700000.0      133.81  2017-03-21T00:00:00      3   \n",
       "23695            14   3100000.0       59.00  2018-01-15T00:00:00      3   \n",
       "23696            18   2500000.0       56.70  2018-02-11T00:00:00      2   \n",
       "23697            13  11475000.0       76.75  2017-03-28T00:00:00      2   \n",
       "23698             4   1350000.0       32.30  2017-07-21T00:00:00      1   \n",
       "\n",
       "       ceiling_height  floors_total  living_area  floor is_apartment  studio  \\\n",
       "0                2.70          16.0         51.0      8          NaN   False   \n",
       "1                 NaN          11.0         18.6      1          NaN   False   \n",
       "2                 NaN           5.0         34.3      4          NaN   False   \n",
       "3                 NaN          14.0          NaN      9          NaN   False   \n",
       "4                3.03          14.0         32.0     13          NaN   False   \n",
       "...               ...           ...          ...    ...          ...     ...   \n",
       "23694            3.70           5.0         73.3      3          NaN   False   \n",
       "23695             NaN           5.0         38.0      4          NaN   False   \n",
       "23696             NaN           3.0         29.7      1          NaN   False   \n",
       "23697            3.00          17.0          NaN     12          NaN   False   \n",
       "23698            2.50           5.0         12.3      1          NaN   False   \n",
       "\n",
       "       open_plan  kitchen_area  balcony        locality_name  \\\n",
       "0          False         25.00      NaN      Санкт-Петербург   \n",
       "1          False         11.00      2.0       посёлок Шушары   \n",
       "2          False          8.30      0.0      Санкт-Петербург   \n",
       "3          False           NaN      0.0      Санкт-Петербург   \n",
       "4          False         41.00      NaN      Санкт-Петербург   \n",
       "...          ...           ...      ...                  ...   \n",
       "23694      False         13.83      NaN      Санкт-Петербург   \n",
       "23695      False          8.50      NaN                Тосно   \n",
       "23696      False           NaN      NaN     село Рождествено   \n",
       "23697      False         23.30      2.0      Санкт-Петербург   \n",
       "23698      False          9.00      NaN  поселок Новый Учхоз   \n",
       "\n",
       "       airports_nearest  cityCenters_nearest  parks_around3000  parks_nearest  \\\n",
       "0               18863.0              16028.0               1.0          482.0   \n",
       "1               12817.0              18603.0               0.0            NaN   \n",
       "2               21741.0              13933.0               1.0           90.0   \n",
       "3               28098.0               6800.0               2.0           84.0   \n",
       "4               31856.0               8098.0               2.0          112.0   \n",
       "...                 ...                  ...               ...            ...   \n",
       "23694           24665.0               4232.0               1.0          796.0   \n",
       "23695               NaN                  NaN               NaN            NaN   \n",
       "23696               NaN                  NaN               NaN            NaN   \n",
       "23697           39140.0              10364.0               2.0          173.0   \n",
       "23698               NaN                  NaN               NaN            NaN   \n",
       "\n",
       "       ponds_around3000  ponds_nearest  days_exposition  \n",
       "0                   2.0          755.0              NaN  \n",
       "1                   0.0            NaN             81.0  \n",
       "2                   2.0          574.0            558.0  \n",
       "3                   3.0          234.0            424.0  \n",
       "4                   1.0           48.0            121.0  \n",
       "...                 ...            ...              ...  \n",
       "23694               3.0          381.0              NaN  \n",
       "23695               NaN            NaN             45.0  \n",
       "23696               NaN            NaN              NaN  \n",
       "23697               3.0          196.0            602.0  \n",
       "23698               NaN            NaN              NaN  \n",
       "\n",
       "[23699 rows x 22 columns]"
      ]
     },
     "metadata": {},
     "output_type": "display_data"
    }
   ],
   "source": [
    "display(data)"
   ]
  },
  {
   "cell_type": "code",
   "execution_count": 26,
   "metadata": {},
   "outputs": [
    {
     "name": "stdout",
     "output_type": "stream",
     "text": [
      "<class 'pandas.core.frame.DataFrame'>\n",
      "RangeIndex: 23699 entries, 0 to 23698\n",
      "Data columns (total 22 columns):\n",
      " #   Column                Non-Null Count  Dtype  \n",
      "---  ------                --------------  -----  \n",
      " 0   total_images          23699 non-null  int64  \n",
      " 1   last_price            23699 non-null  float64\n",
      " 2   total_area            23699 non-null  float64\n",
      " 3   first_day_exposition  23699 non-null  object \n",
      " 4   rooms                 23699 non-null  int64  \n",
      " 5   ceiling_height        14504 non-null  float64\n",
      " 6   floors_total          23613 non-null  float64\n",
      " 7   living_area           21796 non-null  float64\n",
      " 8   floor                 23699 non-null  int64  \n",
      " 9   is_apartment          2775 non-null   object \n",
      " 10  studio                23699 non-null  bool   \n",
      " 11  open_plan             23699 non-null  bool   \n",
      " 12  kitchen_area          21421 non-null  float64\n",
      " 13  balcony               12180 non-null  float64\n",
      " 14  locality_name         23650 non-null  object \n",
      " 15  airports_nearest      18157 non-null  float64\n",
      " 16  cityCenters_nearest   18180 non-null  float64\n",
      " 17  parks_around3000      18181 non-null  float64\n",
      " 18  parks_nearest         8079 non-null   float64\n",
      " 19  ponds_around3000      18181 non-null  float64\n",
      " 20  ponds_nearest         9110 non-null   float64\n",
      " 21  days_exposition       20518 non-null  float64\n",
      "dtypes: bool(2), float64(14), int64(3), object(3)\n",
      "memory usage: 3.7+ MB\n",
      "None\n"
     ]
    }
   ],
   "source": [
    "print(data.info())"
   ]
  },
  {
   "cell_type": "code",
   "execution_count": 27,
   "metadata": {},
   "outputs": [
    {
     "name": "stdout",
     "output_type": "stream",
     "text": [
      "       total_images    last_price    total_area         rooms  ceiling_height  \\\n",
      "count  23699.000000  2.369900e+04  23699.000000  23699.000000    14504.000000   \n",
      "mean       9.858475  6.541549e+06     60.348651      2.070636        2.771499   \n",
      "std        5.682529  1.088701e+07     35.654083      1.078405        1.261056   \n",
      "min        0.000000  1.219000e+04     12.000000      0.000000        1.000000   \n",
      "25%        6.000000  3.400000e+06     40.000000      1.000000        2.520000   \n",
      "50%        9.000000  4.650000e+06     52.000000      2.000000        2.650000   \n",
      "75%       14.000000  6.800000e+06     69.900000      3.000000        2.800000   \n",
      "max       50.000000  7.630000e+08    900.000000     19.000000      100.000000   \n",
      "\n",
      "       floors_total   living_area         floor  kitchen_area       balcony  \\\n",
      "count  23613.000000  21796.000000  23699.000000  21421.000000  12180.000000   \n",
      "mean      10.673824     34.457852      5.892358     10.569807      1.150082   \n",
      "std        6.597173     22.030445      4.885249      5.905438      1.071300   \n",
      "min        1.000000      2.000000      1.000000      1.300000      0.000000   \n",
      "25%        5.000000     18.600000      2.000000      7.000000      0.000000   \n",
      "50%        9.000000     30.000000      4.000000      9.100000      1.000000   \n",
      "75%       16.000000     42.300000      8.000000     12.000000      2.000000   \n",
      "max       60.000000    409.700000     33.000000    112.000000      5.000000   \n",
      "\n",
      "       airports_nearest  cityCenters_nearest  parks_around3000  parks_nearest  \\\n",
      "count      18157.000000         18180.000000      18181.000000    8079.000000   \n",
      "mean       28793.672193         14191.277833          0.611408     490.804555   \n",
      "std        12630.880622          8608.386210          0.802074     342.317995   \n",
      "min            0.000000           181.000000          0.000000       1.000000   \n",
      "25%        18585.000000          9238.000000          0.000000     288.000000   \n",
      "50%        26726.000000         13098.500000          0.000000     455.000000   \n",
      "75%        37273.000000         16293.000000          1.000000     612.000000   \n",
      "max        84869.000000         65968.000000          3.000000    3190.000000   \n",
      "\n",
      "       ponds_around3000  ponds_nearest  days_exposition  \n",
      "count      18181.000000    9110.000000     20518.000000  \n",
      "mean           0.770255     517.980900       180.888634  \n",
      "std            0.938346     277.720643       219.727988  \n",
      "min            0.000000      13.000000         1.000000  \n",
      "25%            0.000000     294.000000        45.000000  \n",
      "50%            1.000000     502.000000        95.000000  \n",
      "75%            1.000000     729.000000       232.000000  \n",
      "max            3.000000    1344.000000      1580.000000  \n"
     ]
    }
   ],
   "source": [
    "print(data.describe())"
   ]
  },
  {
   "cell_type": "code",
   "execution_count": 28,
   "metadata": {
    "scrolled": true
   },
   "outputs": [
    {
     "name": "stdout",
     "output_type": "stream",
     "text": [
      "total_images                0\n",
      "last_price                  0\n",
      "total_area                  0\n",
      "first_day_exposition        0\n",
      "rooms                       0\n",
      "ceiling_height           9195\n",
      "floors_total               86\n",
      "living_area              1903\n",
      "floor                       0\n",
      "is_apartment            20924\n",
      "studio                      0\n",
      "open_plan                   0\n",
      "kitchen_area             2278\n",
      "balcony                 11519\n",
      "locality_name              49\n",
      "airports_nearest         5542\n",
      "cityCenters_nearest      5519\n",
      "parks_around3000         5518\n",
      "parks_nearest           15620\n",
      "ponds_around3000         5518\n",
      "ponds_nearest           14589\n",
      "days_exposition          3181\n",
      "dtype: int64\n"
     ]
    }
   ],
   "source": [
    "print(data.isna().sum()) #количество пропущенных значений в столбцах"
   ]
  },
  {
   "cell_type": "markdown",
   "metadata": {},
   "source": [
    "last_price-изменить формат на int\n",
    "first_day_exposition- необходимо заменить object нa тип datetime\n",
    "ceiling_height- есть пропущенные значения\n",
    "floors_total - необходимо заменить на int , есть пропущенные значения\n",
    "living_area-есть пропущенные значения\n",
    "is_apartment-есть пропущенные значения, bool\n",
    "kitchen_area- есть пропущенные значения\n",
    "balcony- int, есть пропущенные значения\n",
    "locality_name - есть пропущенные значения(их оставим без изменений, тк неясна причина пропусков+их немного)\n",
    "airports_nearest - есть пропущенные значения(не ясна причина пропусков)\n",
    "cityCenters_nearest  - есть пропущенные значения(не ясна причина пропусков)\n",
    "parks_around3000  -  есть пропущенные значения(не ясна причина пропусков)\n",
    "parks_nearest - есть пропущенные значения (не ясна причина пропусков)\n",
    " ponds_around3000 -  есть пропущенные значения(не ясна причина пропусков)\n",
    "days_exposition -  есть пропущенные значения\n"
   ]
  },
  {
   "cell_type": "code",
   "execution_count": 29,
   "metadata": {},
   "outputs": [
    {
     "data": {
      "text/plain": [
       "array([[<AxesSubplot:title={'center':'total_images'}>,\n",
       "        <AxesSubplot:title={'center':'last_price'}>,\n",
       "        <AxesSubplot:title={'center':'total_area'}>,\n",
       "        <AxesSubplot:title={'center':'rooms'}>],\n",
       "       [<AxesSubplot:title={'center':'ceiling_height'}>,\n",
       "        <AxesSubplot:title={'center':'floors_total'}>,\n",
       "        <AxesSubplot:title={'center':'living_area'}>,\n",
       "        <AxesSubplot:title={'center':'floor'}>],\n",
       "       [<AxesSubplot:title={'center':'kitchen_area'}>,\n",
       "        <AxesSubplot:title={'center':'balcony'}>,\n",
       "        <AxesSubplot:title={'center':'airports_nearest'}>,\n",
       "        <AxesSubplot:title={'center':'cityCenters_nearest'}>],\n",
       "       [<AxesSubplot:title={'center':'parks_around3000'}>,\n",
       "        <AxesSubplot:title={'center':'parks_nearest'}>,\n",
       "        <AxesSubplot:title={'center':'ponds_around3000'}>,\n",
       "        <AxesSubplot:title={'center':'ponds_nearest'}>],\n",
       "       [<AxesSubplot:title={'center':'days_exposition'}>, <AxesSubplot:>,\n",
       "        <AxesSubplot:>, <AxesSubplot:>]], dtype=object)"
      ]
     },
     "execution_count": 29,
     "metadata": {},
     "output_type": "execute_result"
    },
    {
     "data": {
      "image/png": "[encoded data removed]",
      "text/plain": [
       "<Figure size 1080x1440 with 20 Axes>"
      ]
     },
     "metadata": {
      "needs_background": "light"
     },
     "output_type": "display_data"
    }
   ],
   "source": [
    "data.hist(figsize=(15, 20))"
   ]
  },
  {
   "cell_type": "markdown",
   "metadata": {},
   "source": [
    "### Предобработка данных"
   ]
  },
  {
   "cell_type": "code",
   "execution_count": 38,
   "metadata": {},
   "outputs": [],
   "source": [
    "#поменяем тип столбца\n",
    "data['last_price']=data['last_price'].astype('int')\n",
    "\n",
    "#поменяем формат столбца\n",
    "data['first_day_exposition']=pd.to_datetime(data['first_day_exposition'], format='%Y-%m-%d')\n",
    "\n",
    "#заменим пропуски в столбце на медианные значения, устойчивы к выбросам(которые есть в этом столбце)\n",
    "median_ceiling_height = data.groupby('cityCenters_nearest')['ceiling_height'].transform('median')\n",
    "data['ceiling_height'].fillna(median_ceiling_height, inplace = True)\n",
    "median_ceiling_height = data.groupby('locality_name')['ceiling_height'].transform('median')\n",
    "data['ceiling_height'].fillna(median_ceiling_height, inplace = True)\n",
    "\n",
    "\n",
    "#заменим пропущенные значения \n",
    "coefic_living_area = (data['living_area']/data['total_area']).mean()\n",
    "data['living_area'].fillna(coefic_living_area*data['total_area'], inplace = True)\n",
    "\n",
    "\n",
    "#изменим тип, пропуски заменим на False\n",
    "data['is_apartment']=data['is_apartment'].fillna(False)\n",
    "data['is_apartment']=data['is_apartment'].astype('bool')\n",
    "\n",
    "\n",
    "#заменим пропущенные значения\n",
    "coefic_kitchen_area = (data['kitchen_area']/data['total_area']).mean()\n",
    "data['kitchen_area'].fillna(coefic_kitchen_area* data['total_area'], inplace = True)\n",
    "\n",
    "\n",
    "#заменим тип и пропущенные значения\n",
    "data['balcony']= data['balcony'].fillna(0)\n",
    "data['balcony'] = data['balcony'].astype('int')\n",
    "\n",
    "#заменим пропуски медианными значениями\n",
    "median_days_exposition= data.groupby('first_day_exposition')['days_exposition'].transform('median')\n",
    "data['days_exposition'].fillna(median_days_exposition, inplace = True)\n",
    "\n",
    "median_cityCenters_nearest= data.groupby('locality_name')['cityCenters_nearest'].transform('median')\n",
    "data['cityCenters_nearest'].fillna(median_cityCenters_nearest, inplace = True)\n",
    "\n",
    "median_airports_nearest= data.groupby('locality_name')['airports_nearest'].transform('median')\n",
    "data['airports_nearest'].fillna(median_airports_nearest, inplace = True)\n"
   ]
  },
  {
   "cell_type": "markdown",
   "metadata": {},
   "source": [
    "   Причинами, приводящими к появлению пропусков, являются невозможность получения или обработки(в т.ч. повреждение носителей информации), искажение или сокрытие информации(т.е. человеческий фактор),в нашем случае-продавец не указал количество балконов из-за из отсутствия, в столбце is_apartment пропущено более половины значений, возможно из-за недавнего появления аппартаментов.\n",
    "   В столбцах дата фрейма -floors_total, locality_name, airports_nearest, cityCenters_nearest ,parks_around3000 ,parks_nearest, ponds_around3000 ,ponds_nearest, значения пропущены, не зависят от известных нам значений,не известна и причина появления пропусков, поэтому оставляем без изменений\n",
    "   Типы значений были изменены в столбцах- last_price, balcony для упрощения восприятия, тк это целые числа без дробной части; в столбце is_apartment, тк содержанием являются булевские значения- True, False; в столбце first_day_exposition, тк время не указано.\n",
    "   "
   ]
  },
  {
   "cell_type": "code",
   "execution_count": 31,
   "metadata": {},
   "outputs": [],
   "source": [
    "#удалим строки с пропущенными значениями, которые составляют менее 1% от общего количества значений\n",
    "data = data.dropna(subset=['floors_total', 'locality_name', 'kitchen_area', 'days_exposition']) "
   ]
  },
  {
   "cell_type": "code",
   "execution_count": 32,
   "metadata": {},
   "outputs": [],
   "source": [
    "q1 = data['airports_nearest'].quantile(0.25)\n",
    "q3 = data['airports_nearest'].quantile(0.75)\n",
    "iqr = q3 - q1\n",
    "lower_line = q1 - 1.5 * iqr\n",
    "upper_line = q1 + 1.5 * iqr\n",
    "data = data[(data['airports_nearest']>lower_line)&(data['airports_nearest']<upper_line)]"
   ]
  },
  {
   "cell_type": "code",
   "execution_count": 33,
   "metadata": {},
   "outputs": [],
   "source": [
    "median = data['ceiling_height'].median()\n",
    "q1 = data['ceiling_height'].quantile(0.25)\n",
    "q3 = data['ceiling_height'].quantile(0.75)\n",
    "iqr = q3 - q1\n",
    "lower_line1 = q1 - 1.5 * iqr\n",
    "upper_line1 = q1 + 1.5 * iqr\n",
    "data[(data['ceiling_height']<lower_line1)&(data['ceiling_height']>upper_line1)] = median"
   ]
  },
  {
   "cell_type": "code",
   "execution_count": 34,
   "metadata": {},
   "outputs": [],
   "source": [
    "#заменим аномально высокие значения дата высоты потолков(ссылаясь на опечатку)\n",
    "#удалим аномально низкие значения (менее 2 метров)\n",
    "data.loc[data['ceiling_height'] > 10, 'ceiling_height'] /= 10\n",
    "data = data[(data['ceiling_height'] > 2)]"
   ]
  },
  {
   "cell_type": "code",
   "execution_count": 35,
   "metadata": {},
   "outputs": [],
   "source": [
    "#оставим только название населенных пунктов, чтобы избавиться от всех неявных дубликатов\n",
    "data['locality_name'] = data['locality_name'].str.replace('посёлок', 'поселок')\n",
    "data['locality_name'] = data['locality_name'].str.replace('садовое товарищество ', '')\n",
    "data['locality_name'] = data['locality_name'].str.replace('садоводческое некоммерческое товарищество ', '')\n",
    "data['locality_name'] = data['locality_name'].str.replace('поселок станции ', '')\n",
    "data['locality_name'] = data['locality_name'].str.replace('поселок при железнодорожной станции ', '')\n",
    "data['locality_name'] = data['locality_name'].str.replace('поселок городского типа ', '')\n",
    "data['locality_name'] = data['locality_name'].str.replace('городской поселок ', '')\n",
    "data['locality_name'] = data['locality_name'].str.replace('коттеджный поселок ', '')\n",
    "data['locality_name'] = data['locality_name'].str.replace('поселок ', '')\n",
    "data['locality_name'] = data['locality_name'].str.replace('деревня ', '')\n",
    "data['locality_name'] = data['locality_name'].str.replace('село ', '')\n"
   ]
  },
  {
   "cell_type": "code",
   "execution_count": 36,
   "metadata": {},
   "outputs": [
    {
     "data": {
      "text/plain": [
       "array(['Санкт-Петербург', 'Шушары', 'Петергоф', 'Пушкин', 'Колпино',\n",
       "       'Металлострой', 'Павловск', 'Красное Село', 'Понтонный',\n",
       "       'Стрельна', 'Александровская', 'Парголово', 'Ломоносов',\n",
       "       'Сапёрный'], dtype=object)"
      ]
     },
     "execution_count": 36,
     "metadata": {},
     "output_type": "execute_result"
    }
   ],
   "source": [
    "data['locality_name'].unique()"
   ]
  },
  {
   "cell_type": "markdown",
   "metadata": {},
   "source": [
    "### Посчитайте и добавьте в таблицу новые столбцы"
   ]
  },
  {
   "cell_type": "code",
   "execution_count": 39,
   "metadata": {
    "scrolled": true
   },
   "outputs": [],
   "source": [
    "#цена одного квадратного метра;\n",
    "data['price_metr'] = data['last_price']/ data['total_area']\n",
    "\n",
    "#день недели публикации объявления (0 — понедельник, 1 — вторник и так далее);\n",
    "data['weekday_public'] = data['first_day_exposition'].dt.weekday\n",
    "\n",
    "#месяц публикации объявления\n",
    "data['month_public'] = data['first_day_exposition'].dt.month\n",
    "\n",
    "#год публикации объявления\n",
    "data['year_public'] = data['first_day_exposition'].dt.year\n",
    "\n",
    "#тип этажа квартиры (значения — «‎первый», «последний», «другой»)\n",
    "def floor_category(row):\n",
    "    floor = row['floor']\n",
    "    floors_total = row['floors_total']\n",
    "    if floor == 1:\n",
    "        return 'первый'\n",
    "    elif floor == floors_total:\n",
    "        return 'последний'\n",
    "    elif 1 < floor < floors_total:\n",
    "        return 'другой'\n",
    "data['floor_category'] = data.apply(floor_category, axis = 1)\n",
    "\n",
    "    \n",
    "#расстояние до центра города в километрах\n",
    "data['km_cityCenters'] = round(data['cityCenters_nearest']/1000)\n"
   ]
  },
  {
   "cell_type": "code",
   "execution_count": 40,
   "metadata": {},
   "outputs": [
    {
     "name": "stdout",
     "output_type": "stream",
     "text": [
      "total_images               0\n",
      "last_price                 0\n",
      "total_area                 0\n",
      "first_day_exposition       0\n",
      "rooms                      0\n",
      "ceiling_height             0\n",
      "floors_total               0\n",
      "living_area                0\n",
      "floor                      0\n",
      "is_apartment               0\n",
      "studio                     0\n",
      "open_plan                  0\n",
      "kitchen_area               0\n",
      "balcony                    0\n",
      "locality_name              0\n",
      "airports_nearest           0\n",
      "cityCenters_nearest        0\n",
      "parks_around3000          64\n",
      "parks_nearest           8755\n",
      "ponds_around3000          64\n",
      "ponds_nearest           7930\n",
      "days_exposition            0\n",
      "price_metr                 0\n",
      "weekday_public             0\n",
      "month_public               0\n",
      "year_public                0\n",
      "floor_category             0\n",
      "km_cityCenters             0\n",
      "dtype: int64\n"
     ]
    }
   ],
   "source": [
    "print(data.isna().sum())"
   ]
  },
  {
   "cell_type": "markdown",
   "metadata": {},
   "source": [
    "### Проведите исследовательский анализ данных"
   ]
  },
  {
   "cell_type": "code",
   "execution_count": 41,
   "metadata": {},
   "outputs": [
    {
     "name": "stdout",
     "output_type": "stream",
     "text": [
      "count    16192.000000\n",
      "mean        64.264077\n",
      "std         40.156483\n",
      "min         12.000000\n",
      "25%         41.600000\n",
      "50%         54.700000\n",
      "75%         74.000000\n",
      "max        900.000000\n",
      "Name: total_area, dtype: float64\n"
     ]
    },
    {
     "data": {
      "text/plain": [
       "<AxesSubplot:title={'center':'Диаграмма общей площади'}, ylabel='Frequency'>"
      ]
     },
     "execution_count": 41,
     "metadata": {},
     "output_type": "execute_result"
    },
    {
     "data": {
      "image/png": "[encoded data removed]",
      "text/plain": [
       "<Figure size 576x432 with 1 Axes>"
      ]
     },
     "metadata": {
      "needs_background": "light"
     },
     "output_type": "display_data"
    }
   ],
   "source": [
    "# изучим параметры объекта 'общая площадь'\n",
    "print(data['total_area'].describe())\n",
    "data.plot(y='total_area', kind='hist', bins = 100, grid = True, figsize =(8,6), range =(0,500), title ='Диаграмма общей площади')"
   ]
  },
  {
   "cell_type": "code",
   "execution_count": 42,
   "metadata": {},
   "outputs": [
    {
     "data": {
      "text/plain": [
       "<AxesSubplot:>"
      ]
     },
     "execution_count": 42,
     "metadata": {},
     "output_type": "execute_result"
    },
    {
     "data": {
      "image/png": "[encoded data removed]",
      "text/plain": [
       "<Figure size 432x288 with 1 Axes>"
      ]
     },
     "metadata": {
      "needs_background": "light"
     },
     "output_type": "display_data"
    }
   ],
   "source": [
    "data.boxplot('total_area')"
   ]
  },
  {
   "cell_type": "code",
   "execution_count": 43,
   "metadata": {},
   "outputs": [
    {
     "name": "stdout",
     "output_type": "stream",
     "text": [
      "count    16192.000000\n",
      "mean        36.937197\n",
      "std         25.036717\n",
      "min          2.000000\n",
      "25%         20.000000\n",
      "50%         31.000000\n",
      "75%         44.000000\n",
      "max        409.700000\n",
      "Name: living_area, dtype: float64\n"
     ]
    },
    {
     "data": {
      "text/plain": [
       "<AxesSubplot:title={'center':'Диаграмма жилой площади'}, ylabel='Frequency'>"
      ]
     },
     "execution_count": 43,
     "metadata": {},
     "output_type": "execute_result"
    },
    {
     "data": {
      "image/png": "[encoded data removed]",
      "text/plain": [
       "<Figure size 576x432 with 1 Axes>"
      ]
     },
     "metadata": {
      "needs_background": "light"
     },
     "output_type": "display_data"
    }
   ],
   "source": [
    "# изучим параметры объекта 'жилая площадь'\n",
    "print(data['living_area'].describe())\n",
    "data.plot(y='living_area', kind='hist', bins = 100, grid = True, figsize =(8,6), range =(0,300), title ='Диаграмма жилой площади')"
   ]
  },
  {
   "cell_type": "code",
   "execution_count": 44,
   "metadata": {},
   "outputs": [
    {
     "data": {
      "text/plain": [
       "<AxesSubplot:>"
      ]
     },
     "execution_count": 44,
     "metadata": {},
     "output_type": "execute_result"
    },
    {
     "data": {
      "image/png": "[encoded data removed]",
      "text/plain": [
       "<Figure size 432x288 with 1 Axes>"
      ]
     },
     "metadata": {
      "needs_background": "light"
     },
     "output_type": "display_data"
    }
   ],
   "source": [
    "data.boxplot('living_area')"
   ]
  },
  {
   "cell_type": "code",
   "execution_count": 45,
   "metadata": {},
   "outputs": [
    {
     "name": "stdout",
     "output_type": "stream",
     "text": [
      "count    16192.000000\n",
      "mean        11.119136\n",
      "std          6.752693\n",
      "min          1.300000\n",
      "25%          7.119870\n",
      "50%          9.774959\n",
      "75%         12.500000\n",
      "max        112.000000\n",
      "Name: kitchen_area, dtype: float64\n"
     ]
    },
    {
     "data": {
      "text/plain": [
       "<AxesSubplot:title={'center':'Диаграмма площади кухни'}, ylabel='Frequency'>"
      ]
     },
     "execution_count": 45,
     "metadata": {},
     "output_type": "execute_result"
    },
    {
     "data": {
      "image/png": "[encoded data removed]",
      "text/plain": [
       "<Figure size 576x432 with 1 Axes>"
      ]
     },
     "metadata": {
      "needs_background": "light"
     },
     "output_type": "display_data"
    }
   ],
   "source": [
    "# изучим параметры объекта 'площадь кухни'\n",
    "print(data['kitchen_area'].describe())\n",
    "data.plot(y='kitchen_area', kind='hist', bins = 100, grid = True, figsize =(8,6), range =(0,115), title ='Диаграмма площади кухни')"
   ]
  },
  {
   "cell_type": "code",
   "execution_count": 46,
   "metadata": {},
   "outputs": [
    {
     "data": {
      "text/plain": [
       "<AxesSubplot:>"
      ]
     },
     "execution_count": 46,
     "metadata": {},
     "output_type": "execute_result"
    },
    {
     "data": {
      "image/png": "[encoded data removed]",
      "text/plain": [
       "<Figure size 432x288 with 1 Axes>"
      ]
     },
     "metadata": {
      "needs_background": "light"
     },
     "output_type": "display_data"
    }
   ],
   "source": [
    "data.boxplot('kitchen_area')"
   ]
  },
  {
   "cell_type": "code",
   "execution_count": 47,
   "metadata": {},
   "outputs": [
    {
     "name": "stdout",
     "output_type": "stream",
     "text": [
      "count    1.619200e+04\n",
      "mean     7.850699e+06\n",
      "std      1.285592e+07\n",
      "min      1.219000e+04\n",
      "25%      4.050000e+06\n",
      "50%      5.350000e+06\n",
      "75%      7.950000e+06\n",
      "max      7.630000e+08\n",
      "Name: last_price, dtype: float64\n"
     ]
    },
    {
     "data": {
      "text/plain": [
       "<AxesSubplot:title={'center':'Диаграмма цена объекта'}, ylabel='Frequency'>"
      ]
     },
     "execution_count": 47,
     "metadata": {},
     "output_type": "execute_result"
    },
    {
     "data": {
      "image/png": "[encoded data removed]",
      "text/plain": [
       "<Figure size 576x432 with 1 Axes>"
      ]
     },
     "metadata": {
      "needs_background": "light"
     },
     "output_type": "display_data"
    }
   ],
   "source": [
    "# изучим параметры объекта 'цена объекта'\n",
    "print(data['last_price'].describe())\n",
    "data.plot(y='last_price', kind='hist', bins = 100, grid = True, figsize =(8,6), range =(0,15000000), title ='Диаграмма цена объекта')"
   ]
  },
  {
   "cell_type": "code",
   "execution_count": 48,
   "metadata": {},
   "outputs": [
    {
     "data": {
      "text/plain": [
       "<AxesSubplot:>"
      ]
     },
     "execution_count": 48,
     "metadata": {},
     "output_type": "execute_result"
    },
    {
     "data": {
      "image/png": "[encoded data removed]",
      "text/plain": [
       "<Figure size 432x288 with 1 Axes>"
      ]
     },
     "metadata": {
      "needs_background": "light"
     },
     "output_type": "display_data"
    }
   ],
   "source": [
    "data.boxplot('last_price')"
   ]
  },
  {
   "cell_type": "code",
   "execution_count": 49,
   "metadata": {},
   "outputs": [
    {
     "name": "stdout",
     "output_type": "stream",
     "text": [
      "count    16192.000000\n",
      "mean         2.157609\n",
      "std          1.141569\n",
      "min          0.000000\n",
      "25%          1.000000\n",
      "50%          2.000000\n",
      "75%          3.000000\n",
      "max         19.000000\n",
      "Name: rooms, dtype: float64\n"
     ]
    },
    {
     "data": {
      "text/plain": [
       "<AxesSubplot:title={'center':'Диаграмма количество комнат'}, ylabel='Frequency'>"
      ]
     },
     "execution_count": 49,
     "metadata": {},
     "output_type": "execute_result"
    },
    {
     "data": {
      "image/png": "[encoded data removed]",
      "text/plain": [
       "<Figure size 576x432 with 1 Axes>"
      ]
     },
     "metadata": {
      "needs_background": "light"
     },
     "output_type": "display_data"
    }
   ],
   "source": [
    "# изучим параметры объекта 'количество комнат'\n",
    "print(data['rooms'].describe())\n",
    "data.plot(y='rooms', kind='hist', bins = 20, grid = True, figsize =(8,6), range =(0,10), title ='Диаграмма количество комнат')\n"
   ]
  },
  {
   "cell_type": "code",
   "execution_count": 50,
   "metadata": {},
   "outputs": [
    {
     "data": {
      "text/plain": [
       "<AxesSubplot:>"
      ]
     },
     "execution_count": 50,
     "metadata": {},
     "output_type": "execute_result"
    },
    {
     "data": {
      "image/png": "[encoded data removed]",
      "text/plain": [
       "<Figure size 432x288 with 1 Axes>"
      ]
     },
     "metadata": {
      "needs_background": "light"
     },
     "output_type": "display_data"
    }
   ],
   "source": [
    "data.boxplot('rooms')"
   ]
  },
  {
   "cell_type": "code",
   "execution_count": 51,
   "metadata": {},
   "outputs": [
    {
     "name": "stdout",
     "output_type": "stream",
     "text": [
      "count    16192.000000\n",
      "mean         2.748095\n",
      "std          0.285263\n",
      "min          2.260000\n",
      "25%          2.560000\n",
      "50%          2.700000\n",
      "75%          2.800000\n",
      "max         10.000000\n",
      "Name: ceiling_height, dtype: float64\n"
     ]
    },
    {
     "data": {
      "text/plain": [
       "<AxesSubplot:title={'center':'Диаграмма высота потолков'}, ylabel='Frequency'>"
      ]
     },
     "execution_count": 51,
     "metadata": {},
     "output_type": "execute_result"
    },
    {
     "data": {
      "image/png": "[encoded data removed]",
      "text/plain": [
       "<Figure size 576x432 with 1 Axes>"
      ]
     },
     "metadata": {
      "needs_background": "light"
     },
     "output_type": "display_data"
    }
   ],
   "source": [
    "# изучим параметры объекта 'высота потолков'\n",
    "print(data['ceiling_height'].describe())\n",
    "data.plot(y='ceiling_height', kind='hist', bins = 100, grid = True, figsize =(8,6), range =(2,7), title ='Диаграмма высота потолков')\n"
   ]
  },
  {
   "cell_type": "code",
   "execution_count": 52,
   "metadata": {},
   "outputs": [
    {
     "data": {
      "text/plain": [
       "<AxesSubplot:>"
      ]
     },
     "execution_count": 52,
     "metadata": {},
     "output_type": "execute_result"
    },
    {
     "data": {
      "image/png": "[encoded data removed]",
      "text/plain": [
       "<Figure size 432x288 with 1 Axes>"
      ]
     },
     "metadata": {
      "needs_background": "light"
     },
     "output_type": "display_data"
    }
   ],
   "source": [
    "data.boxplot('ceiling_height')"
   ]
  },
  {
   "cell_type": "code",
   "execution_count": 53,
   "metadata": {},
   "outputs": [
    {
     "name": "stdout",
     "output_type": "stream",
     "text": [
      "count    16192.000000\n",
      "mean         6.030138\n",
      "std          4.827078\n",
      "min          1.000000\n",
      "25%          3.000000\n",
      "50%          5.000000\n",
      "75%          8.000000\n",
      "max         33.000000\n",
      "Name: floor, dtype: float64\n"
     ]
    },
    {
     "data": {
      "text/plain": [
       "<AxesSubplot:title={'center':'Диаграмма этажа квартиры'}, ylabel='Frequency'>"
      ]
     },
     "execution_count": 53,
     "metadata": {},
     "output_type": "execute_result"
    },
    {
     "data": {
      "image/png": "[encoded data removed]",
      "text/plain": [
       "<Figure size 576x432 with 1 Axes>"
      ]
     },
     "metadata": {
      "needs_background": "light"
     },
     "output_type": "display_data"
    }
   ],
   "source": [
    "# изучим параметры объекта 'этаж квартиры'\n",
    "print(data['floor'].describe())\n",
    "data.plot(y='floor', kind='hist', bins = 100, grid = True, figsize =(8,6), range =(0,35), title ='Диаграмма этажа квартиры')"
   ]
  },
  {
   "cell_type": "code",
   "execution_count": 54,
   "metadata": {},
   "outputs": [
    {
     "data": {
      "text/plain": [
       "<AxesSubplot:>"
      ]
     },
     "execution_count": 54,
     "metadata": {},
     "output_type": "execute_result"
    },
    {
     "data": {
      "image/png": "[encoded data removed]",
      "text/plain": [
       "<Figure size 432x288 with 1 Axes>"
      ]
     },
     "metadata": {
      "needs_background": "light"
     },
     "output_type": "display_data"
    }
   ],
   "source": [
    "data.boxplot('floor')"
   ]
  },
  {
   "cell_type": "code",
   "execution_count": 55,
   "metadata": {},
   "outputs": [
    {
     "name": "stdout",
     "output_type": "stream",
     "text": [
      "count        3.000000\n",
      "mean      5397.333333\n",
      "std       5980.958647\n",
      "min       1783.000000\n",
      "25%       1945.500000\n",
      "50%       2108.000000\n",
      "75%       7204.500000\n",
      "max      12301.000000\n",
      "Name: floor_category, dtype: float64\n"
     ]
    },
    {
     "data": {
      "text/plain": [
       "<AxesSubplot:title={'center':'Гистограмма по типу этажа квартиры'}, xlabel='Значения', ylabel='Частота встречаемости'>"
      ]
     },
     "execution_count": 55,
     "metadata": {},
     "output_type": "execute_result"
    },
    {
     "data": {
      "image/png": "[encoded data removed]",
      "text/plain": [
       "<Figure size 432x288 with 1 Axes>"
      ]
     },
     "metadata": {
      "needs_background": "light"
     },
     "output_type": "display_data"
    }
   ],
   "source": [
    "# изучим параметры объекта 'тип этажа квартиры'\n",
    "counts = data['floor_category'].value_counts()\n",
    "print(counts.describe())\n",
    "counts.plot.bar(title='Гистограмма по типу этажа квартиры', xlabel='Значения', ylabel ='Частота встречаемости')\n"
   ]
  },
  {
   "cell_type": "code",
   "execution_count": 56,
   "metadata": {},
   "outputs": [
    {
     "name": "stdout",
     "output_type": "stream",
     "text": [
      "count    16192.000000\n",
      "mean        10.991477\n",
      "std          6.397459\n",
      "min          1.000000\n",
      "25%          5.000000\n",
      "50%          9.000000\n",
      "75%         16.000000\n",
      "max         52.000000\n",
      "Name: floors_total, dtype: float64\n"
     ]
    },
    {
     "data": {
      "text/plain": [
       "<AxesSubplot:title={'center':'Диаграмма общего количества этажей в доме'}, ylabel='Frequency'>"
      ]
     },
     "execution_count": 56,
     "metadata": {},
     "output_type": "execute_result"
    },
    {
     "data": {
      "image/png": "[encoded data removed]",
      "text/plain": [
       "<Figure size 576x432 with 1 Axes>"
      ]
     },
     "metadata": {
      "needs_background": "light"
     },
     "output_type": "display_data"
    }
   ],
   "source": [
    "# изучим параметры объекта 'общее количество этажей в доме'\n",
    "print(data['floors_total'].describe())\n",
    "data.plot(y='floors_total', kind='hist', bins = 100, grid = True, figsize =(8,6), range =(0,60), title ='Диаграмма общего количества этажей в доме')"
   ]
  },
  {
   "cell_type": "code",
   "execution_count": 57,
   "metadata": {},
   "outputs": [
    {
     "data": {
      "text/plain": [
       "<AxesSubplot:>"
      ]
     },
     "execution_count": 57,
     "metadata": {},
     "output_type": "execute_result"
    },
    {
     "data": {
      "image/png": "[encoded data removed]",
      "text/plain": [
       "<Figure size 432x288 with 1 Axes>"
      ]
     },
     "metadata": {
      "needs_background": "light"
     },
     "output_type": "display_data"
    }
   ],
   "source": [
    "data.boxplot('floors_total')"
   ]
  },
  {
   "cell_type": "code",
   "execution_count": 58,
   "metadata": {},
   "outputs": [
    {
     "name": "stdout",
     "output_type": "stream",
     "text": [
      "count    16192.000000\n",
      "mean     13150.315681\n",
      "std       7395.809920\n",
      "min        181.000000\n",
      "25%       8460.000000\n",
      "50%      12419.000000\n",
      "75%      15577.500000\n",
      "max      50125.000000\n",
      "Name: cityCenters_nearest, dtype: float64\n"
     ]
    },
    {
     "data": {
      "text/plain": [
       "<AxesSubplot:title={'center':'Диаграмма расстояния до центра города в метрах'}, ylabel='Frequency'>"
      ]
     },
     "execution_count": 58,
     "metadata": {},
     "output_type": "execute_result"
    },
    {
     "data": {
      "image/png": "[encoded data removed]",
      "text/plain": [
       "<Figure size 576x432 with 1 Axes>"
      ]
     },
     "metadata": {
      "needs_background": "light"
     },
     "output_type": "display_data"
    }
   ],
   "source": [
    "# изучим параметры объекта 'расстрояние до центра города в метрах'\n",
    "print(data['cityCenters_nearest'].describe())\n",
    "data.plot(y='cityCenters_nearest', kind='hist', bins = 100, grid = True, figsize =(8,6), range =(100,65000), title ='Диаграмма расстояния до центра города в метрах')"
   ]
  },
  {
   "cell_type": "code",
   "execution_count": 59,
   "metadata": {},
   "outputs": [
    {
     "data": {
      "text/plain": [
       "<AxesSubplot:>"
      ]
     },
     "execution_count": 59,
     "metadata": {},
     "output_type": "execute_result"
    },
    {
     "data": {
      "image/png": "[encoded data removed]",
      "text/plain": [
       "<Figure size 432x288 with 1 Axes>"
      ]
     },
     "metadata": {
      "needs_background": "light"
     },
     "output_type": "display_data"
    }
   ],
   "source": [
    "data.boxplot('cityCenters_nearest')"
   ]
  },
  {
   "cell_type": "code",
   "execution_count": 60,
   "metadata": {},
   "outputs": [
    {
     "name": "stdout",
     "output_type": "stream",
     "text": [
      "count    16192.000000\n",
      "mean     26076.148962\n",
      "std      10059.008235\n",
      "min          0.000000\n",
      "25%      17801.500000\n",
      "50%      25048.000000\n",
      "75%      34270.500000\n",
      "max      46701.000000\n",
      "Name: airports_nearest, dtype: float64\n"
     ]
    },
    {
     "data": {
      "text/plain": [
       "<AxesSubplot:title={'center':'Диаграмма расстояния до ближайшего аэропорта'}, ylabel='Frequency'>"
      ]
     },
     "execution_count": 60,
     "metadata": {},
     "output_type": "execute_result"
    },
    {
     "data": {
      "image/png": "[encoded data removed]",
      "text/plain": [
       "<Figure size 576x432 with 1 Axes>"
      ]
     },
     "metadata": {
      "needs_background": "light"
     },
     "output_type": "display_data"
    }
   ],
   "source": [
    "# изучим параметры объекта 'расстрояние до ближайшего аэропорта'\n",
    "print(data['airports_nearest'].describe())\n",
    "data.plot(y='airports_nearest', kind='hist', bins = 100, grid = True, figsize =(8,6), range =(0,85000), title ='Диаграмма расстояния до ближайшего аэропорта')"
   ]
  },
  {
   "cell_type": "code",
   "execution_count": 61,
   "metadata": {},
   "outputs": [
    {
     "data": {
      "text/plain": [
       "<AxesSubplot:>"
      ]
     },
     "execution_count": 61,
     "metadata": {},
     "output_type": "execute_result"
    },
    {
     "data": {
      "image/png": "[encoded data removed]",
      "text/plain": [
       "<Figure size 432x288 with 1 Axes>"
      ]
     },
     "metadata": {
      "needs_background": "light"
     },
     "output_type": "display_data"
    }
   ],
   "source": [
    "data.boxplot('airports_nearest')"
   ]
  },
  {
   "cell_type": "code",
   "execution_count": 62,
   "metadata": {},
   "outputs": [
    {
     "name": "stdout",
     "output_type": "stream",
     "text": [
      "count    7437.000000\n",
      "mean      496.617722\n",
      "std       348.720376\n",
      "min         1.000000\n",
      "25%       291.000000\n",
      "50%       458.000000\n",
      "75%       618.000000\n",
      "max      3190.000000\n",
      "Name: parks_nearest, dtype: float64\n"
     ]
    },
    {
     "data": {
      "text/plain": [
       "<AxesSubplot:title={'center':'Диаграмма расстояния до ближайшего парка'}, ylabel='Frequency'>"
      ]
     },
     "execution_count": 62,
     "metadata": {},
     "output_type": "execute_result"
    },
    {
     "data": {
      "image/png": "[encoded data removed]",
      "text/plain": [
       "<Figure size 576x432 with 1 Axes>"
      ]
     },
     "metadata": {
      "needs_background": "light"
     },
     "output_type": "display_data"
    }
   ],
   "source": [
    "# изучим параметры объекта 'расстрояние до ближайшего парка'\n",
    "print(data['parks_nearest'].describe())\n",
    "data.plot(y='parks_nearest', kind='hist', bins = 100, grid = True, figsize =(8,6), range =(0,3200), title ='Диаграмма расстояния до ближайшего парка')\n",
    "\n"
   ]
  },
  {
   "cell_type": "code",
   "execution_count": 63,
   "metadata": {},
   "outputs": [
    {
     "data": {
      "text/plain": [
       "<AxesSubplot:>"
      ]
     },
     "execution_count": 63,
     "metadata": {},
     "output_type": "execute_result"
    },
    {
     "data": {
      "image/png": "[encoded data removed]",
      "text/plain": [
       "<Figure size 432x288 with 1 Axes>"
      ]
     },
     "metadata": {
      "needs_background": "light"
     },
     "output_type": "display_data"
    }
   ],
   "source": [
    "data.boxplot('parks_nearest')"
   ]
  },
  {
   "cell_type": "code",
   "execution_count": 64,
   "metadata": {},
   "outputs": [
    {
     "name": "stdout",
     "output_type": "stream",
     "text": [
      "count      12.000000\n",
      "mean     1349.333333\n",
      "std       309.029664\n",
      "min       880.000000\n",
      "25%      1157.750000\n",
      "50%      1285.000000\n",
      "75%      1624.500000\n",
      "max      1849.000000\n",
      "dtype: float64\n",
      "count     31.000000\n",
      "mean     522.322581\n",
      "std      101.565541\n",
      "min      226.000000\n",
      "25%      485.500000\n",
      "50%      535.000000\n",
      "75%      570.500000\n",
      "max      773.000000\n",
      "dtype: float64\n"
     ]
    },
    {
     "data": {
      "image/png": "[encoded data removed]",
      "text/plain": [
       "<Figure size 432x288 with 1 Axes>"
      ]
     },
     "metadata": {
      "needs_background": "light"
     },
     "output_type": "display_data"
    }
   ],
   "source": [
    "# изучим параметры объекта 'день и месяц публикации объявления'\n",
    "month_exposition = data.groupby(data['first_day_exposition'].dt.month).size()\n",
    "month_exposition.plot.bar(title = 'распределение по месяцам публикации')\n",
    "print(month_exposition.describe())\n",
    "\n",
    "day_exposition = data.groupby(data['first_day_exposition'].dt.day).size()\n",
    "day_exposition.plot.bar(title = 'распределение по дням публикации')\n",
    "print(day_exposition.describe())\n"
   ]
  },
  {
   "cell_type": "markdown",
   "metadata": {},
   "source": [
    "1.В данных об общей площади значения колеблются от 14 до 900м^2. Средняя общая площадь равна 60 м^2. На диаграмме видим нормальное распределение.\n",
    "2.В данных о жилой площади значения колеблются от 2 до 409м^2. Средняя жилая площадь равна 34м^2. Чаще всего встречаются квартиры с площадью 18 и 32м^2.\n",
    "3.В данных о площади кухни значения колеблются от 1.3 до 112м^2. Средняя площадь кухни равна 10.4м^2. Чаще всего встречаются кухни с площадью 6, 8 ,9 и 10м^2. На гистограмме видим нормальное распределение.\n",
    "4.Средняя стоимость на объекты 6.5 млн, на гистограмме видим нормальное распределение, видим аномально низкие значения- минимальная стоимость объекта 12190\n",
    "5.В данных о количестве комнат данные колеблются от 1 до 19, среднее количество комнат =2. Чаще всего встречаются квартиры с 1, 2 и 3 комнатами.\n",
    "6.В данных о высоте потолка значения колеблются от 2.2м до 5.7м.Средняя высота 2.7, чаще всего встречаются объекты с высотой потолка 2.5м и 2.7м\n",
    "7.В данных об этаже объекта данные колеблются от 1 до 33. Средний этаж 6. Чаще всего встречаются квартиры на 1,2,3,4,5 этажах\n",
    "8.В данных по типу этажа квартиры мы видим 3 группы- 'первый', 'последний', 'первый', чаще всего квартиры располагаются не на 1 и не на последнем этаже, в нашем случае 16966 раз.\n",
    "9.В данных по количеству этажей в доме значения колеблются от 1 до 60, среднее значение 10, чаще всего встречаются дома с 5,9,10 этажами.\n",
    "10.Расстояние от объекта до центра варьируется от 181 до 65968 метро,в среднем до центра города 14248 метров, чаще всего встречаются дома, от которых до центра от 10000 до 15000 метров.\n",
    "11.Расстояние до ближайшего аэропорта от 6450 м до 84869 м, в среднем 28908м. Чаще всего квартиры встречаются на расстоянии 10 - 30км.\n",
    "12.Расстояение до парка варируется от 1 до 3190 метров, в среднем-490 м.На гистограмме мы видим нормальное распредление, чаще всего квартиры удалены от парка на 400-600 м.\n",
    "13.На гистограммах, отражающих день и месяц публикации объявления мы видим, что чаще объявления выкладывались в ноябре, феврале и марте,значение варируются от 964 до 2021 за каждый месяц. Чаще выкладывались объявления 2,3,4,12 числа,значения варируются от258 до 859 для каждого дня месяца."
   ]
  },
  {
   "cell_type": "code",
   "execution_count": 65,
   "metadata": {},
   "outputs": [
    {
     "data": {
      "text/plain": [
       "<AxesSubplot:title={'center':'как быстро продавались квартиры'}, ylabel='Frequency'>"
      ]
     },
     "execution_count": 65,
     "metadata": {},
     "output_type": "execute_result"
    },
    {
     "data": {
      "image/png": "[encoded data removed]",
      "text/plain": [
       "<Figure size 576x432 with 1 Axes>"
      ]
     },
     "metadata": {
      "needs_background": "light"
     },
     "output_type": "display_data"
    }
   ],
   "source": [
    "#Изучим, как быстро продавались квартиры, параметр показывает, сколько дней было размещено каждое объявление\n",
    "data['days_exposition'].describe()\n",
    "data.plot(y='days_exposition', kind='hist', bins = 100, grid = True, figsize =(8,6), range =(0,1600), title ='как быстро продавались квартиры')\n"
   ]
  },
  {
   "cell_type": "code",
   "execution_count": 66,
   "metadata": {},
   "outputs": [
    {
     "data": {
      "text/plain": [
       "85.0"
      ]
     },
     "execution_count": 66,
     "metadata": {},
     "output_type": "execute_result"
    }
   ],
   "source": [
    "data['days_exposition'].median()"
   ]
  },
  {
   "cell_type": "code",
   "execution_count": 67,
   "metadata": {},
   "outputs": [
    {
     "data": {
      "text/plain": [
       "count    16192.000000\n",
       "mean       170.137290\n",
       "std        220.730159\n",
       "min          1.000000\n",
       "25%         35.000000\n",
       "50%         85.000000\n",
       "75%        209.250000\n",
       "max       1572.000000\n",
       "Name: days_exposition, dtype: float64"
      ]
     },
     "execution_count": 67,
     "metadata": {},
     "output_type": "execute_result"
    }
   ],
   "source": [
    "data['days_exposition'].describe()"
   ]
  },
  {
   "cell_type": "code",
   "execution_count": 68,
   "metadata": {},
   "outputs": [
    {
     "data": {
      "text/plain": [
       "<AxesSubplot:>"
      ]
     },
     "execution_count": 68,
     "metadata": {},
     "output_type": "execute_result"
    },
    {
     "data": {
      "image/png": "[encoded data removed]",
      "text/plain": [
       "<Figure size 432x288 with 1 Axes>"
      ]
     },
     "metadata": {
      "needs_background": "light"
     },
     "output_type": "display_data"
    }
   ],
   "source": [
    "#определим пределы нормальной длительности продаж\n",
    "data.boxplot('days_exposition')\n",
    "#по формуле q3+1.5IQR получим верхнюю границу = 467"
   ]
  },
  {
   "cell_type": "markdown",
   "metadata": {},
   "source": [
    "На гистограмме мы видим выбивающиеся(аномальные значения)-7,30,45,60,90.\n",
    "Среднее значение -165. Медиана = 85.\n",
    "Нормальные значения у нас лежат в диапазон от 0 до 467, поэтому аномально быстрыми продажами будут являться продажи до 0 дня, а аномально долгимим - дольше 467 дней."
   ]
  },
  {
   "cell_type": "code",
   "execution_count": 69,
   "metadata": {},
   "outputs": [
    {
     "data": {
      "text/plain": [
       "0.6559866963737705"
      ]
     },
     "execution_count": 69,
     "metadata": {},
     "output_type": "execute_result"
    },
    {
     "data": {
      "image/png": "[encoded data removed]",
      "text/plain": [
       "<Figure size 432x288 with 1 Axes>"
      ]
     },
     "metadata": {
      "needs_background": "light"
     },
     "output_type": "display_data"
    }
   ],
   "source": [
    "total_area_pivot_table=data.pivot_table(index = 'total_area', values = 'last_price', aggfunc='mean')\n",
    "plt.scatter(total_area_pivot_table.index,total_area_pivot_table.values)\n",
    "plt.xlabel('Общая площадь')\n",
    "plt.ylabel('Цена')\n",
    "plt.title('Зависимость цены от общей площади')\n",
    "\n",
    "data['total_area'].corr(data['last_price'])"
   ]
  },
  {
   "cell_type": "code",
   "execution_count": 70,
   "metadata": {},
   "outputs": [
    {
     "data": {
      "text/plain": [
       "0.5900822692273668"
      ]
     },
     "execution_count": 70,
     "metadata": {},
     "output_type": "execute_result"
    },
    {
     "data": {
      "image/png": "[encoded data removed]",
      "text/plain": [
       "<Figure size 432x288 with 1 Axes>"
      ]
     },
     "metadata": {
      "needs_background": "light"
     },
     "output_type": "display_data"
    }
   ],
   "source": [
    "living_area_pivot_table=data.pivot_table(index = 'living_area', values = 'last_price', aggfunc='mean')\n",
    "plt.scatter(living_area_pivot_table.index,living_area_pivot_table.values)\n",
    "plt.xlabel('Жилая площадь')\n",
    "plt.ylabel('Цена')\n",
    "plt.title('Зависимость цены от жилой площади')\n",
    "\n",
    "data['living_area'].corr(data['last_price'])"
   ]
  },
  {
   "cell_type": "code",
   "execution_count": 71,
   "metadata": {},
   "outputs": [
    {
     "data": {
      "text/plain": [
       "0.5209119174079543"
      ]
     },
     "execution_count": 71,
     "metadata": {},
     "output_type": "execute_result"
    },
    {
     "data": {
      "image/png": "[encoded data removed]",
      "text/plain": [
       "<Figure size 432x288 with 1 Axes>"
      ]
     },
     "metadata": {
      "needs_background": "light"
     },
     "output_type": "display_data"
    }
   ],
   "source": [
    "kitchen_area_pivot_table=data.pivot_table(index = 'kitchen_area', values = 'last_price', aggfunc='mean')\n",
    "plt.scatter(kitchen_area_pivot_table.index,kitchen_area_pivot_table.values)\n",
    "plt.xlabel('Площадь кухни')\n",
    "plt.ylabel('Цена')\n",
    "plt.title('Зависимость цены от площади кухни')\n",
    "\n",
    "data['kitchen_area'].corr(data['last_price'])"
   ]
  },
  {
   "cell_type": "code",
   "execution_count": 72,
   "metadata": {
    "scrolled": true
   },
   "outputs": [
    {
     "data": {
      "text/plain": [
       "Text(0.5, 1.0, 'Зависимость цены от этажа')"
      ]
     },
     "execution_count": 72,
     "metadata": {},
     "output_type": "execute_result"
    },
    {
     "data": {
      "image/png": "[encoded data removed]",
      "text/plain": [
       "<Figure size 432x288 with 1 Axes>"
      ]
     },
     "metadata": {
      "needs_background": "light"
     },
     "output_type": "display_data"
    }
   ],
   "source": [
    "floor_category_pivot_table=data.pivot_table(index = 'floor_category', values = 'last_price', aggfunc='mean')\n",
    "plt.plot(floor_category_pivot_table.index,floor_category_pivot_table.values)\n",
    "plt.xlabel('Этаж')\n",
    "plt.ylabel('Цена')\n",
    "plt.title('Зависимость цены от этажа')\n"
   ]
  },
  {
   "cell_type": "code",
   "execution_count": 73,
   "metadata": {},
   "outputs": [
    {
     "data": {
      "text/plain": [
       "Text(0.5, 1.0, 'Зависимость цены от года')"
      ]
     },
     "execution_count": 73,
     "metadata": {},
     "output_type": "execute_result"
    },
    {
     "data": {
      "image/png": "[encoded data removed]",
      "text/plain": [
       "<Figure size 432x288 with 1 Axes>"
      ]
     },
     "metadata": {
      "needs_background": "light"
     },
     "output_type": "display_data"
    }
   ],
   "source": [
    "year_pivot_table=data.pivot_table(index = 'year_public', values = 'last_price', aggfunc='median')\n",
    "plt.plot(year_pivot_table.index,year_pivot_table.values)\n",
    "plt.xlabel('Год')\n",
    "plt.ylabel('Цена')\n",
    "plt.title('Зависимость цены от года')"
   ]
  },
  {
   "cell_type": "code",
   "execution_count": 74,
   "metadata": {},
   "outputs": [
    {
     "data": {
      "text/plain": [
       "Text(0.5, 1.0, 'Зависимость цены от месяца')"
      ]
     },
     "execution_count": 74,
     "metadata": {},
     "output_type": "execute_result"
    },
    {
     "data": {
      "image/png": "[encoded data removed]",
      "text/plain": [
       "<Figure size 432x288 with 1 Axes>"
      ]
     },
     "metadata": {
      "needs_background": "light"
     },
     "output_type": "display_data"
    }
   ],
   "source": [
    "month_pivot_table=data.pivot_table(index = 'month_public', values = 'last_price', aggfunc='median')\n",
    "plt.plot(month_pivot_table.index,month_pivot_table.values)\n",
    "plt.xlabel('Месяц')\n",
    "plt.ylabel('Цена')\n",
    "plt.title('Зависимость цены от месяца')"
   ]
  },
  {
   "cell_type": "code",
   "execution_count": 75,
   "metadata": {},
   "outputs": [
    {
     "data": {
      "text/plain": [
       "Text(0.5, 1.0, 'Зависимость цены от дня недели')"
      ]
     },
     "execution_count": 75,
     "metadata": {},
     "output_type": "execute_result"
    },
    {
     "data": {
      "image/png": "[encoded data removed]",
      "text/plain": [
       "<Figure size 432x288 with 1 Axes>"
      ]
     },
     "metadata": {
      "needs_background": "light"
     },
     "output_type": "display_data"
    }
   ],
   "source": [
    "weekday_pivot_table=data.pivot_table(index = 'weekday_public', values = 'last_price', aggfunc='median')\n",
    "plt.plot(weekday_pivot_table.index,weekday_pivot_table.values)\n",
    "plt.xlabel('День недели')\n",
    "plt.ylabel('Цена')\n",
    "plt.title('Зависимость цены от дня недели')"
   ]
  },
  {
   "cell_type": "markdown",
   "metadata": {},
   "source": [
    "1.Зависимость стоимости от общей площади. Коэффициент корреляции = 0.6-средняя зависимость, прямая корреляция- чем больше общая площадь, тем больше стоимость.\n",
    "2.Зависимость стоимости от жилой площади. Коэффициент корреляции = 0.56-средняя зависимость,прямая корреляция - чем больше жилая площадь,тем выше стоимость.\n",
    "3.Зависимость стоимости от площади кухни. Коэффициент корреляции = 0.48-средняя зависимость, прямая корреляция-чем больше площадь кухни, тем выше стоимость.\n",
    "4.Зависимость цены от категории этажа-чем выше этаж, тем выше стоимость, прямая корреляция.\n",
    "5.Зависимость цены от года размещения.Гиперболическая корреляция-самой высокой стоимость на квартиры была в 2014 году, после,вплоть до 2017 года, стоимость снижалась, и , начиная с 2017-снова начала расти.\n",
    "6.Зависимость стоимости от месяца-самые высокие цены на квартиры мы видим в декабре,январе, самые низкие-в начале лета(конец мая, июнь,начало июля)\n",
    "7.Зависимость стоимости от дня недели. Самой высокой стоимость у квартир, размещенных в середине недели-в четверг, далее резко снижается, и самой низкой оказывается в воскресенье."
   ]
  },
  {
   "cell_type": "code",
   "execution_count": 80,
   "metadata": {},
   "outputs": [
    {
     "name": "stdout",
     "output_type": "stream",
     "text": [
      "                    price_metr\n",
      "locality_name                 \n",
      "Санкт-Петербург  115802.866632\n",
      "Пушкин           103131.171872\n",
      "Стрельна          88267.456132\n",
      "Петергоф          84757.559690\n",
      "Павловск          84537.349196\n",
      "Шушары            78551.344545\n",
      "Колпино           75435.354070\n",
      "Металлострой      73476.740172\n",
      "Красное Село      72170.294411\n",
      "Понтонный         70104.528056\n"
     ]
    }
   ],
   "source": [
    "#Посчитаем среднюю цену одного квадратного метра в 10 населённых пунктах с наибольшим числом объявлений.\n",
    "data['price_metr'] = data['last_price']/ data['total_area']\n",
    "popular_places = data['locality_name'].value_counts().head(10)\n",
    "popular_places_pivot_table = data.query('locality_name in (@popular_places.index)').pivot_table(index = 'locality_name', values = 'price_metr')\n",
    "print(popular_places_pivot_table.sort_values(by='price_metr', ascending=False))\n"
   ]
  },
  {
   "cell_type": "markdown",
   "metadata": {},
   "source": [
    "В Санкт-Петербурге самые высокие цены за 1 квадрынй метр-в среднем 114658, наименьшей стоимотью за квадратный метр среди 10 населенных пунктов, имеющих больше всего объявлений обладает-Красное село(72170 за м^2). Самый дешевый квадратный метр из всех представленных нам населенных пунктов- Щеглово(52273 за м^2)."
   ]
  },
  {
   "cell_type": "code",
   "execution_count": 77,
   "metadata": {},
   "outputs": [
    {
     "data": {
      "text/plain": [
       "<AxesSubplot:xlabel='km_cityCenters'>"
      ]
     },
     "execution_count": 77,
     "metadata": {},
     "output_type": "execute_result"
    },
    {
     "data": {
      "image/png": "[encoded data removed]",
      "text/plain": [
       "<Figure size 432x288 with 1 Axes>"
      ]
     },
     "metadata": {
      "needs_background": "light"
     },
     "output_type": "display_data"
    }
   ],
   "source": [
    "data['km_price']=data['last_price']/data['km_cityCenters']\n",
    "piter_pivot_table = data.query('locality_name == \"Санкт-Петербург\"').pivot_table(index='km_cityCenters', values = 'last_price', aggfunc = 'mean')\n",
    "piter_pivot_table.plot()\n",
    "\n",
    "\n",
    "\n"
   ]
  },
  {
   "cell_type": "markdown",
   "metadata": {},
   "source": [
    "Видим ожидаемую зависимость-чем дальше от центра, тем меньше стоимость.Стоимость за квадратный метр и, соответственно, за квартиру резко уменьшается от центра и до 9км, дальше стоимость уменьшается постепенно.\n"
   ]
  },
  {
   "cell_type": "code",
   "execution_count": 79,
   "metadata": {},
   "outputs": [
    {
     "name": "stdout",
     "output_type": "stream",
     "text": [
      "1314094.7818325374\n"
     ]
    }
   ],
   "source": [
    "data = data.replace([np.inf], np.nan)\n",
    "print(data['km_price'].mean())\n",
    "#стоимость одного километра составляется 1202944"
   ]
  },
  {
   "cell_type": "markdown",
   "metadata": {},
   "source": [
    "### Общий вывод"
   ]
  },
  {
   "cell_type": "markdown",
   "metadata": {},
   "source": [
    "Предобработка данных включила в себя :\n",
    "-поиск пропущенных значений, выяснение их причины, заполнение, где это было возможно\n",
    "-изменение типа данных в столбцах, при необходимости\n",
    "-поиск неявных дубликатов с их заменой\n",
    "-устранение редких и выбирающихся значений;\n",
    "Были добавлены новые столбцы в датафрейм, которые показывают цену одного квадратного метра, день недели/месяц/год публикации объявления, тип этажа квартиры, расстояние до центра города в километрах.\n",
    "  При исследовательском анализе данных сделаны следующие выводы:\n",
    "1.Общая площадь колеблется от 14 до 900м^2. Средняя равна 60 м^2. \n",
    "2.Жилая площадь от 2 до 409м^2. Средняя равна 34м^2. Чаще всего встречаются квартиры с площадью 18 и 32м^2.\n",
    "3.Площадь кухни от 1.3 до 112м^2. Средняя равна 10.4м^2. Чаще всего встречаются кухни с площадью 6, 8 ,9 и 10м^2.\n",
    "4.Средняя стоимость на объекты 6.5 млн, имеются аномально низкие значения- минимальная стоимость объекта 12190\n",
    "5.Количество комнат от 1 до 19, среднее количество комнат =2. Чаще всего встречаются квартиры с 1, 2 и 3 комнатами.\n",
    "6.Потолки от 2.2м до 5.7м.Средняя высота 2.7, чаще всего встречаются объекты с высотой потолка 2.5м и 2.7м\n",
    "7.Этаж квартиры от 1 до 33. Средний этаж 6. Чаще всего встречаются квартиры на 1,2,3,4,5 этажах\n",
    "8.В данных по типу этажа квартиры мы видим 3 группы- 'первый', 'последний', 'первый', чаще всего квартиры располагаются не на 1 и не на последнем этаже, в нашем случае 16966 раз.\n",
    "9.Количесвто этажей в доме от 1 до 60, среднее значение 10, чаще всего встречаются дома с 5,9,10 этажами.\n",
    "10.Расстояние от квартиры до центра варьируется от 181 до 65968 метро,в среднем до центра города 14248 метров, чаще всего встречаются дома, от которых до центра от 10000 до 15000 метров.\n",
    "11.Расстояние до ближайшего аэропорта от 6450 м до 84869 м, в среднем 28908м. Чаще всего квартиры встречаются на расстоянии 10 - 30км.\n",
    "12.Расстояение до парка варируется от 1 до 3190 метров, в среднем-490 м, чаще всего квартиры удалены от парка на 400-600 м.\n",
    "13.На гистограммах, отражающих день и месяц публикации объявления мы видим, что чаще объявления выкладывались в ноябре, феврале и марте,значения варируются от 964 до 2021 за каждый месяц. Чаще выкладывались объявления 2,3,4,12 числа,значения от258 до 859 для каждого дня месяца.\n",
    "\n",
    "  Квартиры продаются в среднем за 165 дней, аномально быстрыми продажами можно считать те, которые состоялись меньше, чем за сутки, а аномально долгими можем счесть те, которые не состоялись более 467 дней.(выбивающееся количество дней(аномальные значения)-7,30,45,60,90, для такого количества дней с момента размещения характерен резкий объем продаж. \n",
    "Чем больше общая, жилая площадь и площадь кухни, высота этажа, тем больше стоимость.\n",
    "размещения.Самой высокой стоимость на квартиры была в 2014 году, после,вплоть до 2017 года, стоимость снижалась, и , начиная с 2017-снова начала расти.\n",
    "Самые высокие цены на квартиры мы видим в декабре,январе, самые низкие-в начале лета(конец мая, июнь,начало июля)\n",
    "Самой высокой стоимость у квартир, размещенных в середине недели-в четверг, далее резко снижается, и самой низкой оказывается в воскресенье.\n",
    "    \n",
    "В Санкт-Петербурге самые высокие цены за 1 квадрынй метр-в среднем 114658, наименьшей стоимотью за квадратный метр среди 10 населенных пунктов, имеющих больше всего объявлений обладает-Красное село(72170 за м^2). Самый дешевый квадратный метр из всех представленных нам населенных пунктов- Щеглово(52273 за м^2).\n",
    "Так же, чем дальше от центра, тем меньше стоимость.Стоимость за квадратный метр и, соответственно, за квартиру резко уменьшается от центра и до 9км, дальше стоимость уменьшается постепенно, стоимость 1 км составила 1202944.\n",
    "\n",
    "Резюмируя -видно, что цена больше всего зависит от площади и количества комнат, есть некоторая сезонность, можно проследить зависимость расстояния до центра и цены. На каждый километр удаления видно среднюю стоимость квартир.\n",
    "Средний срок продажи около полугода, а 50% продается в срок до 3 месяцев.\n",
    "Было бы интересно понаблюдать за тем, как меняется стоимость в зависимости от количества балконов в квартире,удаленности от аэропорта,парка; отличается ли стоимость при разном количестве комнат, но одинаковой площади; влияет ли количество фото/время(месяц) публикации объявления на скорость продажи квартиры; и как отличаются по стоимости квартиры со свободной планировкой от квартир с планировкой от застойщика, при расположении в одном доме и одинаковой площадью. Существует ли какая-то тенденция(коэфициент удаленности от центра, если так можно назвать)-на сколько увеличивается стоимость квадратного метра в разных городах при удаленности от центра/других объектов(парки, аэропорты, водоемы) на одинаковое расстояние(является ли зависимость линейной или более сложной функией)"
   ]
  },
  {
   "cell_type": "code",
   "execution_count": null,
   "metadata": {},
   "outputs": [],
   "source": []
  }
 ],
 "metadata": {
  "ExecuteTimeLog": [
   {
    "duration": 476,
    "start_time": "2023-05-15T09:14:33.408Z"
   },
   {
    "duration": 357,
    "start_time": "2023-05-15T09:14:44.766Z"
   },
   {
    "duration": 112,
    "start_time": "2023-05-15T09:15:42.013Z"
   },
   {
    "duration": 13,
    "start_time": "2023-05-15T09:20:35.811Z"
   },
   {
    "duration": 13,
    "start_time": "2023-05-15T09:43:38.150Z"
   },
   {
    "duration": 13,
    "start_time": "2023-05-15T09:43:48.558Z"
   },
   {
    "duration": 494,
    "start_time": "2023-05-15T09:43:57.238Z"
   },
   {
    "duration": 11,
    "start_time": "2023-05-15T09:43:57.734Z"
   },
   {
    "duration": 87,
    "start_time": "2023-05-15T09:44:17.137Z"
   },
   {
    "duration": 6,
    "start_time": "2023-05-15T09:44:25.415Z"
   },
   {
    "duration": 323,
    "start_time": "2023-05-15T09:45:09.550Z"
   },
   {
    "duration": 75,
    "start_time": "2023-05-15T09:45:15.830Z"
   },
   {
    "duration": 452,
    "start_time": "2023-05-15T09:45:28.351Z"
   },
   {
    "duration": 6,
    "start_time": "2023-05-15T09:45:28.806Z"
   },
   {
    "duration": 15,
    "start_time": "2023-05-15T09:45:28.815Z"
   },
   {
    "duration": 81,
    "start_time": "2023-05-15T09:45:28.831Z"
   },
   {
    "duration": 77,
    "start_time": "2023-05-15T09:45:48.701Z"
   },
   {
    "duration": 76,
    "start_time": "2023-05-15T09:47:45.109Z"
   },
   {
    "duration": 99,
    "start_time": "2023-05-15T09:49:24.473Z"
   },
   {
    "duration": 23,
    "start_time": "2023-05-15T09:49:26.014Z"
   },
   {
    "duration": 14,
    "start_time": "2023-05-15T09:49:51.552Z"
   },
   {
    "duration": 7,
    "start_time": "2023-05-15T09:52:41.312Z"
   },
   {
    "duration": 9,
    "start_time": "2023-05-15T11:07:33.557Z"
   },
   {
    "duration": 8,
    "start_time": "2023-05-15T11:07:59.256Z"
   },
   {
    "duration": 2537,
    "start_time": "2023-05-15T11:42:26.526Z"
   },
   {
    "duration": 7,
    "start_time": "2023-05-15T12:20:00.768Z"
   },
   {
    "duration": 23,
    "start_time": "2023-05-15T12:20:59.095Z"
   },
   {
    "duration": 0,
    "start_time": "2023-05-15T12:22:39.424Z"
   },
   {
    "duration": 576,
    "start_time": "2023-05-15T12:22:45.466Z"
   },
   {
    "duration": 25,
    "start_time": "2023-05-15T12:22:46.044Z"
   },
   {
    "duration": 39,
    "start_time": "2023-05-15T12:22:46.071Z"
   },
   {
    "duration": 20,
    "start_time": "2023-05-15T12:22:46.112Z"
   },
   {
    "duration": 2677,
    "start_time": "2023-05-15T12:22:46.141Z"
   },
   {
    "duration": 594,
    "start_time": "2023-05-15T12:22:48.824Z"
   },
   {
    "duration": 0,
    "start_time": "2023-05-15T12:22:49.423Z"
   },
   {
    "duration": 493,
    "start_time": "2023-05-15T12:23:13.265Z"
   },
   {
    "duration": 22,
    "start_time": "2023-05-15T12:23:13.760Z"
   },
   {
    "duration": 33,
    "start_time": "2023-05-15T12:23:13.796Z"
   },
   {
    "duration": 9,
    "start_time": "2023-05-15T12:23:13.831Z"
   },
   {
    "duration": 2473,
    "start_time": "2023-05-15T12:23:13.843Z"
   },
   {
    "duration": 6168,
    "start_time": "2023-05-15T12:23:16.318Z"
   },
   {
    "duration": 3951,
    "start_time": "2023-05-15T12:23:54.432Z"
   },
   {
    "duration": 469,
    "start_time": "2023-05-15T12:24:25.744Z"
   },
   {
    "duration": 27,
    "start_time": "2023-05-15T12:24:26.218Z"
   },
   {
    "duration": 13,
    "start_time": "2023-05-15T12:24:26.247Z"
   },
   {
    "duration": 23,
    "start_time": "2023-05-15T12:24:26.261Z"
   },
   {
    "duration": 2306,
    "start_time": "2023-05-15T12:24:26.286Z"
   },
   {
    "duration": 4770,
    "start_time": "2023-05-15T12:24:28.593Z"
   },
   {
    "duration": 0,
    "start_time": "2023-05-15T12:24:33.365Z"
   },
   {
    "duration": 9,
    "start_time": "2023-05-15T12:24:53.861Z"
   },
   {
    "duration": 4830,
    "start_time": "2023-05-15T12:26:18.256Z"
   },
   {
    "duration": 11,
    "start_time": "2023-05-15T12:26:44.976Z"
   },
   {
    "duration": 15,
    "start_time": "2023-05-15T12:27:29.217Z"
   },
   {
    "duration": 13,
    "start_time": "2023-05-15T12:28:29.038Z"
   },
   {
    "duration": 220,
    "start_time": "2023-05-15T12:36:18.636Z"
   },
   {
    "duration": 225,
    "start_time": "2023-05-15T12:38:06.192Z"
   },
   {
    "duration": 228,
    "start_time": "2023-05-15T12:38:16.923Z"
   },
   {
    "duration": 221,
    "start_time": "2023-05-15T12:38:24.888Z"
   },
   {
    "duration": 17,
    "start_time": "2023-05-15T12:39:12.064Z"
   },
   {
    "duration": 14,
    "start_time": "2023-05-15T12:39:36.919Z"
   },
   {
    "duration": 29,
    "start_time": "2023-05-15T12:40:06.487Z"
   },
   {
    "duration": 15,
    "start_time": "2023-05-15T12:40:51.263Z"
   },
   {
    "duration": 23,
    "start_time": "2023-05-15T12:41:47.502Z"
   },
   {
    "duration": 7,
    "start_time": "2023-05-15T12:42:07.062Z"
   },
   {
    "duration": 8,
    "start_time": "2023-05-15T12:44:32.530Z"
   },
   {
    "duration": 18,
    "start_time": "2023-05-15T12:45:01.533Z"
   },
   {
    "duration": 23,
    "start_time": "2023-05-15T12:45:38.330Z"
   },
   {
    "duration": 10,
    "start_time": "2023-05-15T12:46:40.343Z"
   },
   {
    "duration": 356,
    "start_time": "2023-05-15T12:51:13.591Z"
   },
   {
    "duration": 344,
    "start_time": "2023-05-15T12:52:31.847Z"
   },
   {
    "duration": 3463,
    "start_time": "2023-05-15T12:53:21.289Z"
   },
   {
    "duration": 229,
    "start_time": "2023-05-15T12:56:52.321Z"
   },
   {
    "duration": 184,
    "start_time": "2023-05-15T13:01:34.887Z"
   },
   {
    "duration": 339,
    "start_time": "2023-05-15T13:02:14.906Z"
   },
   {
    "duration": 9,
    "start_time": "2023-05-15T13:29:04.790Z"
   },
   {
    "duration": 21,
    "start_time": "2023-05-15T13:30:42.629Z"
   },
   {
    "duration": 25,
    "start_time": "2023-05-15T13:32:15.687Z"
   },
   {
    "duration": 71,
    "start_time": "2023-05-15T13:35:02.712Z"
   },
   {
    "duration": 536,
    "start_time": "2023-05-15T13:46:21.005Z"
   },
   {
    "duration": 22,
    "start_time": "2023-05-15T13:46:21.543Z"
   },
   {
    "duration": 18,
    "start_time": "2023-05-15T13:46:21.566Z"
   },
   {
    "duration": 74,
    "start_time": "2023-05-15T13:46:21.586Z"
   },
   {
    "duration": 9,
    "start_time": "2023-05-15T13:46:21.662Z"
   },
   {
    "duration": 2334,
    "start_time": "2023-05-15T13:46:21.672Z"
   },
   {
    "duration": 965,
    "start_time": "2023-05-15T13:46:24.009Z"
   },
   {
    "duration": 0,
    "start_time": "2023-05-15T13:46:24.975Z"
   },
   {
    "duration": 15,
    "start_time": "2023-05-15T13:47:03.451Z"
   },
   {
    "duration": 21,
    "start_time": "2023-05-15T13:47:47.100Z"
   },
   {
    "duration": 13,
    "start_time": "2023-05-15T14:08:05.305Z"
   },
   {
    "duration": 28,
    "start_time": "2023-05-15T14:08:11.342Z"
   },
   {
    "duration": 6209,
    "start_time": "2023-05-15T14:19:26.182Z"
   },
   {
    "duration": 18,
    "start_time": "2023-05-15T14:20:00.182Z"
   },
   {
    "duration": 20,
    "start_time": "2023-05-15T14:20:08.486Z"
   },
   {
    "duration": 15,
    "start_time": "2023-05-15T14:20:15.474Z"
   },
   {
    "duration": 22,
    "start_time": "2023-05-15T14:20:32.353Z"
   },
   {
    "duration": 112,
    "start_time": "2023-05-15T14:23:14.588Z"
   },
   {
    "duration": 41,
    "start_time": "2023-05-15T14:24:35.840Z"
   },
   {
    "duration": 55,
    "start_time": "2023-05-15T14:24:44.486Z"
   },
   {
    "duration": 24,
    "start_time": "2023-05-15T14:25:26.026Z"
   },
   {
    "duration": 18,
    "start_time": "2023-05-15T14:26:18.274Z"
   },
   {
    "duration": 6,
    "start_time": "2023-05-15T14:26:44.994Z"
   },
   {
    "duration": 38,
    "start_time": "2023-05-15T14:28:58.781Z"
   },
   {
    "duration": 5,
    "start_time": "2023-05-15T14:29:12.445Z"
   },
   {
    "duration": 37,
    "start_time": "2023-05-15T14:29:20.483Z"
   },
   {
    "duration": 22,
    "start_time": "2023-05-15T14:29:51.044Z"
   },
   {
    "duration": 135,
    "start_time": "2023-05-15T14:32:15.988Z"
   },
   {
    "duration": 13,
    "start_time": "2023-05-15T14:32:22.436Z"
   },
   {
    "duration": 17,
    "start_time": "2023-05-15T14:32:30.392Z"
   },
   {
    "duration": 458,
    "start_time": "2023-05-15T16:25:23.034Z"
   },
   {
    "duration": 26,
    "start_time": "2023-05-15T16:25:23.494Z"
   },
   {
    "duration": 19,
    "start_time": "2023-05-15T16:25:23.521Z"
   },
   {
    "duration": 96,
    "start_time": "2023-05-15T16:25:23.542Z"
   },
   {
    "duration": 5,
    "start_time": "2023-05-15T16:25:23.640Z"
   },
   {
    "duration": 13,
    "start_time": "2023-05-15T16:25:23.646Z"
   },
   {
    "duration": 61,
    "start_time": "2023-05-15T16:25:23.661Z"
   },
   {
    "duration": 0,
    "start_time": "2023-05-15T16:25:23.724Z"
   },
   {
    "duration": 0,
    "start_time": "2023-05-15T16:25:23.725Z"
   },
   {
    "duration": 0,
    "start_time": "2023-05-15T16:25:23.726Z"
   },
   {
    "duration": 487,
    "start_time": "2023-05-15T16:27:03.763Z"
   },
   {
    "duration": 20,
    "start_time": "2023-05-15T16:27:04.252Z"
   },
   {
    "duration": 31,
    "start_time": "2023-05-15T16:27:04.274Z"
   },
   {
    "duration": 78,
    "start_time": "2023-05-15T16:27:04.312Z"
   },
   {
    "duration": 5,
    "start_time": "2023-05-15T16:27:04.397Z"
   },
   {
    "duration": 177,
    "start_time": "2023-05-15T16:27:04.403Z"
   },
   {
    "duration": 0,
    "start_time": "2023-05-15T16:27:04.582Z"
   },
   {
    "duration": 0,
    "start_time": "2023-05-15T16:27:04.583Z"
   },
   {
    "duration": 0,
    "start_time": "2023-05-15T16:27:04.585Z"
   },
   {
    "duration": 0,
    "start_time": "2023-05-15T16:27:04.586Z"
   },
   {
    "duration": 0,
    "start_time": "2023-05-15T16:27:04.588Z"
   },
   {
    "duration": 13,
    "start_time": "2023-05-15T16:27:57.393Z"
   },
   {
    "duration": 78,
    "start_time": "2023-05-15T16:28:02.682Z"
   },
   {
    "duration": 65,
    "start_time": "2023-05-15T16:28:55.369Z"
   },
   {
    "duration": 21,
    "start_time": "2023-05-15T16:32:53.223Z"
   },
   {
    "duration": 23,
    "start_time": "2023-05-15T17:02:17.079Z"
   },
   {
    "duration": 21,
    "start_time": "2023-05-15T17:04:21.694Z"
   },
   {
    "duration": 484,
    "start_time": "2023-05-15T17:05:01.525Z"
   },
   {
    "duration": 19,
    "start_time": "2023-05-15T17:05:02.011Z"
   },
   {
    "duration": 22,
    "start_time": "2023-05-15T17:05:02.031Z"
   },
   {
    "duration": 71,
    "start_time": "2023-05-15T17:05:02.055Z"
   },
   {
    "duration": 4,
    "start_time": "2023-05-15T17:05:02.129Z"
   },
   {
    "duration": 28,
    "start_time": "2023-05-15T17:05:02.135Z"
   },
   {
    "duration": 81,
    "start_time": "2023-05-15T17:05:02.165Z"
   },
   {
    "duration": 0,
    "start_time": "2023-05-15T17:05:02.248Z"
   },
   {
    "duration": 0,
    "start_time": "2023-05-15T17:05:02.249Z"
   },
   {
    "duration": 0,
    "start_time": "2023-05-15T17:05:02.250Z"
   },
   {
    "duration": 50,
    "start_time": "2023-05-15T17:05:55.502Z"
   },
   {
    "duration": 21,
    "start_time": "2023-05-15T17:06:01.926Z"
   },
   {
    "duration": 20,
    "start_time": "2023-05-15T17:06:19.985Z"
   },
   {
    "duration": 17,
    "start_time": "2023-05-15T17:06:24.699Z"
   },
   {
    "duration": 12,
    "start_time": "2023-05-15T17:06:37.877Z"
   },
   {
    "duration": 20,
    "start_time": "2023-05-15T17:06:43.933Z"
   },
   {
    "duration": 20,
    "start_time": "2023-05-15T17:08:39.364Z"
   },
   {
    "duration": 26,
    "start_time": "2023-05-15T17:10:46.419Z"
   },
   {
    "duration": 19,
    "start_time": "2023-05-15T17:10:56.426Z"
   },
   {
    "duration": 16,
    "start_time": "2023-05-15T17:11:06.981Z"
   },
   {
    "duration": 7,
    "start_time": "2023-05-15T17:11:22.483Z"
   },
   {
    "duration": 5,
    "start_time": "2023-05-15T17:13:12.704Z"
   },
   {
    "duration": 48,
    "start_time": "2023-05-15T17:13:20.011Z"
   },
   {
    "duration": 27,
    "start_time": "2023-05-15T17:15:09.874Z"
   },
   {
    "duration": 21,
    "start_time": "2023-05-15T17:15:38.058Z"
   },
   {
    "duration": 19,
    "start_time": "2023-05-15T17:19:37.890Z"
   },
   {
    "duration": 67,
    "start_time": "2023-05-15T17:19:46.022Z"
   },
   {
    "duration": 7,
    "start_time": "2023-05-15T17:27:03.379Z"
   },
   {
    "duration": 59,
    "start_time": "2023-05-15T17:28:04.051Z"
   },
   {
    "duration": 24,
    "start_time": "2023-05-15T17:28:14.349Z"
   },
   {
    "duration": 22,
    "start_time": "2023-05-15T17:35:36.100Z"
   },
   {
    "duration": 27,
    "start_time": "2023-05-15T17:36:47.517Z"
   },
   {
    "duration": 472,
    "start_time": "2023-05-15T17:37:25.909Z"
   },
   {
    "duration": 20,
    "start_time": "2023-05-15T17:37:26.383Z"
   },
   {
    "duration": 13,
    "start_time": "2023-05-15T17:37:26.405Z"
   },
   {
    "duration": 64,
    "start_time": "2023-05-15T17:37:26.419Z"
   },
   {
    "duration": 4,
    "start_time": "2023-05-15T17:37:26.494Z"
   },
   {
    "duration": 142,
    "start_time": "2023-05-15T17:37:26.500Z"
   },
   {
    "duration": 0,
    "start_time": "2023-05-15T17:37:26.644Z"
   },
   {
    "duration": 0,
    "start_time": "2023-05-15T17:37:26.645Z"
   },
   {
    "duration": 0,
    "start_time": "2023-05-15T17:37:26.646Z"
   },
   {
    "duration": 0,
    "start_time": "2023-05-15T17:37:26.647Z"
   },
   {
    "duration": 0,
    "start_time": "2023-05-15T17:37:26.647Z"
   },
   {
    "duration": 9,
    "start_time": "2023-05-15T17:37:43.813Z"
   },
   {
    "duration": 81,
    "start_time": "2023-05-15T17:37:52.838Z"
   },
   {
    "duration": 56,
    "start_time": "2023-05-15T17:38:40.980Z"
   },
   {
    "duration": 22,
    "start_time": "2023-05-15T17:38:57.756Z"
   },
   {
    "duration": 27,
    "start_time": "2023-05-15T17:39:03.948Z"
   },
   {
    "duration": 26,
    "start_time": "2023-05-15T17:42:51.740Z"
   },
   {
    "duration": 29,
    "start_time": "2023-05-15T17:43:16.171Z"
   },
   {
    "duration": 23,
    "start_time": "2023-05-15T17:43:30.740Z"
   },
   {
    "duration": 6,
    "start_time": "2023-05-15T17:44:04.637Z"
   },
   {
    "duration": 21,
    "start_time": "2023-05-15T17:46:02.533Z"
   },
   {
    "duration": 29,
    "start_time": "2023-05-15T17:46:10.532Z"
   },
   {
    "duration": 22,
    "start_time": "2023-05-15T17:46:36.091Z"
   },
   {
    "duration": 7,
    "start_time": "2023-05-15T17:46:40.742Z"
   },
   {
    "duration": 28,
    "start_time": "2023-05-15T17:47:10.837Z"
   },
   {
    "duration": 9,
    "start_time": "2023-05-15T17:47:15.190Z"
   },
   {
    "duration": 66,
    "start_time": "2023-05-15T17:47:31.229Z"
   },
   {
    "duration": 436,
    "start_time": "2023-05-15T17:48:02.740Z"
   },
   {
    "duration": 20,
    "start_time": "2023-05-15T17:48:03.178Z"
   },
   {
    "duration": 14,
    "start_time": "2023-05-15T17:48:03.199Z"
   },
   {
    "duration": 60,
    "start_time": "2023-05-15T17:48:03.215Z"
   },
   {
    "duration": 2,
    "start_time": "2023-05-15T17:48:03.294Z"
   },
   {
    "duration": 17,
    "start_time": "2023-05-15T17:48:03.297Z"
   },
   {
    "duration": 25,
    "start_time": "2023-05-15T17:48:03.316Z"
   },
   {
    "duration": 4,
    "start_time": "2023-05-15T17:48:03.343Z"
   },
   {
    "duration": 2360,
    "start_time": "2023-05-15T17:48:03.348Z"
   },
   {
    "duration": 18,
    "start_time": "2023-05-15T17:48:05.710Z"
   },
   {
    "duration": 99,
    "start_time": "2023-05-15T17:48:23.502Z"
   },
   {
    "duration": 18,
    "start_time": "2023-05-15T17:48:26.909Z"
   },
   {
    "duration": 14,
    "start_time": "2023-05-15T17:48:28.472Z"
   },
   {
    "duration": 63,
    "start_time": "2023-05-15T17:48:30.180Z"
   },
   {
    "duration": 3,
    "start_time": "2023-05-15T17:48:32.190Z"
   },
   {
    "duration": 8,
    "start_time": "2023-05-15T17:48:35.064Z"
   },
   {
    "duration": 26,
    "start_time": "2023-05-15T17:48:43.152Z"
   },
   {
    "duration": 7,
    "start_time": "2023-05-15T17:48:49.812Z"
   },
   {
    "duration": 26,
    "start_time": "2023-05-15T17:49:37.420Z"
   },
   {
    "duration": 8,
    "start_time": "2023-05-15T17:49:41.781Z"
   },
   {
    "duration": 28,
    "start_time": "2023-05-15T17:50:27.574Z"
   },
   {
    "duration": 4,
    "start_time": "2023-05-15T17:50:28.880Z"
   },
   {
    "duration": 7,
    "start_time": "2023-05-15T17:50:33.189Z"
   },
   {
    "duration": 28,
    "start_time": "2023-05-15T17:52:02.613Z"
   },
   {
    "duration": 8,
    "start_time": "2023-05-15T17:52:06.471Z"
   },
   {
    "duration": 28,
    "start_time": "2023-05-15T17:52:31.668Z"
   },
   {
    "duration": 8,
    "start_time": "2023-05-15T17:52:37.069Z"
   },
   {
    "duration": 111,
    "start_time": "2023-05-15T17:56:07.788Z"
   },
   {
    "duration": 9,
    "start_time": "2023-05-15T17:56:45.789Z"
   },
   {
    "duration": 12,
    "start_time": "2023-05-15T17:57:02.038Z"
   },
   {
    "duration": 96,
    "start_time": "2023-05-15T17:59:45.118Z"
   },
   {
    "duration": 8,
    "start_time": "2023-05-15T17:59:56.420Z"
   },
   {
    "duration": 22,
    "start_time": "2023-05-15T18:21:52.810Z"
   },
   {
    "duration": 58,
    "start_time": "2023-05-15T18:21:57.220Z"
   },
   {
    "duration": 9,
    "start_time": "2023-05-15T18:22:04.485Z"
   },
   {
    "duration": 534,
    "start_time": "2023-05-15T18:47:19.172Z"
   },
   {
    "duration": 25,
    "start_time": "2023-05-15T18:47:19.709Z"
   },
   {
    "duration": 18,
    "start_time": "2023-05-15T18:47:19.736Z"
   },
   {
    "duration": 104,
    "start_time": "2023-05-15T18:47:19.756Z"
   },
   {
    "duration": 11,
    "start_time": "2023-05-15T18:47:19.862Z"
   },
   {
    "duration": 2245,
    "start_time": "2023-05-15T18:47:19.875Z"
   },
   {
    "duration": 36,
    "start_time": "2023-05-15T18:47:22.122Z"
   },
   {
    "duration": 30,
    "start_time": "2023-05-15T18:47:56.214Z"
   },
   {
    "duration": 16,
    "start_time": "2023-05-15T18:48:06.610Z"
   },
   {
    "duration": 31,
    "start_time": "2023-05-15T18:48:12.758Z"
   },
   {
    "duration": 25,
    "start_time": "2023-05-15T19:06:39.140Z"
   },
   {
    "duration": 8,
    "start_time": "2023-05-15T19:06:47.690Z"
   },
   {
    "duration": 22,
    "start_time": "2023-05-15T19:06:58.086Z"
   },
   {
    "duration": 6,
    "start_time": "2023-05-15T19:07:05.852Z"
   },
   {
    "duration": 20,
    "start_time": "2023-05-15T19:07:12.605Z"
   },
   {
    "duration": 16,
    "start_time": "2023-05-15T19:07:29.813Z"
   },
   {
    "duration": 504,
    "start_time": "2023-05-15T19:07:38.566Z"
   },
   {
    "duration": 20,
    "start_time": "2023-05-15T19:07:39.072Z"
   },
   {
    "duration": 15,
    "start_time": "2023-05-15T19:07:39.094Z"
   },
   {
    "duration": 64,
    "start_time": "2023-05-15T19:07:39.110Z"
   },
   {
    "duration": 136,
    "start_time": "2023-05-15T19:07:39.176Z"
   },
   {
    "duration": 2450,
    "start_time": "2023-05-15T19:07:39.314Z"
   },
   {
    "duration": 28,
    "start_time": "2023-05-15T19:07:41.765Z"
   },
   {
    "duration": 35,
    "start_time": "2023-05-15T19:07:45.094Z"
   },
   {
    "duration": 7,
    "start_time": "2023-05-15T19:07:53.565Z"
   },
   {
    "duration": 71,
    "start_time": "2023-05-15T19:08:06.342Z"
   },
   {
    "duration": 8,
    "start_time": "2023-05-15T19:09:34.300Z"
   },
   {
    "duration": 2280,
    "start_time": "2023-05-15T19:09:36.773Z"
   },
   {
    "duration": 8,
    "start_time": "2023-05-15T19:09:39.809Z"
   },
   {
    "duration": 70,
    "start_time": "2023-05-15T19:09:47.740Z"
   },
   {
    "duration": 5,
    "start_time": "2023-05-15T19:19:42.060Z"
   },
   {
    "duration": 9,
    "start_time": "2023-05-15T19:22:54.890Z"
   },
   {
    "duration": 6,
    "start_time": "2023-05-15T19:26:50.177Z"
   },
   {
    "duration": 6,
    "start_time": "2023-05-15T20:03:55.001Z"
   },
   {
    "duration": 102,
    "start_time": "2023-05-15T20:04:06.313Z"
   },
   {
    "duration": 544,
    "start_time": "2023-05-15T20:04:41.165Z"
   },
   {
    "duration": 22,
    "start_time": "2023-05-15T20:04:41.712Z"
   },
   {
    "duration": 38,
    "start_time": "2023-05-15T20:04:41.736Z"
   },
   {
    "duration": 86,
    "start_time": "2023-05-15T20:04:41.776Z"
   },
   {
    "duration": 9,
    "start_time": "2023-05-15T20:04:41.864Z"
   },
   {
    "duration": 2269,
    "start_time": "2023-05-15T20:04:41.875Z"
   },
   {
    "duration": 37,
    "start_time": "2023-05-15T20:04:44.146Z"
   },
   {
    "duration": 6,
    "start_time": "2023-05-15T20:04:44.185Z"
   },
   {
    "duration": 65,
    "start_time": "2023-05-15T20:04:44.193Z"
   },
   {
    "duration": 87,
    "start_time": "2023-05-15T20:05:29.800Z"
   },
   {
    "duration": 9,
    "start_time": "2023-05-15T20:21:05.935Z"
   },
   {
    "duration": 75,
    "start_time": "2023-05-15T20:23:56.962Z"
   },
   {
    "duration": 14,
    "start_time": "2023-05-15T20:24:41.073Z"
   },
   {
    "duration": 15,
    "start_time": "2023-05-15T20:38:37.721Z"
   },
   {
    "duration": 113,
    "start_time": "2023-05-15T20:47:45.519Z"
   },
   {
    "duration": 25,
    "start_time": "2023-05-15T20:48:00.433Z"
   },
   {
    "duration": 4,
    "start_time": "2023-05-15T20:48:58.840Z"
   },
   {
    "duration": 20,
    "start_time": "2023-05-15T20:49:35.335Z"
   },
   {
    "duration": 11,
    "start_time": "2023-05-15T20:49:52.413Z"
   },
   {
    "duration": 9,
    "start_time": "2023-05-15T20:54:22.242Z"
   },
   {
    "duration": 1116,
    "start_time": "2023-05-15T20:54:58.057Z"
   },
   {
    "duration": 12,
    "start_time": "2023-05-15T20:55:09.708Z"
   },
   {
    "duration": 8,
    "start_time": "2023-05-15T20:55:48.029Z"
   },
   {
    "duration": 8,
    "start_time": "2023-05-15T20:56:11.761Z"
   },
   {
    "duration": 47,
    "start_time": "2023-05-16T13:43:07.842Z"
   },
   {
    "duration": 552,
    "start_time": "2023-05-16T13:43:16.310Z"
   },
   {
    "duration": 25,
    "start_time": "2023-05-16T13:43:16.864Z"
   },
   {
    "duration": 14,
    "start_time": "2023-05-16T13:43:16.890Z"
   },
   {
    "duration": 68,
    "start_time": "2023-05-16T13:43:16.906Z"
   },
   {
    "duration": 7,
    "start_time": "2023-05-16T13:43:16.977Z"
   },
   {
    "duration": 2357,
    "start_time": "2023-05-16T13:43:16.986Z"
   },
   {
    "duration": 28,
    "start_time": "2023-05-16T13:43:19.345Z"
   },
   {
    "duration": 71,
    "start_time": "2023-05-16T13:43:19.375Z"
   },
   {
    "duration": 0,
    "start_time": "2023-05-16T13:43:19.448Z"
   },
   {
    "duration": 6,
    "start_time": "2023-05-16T13:43:48.152Z"
   },
   {
    "duration": 7,
    "start_time": "2023-05-16T15:15:50.351Z"
   },
   {
    "duration": 68,
    "start_time": "2023-05-16T15:16:07.557Z"
   },
   {
    "duration": 8,
    "start_time": "2023-05-16T15:16:11.145Z"
   },
   {
    "duration": 28,
    "start_time": "2023-05-16T15:17:54.252Z"
   },
   {
    "duration": 7,
    "start_time": "2023-05-16T15:18:00.227Z"
   },
   {
    "duration": 24,
    "start_time": "2023-05-16T15:18:13.515Z"
   },
   {
    "duration": 8,
    "start_time": "2023-05-16T15:18:22.155Z"
   },
   {
    "duration": 22,
    "start_time": "2023-05-16T15:19:02.988Z"
   },
   {
    "duration": 8,
    "start_time": "2023-05-16T15:19:10.792Z"
   },
   {
    "duration": 23,
    "start_time": "2023-05-16T15:20:39.193Z"
   },
   {
    "duration": 8,
    "start_time": "2023-05-16T15:20:43.769Z"
   },
   {
    "duration": 10,
    "start_time": "2023-05-16T15:31:15.647Z"
   },
   {
    "duration": 8,
    "start_time": "2023-05-16T15:31:22.000Z"
   },
   {
    "duration": 9,
    "start_time": "2023-05-16T15:31:42.938Z"
   },
   {
    "duration": 9,
    "start_time": "2023-05-16T15:31:51.439Z"
   },
   {
    "duration": 9,
    "start_time": "2023-05-16T15:46:55.088Z"
   },
   {
    "duration": 8,
    "start_time": "2023-05-16T15:47:00.941Z"
   },
   {
    "duration": 30,
    "start_time": "2023-05-16T15:49:26.392Z"
   },
   {
    "duration": 79,
    "start_time": "2023-05-16T15:56:20.349Z"
   },
   {
    "duration": 29,
    "start_time": "2023-05-16T15:56:36.449Z"
   },
   {
    "duration": 31,
    "start_time": "2023-05-16T15:57:27.049Z"
   },
   {
    "duration": 8,
    "start_time": "2023-05-16T15:57:33.407Z"
   },
   {
    "duration": 2219,
    "start_time": "2023-05-16T16:08:46.655Z"
   },
   {
    "duration": 143,
    "start_time": "2023-05-16T16:32:41.403Z"
   },
   {
    "duration": 113,
    "start_time": "2023-05-16T16:32:53.377Z"
   },
   {
    "duration": 116,
    "start_time": "2023-05-16T16:33:03.911Z"
   },
   {
    "duration": 8,
    "start_time": "2023-05-16T16:35:53.315Z"
   },
   {
    "duration": 145,
    "start_time": "2023-05-16T16:36:03.693Z"
   },
   {
    "duration": 6,
    "start_time": "2023-05-16T16:36:21.853Z"
   },
   {
    "duration": 12,
    "start_time": "2023-05-16T16:36:39.724Z"
   },
   {
    "duration": 7,
    "start_time": "2023-05-16T16:36:47.523Z"
   },
   {
    "duration": 6,
    "start_time": "2023-05-16T16:37:14.751Z"
   },
   {
    "duration": 3,
    "start_time": "2023-05-16T16:50:09.550Z"
   },
   {
    "duration": 10,
    "start_time": "2023-05-16T16:53:01.287Z"
   },
   {
    "duration": 58,
    "start_time": "2023-05-16T16:53:10.649Z"
   },
   {
    "duration": 18,
    "start_time": "2023-05-16T16:54:49.111Z"
   },
   {
    "duration": 76,
    "start_time": "2023-05-16T16:54:55.095Z"
   },
   {
    "duration": 17,
    "start_time": "2023-05-16T16:55:12.720Z"
   },
   {
    "duration": 53,
    "start_time": "2023-05-16T16:56:11.524Z"
   },
   {
    "duration": 531,
    "start_time": "2023-05-16T16:57:52.183Z"
   },
   {
    "duration": 196,
    "start_time": "2023-05-16T16:59:48.103Z"
   },
   {
    "duration": 182,
    "start_time": "2023-05-16T17:01:14.351Z"
   },
   {
    "duration": 197,
    "start_time": "2023-05-16T17:01:45.550Z"
   },
   {
    "duration": 214,
    "start_time": "2023-05-16T17:02:44.850Z"
   },
   {
    "duration": 17,
    "start_time": "2023-05-16T17:06:55.976Z"
   },
   {
    "duration": 18,
    "start_time": "2023-05-16T17:07:10.460Z"
   },
   {
    "duration": 484,
    "start_time": "2023-05-16T17:07:16.987Z"
   },
   {
    "duration": 21,
    "start_time": "2023-05-16T17:07:17.473Z"
   },
   {
    "duration": 29,
    "start_time": "2023-05-16T17:07:17.496Z"
   },
   {
    "duration": 64,
    "start_time": "2023-05-16T17:07:17.527Z"
   },
   {
    "duration": 8,
    "start_time": "2023-05-16T17:07:17.593Z"
   },
   {
    "duration": 2272,
    "start_time": "2023-05-16T17:07:17.603Z"
   },
   {
    "duration": 32,
    "start_time": "2023-05-16T17:07:19.877Z"
   },
   {
    "duration": 12,
    "start_time": "2023-05-16T17:07:19.911Z"
   },
   {
    "duration": 72,
    "start_time": "2023-05-16T17:07:19.925Z"
   },
   {
    "duration": 0,
    "start_time": "2023-05-16T17:07:19.998Z"
   },
   {
    "duration": 0,
    "start_time": "2023-05-16T17:07:19.999Z"
   },
   {
    "duration": 0,
    "start_time": "2023-05-16T17:07:20.001Z"
   },
   {
    "duration": 18,
    "start_time": "2023-05-16T17:07:28.923Z"
   },
   {
    "duration": 3,
    "start_time": "2023-05-16T17:07:56.360Z"
   },
   {
    "duration": 7,
    "start_time": "2023-05-16T17:08:36.287Z"
   },
   {
    "duration": 9,
    "start_time": "2023-05-16T17:14:01.440Z"
   },
   {
    "duration": 209,
    "start_time": "2023-05-16T17:14:12.412Z"
   },
   {
    "duration": 3,
    "start_time": "2023-05-16T17:15:07.513Z"
   },
   {
    "duration": 6,
    "start_time": "2023-05-16T17:15:14.416Z"
   },
   {
    "duration": 15,
    "start_time": "2023-05-16T17:16:47.014Z"
   },
   {
    "duration": 8,
    "start_time": "2023-05-16T17:19:04.003Z"
   },
   {
    "duration": 27,
    "start_time": "2023-05-16T17:19:12.756Z"
   },
   {
    "duration": 8,
    "start_time": "2023-05-16T17:19:16.602Z"
   },
   {
    "duration": 3,
    "start_time": "2023-05-16T17:20:06.589Z"
   },
   {
    "duration": 3,
    "start_time": "2023-05-16T17:20:10.524Z"
   },
   {
    "duration": 2,
    "start_time": "2023-05-16T17:20:14.724Z"
   },
   {
    "duration": 8,
    "start_time": "2023-05-16T17:20:22.814Z"
   },
   {
    "duration": 522,
    "start_time": "2023-05-16T17:20:47.507Z"
   },
   {
    "duration": 22,
    "start_time": "2023-05-16T17:20:48.031Z"
   },
   {
    "duration": 16,
    "start_time": "2023-05-16T17:20:48.055Z"
   },
   {
    "duration": 78,
    "start_time": "2023-05-16T17:20:48.073Z"
   },
   {
    "duration": 8,
    "start_time": "2023-05-16T17:20:48.153Z"
   },
   {
    "duration": 2260,
    "start_time": "2023-05-16T17:20:48.163Z"
   },
   {
    "duration": 29,
    "start_time": "2023-05-16T17:20:50.424Z"
   },
   {
    "duration": 11,
    "start_time": "2023-05-16T17:20:50.455Z"
   },
   {
    "duration": 2,
    "start_time": "2023-05-16T17:20:50.468Z"
   },
   {
    "duration": 11,
    "start_time": "2023-05-16T17:20:50.471Z"
   },
   {
    "duration": 4,
    "start_time": "2023-05-16T17:20:50.483Z"
   },
   {
    "duration": 40,
    "start_time": "2023-05-16T17:20:50.488Z"
   },
   {
    "duration": 15,
    "start_time": "2023-05-16T17:21:03.406Z"
   },
   {
    "duration": 14,
    "start_time": "2023-05-16T17:21:22.060Z"
   },
   {
    "duration": 14,
    "start_time": "2023-05-16T17:21:25.690Z"
   },
   {
    "duration": 27,
    "start_time": "2023-05-16T17:21:29.523Z"
   },
   {
    "duration": 2681,
    "start_time": "2023-05-16T17:21:33.252Z"
   },
   {
    "duration": 8,
    "start_time": "2023-05-16T17:21:40.205Z"
   },
   {
    "duration": 505,
    "start_time": "2023-05-16T17:22:42.306Z"
   },
   {
    "duration": 21,
    "start_time": "2023-05-16T17:22:42.813Z"
   },
   {
    "duration": 15,
    "start_time": "2023-05-16T17:22:42.836Z"
   },
   {
    "duration": 76,
    "start_time": "2023-05-16T17:22:42.852Z"
   },
   {
    "duration": 8,
    "start_time": "2023-05-16T17:22:42.930Z"
   },
   {
    "duration": 2108,
    "start_time": "2023-05-16T17:22:42.939Z"
   },
   {
    "duration": 29,
    "start_time": "2023-05-16T17:22:45.049Z"
   },
   {
    "duration": 10,
    "start_time": "2023-05-16T17:22:45.080Z"
   },
   {
    "duration": 9,
    "start_time": "2023-05-16T17:22:45.091Z"
   },
   {
    "duration": 9,
    "start_time": "2023-05-16T17:22:45.101Z"
   },
   {
    "duration": 11,
    "start_time": "2023-05-16T17:22:45.112Z"
   },
   {
    "duration": 18,
    "start_time": "2023-05-16T17:22:45.125Z"
   },
   {
    "duration": 7,
    "start_time": "2023-05-16T17:22:45.145Z"
   },
   {
    "duration": 31,
    "start_time": "2023-05-16T17:25:29.390Z"
   },
   {
    "duration": 8,
    "start_time": "2023-05-16T17:25:35.852Z"
   },
   {
    "duration": 27,
    "start_time": "2023-05-16T17:27:21.053Z"
   },
   {
    "duration": 10,
    "start_time": "2023-05-16T17:27:26.133Z"
   },
   {
    "duration": 29,
    "start_time": "2023-05-16T17:27:37.495Z"
   },
   {
    "duration": 8,
    "start_time": "2023-05-16T17:27:43.696Z"
   },
   {
    "duration": 517,
    "start_time": "2023-05-16T17:27:52.404Z"
   },
   {
    "duration": 20,
    "start_time": "2023-05-16T17:27:52.923Z"
   },
   {
    "duration": 14,
    "start_time": "2023-05-16T17:27:52.944Z"
   },
   {
    "duration": 77,
    "start_time": "2023-05-16T17:27:52.960Z"
   },
   {
    "duration": 8,
    "start_time": "2023-05-16T17:27:53.039Z"
   },
   {
    "duration": 2149,
    "start_time": "2023-05-16T17:27:53.049Z"
   },
   {
    "duration": 34,
    "start_time": "2023-05-16T17:27:55.200Z"
   },
   {
    "duration": 12,
    "start_time": "2023-05-16T17:27:55.236Z"
   },
   {
    "duration": 12,
    "start_time": "2023-05-16T17:27:55.250Z"
   },
   {
    "duration": 4,
    "start_time": "2023-05-16T17:27:55.264Z"
   },
   {
    "duration": 6,
    "start_time": "2023-05-16T17:27:55.270Z"
   },
   {
    "duration": 20,
    "start_time": "2023-05-16T17:27:55.278Z"
   },
   {
    "duration": 8,
    "start_time": "2023-05-16T17:27:55.300Z"
   },
   {
    "duration": 303,
    "start_time": "2023-05-16T17:30:07.454Z"
   },
   {
    "duration": 17,
    "start_time": "2023-05-16T17:30:15.261Z"
   },
   {
    "duration": 38,
    "start_time": "2023-05-16T17:43:10.294Z"
   },
   {
    "duration": 17,
    "start_time": "2023-05-16T17:43:15.620Z"
   },
   {
    "duration": 134,
    "start_time": "2023-05-16T17:46:02.495Z"
   },
   {
    "duration": 23,
    "start_time": "2023-05-16T17:46:13.053Z"
   },
   {
    "duration": 117,
    "start_time": "2023-05-16T17:49:56.193Z"
   },
   {
    "duration": 18,
    "start_time": "2023-05-16T17:50:05.425Z"
   },
   {
    "duration": 348,
    "start_time": "2023-05-16T17:50:56.122Z"
   },
   {
    "duration": 18,
    "start_time": "2023-05-16T17:51:03.593Z"
   },
   {
    "duration": 10,
    "start_time": "2023-05-16T18:21:50.889Z"
   },
   {
    "duration": 413,
    "start_time": "2023-05-16T18:26:48.689Z"
   },
   {
    "duration": 419,
    "start_time": "2023-05-16T18:27:02.152Z"
   },
   {
    "duration": 13,
    "start_time": "2023-05-16T18:27:34.170Z"
   },
   {
    "duration": 380,
    "start_time": "2023-05-16T18:35:31.192Z"
   },
   {
    "duration": 430,
    "start_time": "2023-05-16T18:43:46.717Z"
   },
   {
    "duration": 11,
    "start_time": "2023-05-16T18:44:11.466Z"
   },
   {
    "duration": 482,
    "start_time": "2023-05-16T18:45:46.706Z"
   },
   {
    "duration": 383,
    "start_time": "2023-05-16T18:45:56.927Z"
   },
   {
    "duration": 351,
    "start_time": "2023-05-16T18:48:48.116Z"
   },
   {
    "duration": 358,
    "start_time": "2023-05-16T18:49:30.863Z"
   },
   {
    "duration": 351,
    "start_time": "2023-05-16T18:49:43.415Z"
   },
   {
    "duration": 520,
    "start_time": "2023-05-16T18:50:10.528Z"
   },
   {
    "duration": 494,
    "start_time": "2023-05-16T18:54:54.049Z"
   },
   {
    "duration": 15,
    "start_time": "2023-05-16T18:55:09.837Z"
   },
   {
    "duration": 460,
    "start_time": "2023-05-16T18:56:09.899Z"
   },
   {
    "duration": 486,
    "start_time": "2023-05-16T19:07:22.807Z"
   },
   {
    "duration": 415,
    "start_time": "2023-05-16T19:07:52.416Z"
   },
   {
    "duration": 534,
    "start_time": "2023-05-16T19:08:50.415Z"
   },
   {
    "duration": 575,
    "start_time": "2023-05-16T19:11:05.632Z"
   },
   {
    "duration": 11,
    "start_time": "2023-05-16T19:11:29.408Z"
   },
   {
    "duration": 556,
    "start_time": "2023-05-16T19:13:19.149Z"
   },
   {
    "duration": 35,
    "start_time": "2023-05-16T19:13:19.708Z"
   },
   {
    "duration": 21,
    "start_time": "2023-05-16T19:13:19.746Z"
   },
   {
    "duration": 101,
    "start_time": "2023-05-16T19:13:19.770Z"
   },
   {
    "duration": 12,
    "start_time": "2023-05-16T19:13:19.874Z"
   },
   {
    "duration": 2703,
    "start_time": "2023-05-16T19:13:19.887Z"
   },
   {
    "duration": 50,
    "start_time": "2023-05-16T19:13:22.593Z"
   },
   {
    "duration": 17,
    "start_time": "2023-05-16T19:13:22.645Z"
   },
   {
    "duration": 53,
    "start_time": "2023-05-16T19:13:22.664Z"
   },
   {
    "duration": 40,
    "start_time": "2023-05-16T19:13:22.719Z"
   },
   {
    "duration": 38,
    "start_time": "2023-05-16T19:13:22.761Z"
   },
   {
    "duration": 344,
    "start_time": "2023-05-16T19:13:22.801Z"
   },
   {
    "duration": 9,
    "start_time": "2023-05-16T19:13:23.147Z"
   },
   {
    "duration": 363,
    "start_time": "2023-05-16T19:13:23.160Z"
   },
   {
    "duration": 448,
    "start_time": "2023-05-16T19:13:23.527Z"
   },
   {
    "duration": 370,
    "start_time": "2023-05-16T19:13:23.976Z"
   },
   {
    "duration": 397,
    "start_time": "2023-05-16T19:13:24.348Z"
   },
   {
    "duration": 9,
    "start_time": "2023-05-16T19:13:24.747Z"
   },
   {
    "duration": 115,
    "start_time": "2023-05-16T19:14:54.860Z"
   },
   {
    "duration": 119,
    "start_time": "2023-05-16T19:15:32.251Z"
   },
   {
    "duration": 67114,
    "start_time": "2023-05-16T19:19:26.725Z"
   },
   {
    "duration": 106,
    "start_time": "2023-05-16T19:24:57.945Z"
   },
   {
    "duration": 686,
    "start_time": "2023-05-16T19:25:08.792Z"
   },
   {
    "duration": 30,
    "start_time": "2023-05-16T19:25:09.481Z"
   },
   {
    "duration": 28,
    "start_time": "2023-05-16T19:25:09.513Z"
   },
   {
    "duration": 117,
    "start_time": "2023-05-16T19:25:09.543Z"
   },
   {
    "duration": 12,
    "start_time": "2023-05-16T19:25:09.666Z"
   },
   {
    "duration": 3012,
    "start_time": "2023-05-16T19:25:09.683Z"
   },
   {
    "duration": 76,
    "start_time": "2023-05-16T19:25:12.698Z"
   },
   {
    "duration": 16,
    "start_time": "2023-05-16T19:25:12.776Z"
   },
   {
    "duration": 3,
    "start_time": "2023-05-16T19:25:12.794Z"
   },
   {
    "duration": 10,
    "start_time": "2023-05-16T19:25:12.798Z"
   },
   {
    "duration": 8,
    "start_time": "2023-05-16T19:25:12.809Z"
   },
   {
    "duration": 405,
    "start_time": "2023-05-16T19:25:12.819Z"
   },
   {
    "duration": 19,
    "start_time": "2023-05-16T19:25:13.238Z"
   },
   {
    "duration": 437,
    "start_time": "2023-05-16T19:25:13.269Z"
   },
   {
    "duration": 564,
    "start_time": "2023-05-16T19:25:13.708Z"
   },
   {
    "duration": 423,
    "start_time": "2023-05-16T19:25:14.280Z"
   },
   {
    "duration": 23,
    "start_time": "2023-05-16T19:29:18.811Z"
   },
   {
    "duration": 403,
    "start_time": "2023-05-16T19:29:18.842Z"
   },
   {
    "duration": 11,
    "start_time": "2023-05-16T19:29:27.603Z"
   },
   {
    "duration": 24,
    "start_time": "2023-05-16T19:47:21.019Z"
   },
   {
    "duration": 278,
    "start_time": "2023-05-16T19:47:58.515Z"
   },
   {
    "duration": 286,
    "start_time": "2023-05-16T19:48:14.458Z"
   },
   {
    "duration": 283,
    "start_time": "2023-05-16T19:48:27.712Z"
   },
   {
    "duration": 334,
    "start_time": "2023-05-16T19:52:29.944Z"
   },
   {
    "duration": 6,
    "start_time": "2023-05-16T19:59:28.232Z"
   },
   {
    "duration": 12,
    "start_time": "2023-05-16T19:59:37.506Z"
   },
   {
    "duration": 582,
    "start_time": "2023-05-16T20:00:02.852Z"
   },
   {
    "duration": 23,
    "start_time": "2023-05-16T20:00:03.439Z"
   },
   {
    "duration": 42,
    "start_time": "2023-05-16T20:00:03.464Z"
   },
   {
    "duration": 114,
    "start_time": "2023-05-16T20:00:03.509Z"
   },
   {
    "duration": 20,
    "start_time": "2023-05-16T20:00:03.626Z"
   },
   {
    "duration": 2648,
    "start_time": "2023-05-16T20:00:03.652Z"
   },
   {
    "duration": 48,
    "start_time": "2023-05-16T20:00:06.302Z"
   },
   {
    "duration": 13,
    "start_time": "2023-05-16T20:00:06.352Z"
   },
   {
    "duration": 2,
    "start_time": "2023-05-16T20:00:06.367Z"
   },
   {
    "duration": 19,
    "start_time": "2023-05-16T20:00:06.372Z"
   },
   {
    "duration": 11,
    "start_time": "2023-05-16T20:00:06.393Z"
   },
   {
    "duration": 351,
    "start_time": "2023-05-16T20:00:06.406Z"
   },
   {
    "duration": 11,
    "start_time": "2023-05-16T20:00:06.759Z"
   },
   {
    "duration": 357,
    "start_time": "2023-05-16T20:00:06.773Z"
   },
   {
    "duration": 451,
    "start_time": "2023-05-16T20:00:07.131Z"
   },
   {
    "duration": 379,
    "start_time": "2023-05-16T20:00:07.584Z"
   },
   {
    "duration": 366,
    "start_time": "2023-05-16T20:00:07.965Z"
   },
   {
    "duration": 12,
    "start_time": "2023-05-16T20:00:08.336Z"
   },
   {
    "duration": 235,
    "start_time": "2023-05-16T20:00:08.350Z"
   },
   {
    "duration": 9,
    "start_time": "2023-05-16T20:00:08.587Z"
   },
   {
    "duration": 10,
    "start_time": "2023-05-16T20:00:17.823Z"
   },
   {
    "duration": 23,
    "start_time": "2023-05-16T20:00:45.846Z"
   },
   {
    "duration": 4,
    "start_time": "2023-05-16T20:01:38.166Z"
   },
   {
    "duration": 30,
    "start_time": "2023-05-16T20:01:43.959Z"
   },
   {
    "duration": 25,
    "start_time": "2023-05-16T20:01:46.455Z"
   },
   {
    "duration": 728,
    "start_time": "2023-05-16T20:02:00.686Z"
   },
   {
    "duration": 35,
    "start_time": "2023-05-16T20:02:01.420Z"
   },
   {
    "duration": 29,
    "start_time": "2023-05-16T20:02:01.462Z"
   },
   {
    "duration": 181,
    "start_time": "2023-05-16T20:02:01.499Z"
   },
   {
    "duration": 15,
    "start_time": "2023-05-16T20:02:01.687Z"
   },
   {
    "duration": 3694,
    "start_time": "2023-05-16T20:02:01.705Z"
   },
   {
    "duration": 66,
    "start_time": "2023-05-16T20:02:05.402Z"
   },
   {
    "duration": 22,
    "start_time": "2023-05-16T20:02:05.476Z"
   },
   {
    "duration": 3,
    "start_time": "2023-05-16T20:02:05.501Z"
   },
   {
    "duration": 22,
    "start_time": "2023-05-16T20:02:05.509Z"
   },
   {
    "duration": 32,
    "start_time": "2023-05-16T20:02:05.534Z"
   },
   {
    "duration": 525,
    "start_time": "2023-05-16T20:02:05.569Z"
   },
   {
    "duration": 11,
    "start_time": "2023-05-16T20:02:06.096Z"
   },
   {
    "duration": 467,
    "start_time": "2023-05-16T20:02:06.109Z"
   },
   {
    "duration": 550,
    "start_time": "2023-05-16T20:02:06.580Z"
   },
   {
    "duration": 509,
    "start_time": "2023-05-16T20:02:07.136Z"
   },
   {
    "duration": 523,
    "start_time": "2023-05-16T20:02:07.651Z"
   },
   {
    "duration": 13,
    "start_time": "2023-05-16T20:02:08.177Z"
   },
   {
    "duration": 351,
    "start_time": "2023-05-16T20:02:08.193Z"
   },
   {
    "duration": 18,
    "start_time": "2023-05-16T20:02:08.547Z"
   },
   {
    "duration": 99,
    "start_time": "2023-05-16T20:04:54.352Z"
   },
   {
    "duration": 12,
    "start_time": "2023-05-16T20:05:02.862Z"
   },
   {
    "duration": 7,
    "start_time": "2023-05-16T20:05:07.209Z"
   },
   {
    "duration": 17,
    "start_time": "2023-05-16T20:07:03.610Z"
   },
   {
    "duration": 13,
    "start_time": "2023-05-16T20:07:07.422Z"
   },
   {
    "duration": 7,
    "start_time": "2023-05-16T20:09:41.347Z"
   },
   {
    "duration": 19,
    "start_time": "2023-05-16T20:10:07.825Z"
   },
   {
    "duration": 290,
    "start_time": "2023-05-16T20:10:39.424Z"
   },
   {
    "duration": 3,
    "start_time": "2023-05-16T20:11:40.369Z"
   },
   {
    "duration": 16,
    "start_time": "2023-05-16T20:11:47.223Z"
   },
   {
    "duration": 6,
    "start_time": "2023-05-16T20:12:00.945Z"
   },
   {
    "duration": 8,
    "start_time": "2023-05-16T20:12:06.412Z"
   },
   {
    "duration": 93,
    "start_time": "2023-05-16T20:15:17.617Z"
   },
   {
    "duration": 11,
    "start_time": "2023-05-16T20:15:28.853Z"
   },
   {
    "duration": 10,
    "start_time": "2023-05-16T20:15:34.741Z"
   },
   {
    "duration": 22,
    "start_time": "2023-05-16T20:17:56.355Z"
   },
   {
    "duration": 26,
    "start_time": "2023-05-16T20:20:15.017Z"
   },
   {
    "duration": 289,
    "start_time": "2023-05-16T20:20:48.611Z"
   },
   {
    "duration": 339,
    "start_time": "2023-05-16T20:21:05.647Z"
   },
   {
    "duration": 281,
    "start_time": "2023-05-16T20:21:20.887Z"
   },
   {
    "duration": 340,
    "start_time": "2023-05-16T20:21:35.011Z"
   },
   {
    "duration": 522,
    "start_time": "2023-05-16T20:21:56.225Z"
   },
   {
    "duration": 519,
    "start_time": "2023-05-16T20:22:07.014Z"
   },
   {
    "duration": 507,
    "start_time": "2023-05-16T20:22:27.407Z"
   },
   {
    "duration": 456,
    "start_time": "2023-05-16T20:22:48.465Z"
   },
   {
    "duration": 21,
    "start_time": "2023-05-16T20:26:10.045Z"
   },
   {
    "duration": 463,
    "start_time": "2023-05-16T20:26:13.051Z"
   },
   {
    "duration": 415,
    "start_time": "2023-05-16T20:26:51.879Z"
   },
   {
    "duration": 15,
    "start_time": "2023-05-16T20:30:39.996Z"
   },
   {
    "duration": 22,
    "start_time": "2023-05-16T20:30:43.768Z"
   },
   {
    "duration": 1087,
    "start_time": "2023-05-16T20:31:24.020Z"
   },
   {
    "duration": 309,
    "start_time": "2023-05-16T20:31:46.721Z"
   },
   {
    "duration": 25,
    "start_time": "2023-05-16T20:32:46.194Z"
   },
   {
    "duration": 20,
    "start_time": "2023-05-16T20:47:30.109Z"
   },
   {
    "duration": 290,
    "start_time": "2023-05-16T20:48:49.775Z"
   },
   {
    "duration": 9,
    "start_time": "2023-05-16T20:49:24.495Z"
   },
   {
    "duration": 743,
    "start_time": "2023-05-17T13:59:12.096Z"
   },
   {
    "duration": 21,
    "start_time": "2023-05-17T13:59:12.841Z"
   },
   {
    "duration": 35,
    "start_time": "2023-05-17T13:59:12.863Z"
   },
   {
    "duration": 78,
    "start_time": "2023-05-17T13:59:12.899Z"
   },
   {
    "duration": 9,
    "start_time": "2023-05-17T13:59:12.979Z"
   },
   {
    "duration": 2379,
    "start_time": "2023-05-17T13:59:12.990Z"
   },
   {
    "duration": 39,
    "start_time": "2023-05-17T13:59:15.370Z"
   },
   {
    "duration": 19,
    "start_time": "2023-05-17T13:59:15.411Z"
   },
   {
    "duration": 16,
    "start_time": "2023-05-17T13:59:15.432Z"
   },
   {
    "duration": 11,
    "start_time": "2023-05-17T13:59:15.451Z"
   },
   {
    "duration": 94,
    "start_time": "2023-05-17T13:59:15.463Z"
   },
   {
    "duration": 7,
    "start_time": "2023-05-17T13:59:15.558Z"
   },
   {
    "duration": 312,
    "start_time": "2023-05-17T13:59:15.566Z"
   },
   {
    "duration": 7,
    "start_time": "2023-05-17T13:59:15.881Z"
   },
   {
    "duration": 308,
    "start_time": "2023-05-17T13:59:15.890Z"
   },
   {
    "duration": 390,
    "start_time": "2023-05-17T13:59:16.200Z"
   },
   {
    "duration": 307,
    "start_time": "2023-05-17T13:59:16.592Z"
   },
   {
    "duration": 322,
    "start_time": "2023-05-17T13:59:16.901Z"
   },
   {
    "duration": 15,
    "start_time": "2023-05-17T13:59:17.225Z"
   },
   {
    "duration": 208,
    "start_time": "2023-05-17T13:59:17.245Z"
   },
   {
    "duration": 306,
    "start_time": "2023-05-17T13:59:17.455Z"
   },
   {
    "duration": 323,
    "start_time": "2023-05-17T13:59:17.762Z"
   },
   {
    "duration": 100,
    "start_time": "2023-05-17T13:59:18.086Z"
   },
   {
    "duration": 0,
    "start_time": "2023-05-17T13:59:18.188Z"
   },
   {
    "duration": 204,
    "start_time": "2023-05-17T14:01:18.313Z"
   },
   {
    "duration": 7,
    "start_time": "2023-05-17T14:01:21.277Z"
   },
   {
    "duration": 519,
    "start_time": "2023-05-17T14:01:47.595Z"
   },
   {
    "duration": 24,
    "start_time": "2023-05-17T14:01:48.116Z"
   },
   {
    "duration": 28,
    "start_time": "2023-05-17T14:01:48.141Z"
   },
   {
    "duration": 59,
    "start_time": "2023-05-17T14:01:48.171Z"
   },
   {
    "duration": 8,
    "start_time": "2023-05-17T14:01:48.232Z"
   },
   {
    "duration": 2208,
    "start_time": "2023-05-17T14:01:48.241Z"
   },
   {
    "duration": 44,
    "start_time": "2023-05-17T14:01:50.450Z"
   },
   {
    "duration": 12,
    "start_time": "2023-05-17T14:01:50.496Z"
   },
   {
    "duration": 6,
    "start_time": "2023-05-17T14:01:50.510Z"
   },
   {
    "duration": 21,
    "start_time": "2023-05-17T14:01:50.518Z"
   },
   {
    "duration": 163,
    "start_time": "2023-05-17T14:01:50.541Z"
   },
   {
    "duration": 7,
    "start_time": "2023-05-17T14:01:50.705Z"
   },
   {
    "duration": 349,
    "start_time": "2023-05-17T14:01:50.717Z"
   },
   {
    "duration": 7,
    "start_time": "2023-05-17T14:01:51.069Z"
   },
   {
    "duration": 293,
    "start_time": "2023-05-17T14:01:51.078Z"
   },
   {
    "duration": 359,
    "start_time": "2023-05-17T14:01:51.373Z"
   },
   {
    "duration": 283,
    "start_time": "2023-05-17T14:01:51.734Z"
   },
   {
    "duration": 315,
    "start_time": "2023-05-17T14:01:52.018Z"
   },
   {
    "duration": 8,
    "start_time": "2023-05-17T14:01:52.335Z"
   },
   {
    "duration": 201,
    "start_time": "2023-05-17T14:01:52.345Z"
   },
   {
    "duration": 283,
    "start_time": "2023-05-17T14:01:52.547Z"
   },
   {
    "duration": 294,
    "start_time": "2023-05-17T14:01:52.832Z"
   },
   {
    "duration": 95,
    "start_time": "2023-05-17T14:01:53.127Z"
   },
   {
    "duration": 0,
    "start_time": "2023-05-17T14:01:53.224Z"
   },
   {
    "duration": 21,
    "start_time": "2023-05-17T14:02:14.521Z"
   },
   {
    "duration": 17,
    "start_time": "2023-05-17T14:02:31.189Z"
   },
   {
    "duration": 79,
    "start_time": "2023-05-17T14:03:21.301Z"
   },
   {
    "duration": 8,
    "start_time": "2023-05-17T14:03:32.225Z"
   },
   {
    "duration": 57,
    "start_time": "2023-05-17T17:38:46.992Z"
   },
   {
    "duration": 11,
    "start_time": "2023-05-17T17:38:54.322Z"
   },
   {
    "duration": 18,
    "start_time": "2023-05-17T17:39:02.201Z"
   },
   {
    "duration": 8,
    "start_time": "2023-05-17T17:39:10.652Z"
   },
   {
    "duration": 17,
    "start_time": "2023-05-17T17:39:17.402Z"
   },
   {
    "duration": 8,
    "start_time": "2023-05-17T17:39:19.361Z"
   },
   {
    "duration": 9,
    "start_time": "2023-05-17T17:39:24.006Z"
   },
   {
    "duration": 583,
    "start_time": "2023-05-17T17:39:29.789Z"
   },
   {
    "duration": 22,
    "start_time": "2023-05-17T17:39:30.374Z"
   },
   {
    "duration": 40,
    "start_time": "2023-05-17T17:39:30.397Z"
   },
   {
    "duration": 65,
    "start_time": "2023-05-17T17:39:30.439Z"
   },
   {
    "duration": 12,
    "start_time": "2023-05-17T17:39:30.506Z"
   },
   {
    "duration": 2305,
    "start_time": "2023-05-17T17:39:30.520Z"
   },
   {
    "duration": 35,
    "start_time": "2023-05-17T17:39:32.827Z"
   },
   {
    "duration": 11,
    "start_time": "2023-05-17T17:39:32.864Z"
   },
   {
    "duration": 7,
    "start_time": "2023-05-17T17:39:32.876Z"
   },
   {
    "duration": 6,
    "start_time": "2023-05-17T17:39:32.884Z"
   },
   {
    "duration": 132,
    "start_time": "2023-05-17T17:39:32.892Z"
   },
   {
    "duration": 6,
    "start_time": "2023-05-17T17:39:33.025Z"
   },
   {
    "duration": 266,
    "start_time": "2023-05-17T17:39:33.032Z"
   },
   {
    "duration": 20,
    "start_time": "2023-05-17T17:39:33.301Z"
   },
   {
    "duration": 271,
    "start_time": "2023-05-17T17:39:33.323Z"
   },
   {
    "duration": 387,
    "start_time": "2023-05-17T17:39:33.596Z"
   },
   {
    "duration": 291,
    "start_time": "2023-05-17T17:39:33.985Z"
   },
   {
    "duration": 291,
    "start_time": "2023-05-17T17:39:34.278Z"
   },
   {
    "duration": 8,
    "start_time": "2023-05-17T17:39:34.571Z"
   },
   {
    "duration": 185,
    "start_time": "2023-05-17T17:39:34.580Z"
   },
   {
    "duration": 275,
    "start_time": "2023-05-17T17:39:34.766Z"
   },
   {
    "duration": 280,
    "start_time": "2023-05-17T17:39:35.043Z"
   },
   {
    "duration": 83,
    "start_time": "2023-05-17T17:39:35.324Z"
   },
   {
    "duration": 0,
    "start_time": "2023-05-17T17:39:35.409Z"
   },
   {
    "duration": 316,
    "start_time": "2023-05-17T17:53:01.433Z"
   },
   {
    "duration": 19,
    "start_time": "2023-05-17T17:53:10.359Z"
   },
   {
    "duration": 30,
    "start_time": "2023-05-17T17:53:28.098Z"
   },
   {
    "duration": 13,
    "start_time": "2023-05-17T17:54:05.021Z"
   },
   {
    "duration": 6,
    "start_time": "2023-05-17T17:56:20.582Z"
   },
   {
    "duration": 77,
    "start_time": "2023-05-17T17:57:11.226Z"
   },
   {
    "duration": 28,
    "start_time": "2023-05-17T18:01:10.421Z"
   },
   {
    "duration": 5,
    "start_time": "2023-05-17T18:01:53.928Z"
   },
   {
    "duration": 8,
    "start_time": "2023-05-17T18:10:14.466Z"
   },
   {
    "duration": 158,
    "start_time": "2023-05-17T18:10:30.642Z"
   },
   {
    "duration": 32,
    "start_time": "2023-05-17T18:10:34.047Z"
   },
   {
    "duration": 630,
    "start_time": "2023-05-17T18:10:49.397Z"
   },
   {
    "duration": 31,
    "start_time": "2023-05-17T18:10:50.034Z"
   },
   {
    "duration": 20,
    "start_time": "2023-05-17T18:10:50.067Z"
   },
   {
    "duration": 88,
    "start_time": "2023-05-17T18:10:50.090Z"
   },
   {
    "duration": 8,
    "start_time": "2023-05-17T18:10:50.181Z"
   },
   {
    "duration": 2684,
    "start_time": "2023-05-17T18:10:50.191Z"
   },
   {
    "duration": 61,
    "start_time": "2023-05-17T18:10:52.879Z"
   },
   {
    "duration": 35,
    "start_time": "2023-05-17T18:10:52.950Z"
   },
   {
    "duration": 6,
    "start_time": "2023-05-17T18:10:52.987Z"
   },
   {
    "duration": 9,
    "start_time": "2023-05-17T18:10:52.994Z"
   },
   {
    "duration": 188,
    "start_time": "2023-05-17T18:10:53.006Z"
   },
   {
    "duration": 12,
    "start_time": "2023-05-17T18:10:53.196Z"
   },
   {
    "duration": 401,
    "start_time": "2023-05-17T18:10:53.210Z"
   },
   {
    "duration": 13,
    "start_time": "2023-05-17T18:10:53.617Z"
   },
   {
    "duration": 390,
    "start_time": "2023-05-17T18:10:53.632Z"
   },
   {
    "duration": 507,
    "start_time": "2023-05-17T18:10:54.024Z"
   },
   {
    "duration": 430,
    "start_time": "2023-05-17T18:10:54.538Z"
   },
   {
    "duration": 552,
    "start_time": "2023-05-17T18:10:54.971Z"
   },
   {
    "duration": 15,
    "start_time": "2023-05-17T18:10:55.529Z"
   },
   {
    "duration": 288,
    "start_time": "2023-05-17T18:10:55.551Z"
   },
   {
    "duration": 359,
    "start_time": "2023-05-17T18:10:55.844Z"
   },
   {
    "duration": 491,
    "start_time": "2023-05-17T18:10:56.206Z"
   },
   {
    "duration": 110,
    "start_time": "2023-05-17T18:10:56.699Z"
   },
   {
    "duration": 0,
    "start_time": "2023-05-17T18:10:56.811Z"
   },
   {
    "duration": 34,
    "start_time": "2023-05-17T18:11:14.349Z"
   },
   {
    "duration": 25,
    "start_time": "2023-05-17T18:11:23.899Z"
   },
   {
    "duration": 23,
    "start_time": "2023-05-17T18:11:34.994Z"
   },
   {
    "duration": 120,
    "start_time": "2023-05-17T18:11:42.235Z"
   },
   {
    "duration": 31,
    "start_time": "2023-05-17T18:12:10.429Z"
   },
   {
    "duration": 76,
    "start_time": "2023-05-17T18:12:17.433Z"
   },
   {
    "duration": 18,
    "start_time": "2023-05-17T18:16:07.432Z"
   },
   {
    "duration": 197,
    "start_time": "2023-05-17T18:25:19.834Z"
   },
   {
    "duration": 361,
    "start_time": "2023-05-17T18:26:25.634Z"
   },
   {
    "duration": 9,
    "start_time": "2023-05-17T18:26:49.200Z"
   },
   {
    "duration": 213,
    "start_time": "2023-05-17T18:27:18.152Z"
   },
   {
    "duration": 10,
    "start_time": "2023-05-17T18:31:31.089Z"
   },
   {
    "duration": 457,
    "start_time": "2023-05-17T18:31:40.762Z"
   },
   {
    "duration": 388,
    "start_time": "2023-05-17T18:31:54.115Z"
   },
   {
    "duration": 238,
    "start_time": "2023-05-17T18:32:04.754Z"
   },
   {
    "duration": 348,
    "start_time": "2023-05-17T18:32:19.107Z"
   },
   {
    "duration": 407,
    "start_time": "2023-05-17T18:40:52.389Z"
   },
   {
    "duration": 18,
    "start_time": "2023-05-17T18:41:10.448Z"
   },
   {
    "duration": 467,
    "start_time": "2023-05-17T18:41:35.835Z"
   },
   {
    "duration": 59,
    "start_time": "2023-05-17T18:49:11.036Z"
   },
   {
    "duration": 10,
    "start_time": "2023-05-17T19:11:11.685Z"
   },
   {
    "duration": 323,
    "start_time": "2023-05-17T19:12:25.444Z"
   },
   {
    "duration": 8,
    "start_time": "2023-05-17T19:18:56.057Z"
   },
   {
    "duration": 311,
    "start_time": "2023-05-17T19:19:06.958Z"
   },
   {
    "duration": 9,
    "start_time": "2023-05-17T19:19:13.257Z"
   },
   {
    "duration": 16,
    "start_time": "2023-05-17T19:21:19.443Z"
   },
   {
    "duration": 10,
    "start_time": "2023-05-17T19:34:07.810Z"
   },
   {
    "duration": 307,
    "start_time": "2023-05-17T19:34:51.236Z"
   },
   {
    "duration": 46,
    "start_time": "2023-05-17T19:44:32.756Z"
   },
   {
    "duration": 24762,
    "start_time": "2023-05-17T19:44:52.907Z"
   },
   {
    "duration": 12,
    "start_time": "2023-05-17T19:46:14.832Z"
   },
   {
    "duration": 173,
    "start_time": "2023-05-17T20:51:45.648Z"
   },
   {
    "duration": 376,
    "start_time": "2023-05-17T20:52:11.657Z"
   },
   {
    "duration": 174,
    "start_time": "2023-05-17T20:53:15.501Z"
   },
   {
    "duration": 192,
    "start_time": "2023-05-17T20:54:22.551Z"
   },
   {
    "duration": 176,
    "start_time": "2023-05-17T20:55:04.184Z"
   },
   {
    "duration": 145,
    "start_time": "2023-05-17T20:55:14.645Z"
   },
   {
    "duration": 172,
    "start_time": "2023-05-17T20:56:02.020Z"
   },
   {
    "duration": 162,
    "start_time": "2023-05-17T20:56:25.338Z"
   },
   {
    "duration": 160,
    "start_time": "2023-05-17T20:56:58.840Z"
   },
   {
    "duration": 159,
    "start_time": "2023-05-17T20:57:39.238Z"
   },
   {
    "duration": 15,
    "start_time": "2023-05-17T20:59:35.332Z"
   },
   {
    "duration": 32,
    "start_time": "2023-05-17T20:59:54.000Z"
   },
   {
    "duration": 173,
    "start_time": "2023-05-17T21:00:02.101Z"
   },
   {
    "duration": 8,
    "start_time": "2023-05-17T21:00:26.940Z"
   },
   {
    "duration": 8,
    "start_time": "2023-05-17T21:01:32.980Z"
   },
   {
    "duration": 9,
    "start_time": "2023-05-17T21:01:42.132Z"
   },
   {
    "duration": 12,
    "start_time": "2023-05-17T21:04:55.028Z"
   },
   {
    "duration": 4,
    "start_time": "2023-05-17T21:05:25.984Z"
   },
   {
    "duration": 9,
    "start_time": "2023-05-17T21:09:08.496Z"
   },
   {
    "duration": 168,
    "start_time": "2023-05-17T21:10:02.249Z"
   },
   {
    "duration": 9,
    "start_time": "2023-05-17T21:10:34.339Z"
   },
   {
    "duration": 185,
    "start_time": "2023-05-17T21:14:34.892Z"
   },
   {
    "duration": 286,
    "start_time": "2023-05-17T21:14:54.563Z"
   },
   {
    "duration": 7,
    "start_time": "2023-05-17T21:15:20.496Z"
   },
   {
    "duration": 312,
    "start_time": "2023-05-17T21:17:29.092Z"
   },
   {
    "duration": 9,
    "start_time": "2023-05-17T21:40:07.622Z"
   },
   {
    "duration": 7,
    "start_time": "2023-05-17T21:41:12.315Z"
   },
   {
    "duration": 6,
    "start_time": "2023-05-17T21:41:45.875Z"
   },
   {
    "duration": 327,
    "start_time": "2023-05-17T21:42:15.427Z"
   },
   {
    "duration": 400,
    "start_time": "2023-05-17T22:18:32.423Z"
   },
   {
    "duration": 300,
    "start_time": "2023-05-17T22:18:44.429Z"
   },
   {
    "duration": 13,
    "start_time": "2023-05-17T22:20:59.682Z"
   },
   {
    "duration": 613,
    "start_time": "2023-05-17T22:21:40.356Z"
   },
   {
    "duration": 351,
    "start_time": "2023-05-17T22:22:11.676Z"
   },
   {
    "duration": 381,
    "start_time": "2023-05-17T22:22:35.275Z"
   },
   {
    "duration": 352,
    "start_time": "2023-05-17T22:23:11.049Z"
   },
   {
    "duration": 354,
    "start_time": "2023-05-17T22:23:27.680Z"
   },
   {
    "duration": 420,
    "start_time": "2023-05-17T22:23:42.342Z"
   },
   {
    "duration": 320,
    "start_time": "2023-05-17T22:24:03.866Z"
   },
   {
    "duration": 328,
    "start_time": "2023-05-17T22:24:24.546Z"
   },
   {
    "duration": 354,
    "start_time": "2023-05-17T22:24:53.346Z"
   },
   {
    "duration": 307,
    "start_time": "2023-05-17T22:25:18.088Z"
   },
   {
    "duration": 376,
    "start_time": "2023-05-17T22:26:26.982Z"
   },
   {
    "duration": 736,
    "start_time": "2023-05-17T22:26:44.316Z"
   },
   {
    "duration": 370,
    "start_time": "2023-05-17T22:26:58.777Z"
   },
   {
    "duration": 322,
    "start_time": "2023-05-17T22:27:15.715Z"
   },
   {
    "duration": 445,
    "start_time": "2023-05-17T22:27:30.079Z"
   },
   {
    "duration": 385,
    "start_time": "2023-05-17T22:27:53.040Z"
   },
   {
    "duration": 5,
    "start_time": "2023-05-17T22:37:20.989Z"
   },
   {
    "duration": 6,
    "start_time": "2023-05-17T22:43:40.871Z"
   },
   {
    "duration": 121,
    "start_time": "2023-05-17T22:46:08.896Z"
   },
   {
    "duration": 119,
    "start_time": "2023-05-17T22:51:16.424Z"
   },
   {
    "duration": 115,
    "start_time": "2023-05-17T23:00:40.561Z"
   },
   {
    "duration": 1548,
    "start_time": "2023-05-17T23:25:34.222Z"
   },
   {
    "duration": 18605,
    "start_time": "2023-05-17T23:25:53.447Z"
   },
   {
    "duration": 19544,
    "start_time": "2023-05-17T23:29:23.560Z"
   },
   {
    "duration": 21,
    "start_time": "2023-05-17T23:41:21.236Z"
   },
   {
    "duration": 119,
    "start_time": "2023-05-17T23:46:14.005Z"
   },
   {
    "duration": 131,
    "start_time": "2023-05-17T23:46:43.584Z"
   },
   {
    "duration": 66,
    "start_time": "2023-05-17T23:55:18.311Z"
   },
   {
    "duration": 116,
    "start_time": "2023-05-17T23:55:55.954Z"
   },
   {
    "duration": 116,
    "start_time": "2023-05-17T23:56:14.983Z"
   },
   {
    "duration": 137,
    "start_time": "2023-05-17T23:59:35.482Z"
   },
   {
    "duration": 126,
    "start_time": "2023-05-17T23:59:56.996Z"
   },
   {
    "duration": 4,
    "start_time": "2023-05-18T00:04:02.049Z"
   },
   {
    "duration": 7,
    "start_time": "2023-05-18T00:04:15.634Z"
   },
   {
    "duration": 150,
    "start_time": "2023-05-18T00:11:36.600Z"
   },
   {
    "duration": 128,
    "start_time": "2023-05-18T00:12:58.842Z"
   },
   {
    "duration": 4,
    "start_time": "2023-05-18T00:23:15.537Z"
   },
   {
    "duration": 116,
    "start_time": "2023-05-18T00:25:10.677Z"
   },
   {
    "duration": 124,
    "start_time": "2023-05-18T00:25:35.320Z"
   },
   {
    "duration": 115,
    "start_time": "2023-05-18T00:26:54.661Z"
   },
   {
    "duration": 119,
    "start_time": "2023-05-18T00:27:10.976Z"
   },
   {
    "duration": 21,
    "start_time": "2023-05-18T00:30:52.298Z"
   },
   {
    "duration": 9,
    "start_time": "2023-05-18T00:31:37.042Z"
   },
   {
    "duration": 13,
    "start_time": "2023-05-18T00:31:45.022Z"
   },
   {
    "duration": 673,
    "start_time": "2023-05-18T00:31:59.304Z"
   },
   {
    "duration": 16,
    "start_time": "2023-05-18T00:31:59.978Z"
   },
   {
    "duration": 33,
    "start_time": "2023-05-18T00:31:59.995Z"
   },
   {
    "duration": 63,
    "start_time": "2023-05-18T00:32:00.030Z"
   },
   {
    "duration": 7,
    "start_time": "2023-05-18T00:32:00.095Z"
   },
   {
    "duration": 1726,
    "start_time": "2023-05-18T00:32:00.103Z"
   },
   {
    "duration": 33,
    "start_time": "2023-05-18T00:32:01.830Z"
   },
   {
    "duration": 10,
    "start_time": "2023-05-18T00:32:01.864Z"
   },
   {
    "duration": 19,
    "start_time": "2023-05-18T00:32:01.875Z"
   },
   {
    "duration": 29,
    "start_time": "2023-05-18T00:32:01.896Z"
   },
   {
    "duration": 28,
    "start_time": "2023-05-18T00:32:01.927Z"
   },
   {
    "duration": 116,
    "start_time": "2023-05-18T00:32:01.956Z"
   },
   {
    "duration": 4,
    "start_time": "2023-05-18T00:32:02.074Z"
   },
   {
    "duration": 221,
    "start_time": "2023-05-18T00:32:02.080Z"
   },
   {
    "duration": 18,
    "start_time": "2023-05-18T00:32:02.302Z"
   },
   {
    "duration": 278,
    "start_time": "2023-05-18T00:32:02.322Z"
   },
   {
    "duration": 264,
    "start_time": "2023-05-18T00:32:02.602Z"
   },
   {
    "duration": 353,
    "start_time": "2023-05-18T00:32:02.867Z"
   },
   {
    "duration": 265,
    "start_time": "2023-05-18T00:32:03.221Z"
   },
   {
    "duration": 7,
    "start_time": "2023-05-18T00:32:03.487Z"
   },
   {
    "duration": 168,
    "start_time": "2023-05-18T00:32:03.496Z"
   },
   {
    "duration": 283,
    "start_time": "2023-05-18T00:32:03.666Z"
   },
   {
    "duration": 280,
    "start_time": "2023-05-18T00:32:03.950Z"
   },
   {
    "duration": 120,
    "start_time": "2023-05-18T00:32:04.232Z"
   },
   {
    "duration": 372,
    "start_time": "2023-05-18T00:32:04.354Z"
   },
   {
    "duration": 268,
    "start_time": "2023-05-18T00:32:04.727Z"
   },
   {
    "duration": 255,
    "start_time": "2023-05-18T00:32:04.996Z"
   },
   {
    "duration": 265,
    "start_time": "2023-05-18T00:32:05.253Z"
   },
   {
    "duration": 249,
    "start_time": "2023-05-18T00:32:05.520Z"
   },
   {
    "duration": 285,
    "start_time": "2023-05-18T00:32:05.770Z"
   },
   {
    "duration": 5,
    "start_time": "2023-05-18T00:32:06.056Z"
   },
   {
    "duration": 9,
    "start_time": "2023-05-18T00:32:06.062Z"
   },
   {
    "duration": 244,
    "start_time": "2023-05-18T00:32:06.072Z"
   },
   {
    "duration": 120,
    "start_time": "2023-05-18T00:32:06.318Z"
   },
   {
    "duration": 126,
    "start_time": "2023-05-18T00:32:06.439Z"
   },
   {
    "duration": 121,
    "start_time": "2023-05-18T00:32:06.566Z"
   },
   {
    "duration": 434,
    "start_time": "2023-05-18T00:32:06.689Z"
   },
   {
    "duration": 0,
    "start_time": "2023-05-18T00:32:07.125Z"
   },
   {
    "duration": 387,
    "start_time": "2023-05-18T00:32:19.039Z"
   },
   {
    "duration": 332,
    "start_time": "2023-05-18T00:32:42.606Z"
   },
   {
    "duration": 120,
    "start_time": "2023-05-18T00:34:36.561Z"
   },
   {
    "duration": 5,
    "start_time": "2023-05-18T00:48:20.876Z"
   },
   {
    "duration": 18,
    "start_time": "2023-05-18T00:49:33.431Z"
   },
   {
    "duration": 21,
    "start_time": "2023-05-18T00:50:16.159Z"
   },
   {
    "duration": 48,
    "start_time": "2023-05-18T00:51:09.359Z"
   },
   {
    "duration": 122,
    "start_time": "2023-05-18T00:54:25.551Z"
   },
   {
    "duration": 126,
    "start_time": "2023-05-18T00:54:56.343Z"
   },
   {
    "duration": 124,
    "start_time": "2023-05-18T00:55:05.033Z"
   },
   {
    "duration": 110,
    "start_time": "2023-05-18T01:00:23.006Z"
   },
   {
    "duration": 111,
    "start_time": "2023-05-18T01:02:42.072Z"
   },
   {
    "duration": 14,
    "start_time": "2023-05-18T01:07:47.236Z"
   },
   {
    "duration": 12,
    "start_time": "2023-05-18T01:08:04.664Z"
   },
   {
    "duration": 120,
    "start_time": "2023-05-18T01:09:28.844Z"
   },
   {
    "duration": 7,
    "start_time": "2023-05-18T01:22:26.623Z"
   },
   {
    "duration": 5,
    "start_time": "2023-05-18T01:23:17.668Z"
   },
   {
    "duration": 59,
    "start_time": "2023-05-18T01:41:54.109Z"
   },
   {
    "duration": 22,
    "start_time": "2023-05-18T01:42:42.102Z"
   },
   {
    "duration": 20,
    "start_time": "2023-05-18T01:43:16.591Z"
   },
   {
    "duration": 27,
    "start_time": "2023-05-18T01:43:39.150Z"
   },
   {
    "duration": 20,
    "start_time": "2023-05-18T01:43:58.842Z"
   },
   {
    "duration": 19,
    "start_time": "2023-05-18T01:49:04.315Z"
   },
   {
    "duration": 7,
    "start_time": "2023-05-18T01:51:09.230Z"
   },
   {
    "duration": 8,
    "start_time": "2023-05-18T01:51:25.976Z"
   },
   {
    "duration": 9,
    "start_time": "2023-05-18T01:51:35.422Z"
   },
   {
    "duration": 11,
    "start_time": "2023-05-18T01:52:04.522Z"
   },
   {
    "duration": 7,
    "start_time": "2023-05-18T01:52:24.342Z"
   },
   {
    "duration": 7,
    "start_time": "2023-05-18T01:52:42.510Z"
   },
   {
    "duration": 12,
    "start_time": "2023-05-18T02:08:45.271Z"
   },
   {
    "duration": 18,
    "start_time": "2023-05-18T02:12:10.263Z"
   },
   {
    "duration": 7,
    "start_time": "2023-05-18T02:14:09.150Z"
   },
   {
    "duration": 5,
    "start_time": "2023-05-18T02:14:17.741Z"
   },
   {
    "duration": 718,
    "start_time": "2023-05-18T02:36:16.214Z"
   },
   {
    "duration": 14,
    "start_time": "2023-05-18T02:36:33.549Z"
   },
   {
    "duration": 5,
    "start_time": "2023-05-18T02:37:04.334Z"
   },
   {
    "duration": 13,
    "start_time": "2023-05-18T02:37:17.397Z"
   },
   {
    "duration": 13,
    "start_time": "2023-05-18T02:37:21.190Z"
   },
   {
    "duration": 6,
    "start_time": "2023-05-18T02:37:25.294Z"
   },
   {
    "duration": 18,
    "start_time": "2023-05-18T02:37:34.155Z"
   },
   {
    "duration": 4,
    "start_time": "2023-05-18T02:37:45.751Z"
   },
   {
    "duration": 3,
    "start_time": "2023-05-18T02:37:59.111Z"
   },
   {
    "duration": 6,
    "start_time": "2023-05-18T02:38:13.864Z"
   },
   {
    "duration": 48,
    "start_time": "2023-05-18T02:43:12.747Z"
   },
   {
    "duration": 560,
    "start_time": "2023-05-18T02:43:31.802Z"
   },
   {
    "duration": 8,
    "start_time": "2023-05-18T02:47:29.782Z"
   },
   {
    "duration": 17,
    "start_time": "2023-05-18T02:48:07.022Z"
   },
   {
    "duration": 100,
    "start_time": "2023-05-18T02:48:28.334Z"
   },
   {
    "duration": 100,
    "start_time": "2023-05-18T02:49:33.094Z"
   },
   {
    "duration": 121,
    "start_time": "2023-05-18T02:50:56.243Z"
   },
   {
    "duration": 5,
    "start_time": "2023-05-18T02:52:41.430Z"
   },
   {
    "duration": 5,
    "start_time": "2023-05-18T02:54:09.271Z"
   },
   {
    "duration": 3,
    "start_time": "2023-05-18T02:54:43.350Z"
   },
   {
    "duration": 123,
    "start_time": "2023-05-18T02:55:35.302Z"
   },
   {
    "duration": 4,
    "start_time": "2023-05-18T02:55:38.734Z"
   },
   {
    "duration": 4,
    "start_time": "2023-05-18T02:56:38.110Z"
   },
   {
    "duration": 17,
    "start_time": "2023-05-18T03:01:44.943Z"
   },
   {
    "duration": 4,
    "start_time": "2023-05-18T03:02:56.702Z"
   },
   {
    "duration": 53,
    "start_time": "2023-05-18T03:06:54.062Z"
   },
   {
    "duration": 10,
    "start_time": "2023-05-18T03:07:18.307Z"
   },
   {
    "duration": 10,
    "start_time": "2023-05-18T03:07:30.559Z"
   },
   {
    "duration": 18,
    "start_time": "2023-05-18T03:14:34.534Z"
   },
   {
    "duration": 2,
    "start_time": "2023-05-18T03:15:31.959Z"
   },
   {
    "duration": 2,
    "start_time": "2023-05-18T03:15:40.181Z"
   },
   {
    "duration": 21,
    "start_time": "2023-05-18T03:15:42.373Z"
   },
   {
    "duration": 129,
    "start_time": "2023-05-18T03:16:24.160Z"
   },
   {
    "duration": 667,
    "start_time": "2023-05-18T03:16:46.781Z"
   },
   {
    "duration": 17,
    "start_time": "2023-05-18T03:16:47.451Z"
   },
   {
    "duration": 14,
    "start_time": "2023-05-18T03:16:47.470Z"
   },
   {
    "duration": 69,
    "start_time": "2023-05-18T03:16:47.486Z"
   },
   {
    "duration": 7,
    "start_time": "2023-05-18T03:16:47.556Z"
   },
   {
    "duration": 1673,
    "start_time": "2023-05-18T03:16:47.564Z"
   },
   {
    "duration": 35,
    "start_time": "2023-05-18T03:16:49.238Z"
   },
   {
    "duration": 10,
    "start_time": "2023-05-18T03:16:49.274Z"
   },
   {
    "duration": 4,
    "start_time": "2023-05-18T03:16:49.286Z"
   },
   {
    "duration": 6,
    "start_time": "2023-05-18T03:16:49.292Z"
   },
   {
    "duration": 5,
    "start_time": "2023-05-18T03:16:49.307Z"
   },
   {
    "duration": 92,
    "start_time": "2023-05-18T03:16:49.314Z"
   },
   {
    "duration": 4,
    "start_time": "2023-05-18T03:16:49.408Z"
   },
   {
    "duration": 211,
    "start_time": "2023-05-18T03:16:49.414Z"
   },
   {
    "duration": 6,
    "start_time": "2023-05-18T03:16:49.626Z"
   },
   {
    "duration": 245,
    "start_time": "2023-05-18T03:16:49.633Z"
   },
   {
    "duration": 257,
    "start_time": "2023-05-18T03:16:49.879Z"
   },
   {
    "duration": 332,
    "start_time": "2023-05-18T03:16:50.137Z"
   },
   {
    "duration": 273,
    "start_time": "2023-05-18T03:16:50.470Z"
   },
   {
    "duration": 7,
    "start_time": "2023-05-18T03:16:50.745Z"
   },
   {
    "duration": 156,
    "start_time": "2023-05-18T03:16:50.753Z"
   },
   {
    "duration": 261,
    "start_time": "2023-05-18T03:16:50.911Z"
   },
   {
    "duration": 255,
    "start_time": "2023-05-18T03:16:51.173Z"
   },
   {
    "duration": 118,
    "start_time": "2023-05-18T03:16:51.430Z"
   },
   {
    "duration": 364,
    "start_time": "2023-05-18T03:16:51.549Z"
   },
   {
    "duration": 258,
    "start_time": "2023-05-18T03:16:51.915Z"
   },
   {
    "duration": 260,
    "start_time": "2023-05-18T03:16:52.175Z"
   },
   {
    "duration": 256,
    "start_time": "2023-05-18T03:16:52.437Z"
   },
   {
    "duration": 237,
    "start_time": "2023-05-18T03:16:52.695Z"
   },
   {
    "duration": 272,
    "start_time": "2023-05-18T03:16:52.934Z"
   },
   {
    "duration": 4,
    "start_time": "2023-05-18T03:16:53.208Z"
   },
   {
    "duration": 7,
    "start_time": "2023-05-18T03:16:53.214Z"
   },
   {
    "duration": 219,
    "start_time": "2023-05-18T03:16:53.222Z"
   },
   {
    "duration": 119,
    "start_time": "2023-05-18T03:16:53.442Z"
   },
   {
    "duration": 130,
    "start_time": "2023-05-18T03:16:53.562Z"
   },
   {
    "duration": 119,
    "start_time": "2023-05-18T03:16:53.693Z"
   },
   {
    "duration": 115,
    "start_time": "2023-05-18T03:16:53.814Z"
   },
   {
    "duration": 111,
    "start_time": "2023-05-18T03:16:53.932Z"
   },
   {
    "duration": 119,
    "start_time": "2023-05-18T03:16:54.044Z"
   },
   {
    "duration": 133,
    "start_time": "2023-05-18T03:16:54.164Z"
   },
   {
    "duration": 26,
    "start_time": "2023-05-18T03:16:54.298Z"
   },
   {
    "duration": 125,
    "start_time": "2023-05-18T03:16:54.325Z"
   },
   {
    "duration": 2,
    "start_time": "2023-05-18T03:16:54.452Z"
   },
   {
    "duration": 10,
    "start_time": "2023-05-18T03:17:12.213Z"
   },
   {
    "duration": 122,
    "start_time": "2023-05-18T03:21:42.639Z"
   },
   {
    "duration": 118,
    "start_time": "2023-05-18T03:22:53.013Z"
   },
   {
    "duration": 54,
    "start_time": "2023-05-18T04:02:00.885Z"
   },
   {
    "duration": 1040,
    "start_time": "2023-05-18T19:08:25.527Z"
   },
   {
    "duration": 21,
    "start_time": "2023-05-18T19:08:26.569Z"
   },
   {
    "duration": 78,
    "start_time": "2023-05-18T19:08:26.591Z"
   },
   {
    "duration": 73,
    "start_time": "2023-05-18T19:08:26.671Z"
   },
   {
    "duration": 8,
    "start_time": "2023-05-18T19:08:26.746Z"
   },
   {
    "duration": 2059,
    "start_time": "2023-05-18T19:08:26.756Z"
   },
   {
    "duration": 40,
    "start_time": "2023-05-18T19:08:28.817Z"
   },
   {
    "duration": 11,
    "start_time": "2023-05-18T19:08:28.858Z"
   },
   {
    "duration": 5,
    "start_time": "2023-05-18T19:08:28.870Z"
   },
   {
    "duration": 9,
    "start_time": "2023-05-18T19:08:28.876Z"
   },
   {
    "duration": 18,
    "start_time": "2023-05-18T19:08:28.887Z"
   },
   {
    "duration": 128,
    "start_time": "2023-05-18T19:08:28.914Z"
   },
   {
    "duration": 5,
    "start_time": "2023-05-18T19:08:29.044Z"
   },
   {
    "duration": 266,
    "start_time": "2023-05-18T19:08:29.051Z"
   },
   {
    "duration": 15,
    "start_time": "2023-05-18T19:08:29.318Z"
   },
   {
    "duration": 308,
    "start_time": "2023-05-18T19:08:29.335Z"
   },
   {
    "duration": 331,
    "start_time": "2023-05-18T19:08:29.644Z"
   },
   {
    "duration": 423,
    "start_time": "2023-05-18T19:08:29.976Z"
   },
   {
    "duration": 424,
    "start_time": "2023-05-18T19:08:30.401Z"
   },
   {
    "duration": 10,
    "start_time": "2023-05-18T19:08:30.828Z"
   },
   {
    "duration": 231,
    "start_time": "2023-05-18T19:08:30.840Z"
   },
   {
    "duration": 352,
    "start_time": "2023-05-18T19:08:31.072Z"
   },
   {
    "duration": 347,
    "start_time": "2023-05-18T19:08:31.432Z"
   },
   {
    "duration": 179,
    "start_time": "2023-05-18T19:08:31.782Z"
   },
   {
    "duration": 480,
    "start_time": "2023-05-18T19:08:31.963Z"
   },
   {
    "duration": 350,
    "start_time": "2023-05-18T19:08:32.449Z"
   },
   {
    "duration": 330,
    "start_time": "2023-05-18T19:08:32.806Z"
   },
   {
    "duration": 353,
    "start_time": "2023-05-18T19:08:33.139Z"
   },
   {
    "duration": 328,
    "start_time": "2023-05-18T19:08:33.495Z"
   },
   {
    "duration": 392,
    "start_time": "2023-05-18T19:08:33.825Z"
   },
   {
    "duration": 13,
    "start_time": "2023-05-18T19:08:34.220Z"
   },
   {
    "duration": 30,
    "start_time": "2023-05-18T19:08:34.236Z"
   },
   {
    "duration": 275,
    "start_time": "2023-05-18T19:08:34.268Z"
   },
   {
    "duration": 176,
    "start_time": "2023-05-18T19:08:34.546Z"
   },
   {
    "duration": 176,
    "start_time": "2023-05-18T19:08:34.729Z"
   },
   {
    "duration": 173,
    "start_time": "2023-05-18T19:08:34.906Z"
   },
   {
    "duration": 155,
    "start_time": "2023-05-18T19:08:35.081Z"
   },
   {
    "duration": 135,
    "start_time": "2023-05-18T19:08:35.238Z"
   },
   {
    "duration": 162,
    "start_time": "2023-05-18T19:08:35.375Z"
   },
   {
    "duration": 189,
    "start_time": "2023-05-18T19:08:35.539Z"
   },
   {
    "duration": 31,
    "start_time": "2023-05-18T19:08:35.733Z"
   },
   {
    "duration": 174,
    "start_time": "2023-05-18T19:08:35.765Z"
   },
   {
    "duration": 155,
    "start_time": "2023-05-18T19:08:35.941Z"
   },
   {
    "duration": 17,
    "start_time": "2023-05-18T19:08:36.097Z"
   },
   {
    "duration": 10,
    "start_time": "2023-05-18T19:33:27.227Z"
   },
   {
    "duration": 5,
    "start_time": "2023-05-18T19:34:32.558Z"
   },
   {
    "duration": 60,
    "start_time": "2023-05-18T19:39:11.848Z"
   },
   {
    "duration": 14,
    "start_time": "2023-05-18T19:39:20.086Z"
   },
   {
    "duration": 49,
    "start_time": "2023-05-20T12:29:05.586Z"
   },
   {
    "duration": 961,
    "start_time": "2023-05-20T12:29:12.166Z"
   },
   {
    "duration": 30,
    "start_time": "2023-05-20T12:29:13.130Z"
   },
   {
    "duration": 55,
    "start_time": "2023-05-20T12:29:13.162Z"
   },
   {
    "duration": 15,
    "start_time": "2023-05-20T12:29:13.219Z"
   },
   {
    "duration": 110,
    "start_time": "2023-05-20T12:29:13.236Z"
   },
   {
    "duration": 9,
    "start_time": "2023-05-20T12:29:13.347Z"
   },
   {
    "duration": 1986,
    "start_time": "2023-05-20T12:29:13.357Z"
   },
   {
    "duration": 39,
    "start_time": "2023-05-20T12:29:15.345Z"
   },
   {
    "duration": 10,
    "start_time": "2023-05-20T12:29:15.386Z"
   },
   {
    "duration": 6,
    "start_time": "2023-05-20T12:29:15.398Z"
   },
   {
    "duration": 6,
    "start_time": "2023-05-20T12:29:15.405Z"
   },
   {
    "duration": 7,
    "start_time": "2023-05-20T12:29:15.413Z"
   },
   {
    "duration": 118,
    "start_time": "2023-05-20T12:29:15.421Z"
   },
   {
    "duration": 6,
    "start_time": "2023-05-20T12:29:15.541Z"
   },
   {
    "duration": 223,
    "start_time": "2023-05-20T12:29:15.548Z"
   },
   {
    "duration": 8,
    "start_time": "2023-05-20T12:29:15.774Z"
   },
   {
    "duration": 278,
    "start_time": "2023-05-20T12:29:15.783Z"
   },
   {
    "duration": 317,
    "start_time": "2023-05-20T12:29:16.063Z"
   },
   {
    "duration": 361,
    "start_time": "2023-05-20T12:29:16.382Z"
   },
   {
    "duration": 410,
    "start_time": "2023-05-20T12:29:16.745Z"
   },
   {
    "duration": 8,
    "start_time": "2023-05-20T12:29:17.157Z"
   },
   {
    "duration": 182,
    "start_time": "2023-05-20T12:29:17.175Z"
   },
   {
    "duration": 290,
    "start_time": "2023-05-20T12:29:17.358Z"
   },
   {
    "duration": 293,
    "start_time": "2023-05-20T12:29:17.650Z"
   },
   {
    "duration": 141,
    "start_time": "2023-05-20T12:29:17.945Z"
   },
   {
    "duration": 405,
    "start_time": "2023-05-20T12:29:18.090Z"
   },
   {
    "duration": 331,
    "start_time": "2023-05-20T12:29:18.496Z"
   },
   {
    "duration": 285,
    "start_time": "2023-05-20T12:29:18.829Z"
   },
   {
    "duration": 294,
    "start_time": "2023-05-20T12:29:19.115Z"
   },
   {
    "duration": 325,
    "start_time": "2023-05-20T12:29:19.410Z"
   },
   {
    "duration": 358,
    "start_time": "2023-05-20T12:29:19.737Z"
   },
   {
    "duration": 7,
    "start_time": "2023-05-20T12:29:20.097Z"
   },
   {
    "duration": 12,
    "start_time": "2023-05-20T12:29:20.106Z"
   },
   {
    "duration": 237,
    "start_time": "2023-05-20T12:29:20.120Z"
   },
   {
    "duration": 143,
    "start_time": "2023-05-20T12:29:20.358Z"
   },
   {
    "duration": 162,
    "start_time": "2023-05-20T12:29:20.503Z"
   },
   {
    "duration": 139,
    "start_time": "2023-05-20T12:29:20.667Z"
   },
   {
    "duration": 143,
    "start_time": "2023-05-20T12:29:20.808Z"
   },
   {
    "duration": 139,
    "start_time": "2023-05-20T12:29:20.953Z"
   },
   {
    "duration": 148,
    "start_time": "2023-05-20T12:29:21.094Z"
   },
   {
    "duration": 146,
    "start_time": "2023-05-20T12:29:21.246Z"
   },
   {
    "duration": 30,
    "start_time": "2023-05-20T12:29:21.394Z"
   },
   {
    "duration": 198,
    "start_time": "2023-05-20T12:29:21.427Z"
   },
   {
    "duration": 222,
    "start_time": "2023-05-20T12:29:21.627Z"
   },
   {
    "duration": 12,
    "start_time": "2023-05-20T12:29:21.850Z"
   },
   {
    "duration": 54,
    "start_time": "2023-05-20T12:31:12.776Z"
   },
   {
    "duration": 34,
    "start_time": "2023-05-20T12:50:07.354Z"
   },
   {
    "duration": 8,
    "start_time": "2023-05-20T12:50:21.955Z"
   },
   {
    "duration": 8,
    "start_time": "2023-05-20T12:51:15.159Z"
   },
   {
    "duration": 35,
    "start_time": "2023-05-20T12:51:29.153Z"
   },
   {
    "duration": 11,
    "start_time": "2023-05-20T12:51:34.237Z"
   },
   {
    "duration": 8,
    "start_time": "2023-05-20T13:12:44.714Z"
   },
   {
    "duration": 54,
    "start_time": "2023-05-20T13:21:51.102Z"
   },
   {
    "duration": 32,
    "start_time": "2023-05-20T13:38:58.855Z"
   },
   {
    "duration": 7,
    "start_time": "2023-05-20T13:39:04.454Z"
   },
   {
    "duration": 7,
    "start_time": "2023-05-20T13:39:13.197Z"
   },
   {
    "duration": 32,
    "start_time": "2023-05-20T13:50:33.798Z"
   },
   {
    "duration": 32,
    "start_time": "2023-05-20T14:00:52.595Z"
   },
   {
    "duration": 227,
    "start_time": "2023-05-20T14:01:50.094Z"
   },
   {
    "duration": 145,
    "start_time": "2023-05-20T14:02:16.854Z"
   },
   {
    "duration": 216,
    "start_time": "2023-05-20T14:02:19.214Z"
   },
   {
    "duration": 36,
    "start_time": "2023-05-20T14:03:27.022Z"
   },
   {
    "duration": 232,
    "start_time": "2023-05-20T14:03:28.870Z"
   },
   {
    "duration": 318,
    "start_time": "2023-05-20T14:03:41.506Z"
   },
   {
    "duration": 163,
    "start_time": "2023-05-20T14:03:49.057Z"
   },
   {
    "duration": 35,
    "start_time": "2023-05-20T14:04:07.881Z"
   },
   {
    "duration": 195,
    "start_time": "2023-05-20T14:04:09.914Z"
   },
   {
    "duration": 170,
    "start_time": "2023-05-20T14:07:35.455Z"
   },
   {
    "duration": 131,
    "start_time": "2023-05-20T14:07:43.106Z"
   },
   {
    "duration": 451,
    "start_time": "2023-05-20T14:08:19.384Z"
   },
   {
    "duration": 285,
    "start_time": "2023-05-20T14:10:37.256Z"
   },
   {
    "duration": 352,
    "start_time": "2023-05-20T14:12:30.855Z"
   },
   {
    "duration": 115,
    "start_time": "2023-05-20T14:13:29.483Z"
   },
   {
    "duration": 231,
    "start_time": "2023-05-20T14:14:22.148Z"
   },
   {
    "duration": 222,
    "start_time": "2023-05-20T14:14:53.354Z"
   },
   {
    "duration": 355,
    "start_time": "2023-05-20T14:15:43.294Z"
   },
   {
    "duration": 165,
    "start_time": "2023-05-20T14:16:27.305Z"
   },
   {
    "duration": 35,
    "start_time": "2023-05-20T14:18:49.502Z"
   },
   {
    "duration": 140,
    "start_time": "2023-05-20T14:18:52.642Z"
   },
   {
    "duration": 171,
    "start_time": "2023-05-20T14:19:13.840Z"
   },
   {
    "duration": 33,
    "start_time": "2023-05-20T14:19:28.641Z"
   },
   {
    "duration": 147,
    "start_time": "2023-05-20T14:19:30.894Z"
   },
   {
    "duration": 34,
    "start_time": "2023-05-20T14:20:27.755Z"
   },
   {
    "duration": 162,
    "start_time": "2023-05-20T14:20:31.226Z"
   },
   {
    "duration": 35,
    "start_time": "2023-05-20T14:27:39.554Z"
   },
   {
    "duration": 33,
    "start_time": "2023-05-20T14:27:59.003Z"
   },
   {
    "duration": 32,
    "start_time": "2023-05-20T14:28:51.046Z"
   },
   {
    "duration": 32,
    "start_time": "2023-05-20T14:29:50.558Z"
   },
   {
    "duration": 2,
    "start_time": "2023-05-20T14:55:12.249Z"
   },
   {
    "duration": 295,
    "start_time": "2023-05-20T14:55:14.351Z"
   },
   {
    "duration": 300,
    "start_time": "2023-05-20T14:55:27.448Z"
   },
   {
    "duration": 157,
    "start_time": "2023-05-20T14:55:42.119Z"
   },
   {
    "duration": 192,
    "start_time": "2023-05-20T14:56:12.474Z"
   },
   {
    "duration": 334,
    "start_time": "2023-05-20T14:57:12.032Z"
   },
   {
    "duration": 143,
    "start_time": "2023-05-20T14:57:27.162Z"
   },
   {
    "duration": 288,
    "start_time": "2023-05-20T14:57:37.900Z"
   },
   {
    "duration": 4,
    "start_time": "2023-05-20T14:59:01.306Z"
   },
   {
    "duration": 272,
    "start_time": "2023-05-20T15:00:09.426Z"
   },
   {
    "duration": 261,
    "start_time": "2023-05-20T15:00:19.706Z"
   },
   {
    "duration": 268,
    "start_time": "2023-05-20T15:00:32.015Z"
   },
   {
    "duration": 299,
    "start_time": "2023-05-20T15:00:41.784Z"
   },
   {
    "duration": 761,
    "start_time": "2023-05-20T15:41:44.944Z"
   },
   {
    "duration": 12,
    "start_time": "2023-05-20T15:42:26.769Z"
   },
   {
    "duration": 9,
    "start_time": "2023-05-20T15:53:26.262Z"
   },
   {
    "duration": 9,
    "start_time": "2023-05-20T15:54:43.553Z"
   },
   {
    "duration": 5,
    "start_time": "2023-05-20T15:56:44.405Z"
   },
   {
    "duration": 4,
    "start_time": "2023-05-20T16:14:28.970Z"
   },
   {
    "duration": 46,
    "start_time": "2023-05-20T16:14:36.380Z"
   },
   {
    "duration": 4,
    "start_time": "2023-05-20T16:15:11.566Z"
   },
   {
    "duration": 518,
    "start_time": "2023-05-20T16:15:32.670Z"
   },
   {
    "duration": 658,
    "start_time": "2023-05-20T16:16:19.347Z"
   },
   {
    "duration": 713,
    "start_time": "2023-05-20T16:16:32.385Z"
   },
   {
    "duration": 38,
    "start_time": "2023-05-20T16:16:33.100Z"
   },
   {
    "duration": 24,
    "start_time": "2023-05-20T16:16:33.140Z"
   },
   {
    "duration": 79,
    "start_time": "2023-05-20T16:16:33.165Z"
   },
   {
    "duration": 8,
    "start_time": "2023-05-20T16:16:33.246Z"
   },
   {
    "duration": 2004,
    "start_time": "2023-05-20T16:16:33.255Z"
   },
   {
    "duration": 40,
    "start_time": "2023-05-20T16:16:35.261Z"
   },
   {
    "duration": 11,
    "start_time": "2023-05-20T16:16:35.303Z"
   },
   {
    "duration": 44,
    "start_time": "2023-05-20T16:16:35.315Z"
   },
   {
    "duration": 0,
    "start_time": "2023-05-20T16:16:35.361Z"
   },
   {
    "duration": 0,
    "start_time": "2023-05-20T16:16:35.363Z"
   },
   {
    "duration": 0,
    "start_time": "2023-05-20T16:16:35.364Z"
   },
   {
    "duration": 0,
    "start_time": "2023-05-20T16:16:35.366Z"
   },
   {
    "duration": 0,
    "start_time": "2023-05-20T16:16:35.367Z"
   },
   {
    "duration": 0,
    "start_time": "2023-05-20T16:16:35.368Z"
   },
   {
    "duration": 0,
    "start_time": "2023-05-20T16:16:35.369Z"
   },
   {
    "duration": 0,
    "start_time": "2023-05-20T16:16:35.370Z"
   },
   {
    "duration": 0,
    "start_time": "2023-05-20T16:16:35.371Z"
   },
   {
    "duration": 0,
    "start_time": "2023-05-20T16:16:35.372Z"
   },
   {
    "duration": 0,
    "start_time": "2023-05-20T16:16:35.373Z"
   },
   {
    "duration": 0,
    "start_time": "2023-05-20T16:16:35.374Z"
   },
   {
    "duration": 0,
    "start_time": "2023-05-20T16:16:35.375Z"
   },
   {
    "duration": 0,
    "start_time": "2023-05-20T16:16:35.376Z"
   },
   {
    "duration": 0,
    "start_time": "2023-05-20T16:16:35.377Z"
   },
   {
    "duration": 0,
    "start_time": "2023-05-20T16:16:35.378Z"
   },
   {
    "duration": 0,
    "start_time": "2023-05-20T16:16:35.379Z"
   },
   {
    "duration": 0,
    "start_time": "2023-05-20T16:16:35.380Z"
   },
   {
    "duration": 0,
    "start_time": "2023-05-20T16:16:35.381Z"
   },
   {
    "duration": 0,
    "start_time": "2023-05-20T16:16:35.382Z"
   },
   {
    "duration": 0,
    "start_time": "2023-05-20T16:16:35.383Z"
   },
   {
    "duration": 0,
    "start_time": "2023-05-20T16:16:35.384Z"
   },
   {
    "duration": 0,
    "start_time": "2023-05-20T16:16:35.385Z"
   },
   {
    "duration": 0,
    "start_time": "2023-05-20T16:16:35.386Z"
   },
   {
    "duration": 0,
    "start_time": "2023-05-20T16:16:35.387Z"
   },
   {
    "duration": 0,
    "start_time": "2023-05-20T16:16:35.388Z"
   },
   {
    "duration": 0,
    "start_time": "2023-05-20T16:16:35.389Z"
   },
   {
    "duration": 0,
    "start_time": "2023-05-20T16:16:35.390Z"
   },
   {
    "duration": 0,
    "start_time": "2023-05-20T16:16:35.391Z"
   },
   {
    "duration": 0,
    "start_time": "2023-05-20T16:16:35.392Z"
   },
   {
    "duration": 0,
    "start_time": "2023-05-20T16:16:35.393Z"
   },
   {
    "duration": 0,
    "start_time": "2023-05-20T16:16:35.394Z"
   },
   {
    "duration": 0,
    "start_time": "2023-05-20T16:16:35.395Z"
   },
   {
    "duration": 0,
    "start_time": "2023-05-20T16:16:35.397Z"
   },
   {
    "duration": 0,
    "start_time": "2023-05-20T16:16:35.398Z"
   },
   {
    "duration": 0,
    "start_time": "2023-05-20T16:16:35.399Z"
   },
   {
    "duration": 0,
    "start_time": "2023-05-20T16:16:35.400Z"
   },
   {
    "duration": 0,
    "start_time": "2023-05-20T16:16:35.401Z"
   },
   {
    "duration": 0,
    "start_time": "2023-05-20T16:16:35.402Z"
   },
   {
    "duration": 0,
    "start_time": "2023-05-20T16:16:35.404Z"
   },
   {
    "duration": 0,
    "start_time": "2023-05-20T16:16:35.405Z"
   },
   {
    "duration": 4,
    "start_time": "2023-05-20T16:16:48.667Z"
   },
   {
    "duration": 597,
    "start_time": "2023-05-20T16:18:18.267Z"
   },
   {
    "duration": 521,
    "start_time": "2023-05-20T16:18:47.981Z"
   },
   {
    "duration": 87,
    "start_time": "2023-05-20T16:18:55.266Z"
   },
   {
    "duration": 50,
    "start_time": "2023-05-20T16:18:55.786Z"
   },
   {
    "duration": 23,
    "start_time": "2023-05-20T16:18:58.109Z"
   },
   {
    "duration": 80,
    "start_time": "2023-05-20T16:18:58.783Z"
   },
   {
    "duration": 8,
    "start_time": "2023-05-20T16:18:59.959Z"
   },
   {
    "duration": 2057,
    "start_time": "2023-05-20T16:19:02.228Z"
   },
   {
    "duration": 36,
    "start_time": "2023-05-20T16:19:05.584Z"
   },
   {
    "duration": 10,
    "start_time": "2023-05-20T16:19:09.166Z"
   },
   {
    "duration": 53,
    "start_time": "2023-05-20T16:19:10.984Z"
   },
   {
    "duration": 9,
    "start_time": "2023-05-20T16:19:12.896Z"
   },
   {
    "duration": 5,
    "start_time": "2023-05-20T16:19:26.159Z"
   },
   {
    "duration": 6,
    "start_time": "2023-05-20T16:21:21.097Z"
   },
   {
    "duration": 11,
    "start_time": "2023-05-20T16:28:17.305Z"
   },
   {
    "duration": 288,
    "start_time": "2023-05-20T16:28:26.398Z"
   },
   {
    "duration": 274,
    "start_time": "2023-05-20T16:28:46.303Z"
   },
   {
    "duration": 709,
    "start_time": "2023-05-20T16:30:12.747Z"
   },
   {
    "duration": 41,
    "start_time": "2023-05-20T16:30:13.459Z"
   },
   {
    "duration": 17,
    "start_time": "2023-05-20T16:30:13.501Z"
   },
   {
    "duration": 110,
    "start_time": "2023-05-20T16:30:13.520Z"
   },
   {
    "duration": 12,
    "start_time": "2023-05-20T16:30:13.633Z"
   },
   {
    "duration": 2124,
    "start_time": "2023-05-20T16:30:13.647Z"
   },
   {
    "duration": 37,
    "start_time": "2023-05-20T16:30:15.773Z"
   },
   {
    "duration": 11,
    "start_time": "2023-05-20T16:30:15.812Z"
   },
   {
    "duration": 288,
    "start_time": "2023-05-20T16:30:15.824Z"
   },
   {
    "duration": 2,
    "start_time": "2023-05-20T16:30:16.114Z"
   },
   {
    "duration": 7,
    "start_time": "2023-05-20T16:30:16.118Z"
   },
   {
    "duration": 5,
    "start_time": "2023-05-20T16:30:16.126Z"
   },
   {
    "duration": 5,
    "start_time": "2023-05-20T16:30:16.132Z"
   },
   {
    "duration": 3,
    "start_time": "2023-05-20T16:30:16.141Z"
   },
   {
    "duration": 7,
    "start_time": "2023-05-20T16:30:16.145Z"
   },
   {
    "duration": 25,
    "start_time": "2023-05-20T16:30:16.154Z"
   },
   {
    "duration": 158,
    "start_time": "2023-05-20T16:30:16.180Z"
   },
   {
    "duration": 7,
    "start_time": "2023-05-20T16:30:16.339Z"
   },
   {
    "duration": 293,
    "start_time": "2023-05-20T16:30:16.348Z"
   },
   {
    "duration": 14,
    "start_time": "2023-05-20T16:30:16.643Z"
   },
   {
    "duration": 389,
    "start_time": "2023-05-20T16:30:16.659Z"
   },
   {
    "duration": 310,
    "start_time": "2023-05-20T16:30:17.050Z"
   },
   {
    "duration": 345,
    "start_time": "2023-05-20T16:30:17.362Z"
   },
   {
    "duration": 328,
    "start_time": "2023-05-20T16:30:17.709Z"
   },
   {
    "duration": 9,
    "start_time": "2023-05-20T16:30:18.040Z"
   },
   {
    "duration": 206,
    "start_time": "2023-05-20T16:30:18.050Z"
   },
   {
    "duration": 308,
    "start_time": "2023-05-20T16:30:18.258Z"
   },
   {
    "duration": 465,
    "start_time": "2023-05-20T16:30:18.568Z"
   },
   {
    "duration": 147,
    "start_time": "2023-05-20T16:30:19.035Z"
   },
   {
    "duration": 329,
    "start_time": "2023-05-20T16:30:19.184Z"
   },
   {
    "duration": 366,
    "start_time": "2023-05-20T16:30:19.515Z"
   },
   {
    "duration": 332,
    "start_time": "2023-05-20T16:30:19.883Z"
   },
   {
    "duration": 319,
    "start_time": "2023-05-20T16:30:20.218Z"
   },
   {
    "duration": 409,
    "start_time": "2023-05-20T16:30:20.539Z"
   },
   {
    "duration": 338,
    "start_time": "2023-05-20T16:30:20.949Z"
   },
   {
    "duration": 5,
    "start_time": "2023-05-20T16:30:21.289Z"
   },
   {
    "duration": 10,
    "start_time": "2023-05-20T16:30:21.296Z"
   },
   {
    "duration": 190,
    "start_time": "2023-05-20T16:30:21.307Z"
   },
   {
    "duration": 149,
    "start_time": "2023-05-20T16:30:21.499Z"
   },
   {
    "duration": 192,
    "start_time": "2023-05-20T16:30:21.651Z"
   },
   {
    "duration": 156,
    "start_time": "2023-05-20T16:30:21.847Z"
   },
   {
    "duration": 145,
    "start_time": "2023-05-20T16:30:22.005Z"
   },
   {
    "duration": 140,
    "start_time": "2023-05-20T16:30:22.152Z"
   },
   {
    "duration": 150,
    "start_time": "2023-05-20T16:30:22.293Z"
   },
   {
    "duration": 169,
    "start_time": "2023-05-20T16:30:22.445Z"
   },
   {
    "duration": 24,
    "start_time": "2023-05-20T16:30:22.616Z"
   },
   {
    "duration": 162,
    "start_time": "2023-05-20T16:30:22.642Z"
   },
   {
    "duration": 141,
    "start_time": "2023-05-20T16:30:22.805Z"
   },
   {
    "duration": 13,
    "start_time": "2023-05-20T16:30:22.947Z"
   },
   {
    "duration": 282,
    "start_time": "2023-05-20T16:30:36.770Z"
   },
   {
    "duration": 118,
    "start_time": "2023-05-20T16:30:49.800Z"
   },
   {
    "duration": 8,
    "start_time": "2023-05-20T16:30:54.984Z"
   },
   {
    "duration": 310,
    "start_time": "2023-05-20T16:31:01.862Z"
   },
   {
    "duration": 6,
    "start_time": "2023-05-20T16:31:38.197Z"
   },
   {
    "duration": 7,
    "start_time": "2023-05-20T16:43:39.704Z"
   },
   {
    "duration": 432,
    "start_time": "2023-05-20T16:44:30.273Z"
   },
   {
    "duration": 289,
    "start_time": "2023-05-20T16:44:43.216Z"
   },
   {
    "duration": 8,
    "start_time": "2023-05-20T16:46:30.471Z"
   },
   {
    "duration": 252,
    "start_time": "2023-05-20T16:48:37.475Z"
   },
   {
    "duration": 358,
    "start_time": "2023-05-20T16:49:36.970Z"
   },
   {
    "duration": 280,
    "start_time": "2023-05-20T16:50:21.262Z"
   },
   {
    "duration": 117,
    "start_time": "2023-05-20T16:50:30.970Z"
   },
   {
    "duration": 722,
    "start_time": "2023-05-20T16:51:13.370Z"
   },
   {
    "duration": 45,
    "start_time": "2023-05-20T16:51:14.095Z"
   },
   {
    "duration": 18,
    "start_time": "2023-05-20T16:51:14.142Z"
   },
   {
    "duration": 84,
    "start_time": "2023-05-20T16:51:14.162Z"
   },
   {
    "duration": 8,
    "start_time": "2023-05-20T16:51:14.248Z"
   },
   {
    "duration": 1862,
    "start_time": "2023-05-20T16:51:14.257Z"
   },
   {
    "duration": 38,
    "start_time": "2023-05-20T16:51:16.120Z"
   },
   {
    "duration": 10,
    "start_time": "2023-05-20T16:51:16.159Z"
   },
   {
    "duration": 8,
    "start_time": "2023-05-20T16:51:16.171Z"
   },
   {
    "duration": 70,
    "start_time": "2023-05-20T16:51:16.180Z"
   },
   {
    "duration": 8,
    "start_time": "2023-05-20T16:51:16.252Z"
   },
   {
    "duration": 98,
    "start_time": "2023-05-20T16:51:16.262Z"
   },
   {
    "duration": 6,
    "start_time": "2023-05-20T16:51:16.361Z"
   },
   {
    "duration": 70,
    "start_time": "2023-05-20T16:51:16.377Z"
   },
   {
    "duration": 0,
    "start_time": "2023-05-20T16:51:16.448Z"
   },
   {
    "duration": 0,
    "start_time": "2023-05-20T16:51:16.449Z"
   },
   {
    "duration": 0,
    "start_time": "2023-05-20T16:51:16.450Z"
   },
   {
    "duration": 0,
    "start_time": "2023-05-20T16:51:16.451Z"
   },
   {
    "duration": 0,
    "start_time": "2023-05-20T16:51:16.451Z"
   },
   {
    "duration": 0,
    "start_time": "2023-05-20T16:51:16.452Z"
   },
   {
    "duration": 0,
    "start_time": "2023-05-20T16:51:16.453Z"
   },
   {
    "duration": 0,
    "start_time": "2023-05-20T16:51:16.454Z"
   },
   {
    "duration": 0,
    "start_time": "2023-05-20T16:51:16.454Z"
   },
   {
    "duration": 0,
    "start_time": "2023-05-20T16:51:16.455Z"
   },
   {
    "duration": 0,
    "start_time": "2023-05-20T16:51:16.456Z"
   },
   {
    "duration": 0,
    "start_time": "2023-05-20T16:51:16.457Z"
   },
   {
    "duration": 0,
    "start_time": "2023-05-20T16:51:16.475Z"
   },
   {
    "duration": 0,
    "start_time": "2023-05-20T16:51:16.476Z"
   },
   {
    "duration": 0,
    "start_time": "2023-05-20T16:51:16.477Z"
   },
   {
    "duration": 0,
    "start_time": "2023-05-20T16:51:16.477Z"
   },
   {
    "duration": 0,
    "start_time": "2023-05-20T16:51:16.478Z"
   },
   {
    "duration": 0,
    "start_time": "2023-05-20T16:51:16.479Z"
   },
   {
    "duration": 0,
    "start_time": "2023-05-20T16:51:16.480Z"
   },
   {
    "duration": 0,
    "start_time": "2023-05-20T16:51:16.481Z"
   },
   {
    "duration": 0,
    "start_time": "2023-05-20T16:51:16.482Z"
   },
   {
    "duration": 0,
    "start_time": "2023-05-20T16:51:16.483Z"
   },
   {
    "duration": 0,
    "start_time": "2023-05-20T16:51:16.484Z"
   },
   {
    "duration": 0,
    "start_time": "2023-05-20T16:51:16.485Z"
   },
   {
    "duration": 0,
    "start_time": "2023-05-20T16:51:16.486Z"
   },
   {
    "duration": 0,
    "start_time": "2023-05-20T16:51:16.487Z"
   },
   {
    "duration": 0,
    "start_time": "2023-05-20T16:51:16.488Z"
   },
   {
    "duration": 0,
    "start_time": "2023-05-20T16:51:16.489Z"
   },
   {
    "duration": 0,
    "start_time": "2023-05-20T16:51:16.489Z"
   },
   {
    "duration": 0,
    "start_time": "2023-05-20T16:51:16.490Z"
   },
   {
    "duration": 11,
    "start_time": "2023-05-20T16:51:38.626Z"
   },
   {
    "duration": 31,
    "start_time": "2023-05-20T16:52:17.295Z"
   },
   {
    "duration": 11,
    "start_time": "2023-05-20T16:52:20.784Z"
   },
   {
    "duration": 8,
    "start_time": "2023-05-20T16:52:22.026Z"
   },
   {
    "duration": 44,
    "start_time": "2023-05-20T16:52:22.666Z"
   },
   {
    "duration": 11,
    "start_time": "2023-05-20T16:52:25.970Z"
   },
   {
    "duration": 97,
    "start_time": "2023-05-20T16:52:27.878Z"
   },
   {
    "duration": 5,
    "start_time": "2023-05-20T16:52:29.186Z"
   },
   {
    "duration": 12,
    "start_time": "2023-05-20T16:52:34.223Z"
   },
   {
    "duration": 298,
    "start_time": "2023-05-20T16:53:03.015Z"
   },
   {
    "duration": 435,
    "start_time": "2023-05-20T16:53:03.870Z"
   },
   {
    "duration": 291,
    "start_time": "2023-05-20T16:53:05.103Z"
   },
   {
    "duration": 314,
    "start_time": "2023-05-20T16:53:05.998Z"
   },
   {
    "duration": 167,
    "start_time": "2023-05-20T16:53:06.717Z"
   },
   {
    "duration": 328,
    "start_time": "2023-05-20T16:53:08.824Z"
   },
   {
    "duration": 330,
    "start_time": "2023-05-20T16:53:09.774Z"
   },
   {
    "duration": 687,
    "start_time": "2023-05-20T16:53:10.765Z"
   },
   {
    "duration": 379,
    "start_time": "2023-05-20T16:53:11.683Z"
   },
   {
    "duration": 297,
    "start_time": "2023-05-20T16:53:21.616Z"
   },
   {
    "duration": 291,
    "start_time": "2023-05-20T16:53:22.986Z"
   },
   {
    "duration": 356,
    "start_time": "2023-05-20T16:53:24.023Z"
   },
   {
    "duration": 10,
    "start_time": "2023-05-20T16:53:25.001Z"
   },
   {
    "duration": 110,
    "start_time": "2023-05-20T16:53:25.815Z"
   },
   {
    "duration": 336,
    "start_time": "2023-05-20T16:53:30.475Z"
   },
   {
    "duration": 5,
    "start_time": "2023-05-20T16:53:31.482Z"
   },
   {
    "duration": 8,
    "start_time": "2023-05-20T16:53:33.699Z"
   },
   {
    "duration": 247,
    "start_time": "2023-05-20T16:53:34.747Z"
   },
   {
    "duration": 126,
    "start_time": "2023-05-20T16:53:37.370Z"
   },
   {
    "duration": 149,
    "start_time": "2023-05-20T16:53:38.586Z"
   },
   {
    "duration": 131,
    "start_time": "2023-05-20T16:53:39.770Z"
   },
   {
    "duration": 14,
    "start_time": "2023-05-20T16:53:40.423Z"
   },
   {
    "duration": 13,
    "start_time": "2023-05-20T16:53:41.097Z"
   },
   {
    "duration": 12,
    "start_time": "2023-05-20T16:55:07.685Z"
   },
   {
    "duration": 791,
    "start_time": "2023-05-20T16:55:27.376Z"
   },
   {
    "duration": 38,
    "start_time": "2023-05-20T16:55:28.169Z"
   },
   {
    "duration": 16,
    "start_time": "2023-05-20T16:55:28.208Z"
   },
   {
    "duration": 88,
    "start_time": "2023-05-20T16:55:28.225Z"
   },
   {
    "duration": 11,
    "start_time": "2023-05-20T16:55:28.315Z"
   },
   {
    "duration": 2055,
    "start_time": "2023-05-20T16:55:28.327Z"
   },
   {
    "duration": 39,
    "start_time": "2023-05-20T16:55:30.384Z"
   },
   {
    "duration": 11,
    "start_time": "2023-05-20T16:55:30.425Z"
   },
   {
    "duration": 28,
    "start_time": "2023-05-20T16:55:30.437Z"
   },
   {
    "duration": 68,
    "start_time": "2023-05-20T16:55:30.466Z"
   },
   {
    "duration": 8,
    "start_time": "2023-05-20T16:55:30.536Z"
   },
   {
    "duration": 119,
    "start_time": "2023-05-20T16:55:30.546Z"
   },
   {
    "duration": 5,
    "start_time": "2023-05-20T16:55:30.666Z"
   },
   {
    "duration": 109,
    "start_time": "2023-05-20T16:55:30.674Z"
   },
   {
    "duration": 0,
    "start_time": "2023-05-20T16:55:30.785Z"
   },
   {
    "duration": 0,
    "start_time": "2023-05-20T16:55:30.786Z"
   },
   {
    "duration": 0,
    "start_time": "2023-05-20T16:55:30.788Z"
   },
   {
    "duration": 0,
    "start_time": "2023-05-20T16:55:30.789Z"
   },
   {
    "duration": 0,
    "start_time": "2023-05-20T16:55:30.790Z"
   },
   {
    "duration": 0,
    "start_time": "2023-05-20T16:55:30.794Z"
   },
   {
    "duration": 0,
    "start_time": "2023-05-20T16:55:30.795Z"
   },
   {
    "duration": 0,
    "start_time": "2023-05-20T16:55:30.799Z"
   },
   {
    "duration": 0,
    "start_time": "2023-05-20T16:55:30.800Z"
   },
   {
    "duration": 0,
    "start_time": "2023-05-20T16:55:30.801Z"
   },
   {
    "duration": 0,
    "start_time": "2023-05-20T16:55:30.802Z"
   },
   {
    "duration": 0,
    "start_time": "2023-05-20T16:55:30.803Z"
   },
   {
    "duration": 0,
    "start_time": "2023-05-20T16:55:30.804Z"
   },
   {
    "duration": 0,
    "start_time": "2023-05-20T16:55:30.805Z"
   },
   {
    "duration": 0,
    "start_time": "2023-05-20T16:55:30.806Z"
   },
   {
    "duration": 0,
    "start_time": "2023-05-20T16:55:30.807Z"
   },
   {
    "duration": 0,
    "start_time": "2023-05-20T16:55:30.808Z"
   },
   {
    "duration": 0,
    "start_time": "2023-05-20T16:55:30.810Z"
   },
   {
    "duration": 1,
    "start_time": "2023-05-20T16:55:30.810Z"
   },
   {
    "duration": 0,
    "start_time": "2023-05-20T16:55:30.811Z"
   },
   {
    "duration": 0,
    "start_time": "2023-05-20T16:55:30.813Z"
   },
   {
    "duration": 0,
    "start_time": "2023-05-20T16:55:30.814Z"
   },
   {
    "duration": 0,
    "start_time": "2023-05-20T16:55:30.815Z"
   },
   {
    "duration": 0,
    "start_time": "2023-05-20T16:55:30.816Z"
   },
   {
    "duration": 0,
    "start_time": "2023-05-20T16:55:30.817Z"
   },
   {
    "duration": 0,
    "start_time": "2023-05-20T16:55:30.818Z"
   },
   {
    "duration": 0,
    "start_time": "2023-05-20T16:55:30.819Z"
   },
   {
    "duration": 0,
    "start_time": "2023-05-20T16:55:30.821Z"
   },
   {
    "duration": 0,
    "start_time": "2023-05-20T16:55:30.822Z"
   },
   {
    "duration": 0,
    "start_time": "2023-05-20T16:55:30.823Z"
   },
   {
    "duration": 32,
    "start_time": "2023-05-20T16:57:00.897Z"
   },
   {
    "duration": 200,
    "start_time": "2023-05-20T16:57:19.270Z"
   },
   {
    "duration": 9,
    "start_time": "2023-05-20T16:57:30.904Z"
   },
   {
    "duration": 315,
    "start_time": "2023-05-20T16:57:35.884Z"
   },
   {
    "duration": 385,
    "start_time": "2023-05-20T16:57:37.359Z"
   },
   {
    "duration": 312,
    "start_time": "2023-05-20T16:57:38.518Z"
   },
   {
    "duration": 319,
    "start_time": "2023-05-20T16:57:39.520Z"
   },
   {
    "duration": 176,
    "start_time": "2023-05-20T16:57:40.595Z"
   },
   {
    "duration": 294,
    "start_time": "2023-05-20T16:57:41.628Z"
   },
   {
    "duration": 292,
    "start_time": "2023-05-20T16:57:42.515Z"
   },
   {
    "duration": 237,
    "start_time": "2023-05-20T16:57:43.359Z"
   },
   {
    "duration": 305,
    "start_time": "2023-05-20T16:57:44.400Z"
   },
   {
    "duration": 297,
    "start_time": "2023-05-20T16:57:45.358Z"
   },
   {
    "duration": 308,
    "start_time": "2023-05-20T16:57:46.232Z"
   },
   {
    "duration": 317,
    "start_time": "2023-05-20T16:57:47.678Z"
   },
   {
    "duration": 271,
    "start_time": "2023-05-20T16:57:48.593Z"
   },
   {
    "duration": 223,
    "start_time": "2023-05-20T16:57:50.258Z"
   },
   {
    "duration": 93,
    "start_time": "2023-05-20T16:59:10.490Z"
   },
   {
    "duration": 35,
    "start_time": "2023-05-20T16:59:14.999Z"
   },
   {
    "duration": 111,
    "start_time": "2023-05-20T16:59:47.790Z"
   },
   {
    "duration": 342,
    "start_time": "2023-05-20T17:00:05.716Z"
   },
   {
    "duration": 475,
    "start_time": "2023-05-20T17:00:15.905Z"
   },
   {
    "duration": 172,
    "start_time": "2023-05-20T17:00:40.174Z"
   },
   {
    "duration": 108,
    "start_time": "2023-05-20T17:01:30.495Z"
   },
   {
    "duration": 119,
    "start_time": "2023-05-20T17:01:51.118Z"
   },
   {
    "duration": 123,
    "start_time": "2023-05-20T17:02:19.819Z"
   },
   {
    "duration": 119,
    "start_time": "2023-05-20T17:03:09.910Z"
   },
   {
    "duration": 704,
    "start_time": "2023-05-20T17:03:46.350Z"
   },
   {
    "duration": 673,
    "start_time": "2023-05-20T17:04:11.023Z"
   },
   {
    "duration": 52,
    "start_time": "2023-05-20T17:04:29.897Z"
   },
   {
    "duration": 114,
    "start_time": "2023-05-20T17:05:16.314Z"
   },
   {
    "duration": 125,
    "start_time": "2023-05-20T17:05:45.705Z"
   },
   {
    "duration": 124,
    "start_time": "2023-05-20T17:06:28.423Z"
   },
   {
    "duration": 123,
    "start_time": "2023-05-20T17:07:04.495Z"
   },
   {
    "duration": 149,
    "start_time": "2023-05-20T17:07:32.023Z"
   },
   {
    "duration": 146,
    "start_time": "2023-05-20T17:08:01.366Z"
   },
   {
    "duration": 102,
    "start_time": "2023-05-20T17:08:25.686Z"
   },
   {
    "duration": 12,
    "start_time": "2023-05-20T17:09:46.774Z"
   },
   {
    "duration": 18,
    "start_time": "2023-05-20T17:09:57.882Z"
   },
   {
    "duration": 40,
    "start_time": "2023-05-20T17:10:26.895Z"
   },
   {
    "duration": 428,
    "start_time": "2023-05-20T17:10:35.912Z"
   },
   {
    "duration": 338,
    "start_time": "2023-05-20T17:12:00.080Z"
   },
   {
    "duration": 695,
    "start_time": "2023-05-20T17:12:16.959Z"
   },
   {
    "duration": 342,
    "start_time": "2023-05-20T17:12:25.119Z"
   },
   {
    "duration": 6,
    "start_time": "2023-05-20T17:12:26.754Z"
   },
   {
    "duration": 11,
    "start_time": "2023-05-20T17:12:28.308Z"
   },
   {
    "duration": 143,
    "start_time": "2023-05-20T17:12:29.570Z"
   },
   {
    "duration": 150,
    "start_time": "2023-05-20T17:12:32.478Z"
   },
   {
    "duration": 160,
    "start_time": "2023-05-20T17:12:33.469Z"
   },
   {
    "duration": 156,
    "start_time": "2023-05-20T17:12:34.482Z"
   },
   {
    "duration": 18,
    "start_time": "2023-05-20T17:12:35.496Z"
   },
   {
    "duration": 17,
    "start_time": "2023-05-20T17:12:36.219Z"
   },
   {
    "duration": 13,
    "start_time": "2023-05-20T17:12:47.074Z"
   },
   {
    "duration": 291,
    "start_time": "2023-05-20T17:12:59.715Z"
   },
   {
    "duration": 122,
    "start_time": "2023-05-20T17:13:08.969Z"
   },
   {
    "duration": 132,
    "start_time": "2023-05-20T17:13:12.985Z"
   },
   {
    "duration": 196,
    "start_time": "2023-05-20T17:13:14.115Z"
   },
   {
    "duration": 147,
    "start_time": "2023-05-20T17:13:15.570Z"
   },
   {
    "duration": 23,
    "start_time": "2023-05-20T17:13:21.309Z"
   },
   {
    "duration": 150,
    "start_time": "2023-05-20T17:13:25.899Z"
   },
   {
    "duration": 164,
    "start_time": "2023-05-20T17:13:36.995Z"
   },
   {
    "duration": 68,
    "start_time": "2023-05-20T17:24:10.667Z"
   }
  ],
  "kernelspec": {
   "display_name": "Python 3 (ipykernel)",
   "language": "python",
   "name": "python3"
  },
  "language_info": {
   "codemirror_mode": {
    "name": "ipython",
    "version": 3
   },
   "file_extension": ".py",
   "mimetype": "text/x-python",
   "name": "python",
   "nbconvert_exporter": "python",
   "pygments_lexer": "ipython3",
   "version": "3.9.17"
  },
  "toc": {
   "base_numbering": 1,
   "nav_menu": {},
   "number_sections": true,
   "sideBar": true,
   "skip_h1_title": true,
   "title_cell": "Table of Contents",
   "title_sidebar": "Contents",
   "toc_cell": false,
   "toc_position": {
    "height": "calc(100% - 180px)",
    "left": "10px",
    "top": "150px",
    "width": "263.667px"
   },
   "toc_section_display": true,
   "toc_window_display": true
  }
 },
 "nbformat": 4,
 "nbformat_minor": 4
}
